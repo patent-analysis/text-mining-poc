{
 "cells": [
  {
   "cell_type": "markdown",
   "id": "innovative-character",
   "metadata": {},
   "source": [
    "# textract package POC"
   ]
  },
  {
   "cell_type": "code",
   "execution_count": 1,
   "id": "controversial-termination",
   "metadata": {},
   "outputs": [
    {
     "name": "stdout",
     "output_type": "stream",
     "text": [
      "Requirement already satisfied: textract in /usr/local/lib/python3.9/site-packages (1.6.3)\n",
      "Requirement already satisfied: EbookLib==0.17.1 in /usr/local/lib/python3.9/site-packages (from textract) (0.17.1)\n",
      "Requirement already satisfied: pdfminer.six==20181108 in /usr/local/lib/python3.9/site-packages (from textract) (20181108)\n",
      "Requirement already satisfied: extract-msg==0.23.1 in /usr/local/lib/python3.9/site-packages (from textract) (0.23.1)\n",
      "Requirement already satisfied: six==1.12.0 in /usr/local/lib/python3.9/site-packages (from textract) (1.12.0)\n",
      "Requirement already satisfied: xlrd==1.2.0 in /usr/local/lib/python3.9/site-packages (from textract) (1.2.0)\n",
      "Requirement already satisfied: chardet==3.0.4 in /usr/local/lib/python3.9/site-packages (from textract) (3.0.4)\n",
      "Requirement already satisfied: SpeechRecognition==3.8.1 in /usr/local/lib/python3.9/site-packages (from textract) (3.8.1)\n",
      "Requirement already satisfied: docx2txt==0.8 in /usr/local/lib/python3.9/site-packages (from textract) (0.8)\n",
      "Requirement already satisfied: argcomplete==1.10.0 in /usr/local/lib/python3.9/site-packages (from textract) (1.10.0)\n",
      "Requirement already satisfied: python-pptx==0.6.18 in /usr/local/lib/python3.9/site-packages (from textract) (0.6.18)\n",
      "Requirement already satisfied: beautifulsoup4==4.8.0 in /usr/local/lib/python3.9/site-packages (from textract) (4.8.0)\n",
      "Requirement already satisfied: soupsieve>=1.2 in /usr/local/lib/python3.9/site-packages (from beautifulsoup4==4.8.0->textract) (2.2.1)\n",
      "Requirement already satisfied: lxml in /usr/local/lib/python3.9/site-packages (from EbookLib==0.17.1->textract) (4.6.2)\n",
      "Requirement already satisfied: olefile==0.46 in /usr/local/lib/python3.9/site-packages (from extract-msg==0.23.1->textract) (0.46)\n",
      "Requirement already satisfied: imapclient==2.1.0 in /usr/local/lib/python3.9/site-packages (from extract-msg==0.23.1->textract) (2.1.0)\n",
      "Requirement already satisfied: tzlocal==1.5.1 in /usr/local/lib/python3.9/site-packages (from extract-msg==0.23.1->textract) (1.5.1)\n",
      "Requirement already satisfied: sortedcontainers in /usr/local/lib/python3.9/site-packages (from pdfminer.six==20181108->textract) (2.3.0)\n",
      "Requirement already satisfied: pycryptodome in /usr/local/lib/python3.9/site-packages (from pdfminer.six==20181108->textract) (3.10.1)\n",
      "Requirement already satisfied: XlsxWriter>=0.5.7 in /usr/local/lib/python3.9/site-packages (from python-pptx==0.6.18->textract) (1.3.7)\n",
      "Requirement already satisfied: Pillow>=3.3.2 in /usr/local/lib/python3.9/site-packages (from python-pptx==0.6.18->textract) (8.1.2)\n",
      "Requirement already satisfied: pytz in /usr/local/lib/python3.9/site-packages (from tzlocal==1.5.1->extract-msg==0.23.1->textract) (2021.1)\n"
     ]
    }
   ],
   "source": [
    "!pip3 install textract"
   ]
  },
  {
   "cell_type": "markdown",
   "id": "tutorial-edwards",
   "metadata": {},
   "source": [
    "##### the os-spescific installation can be found here https://textract.readthedocs.io/en/stable/installation.html"
   ]
  },
  {
   "cell_type": "markdown",
   "id": "starting-brass",
   "metadata": {},
   "source": [
    "### Import the dependecies "
   ]
  },
  {
   "cell_type": "code",
   "execution_count": 2,
   "id": "regional-balance",
   "metadata": {},
   "outputs": [],
   "source": [
    "import textract, sched, time\n",
    "from IPython.lib import backgroundjobs as bg"
   ]
  },
  {
   "cell_type": "markdown",
   "id": "trying-assistant",
   "metadata": {},
   "source": [
    "### Use two files to test the library with a \"scanned\" pdf and a \"text\" pdf."
   ]
  },
  {
   "cell_type": "code",
   "execution_count": 3,
   "id": "perfect-particular",
   "metadata": {},
   "outputs": [],
   "source": [
    "SCANNED_PDF_PATH = '../../patents/US8426363.pdf'"
   ]
  },
  {
   "cell_type": "code",
   "execution_count": 4,
   "id": "recognized-prisoner",
   "metadata": {},
   "outputs": [],
   "source": [
    "TEXT_PDF_PATH = '../../patents/us8859741.pdf'"
   ]
  },
  {
   "cell_type": "markdown",
   "id": "intelligent-railway",
   "metadata": {},
   "source": [
    "### Process both files with the default parser `pdftotext`"
   ]
  },
  {
   "cell_type": "code",
   "execution_count": 5,
   "id": "talented-vinyl",
   "metadata": {},
   "outputs": [],
   "source": [
    "scanned_output = textract.process(SCANNED_PDF_PATH)\n",
    "text_output = textract.process(TEXT_PDF_PATH)"
   ]
  },
  {
   "cell_type": "code",
   "execution_count": 6,
   "id": "genetic-wrong",
   "metadata": {},
   "outputs": [],
   "source": [
    "scanned_str = scanned_output.decode(\"utf-8\")\n",
    "text_str = text_output.decode(\"utf-8\")"
   ]
  },
  {
   "cell_type": "markdown",
   "id": "decreased-cabin",
   "metadata": {},
   "source": [
    "### Inspect the parsed text when the pdf file is scanned"
   ]
  },
  {
   "cell_type": "code",
   "execution_count": 7,
   "id": "competent-matter",
   "metadata": {},
   "outputs": [
    {
     "data": {
      "text/plain": [
       "'\\x0c\\x0c\\x0c\\x0c\\x0c\\x0c\\x0c\\x0c\\x0c\\x0c'"
      ]
     },
     "execution_count": 7,
     "metadata": {},
     "output_type": "execute_result"
    }
   ],
   "source": [
    "scanned_str[:10]"
   ]
  },
  {
   "cell_type": "markdown",
   "id": "southern-replacement",
   "metadata": {},
   "source": [
    "### As shown above \"at least in this case\", the value of the text field is line feeds when the pdf file is scanned. We can use the check below to switch to an OCR-based parser `tesseract`"
   ]
  },
  {
   "cell_type": "code",
   "execution_count": 8,
   "id": "spectacular-norwegian",
   "metadata": {},
   "outputs": [
    {
     "name": "stdout",
     "output_type": "stream",
     "text": [
      "image-based pdf detected, need to use an ocr-based parser (tesseract)\n"
     ]
    }
   ],
   "source": [
    "if scanned_str.startswith('\\x0c\\x0c\\x0c'):\n",
    "    print('image-based pdf detected, need to use an ocr-based parser (tesseract)')"
   ]
  },
  {
   "cell_type": "markdown",
   "id": "analyzed-species",
   "metadata": {},
   "source": [
    "### Re-porcess the file using the `tesseract` parser"
   ]
  },
  {
   "cell_type": "code",
   "execution_count": 9,
   "id": "diagnostic-model",
   "metadata": {},
   "outputs": [
    {
     "name": "stdout",
     "output_type": "stream",
     "text": [
      "This process is going to take sometime ...\n",
      "Running jobs:\n",
      "0 : <function print_status at 0x10e2bb4c0>\n",
      "\n",
      "time elapsed.. 10 seconds\n",
      "time elapsed.. 20 seconds\n",
      "time elapsed.. 30 seconds\n",
      "time elapsed.. 40 seconds\n",
      "time elapsed.. 50 seconds\n",
      "time elapsed.. 60 seconds\n",
      "time elapsed.. 70 seconds\n",
      "time elapsed.. 80 seconds\n",
      "time elapsed.. 90 seconds\n",
      "time elapsed.. 100 seconds\n",
      "time elapsed.. 110 seconds\n",
      "time elapsed.. 120 seconds\n",
      "time elapsed.. 130 seconds\n",
      "time elapsed.. 140 seconds\n",
      "time elapsed.. 150 seconds\n",
      "time elapsed.. 160 seconds\n",
      "time elapsed.. 170 seconds\n",
      "time elapsed.. 180 seconds\n",
      "time elapsed.. 190 seconds\n",
      "time elapsed.. 200 seconds\n",
      "time elapsed.. 210 seconds\n",
      "time elapsed.. 220 seconds\n",
      "time elapsed.. 230 seconds\n",
      "time elapsed.. 240 seconds\n"
     ]
    }
   ],
   "source": [
    "jobs = bg.BackgroundJobManager()\n",
    "status = 'running'\n",
    "print('This process is going to take sometime ...')\n",
    "start = time.perf_counter()\n",
    "\n",
    "def print_status(interval):\n",
    "    while status == 'running':\n",
    "        time.sleep(interval)\n",
    "        now = time.perf_counter()\n",
    "        print('time elapsed.. %d seconds' % (now - start))\n",
    "    \n",
    "    end = time.perf_counter()\n",
    "    print('completed processing the file in %d seconds' % (end - start))\n",
    "\n",
    "\n",
    "jobs.new(print_status, 10)\n",
    "jobs.status()\n",
    "scanned_output = textract.process(SCANNED_PDF_PATH, method='tesseract')\n",
    "status = 'complete'\n",
    "scanned_str = scanned_output.decode(\"utf-8\")"
   ]
  },
  {
   "cell_type": "markdown",
   "id": "overall-bryan",
   "metadata": {},
   "source": [
    "### Inspect the first 1000 characters from each string 'scanned and text'"
   ]
  },
  {
   "cell_type": "code",
   "execution_count": 10,
   "id": "atlantic-inclusion",
   "metadata": {},
   "outputs": [
    {
     "name": "stdout",
     "output_type": "stream",
     "text": [
      "a2) United States Patent\n",
      "Liang et al.\n",
      "\n",
      " \n",
      "\n",
      " \n",
      "\n",
      " \n",
      "\n",
      " \n",
      "\n",
      "US008426363B2\n",
      "(10) Patent No.: US 8,426,363 B2\n",
      "(45) Date of Patent: Apr. 23, 2013\n",
      "\n",
      " \n",
      "\n",
      "(54) METHOD FOR REDUCING A LEVEL OF\n",
      "LDL-CHOLESTEROL BY AN ANTIBODY\n",
      "THAT SPECIFICALLY BINDS TO PCSK9\n",
      "\n",
      "(75) Inventors: Hong Liang, San Francisco, CA (US);\n",
      "Yasmina Noubia Abdiche, Mountain\n",
      "View, CA (US); Javier Fernando\n",
      "Chaparro Riggers, San Mateo, CA\n",
      "(US); Bruce Charles Gomes,\n",
      "Ashburnham, MA (US); Julie Jia Li\n",
      "Hawkins, Old Lyme, CT (US); Jaume\n",
      "Pons, San Bruno, CA (US); Yuli Wang,\n",
      "San Diego, CA (US)\n",
      "\n",
      "(73) Assignees: Rinat Neuroscience Corp., South San\n",
      "Francisco, CA (US); Pfizer Inc., New\n",
      "York, NY (US)\n",
      "\n",
      "(*) Notice: Subject to any disclaimer, the term of this\n",
      "\n",
      "patent is extended or adjusted under 35\n",
      "USC, 154(b) by 0 days.\n",
      "\n",
      "(21) Appl. No.: 13/225,265\n",
      "\n",
      "(22) Filed: Sep. 2, 2011\n",
      "\n",
      "(65) Prior Publication Data\n",
      "US 2012/0014951 Al Jan. 19, 2012\n",
      "\n",
      "Related U.S. Application Data\n",
      "\n",
      "(62) Division of application No. 12/558,312, filed on Sep.\n",
      "11, 2009, now Pat. No. 8,080, 2\n"
     ]
    }
   ],
   "source": [
    "print(scanned_str[:1000])"
   ]
  },
  {
   "cell_type": "code",
   "execution_count": 11,
   "id": "requested-interpretation",
   "metadata": {},
   "outputs": [
    {
     "name": "stdout",
     "output_type": "stream",
     "text": [
      "IIIIIIIIIIIIIIIIIIIIIIIIIIIIIIIIIIIIIIIIIIIIIIIIIIIIIIIIIIIIIIIIIIIIIIIIIII\n",
      "\n",
      "random text here\n",
      "\n",
      "lI2)\n",
      "\n",
      "(54)\n",
      "\n",
      "US008859741B2\n",
      "\n",
      "United StateS Patent\n",
      "\n",
      "(Io) Patent No.\n",
      "\n",
      "Jackson et al.\n",
      "\n",
      "(45)\n",
      "\n",
      "ANTIGEN BINDING PROTEINS TO\n",
      "PROPROTEIN CONVERTASE SUBTILISIN\n",
      "KEXIN TYPE 9 (PCSK9)\n",
      "\n",
      "(71) Applicant: Amgen Inc. , Thousand Oaks, CA (US)\n",
      "(72)\n",
      "\n",
      "Inventors:\n",
      "\n",
      "Simon Mark Jackson, San Carlos, CA\n",
      "(US); Nigel Pelham Clinton Walker,\n",
      "Burlingame, CA (US); Derek Evan\n",
      "Piper, Santa Clara, CA (US); Wenyan\n",
      "Shen, Palo Alto, CA (US); Chadwick\n",
      "Terence King, North Vancouver (CA);\n",
      "Randal Robert Ketchem, Snohomish,\n",
      "WA (US); Christopher Mehlin, Seattle,\n",
      "WA (US); Teresa Arazas Carabeo, New\n",
      "York, NY (US)\n",
      "\n",
      "(73) Assignee:\n",
      "\n",
      "Amgen Inc. , Thousand Oaks, CA (US)\n",
      "\n",
      "*\n",
      "( ) Notice:\n",
      "\n",
      "Subject to any disclaimer, the term of this\n",
      "patent is extended or adjusted under 35\n",
      "U. S.C. 154(b) by 0 days.\n",
      "\n",
      "(21) Appl. No. : 14/261, 0S7\n",
      "(22)\n",
      "\n",
      "Apr. 24, 2014\n",
      "\n",
      "Filed:\n",
      "\n",
      "Prior Publication Data\n",
      "\n",
      "(65)\n",
      "\n",
      "US 2014/0228545 Al\n",
      "\n",
      "Aug. 14, 2014\n",
      "\n",
      ":\n",
      "\n",
      "US 8,859,741 B2\n",
      "\n",
      "Date of Pa\n",
      "time elapsed.. 250 seconds\n",
      "completed processing the file in 250 seconds\n"
     ]
    }
   ],
   "source": [
    "print(text_str[:1000])"
   ]
  },
  {
   "cell_type": "markdown",
   "id": "sexual-quality",
   "metadata": {},
   "source": [
    "### We will need to cleanup/preprocess the parsed text in subsequent steps to remove the \\n characters"
   ]
  },
  {
   "cell_type": "code",
   "execution_count": null,
   "id": "opposite-trinidad",
   "metadata": {},
   "outputs": [],
   "source": []
  }
 ],
 "metadata": {
  "kernelspec": {
   "display_name": "Python 3",
   "language": "python",
   "name": "python3"
  },
  "language_info": {
   "codemirror_mode": {
    "name": "ipython",
    "version": 3
   },
   "file_extension": ".py",
   "mimetype": "text/x-python",
   "name": "python",
   "nbconvert_exporter": "python",
   "pygments_lexer": "ipython3",
   "version": "3.9.1"
  }
 },
 "nbformat": 4,
 "nbformat_minor": 5
}