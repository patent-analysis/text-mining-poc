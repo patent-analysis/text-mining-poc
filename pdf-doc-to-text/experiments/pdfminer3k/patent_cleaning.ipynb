{
 "cells": [
  {
   "cell_type": "code",
   "execution_count": null,
   "metadata": {},
   "outputs": [],
   "source": [
    "import PyPDF2 as pypdf"
   ]
  },
  {
   "cell_type": "code",
   "execution_count": null,
   "metadata": {},
   "outputs": [],
   "source": [
    "pdfObj = open('../../data/raquel_documents/Pfizer/US9175093.pdf', 'rb')"
   ]
  },
  {
   "cell_type": "code",
   "execution_count": null,
   "metadata": {},
   "outputs": [],
   "source": [
    "pdfReader = pypdf.PdfFileReader(pdfObj)"
   ]
  },
  {
   "cell_type": "code",
   "execution_count": null,
   "metadata": {},
   "outputs": [],
   "source": [
    "firstPage = pdfReader.getPage(0)"
   ]
  },
  {
   "cell_type": "code",
   "execution_count": null,
   "metadata": {},
   "outputs": [],
   "source": [
    "print(firstPage.extractText())"
   ]
  },
  {
   "cell_type": "code",
   "execution_count": null,
   "metadata": {},
   "outputs": [],
   "source": [
    "from pdfminer.pdfparser import PDFParser, PDFDocument\n",
    "from pdfminer.pdfinterp import PDFResourceManager, PDFPageInterpreter\n",
    "from pdfminer.converter import PDFPageAggregator\n",
    "from pdfminer.layout import LAParams, LTTextBox, LTTextLine"
   ]
  },
  {
   "cell_type": "code",
   "execution_count": null,
   "metadata": {},
   "outputs": [],
   "source": [
    "parser = PDFParser(pdfObj)"
   ]
  },
  {
   "cell_type": "code",
   "execution_count": null,
   "metadata": {},
   "outputs": [],
   "source": [
    "doc = PDFDocument()"
   ]
  },
  {
   "cell_type": "code",
   "execution_count": null,
   "metadata": {},
   "outputs": [],
   "source": [
    "parser.set_document(doc)"
   ]
  },
  {
   "cell_type": "code",
   "execution_count": null,
   "metadata": {},
   "outputs": [],
   "source": [
    "doc.set_parser(parser)"
   ]
  },
  {
   "cell_type": "code",
   "execution_count": null,
   "metadata": {},
   "outputs": [],
   "source": [
    "doc.initialize('')\n",
    "rsrcmgr = PDFResourceManager()\n",
    "laparams = LAParams()"
   ]
  },
  {
   "cell_type": "code",
   "execution_count": null,
   "metadata": {},
   "outputs": [],
   "source": [
    "#laparams.char_margin = 1.0\n",
    "#laparams.word_margin = 1.0\n",
    "device = PDFPageAggregator(rsrcmgr, laparams=laparams)\n",
    "interpreter = PDFPageInterpreter(rsrcmgr, device)\n",
    "extracted_text = ''"
   ]
  },
  {
   "cell_type": "code",
   "execution_count": null,
   "metadata": {},
   "outputs": [],
   "source": [
    "for page in doc.get_pages():\n",
    "    interpreter.process_page(page)\n",
    "    layout = device.get_result()\n",
    "    for lt_obj in layout:\n",
    "        if isinstance(lt_obj, LTTextBox) or isinstance(lt_obj, LTTextLine):\n",
    "            extracted_text += lt_obj.get_text()"
   ]
  },
  {
   "cell_type": "code",
   "execution_count": null,
   "metadata": {},
   "outputs": [],
   "source": [
    "raw_text = extracted_text.encode(\"utf-8\")\n",
    "print(raw_text)"
   ]
  },
  {
   "cell_type": "code",
   "execution_count": null,
   "metadata": {},
   "outputs": [],
   "source": [
    "import re\n",
    "print(re.sub(rb'\\n', rb' ', raw_text))"
   ]
  },
  {
   "cell_type": "code",
   "execution_count": null,
   "metadata": {},
   "outputs": [],
   "source": [
    "word_list = re.sub(rb'\\n', rb' ', raw_text).split()"
   ]
  },
  {
   "cell_type": "code",
   "execution_count": null,
   "metadata": {},
   "outputs": [],
   "source": [
    "epitope_i = [i for i,x in enumerate(word_list) if x==rb'epitope']"
   ]
  },
  {
   "cell_type": "code",
   "execution_count": null,
   "metadata": {},
   "outputs": [],
   "source": [
    "len(epitope_i)"
   ]
  },
  {
   "cell_type": "code",
   "execution_count": null,
   "metadata": {},
   "outputs": [],
   "source": [
    "word_list[(epitope_i[3] - 10):(epitope_i[3] + 100)]"
   ]
  },
  {
   "cell_type": "code",
   "execution_count": null,
   "metadata": {},
   "outputs": [],
   "source": [
    "clean_text = re.sub(rb'\\n', rb' ', raw_text)"
   ]
  },
  {
   "cell_type": "code",
   "execution_count": null,
   "metadata": {},
   "outputs": [],
   "source": [
    "import nltk"
   ]
  },
  {
   "cell_type": "code",
   "execution_count": null,
   "metadata": {},
   "outputs": [],
   "source": [
    "print(clean_text)"
   ]
  },
  {
   "cell_type": "code",
   "execution_count": null,
   "metadata": {},
   "outputs": [],
   "source": [
    "#clean_text.encode(\"ascii\",\"ignore\")\n",
    "udata=clean_text.decode(\"utf-8\")\n",
    "asciidata=udata.encode(\"ascii\",\"ignore\")"
   ]
  },
  {
   "cell_type": "code",
   "execution_count": null,
   "metadata": {},
   "outputs": [],
   "source": [
    "print(udata)"
   ]
  },
  {
   "cell_type": "code",
   "execution_count": null,
   "metadata": {},
   "outputs": [],
   "source": [
    "import sys\n",
    "from nltk.tokenize import sent_tokenize, word_tokenize\n",
    "from nltk.text import Text\n",
    "tokens = word_tokenize(udata)\n",
    "textList = Text(tokens)\n",
    "textList.concordance('epitope', width=300, lines=50)\n",
    "#print(tokens)\n"
   ]
  },
  {
   "cell_type": "code",
   "execution_count": null,
   "metadata": {},
   "outputs": [],
   "source": [
    "textList.concordance('residues', width=300, lines=50)"
   ]
  },
  {
   "cell_type": "code",
   "execution_count": null,
   "metadata": {},
   "outputs": [],
   "source": [
    "textList.similar('epitope')"
   ]
  },
  {
   "cell_type": "code",
   "execution_count": null,
   "metadata": {},
   "outputs": [],
   "source": [
    "textList.similar('residue')"
   ]
  },
  {
   "cell_type": "code",
   "execution_count": null,
   "metadata": {},
   "outputs": [],
   "source": [
    "import spacy\n",
    "nlp = spacy.load('en_core_web_sm')"
   ]
  },
  {
   "cell_type": "code",
   "execution_count": null,
   "metadata": {},
   "outputs": [],
   "source": [
    "sent_tokens = sent_tokenize(udata)\n",
    "epitope_sent = []\n",
    "for sent in sent_tokens:\n",
    "    if 'epitope' in sent:\n",
    "        epitope_sent.append(sent)\n",
    "print(len(epitope_sent))"
   ]
  },
  {
   "cell_type": "code",
   "execution_count": null,
   "metadata": {},
   "outputs": [],
   "source": [
    "epitope_sent[0]"
   ]
  },
  {
   "cell_type": "code",
   "execution_count": null,
   "metadata": {},
   "outputs": [],
   "source": [
    "epitope_sent[1]"
   ]
  },
  {
   "cell_type": "code",
   "execution_count": null,
   "metadata": {},
   "outputs": [],
   "source": [
    "epitope_seq_sent = []\n",
    "for sent in epitope_sent:\n",
    "    if 'SEQ' in sent:\n",
    "        epitope_seq_sent.append(sent)\n",
    "print(len(epitope_seq_sent))"
   ]
  },
  {
   "cell_type": "code",
   "execution_count": null,
   "metadata": {},
   "outputs": [],
   "source": [
    "epitope_seq_sent[0]"
   ]
  },
  {
   "cell_type": "code",
   "execution_count": null,
   "metadata": {},
   "outputs": [],
   "source": [
    "epitope_seq_sent[1]"
   ]
  },
  {
   "cell_type": "code",
   "execution_count": null,
   "metadata": {},
   "outputs": [],
   "source": [
    "doc = nlp(epitope_seq_sent[0])"
   ]
  },
  {
   "cell_type": "code",
   "execution_count": null,
   "metadata": {},
   "outputs": [],
   "source": [
    "for ent in doc.ents:\n",
    "    print(ent.text, ent.label_)"
   ]
  },
  {
   "cell_type": "code",
   "execution_count": null,
   "metadata": {},
   "outputs": [],
   "source": [
    "spacy.explain(\"ORG\")"
   ]
  },
  {
   "cell_type": "code",
   "execution_count": null,
   "metadata": {},
   "outputs": [],
   "source": [
    "spacy.explain(\"CARDINAL\")"
   ]
  },
  {
   "cell_type": "code",
   "execution_count": 5,
   "metadata": {},
   "outputs": [],
   "source": [
    "def extract_text(path):\n",
    "    with open(path, 'rb') as pdf_obj:\n",
    "        parser = PDFParser(pdf_obj)\n",
    "        doc = PDFDocument()\n",
    "        parser.set_document(doc)\n",
    "        doc.set_parser(parser)\n",
    "\n",
    "        doc.initialize('')\n",
    "        rsrcmgr = PDFResourceManager()\n",
    "        laparams = LAParams()\n",
    "\n",
    "        #laparams.char_margin = 1.0\n",
    "        #laparams.word_margin = 1.0\n",
    "        device = PDFPageAggregator(rsrcmgr, laparams=laparams)\n",
    "        interpreter = PDFPageInterpreter(rsrcmgr, device)\n",
    "        extracted_text = ''\n",
    "\n",
    "        for page in doc.get_pages():\n",
    "            interpreter.process_page(page)\n",
    "            layout = device.get_result()\n",
    "            for lt_obj in layout:\n",
    "                if isinstance(lt_obj, LTTextBox) or isinstance(lt_obj, LTTextLine):\n",
    "                    extracted_text += lt_obj.get_text()\n",
    "\n",
    "        raw_text = extracted_text.encode(\"utf-8\")\n",
    "        clean_text = re.sub(rb'\\n', rb' ', raw_text)\n",
    "        udata = clean_text.decode(\"utf-8\")\n",
    "\n",
    "        return udata\n",
    "\n",
    "def get_word_list(path):\n",
    "    return word_tokenize(extract_text(path))\n",
    "\n",
    "def get_sentence_list(path):\n",
    "    return sent_tokenize(extract_text(path))\n",
    "\n",
    "def extract_epitope_seq_sentences(path):\n",
    "    sent_tokens = get_sentence_list(path)\n",
    "    epitope_seq_sent = []\n",
    "    for sent in sent_tokens:\n",
    "        if 'SEQ' in sent and 'epitope' in sent:\n",
    "            epitope_seq_sent.append(sent)\n",
    "    return epitope_seq_sent\n",
    "\n",
    "def extract_entities(sentence):\n",
    "    doc = nlp(sentence)\n",
    "    for ent in doc.ents:\n",
    "        print(ent.text, ent.label_)\n",
    "base_path = '/Users/parvinderjit.singh/Desktop/Harvard/CSCI E-599/data/raquel_documents/'\n",
    "add_path = 'Pfizer/US9175093.pdf'\n"
   ]
  },
  {
   "cell_type": "code",
   "execution_count": 6,
   "metadata": {},
   "outputs": [],
   "source": [
    "from pdfminer.pdfparser import PDFParser, PDFDocument\n",
    "from pdfminer.pdfinterp import PDFResourceManager, PDFPageInterpreter\n",
    "from pdfminer.converter import PDFPageAggregator\n",
    "from pdfminer.layout import LAParams, LTTextBox, LTTextLine\n",
    "import re\n",
    "from nltk.tokenize import sent_tokenize, word_tokenize\n",
    "import spacy"
   ]
  },
  {
   "cell_type": "code",
   "execution_count": 7,
   "metadata": {},
   "outputs": [
    {
     "name": "stderr",
     "output_type": "stream",
     "text": [
      "WARNING:pdfminer.layout:Too many boxes (207) to group, skipping.\n",
      "WARNING:pdfminer.layout:Too many boxes (127) to group, skipping.\n",
      "WARNING:pdfminer.layout:Too many boxes (108) to group, skipping.\n",
      "WARNING:pdfminer.layout:Too many boxes (160) to group, skipping.\n",
      "WARNING:pdfminer.layout:Too many boxes (133) to group, skipping.\n",
      "WARNING:pdfminer.layout:Too many boxes (150) to group, skipping.\n",
      "WARNING:pdfminer.layout:Too many boxes (116) to group, skipping.\n",
      "WARNING:pdfminer.layout:Too many boxes (104) to group, skipping.\n",
      "WARNING:pdfminer.layout:Too many boxes (134) to group, skipping.\n"
     ]
    }
   ],
   "source": [
    "my_sent = extract_epitope_seq_sentences(base_path + add_path)"
   ]
  },
  {
   "cell_type": "code",
   "execution_count": 10,
   "metadata": {},
   "outputs": [],
   "source": [
    "nlp = spacy.load('en_core_web_sm')"
   ]
  },
  {
   "cell_type": "code",
   "execution_count": 11,
   "metadata": {},
   "outputs": [
    {
     "name": "stdout",
     "output_type": "stream",
     "text": [
      "PCSK9 ORG\n",
      "PCSK9 ORG\n",
      "153-155 DATE\n",
      "194 CARDINAL\n",
      "195 CARDINAL\n",
      "197 CARDINAL\n",
      "237 CARDINAL\n",
      "367 CARDINAL\n",
      "369 CARDINAL\n",
      "374-379 CARDINAL\n",
      "381 CARDINAL\n",
      "PCSK9 ORG\n",
      "SEQ ORG\n",
      "188 CARDINAL\n",
      "PCSK9 ORG\n",
      "153-155 CARDINAL\n",
      "194 CARDINAL\n",
      "197 CARDINAL\n",
      "237 CARDINAL\n",
      "367 CARDINAL\n",
      "SEQ ORG\n",
      "NO:188 ORG\n"
     ]
    }
   ],
   "source": [
    "for sent in my_sent:\n",
    "    extract_entities(sent)"
   ]
  },
  {
   "cell_type": "code",
   "execution_count": 12,
   "metadata": {},
   "outputs": [
    {
     "name": "stderr",
     "output_type": "stream",
     "text": [
      "WARNING:pdfminer.layout:Too many boxes (242) to group, skipping.\n",
      "WARNING:pdfminer.layout:Too many boxes (280) to group, skipping.\n",
      "WARNING:pdfminer.layout:Too many boxes (261) to group, skipping.\n",
      "WARNING:pdfminer.layout:Too many boxes (224) to group, skipping.\n",
      "WARNING:pdfminer.layout:Too many boxes (146) to group, skipping.\n",
      "WARNING:pdfminer.layout:Too many boxes (113) to group, skipping.\n",
      "WARNING:pdfminer.layout:Too many boxes (109) to group, skipping.\n",
      "WARNING:pdfminer.converter:undefined: <PDFType1Font: basefont='Times-Roman'>, 30\n",
      "WARNING:pdfminer.converter:undefined: <PDFType1Font: basefont='Times-Roman'>, 30\n",
      "WARNING:pdfminer.converter:undefined: <PDFType1Font: basefont='Times-Roman'>, 30\n",
      "WARNING:pdfminer.layout:Too many boxes (179) to group, skipping.\n",
      "WARNING:pdfminer.layout:Too many boxes (182) to group, skipping.\n",
      "WARNING:pdfminer.layout:Too many boxes (179) to group, skipping.\n",
      "WARNING:pdfminer.layout:Too many boxes (154) to group, skipping.\n",
      "WARNING:pdfminer.layout:Too many boxes (215) to group, skipping.\n",
      "WARNING:pdfminer.layout:Too many boxes (109) to group, skipping.\n",
      "WARNING:pdfminer.layout:Too many boxes (148) to group, skipping.\n",
      "WARNING:pdfminer.layout:Too many boxes (108) to group, skipping.\n",
      "WARNING:pdfminer.layout:Too many boxes (228) to group, skipping.\n",
      "WARNING:pdfminer.layout:Too many boxes (205) to group, skipping.\n",
      "WARNING:pdfminer.layout:Too many boxes (233) to group, skipping.\n",
      "WARNING:pdfminer.layout:Too many boxes (108) to group, skipping.\n",
      "WARNING:pdfminer.layout:Too many boxes (114) to group, skipping.\n",
      "WARNING:pdfminer.layout:Too many boxes (106) to group, skipping.\n",
      "WARNING:pdfminer.layout:Too many boxes (112) to group, skipping.\n",
      "WARNING:pdfminer.layout:Too many boxes (112) to group, skipping.\n",
      "WARNING:pdfminer.layout:Too many boxes (123) to group, skipping.\n",
      "WARNING:pdfminer.layout:Too many boxes (117) to group, skipping.\n",
      "WARNING:pdfminer.layout:Too many boxes (125) to group, skipping.\n",
      "WARNING:pdfminer.layout:Too many boxes (117) to group, skipping.\n",
      "WARNING:pdfminer.layout:Too many boxes (121) to group, skipping.\n",
      "WARNING:pdfminer.layout:Too many boxes (129) to group, skipping.\n",
      "WARNING:pdfminer.layout:Too many boxes (137) to group, skipping.\n",
      "WARNING:pdfminer.layout:Too many boxes (127) to group, skipping.\n",
      "WARNING:pdfminer.layout:Too many boxes (132) to group, skipping.\n",
      "WARNING:pdfminer.layout:Too many boxes (127) to group, skipping.\n",
      "WARNING:pdfminer.layout:Too many boxes (135) to group, skipping.\n",
      "WARNING:pdfminer.layout:Too many boxes (130) to group, skipping.\n",
      "WARNING:pdfminer.layout:Too many boxes (133) to group, skipping.\n",
      "WARNING:pdfminer.layout:Too many boxes (130) to group, skipping.\n",
      "WARNING:pdfminer.layout:Too many boxes (133) to group, skipping.\n",
      "WARNING:pdfminer.layout:Too many boxes (107) to group, skipping.\n"
     ]
    },
    {
     "name": "stdout",
     "output_type": "stream",
     "text": [
      "PCSK9 ORG\n",
      "CDRH ORG\n",
      "at least one CARDINAL\n",
      "CDRH3 ORG\n",
      "CDRH3 ORG\n",
      "SEQ ORG\n",
      "67 CARDINAL\n",
      "79 DATE\n",
      "49 DATE\n",
      "CDRH3 ORG\n",
      "more than two CARDINAL\n",
      "111 CARDINAL\n",
      "X3X4X5X NORP\n",
      "Xi3Xi4 PERSON\n",
      "SEQ ORG\n",
      "404 CARDINAL\n",
      "X~ PERSON\n",
      "X3 ORG\n",
      "X4 ORG\n",
      "X5 GPE\n",
      "W GPE\n",
      "X~ PERSON\n",
      "X~ PERSON\n",
      "at least one CARDINAL\n",
      "CDRL3 ORG\n",
      "CDRL3 ORG\n",
      "SEQ ORG\n",
      "12 CARDINAL\n",
      "35 DATE\n",
      "23 CARDINAL\n",
      "CDRL3 ORG\n",
      "405 CARDINAL\n",
      "more than two CARDINAL\n",
      "CDRL3 ORG\n",
      "X7XsXgXiOXi PERSON\n",
      "SEQ ORG\n",
      "X~ PERSON\n",
      "X3 ORG\n",
      "X4 ORG\n",
      "X5 GPE\n",
      "X~ PERSON\n",
      "L GPE\n",
      "S GPE\n",
      "X~ PERSON\n",
      "5 CARDINAL\n",
      "7 DATE\n",
      "9 DATE\n",
      "10 DATE\n",
      "12 DATE\n",
      "13 DATE\n",
      "15 DATE\n",
      "16 DATE\n",
      "17 DATE\n",
      "18 DATE\n",
      "19 DATE\n",
      "20 DATE\n",
      "21 DATE\n",
      "22 DATE\n",
      "23 DATE\n",
      "24 DATE\n",
      "26 DATE\n",
      "28 DATE\n",
      "30 DATE\n",
      "31 DATE\n",
      "32 DATE\n",
      "33 DATE\n",
      "35 DATE\n",
      "36 DATE\n",
      "37 DATE\n",
      "38 DATE\n",
      "39 DATE\n",
      "40 DATE\n",
      "42 DATE\n",
      "44 DATE\n",
      "46 DATE\n",
      "at least one CARDINAL\n",
      "31 CARDINAL\n",
      "SEQ ORG\n",
      "3 CARDINAL\n",
      "PCSK9 ORG\n",
      "SEQ ORG\n",
      "3 CARDINAL\n",
      "at least one CARDINAL\n",
      "SEQ ORG\n",
      "207 CARDINAL\n",
      "208 CARDINAL\n",
      "181 CARDINAL\n",
      "185 CARDINAL\n",
      "439 CARDINAL\n",
      "513 CARDINAL\n",
      "538 CARDINAL\n",
      "539 CARDINAL\n",
      "132 CARDINAL\n",
      "351 CARDINAL\n",
      "390 CARDINAL\n",
      "413 CARDINAL\n",
      "582 CARDINAL\n",
      "162 CARDINAL\n",
      "164 CARDINAL\n",
      "167 CARDINAL\n",
      "123 CARDINAL\n",
      "129 CARDINAL\n",
      "311 CARDINAL\n",
      "313 CARDINAL\n",
      "337 CARDINAL\n",
      "519 CARDINAL\n",
      "521 CARDINAL\n",
      "554 CARDINAL\n",
      "ABP ORG\n",
      "SEQ ORG\n",
      "ABP ORG\n",
      "SEQ ORG\n",
      "SEQ ORG\n",
      "SEQ ORG\n",
      "303 CARDINAL\n",
      "EC50 ORG\n",
      "Table 39.3 LAW\n",
      "SEQ ORG\n",
      "303 CARDINAL\n",
      "TABLE ORG\n",
      "393 CARDINAL\n",
      "Antibody Mutation FDR ORG\n",
      "PCSK9 ORG\n",
      "SEQ ORG\n",
      "first ORDINAL\n",
      "30 CARDINAL\n",
      "PCSK9 ORG\n"
     ]
    }
   ],
   "source": [
    "my_sent = extract_epitope_seq_sentences(base_path + 'Amgen/us8829165.pdf')\n",
    "for sent in my_sent:\n",
    "    extract_entities(sent)"
   ]
  },
  {
   "cell_type": "code",
   "execution_count": 14,
   "metadata": {},
   "outputs": [
    {
     "data": {
      "text/plain": [
       "8"
      ]
     },
     "execution_count": 14,
     "metadata": {},
     "output_type": "execute_result"
    }
   ],
   "source": [
    "len(my_sent)"
   ]
  },
  {
   "cell_type": "code",
   "execution_count": 28,
   "metadata": {},
   "outputs": [
    {
     "name": "stdout",
     "output_type": "stream",
     "text": [
      "PCSK9 ORG\n",
      "SEQ ORG\n",
      "3 CARDINAL\n",
      "at least one CARDINAL\n",
      "SEQ ORG\n",
      "207 CARDINAL\n",
      "208 CARDINAL\n",
      "181 CARDINAL\n",
      "185 CARDINAL\n",
      "439 CARDINAL\n",
      "513 CARDINAL\n",
      "538 CARDINAL\n",
      "539 CARDINAL\n",
      "132 CARDINAL\n",
      "351 CARDINAL\n",
      "390 CARDINAL\n",
      "413 CARDINAL\n",
      "582 CARDINAL\n",
      "162 CARDINAL\n",
      "164 CARDINAL\n",
      "167 CARDINAL\n",
      "123 CARDINAL\n",
      "129 CARDINAL\n",
      "311 CARDINAL\n",
      "313 CARDINAL\n",
      "337 CARDINAL\n",
      "519 CARDINAL\n",
      "521 CARDINAL\n",
      "554 CARDINAL\n"
     ]
    }
   ],
   "source": [
    "extract_entities(my_sent[2])"
   ]
  },
  {
   "cell_type": "code",
   "execution_count": 39,
   "metadata": {},
   "outputs": [
    {
     "name": "stderr",
     "output_type": "stream",
     "text": [
      "WARNING:pdfminer.layout:Too many boxes (121) to group, skipping.\n",
      "WARNING:pdfminer.layout:Too many boxes (152) to group, skipping.\n",
      "WARNING:pdfminer.layout:Too many boxes (120) to group, skipping.\n",
      "WARNING:root:Invalid zlib bytes: error('Error -5 while decompressing data: incomplete or truncated stream'), b'x\\x9c\\x95[\\xdbn\\x1c\\xb9\\x11}\\xd7W\\xcc\\xd3\"\\x01\\x92v\\xf3\\xce\\xde7e-\\xdb\\nl\\xc9\\x96\\xc6\\x01\\xf6q\\xd0\\xab\\x1d+\\xd0\\xca\\xb1<~\\xf0\\xdf\\xa7x/\\x0eX\\xdd\\xec\\x15\\xb06\\x8c:MV\\xf1\\x9c\\xaa\\xe2E\\xdf.\\xfe\\xb5\\xbf\\x10\\xbb\\xfd\\xcb\\xc5\\xab7l\\xc7\\xd8\\x00\\x7f\\xff\\xf3\\xc2\\xd8A\\xda\\x9d\\xe1f\\xe0\\xbb\\xfd\\x1f\\x17\\x7f\\xfb|\\xbf\\xfb\\xfb\\xfe\\xbf\\x17W\\xfbskm\\x9d\\xf9\\xa4\\x87I{s)\\xbd=\\x1f\\xd9\\xf8jdZ\\x1b0h\"\\x1d\\x8ci{\\x86\\xbbd\\xc48B;\\x00\\x9f\\x94\\xb34\\x8c\\x0fJ{\\x00\\xd3\\xbc\\x85\\x98\\x86Q:\\x80\\xd4\\xd30q<\\xc2\\xbf?\\xb3\\x81\\x18\\x83)\\x0f\\x99\\x98\\x03\\x1b\\xae]\\x08\\xfc\\x18\\xffh\\x02\\xf8\\xc0|\\xac\\xd4\\xc8\\x06+\\xcf\\xbdoBFg\\xe8\\xfc0|\\xb0v\\xa7u\\x1e\\xe3\\x9f\\xf3\\xd7\\xe7\\xd3\\xe3\\xf3\\x8f\\x87?Z@X\\x8d\\xb4,\\x86\\xef\\xb4\\x14qY\\x8e\\x87\\xc3\\xe1\\x04\\xff\\x9b\\x0fm\\x94\\xf2\\x1e1.\\x07\\x18Lr\\x17l\\x0f\\x9bg@\\xc1\\xcf\\xa9\\x053\\xc34y\\x98\\x81\\x90p\\x8f3a\\xb8\\xf9\\x08\\xff\\xc1`\\xf3\\xb1\\x1dsg\\x06\\xce1\\xcf\\x064K\\x18\\xedt\\x80\\x9f\\xe6p\\xe0\\x92\\xf7\\x8dk\\xb0\\xb7\\x08vp\\xb0\\xe3|84G\\xb3\\xc3\\xe8\\xa9\\'\\xc6\\xc9\\x91\\x03y\\xe7\\x1c\\x83i\\xc2\\x80M\\x9c\\x07\\x01\\xf1X\\x98b\\\\216W\\xcc\\x0eV\\xc5\\xc0;\\x97`\\x89\\xf3\\x18.\\x0e\\x10\\xc7v$R\\xe0\\x95\\xa3\\x92\\x83\\x89\\x88\\x83\\xb8\\x9f\\\\$\\x9a>\\x99\\xc1\\xf2\\x10\\xf9\\xd1\\xd3\\x03(h\\x03=\\xc0\\xa1y\\xf6n\\x11\\x0b\\xadq\\xe4a<\\x96B?\\xbbE;\\xb5\\t\\x02\\xda\\x908\\xf4\\xd9=\\x00\\x9d\\xe6\\x13x7\\xb7\\xa7)\\x0c\\x0e}\\x89\\n\\xc1]\\x8ec\\x9e\\xad\\x85j\\x8a]\\xc7I\\xc5\\x90\\x8f\"\\x9a\\xff\\xc2\\xd9\\xf8K{:\\x8c\\x17\\x80\\x82\\x14\\xa1mB\\xb0&\\x02\\xc2:!\\x845\\x83\\xe2\\t\\xc1\\xdbc s3\\x95\\x19\\t\\xe2\\xfb\\x06\\xcf\\xc8\\xb02#\\xde\\xf6\\x01\\x10x\\x08X\\x8f<#N\\x8d!C\\x0e\\x1d\\xa5\\x0f+\\xc4)r\\xec\\xfe\\xea\\x13\\xe1t \\x17g \\xb0\\x12\\xd7\\xeb\\xd7-k \\xae\\x9f\\x10\\x13\\xbc^\\x86\\x9b[\\x82\\xb9^\\xc4L\\xea4\\x9b`\\xaeDSW\\xde\\xaa\\xcc\\x1e-\\xda\\xfb\\xab\\x9b\\xb7\\xfbw\\xbf\\xb6\\x99\\x14\\xaa\\x00\\x13\\x16#\\x183K\\xb4HC\\x94U\\xde\\xff\\xfe\\xf1\\xaa9\\x80v*\\xf0!\\xf2\\xc4F\\x90\\x8fw{\\xc2\\x8d0\\x84pU\\xa60\\xe3\\xf6\\xee\\xed\\xe5\\xcd\\xf5\\xfd\\x87\\xe6(P\\x05X\\x18F\\xfajV`\\x97/\\xa7\\xc7?\\x1f\\xe7\\xc7\\xc3S\\xdb\\xa1\\xc0\\x116\\xf1\\x81c\\xd8\\xfd\\xc3\\xb7\\x1f\\x0f\\xcf\\xf3C{\\x86\\xaa\\x8aB\\xe1\\xe2\\x9b\\xab\\xcb\\xfd\\xe7\\xbbv T\\x14Hr\\xac\\xf0\\xf1v\\xff\\xee\\xea\\x8e\\x08\\x85I\\xb1\\xab\\x18|}\\xf3\\xe6\\xf6\\xee\\xc3\\xe5\\xfe\\xfa\\xf6\\x86XU\\xed\\xf5\\xce\\xacp\\xd5\\x11!\\xef\\x7f>\\x9f\\xbe<\\x9c\\x1e\\x9bI\\xe8L1\\xd2d\\x8d\\xc9\\x91\\xd2XH[)\\x14\\x05\\x02\\x8a\\xf9|u\\xf3[;\\x16g\\xd4F0\\x82\\xdb\\xd03\\xa5\\xec\\x02i@\\t\\x16\\x97\\xe9\\xed\\xd3\\x8f\\xb6\\xb9\\xf6\\xe6@h`_1\\xff\\x0f\\xc5\\x82\\xf0u\\x06\\xfd\\x87\\xa8?\\xffL\\xc8@bNg\\xfb\\xf7\\x0f\\x8b\\xd3I\\xe4\\xec\\x9e\\x8f\\xe6\\xae\\x97Yu\\xd7\\x0eA\\xc3\\xc0^\\x85\\xa7\\x7f\\xff\\xf0B\\xd4\\x9a\\xf0yh1\\xc7\\xf0\\xf9X\\xda\\xde>\\xfd\\\\\\x02@&w\\xc5s\\x03\\xc0\\x11\\xb7\\x0b\\xe0\\xad\\xa5\\xaeWw%\\x9c\\x1c\\xc2\\xb3au9\\x84\\xc7\\xca\\x9e\\xd5\\r\\xe6\\x93N\\xce\\x06\\xf3\\x8f/_\\x97|\\x15L\\xa4\\xc5\\xed\\x0b\\x8e\\x10\\xa3\\xcf9\\x1d\\x80\\xd0/MPc\\x14\\x179G\\x13\\x82\\xe4XY\\xc5\\\\\\x11B\\x0c\\xdd\\n\\xcc\\xa56ow\\xdb\\xc9\\xde9;\\xd5\\xb3i~?23&\\x941\\xc0\\x97\\x98\\x19\\x84\\x05\\xba5\\x95=\\xc1\\x04\\x9d\\xdaj \\xa6c\\xf2\\x98\\x9b\\xc2\\xcb\\x17\\xa2\\x1b\\xac\\x95\\xbb:B\\x92\\x16(\\xd7\\xf9\\xbb\\xea\\x01pF\\'\\xe9\\x1a\\x8eg\\xf4\\xdb\\xcf\\xef\\x04\\x99Y\\x12/\\xf4\\xb5h\\x84\\xcb\\xa7f\\xef\\x97\\x01\\x10$\\xdb\\x03\\x88.@c\\xe5x\\xd6\\xb3\\x08\\xb5x\\x8b\\x0b\\x04?}\\x83\\x8c\\xf4[F\\xf8\\xf8\\xa5Y@\\xe1\\x83\\x0c\\xf5\\xc8\\x08\\xb0\\xff\\xb2\\xc8\\x0bn\\xc7\\xb4\\xce]\\xcb\\x964\\xbc\\xeas\\xb4w\\xb4\\xd6=\\xf6&5\\xe0\\xa0\\x1bY\\xc5h\\xff\\x93\\n*G\\xc4\\x93\\xd3\\x94\\x84\\xc3\\t\\xa1\\t\\x8eV\\r\\xdb\\x13B\\xd68k!{\\xaaY\\xb4\\xe5LB\\xda\\xdc\\xe8^~\\xff\\x1f\\xd1\\x19\\xb0(L\\xa802\\xb4\\x15\\xce\\xfe\\xc3\\x03\\xb1\\xdf\\xd5\\x1aUT\\x04x\\xf7H\\xc8@V\\xf1)3\\xda\\xbf4gtVS\\xd1\\x08D\\x19\\xc8\\xb9B\\xfbV\\x0f\\xfbL\\xe5\\x8aX\\x85]\\xe2\\xb5x\\x04\\xb2pT\\xcaD\\x00R\\xcaQ\\x07q\\x91\\x0b\\x80\\xd4A%M\\xe4\\x03Y:F\\x86\\xa4\\x89\\x00\\xef\\xa9t\\x14G\\x00i\\x8e\\xb2k\\x84J\\x9a\\xc8\\x07\\xb2z\\xf3\\xccT-\\xeb\\xb0\\x12\\x80\\xa8\\xb5 \\xce~j\\x808;x\\x91\\x89\\x14\\x0e\\xc0\\xa4\\xf1\\x99>l\\xa6\\x17\\x95<\\xf9Z\\x8b\\xec\\xe5\\xb2\\x92c\\x80\\x90\\xfdz\\xc9\\x94jZ\\xcdD:)\\xd3\\x91\\xb4\\xd8\\x13\\x9c\\x83\\x9dR8\\xf7r\\xfeV\\x80\\xeb\\'*YOI\\x99\\x8e\\xa4jZaD]2{<\\x10\\x0c\\x95L\\x04XQA\\x12\\xe6\\xea\\x8cb\\xb2K\\xba,\\xf6D\\xb6;\\xd7e\\xc7\\x8c\\x02E\\x9d.\\xa7*Fd9\\xe0\\xb8\\xe5\\xed\\x01T%\\xb3?H\\xb1\\xeb\\xed^\\xb6T@z\\x88\\x97\\xfb\\xde*Fd\\xfe\\r%$\\xb6\\xbd\\x08@\\xd6\\x10\\xae\\xc2A8\\x18\\xb3$\\x1aE\\x88L%F\\x98\\xda\\x9c\\xd0\\xb0J\\xc1t\\xe5\\xac\\x98kJ\\xc2h\\xf7)\\x85Zo\\x88\\xd0\\xf6\\x13\\xd9\\xd3])\\xce@Bu\\xf6O\\xa9X\\x16\\x00A\\x86\"\\xfa\\xb0-@\\x08B\\xf5I\\xc4Q\\x93\\xc5\\x9e\\xec{\\xa7\\xacIW7V}>\\xd3$\\xb2\\xa74\\xa9Y\\xda\\x83j\\x89g\\xb4\\xd2\\';M\\xca>@]+\\xcb\\x94\\x88Z\\xa9\\xd3\\xe6\\xc9\\xefC\\xf1\\x00\\xdf\\x9b\\xfdARX,\\x04\\xab1\\x8d\\xb4H\\x8a\\xec\\xa0E](\\x8b\\x03dR\\t\\xb5;v\\xb1h\\x04\\xb2v\\x97\\x9d\\xa8\\xe4&\\xabfId\\x8eBN\\xc2\\xc5\\xdc,I8E\\x1f\\x99\\x13_\\x0f\\xd9\\xc1\\xcd\\xbd\\xb6\\xb7\\x1d\\'H2l\\x18\\x17\\xba\\x8e\\xb3\\x8e\\xb7\\xd8\\x13\\xd9*\\x91!nE\\x11`\\x99\\rI\\xc3\\xc5~eo\\x9c\\xeaj\\x01\\xacm\\x8ec\\xc3\\xcb\\xd8\\xb0\\x92\\x85t%\\xe12\\x00\\xd99U\\xe7He\\x80\\xe52\\x9c\\x14\\\\\\xe6\\xb3R\\x85cQ-\\xf3\\xa1\\xabp\\xde\\x87\\xf2\\xca\\x01:E\\xa0\\x83\\xa4\\x1e\\x87e\\xd5\\xcae\\x0fH}E\\xfb\\xa8\\xe05\\xfbtx\\x90\\x04\\x9c\\xedW\\xce\\x0e|\\xa3\\xdb\\xe1\\xad\\xc2% \\x1cC{\\xc1\\x10\\x02\\x93\\xf8h\\x08\\xd9O\\x84\\xc0$>\\x1a\\xc2\\xf6\\xcd\\xef\\'z\\x86-\\xa8\\xb0f\\x8d\\x9d|*z\\x14\\xd6\\xae\\xe87\\x933\\xec@\\xcb\\xf7\\tr\\x96\\x12\\xe9\\x0f\\xdb\\xd1\\x00D\\x85\\xcc\\xf2\\n\\x1b\\xd0\\x0e\\x07\\xaa6\\x17\\r@\\xd29\\xcb\\xb1\\xf6\\x98<\\x88\\x94xcR&D\\xb3\\r\\xc9\\x11\\xcd\\x9f\\x92c\\xd5\\xe3\\xae~\\xfe\\xac\\xc5E\\xf6\\xd4\\xae\\xad\\xday\\xae.\\xd8\\xd9\\xb1n\\xc5\\x08b{.\\xf0\\xc6\\xb3c\\x80\\xa8.\\xdf\\xe0\\xa2\\xef\\x13\\xfaJ\\x84pj\\xec`\\xc3T\\xb1\\xcdk,\\x9c\\xbb\\x12\\x97\\xe6yG\"\\xce\\xec\\x89]d\\xb8.\\xe7\\x93\\xbf\\xb3\\xc3\\x00\\xeadWc9j\\xb9\\x9e\\xfcS}\\x84\\x8e\\x1b\\xd9\\x93l.\\xdb\\xec\\xb1g\\x80\\xba>\"\\xfb\\xe5#\\xbcX\\x1e{\\xec\\xe3\\x83\\x02\\xbf\\x0f\\x16J\\x97\\x00Q\\xf9\\n\\xdd\\xa1\\x0b\\xc1\\x93}\\xe7%\\xba\\xe0\\xd2U\\xa5\\x88\\xe8\\xb9D\\x17L\\'\\x1fz.\\xd1\\xc5h\\xd1\\x94zn\\xd1\\xc58\\x96)u\\xdd\\xa2\\xf3\\xc9g\\xd3\\x88\\xe8\\xbaE\\x17\"\\xef\\xae\\xban\\xd1Qd\\xbb\\xae\\xd1\\x91}\\xfb\\x1e\\xdd\\xc6N1\\x16>d\\xaf\\x04q\\x87R]\\xa4\\xa3\\x85[\\xb8H\\xd71[\\x0b\\xe3\\xf5P0\\xf0\\xc7\\x027\\xd2\\x18e\\xa9\\xc9\\x9bt5\\xe4\\x13R\\xa7\\xe8\\x82x}sI\\xb8\\x11F\\xf0\\x85\\x18\\xb1c\\xd3M:\\xc2m\\xbaJG\\xb8\\rw\\xe9\\x88\\x91\\x1b\\xee\\xd2\\x11+;\\xef\\xd2\\x11b\\xe3]:Bn\\xb8K\\xe7Fg\\xa5u\\xde\\xa5#\\xc8\\xe2]\\xfa\\x19\\xbd\\x11\\x8c\\xa0\\xf7\\x14x\\x116B\\\\\\xe7\\xc2pt\\xcf\\xa8\\xfc\\x03\\xac&*\\x04\\xcf?\\xbeB\\xa0\\xd3\\xe1p<\\x1d\\x8e3\\xf10l\\x10\\xf1\\\\\\xc6\\xdfq\"\\xdc|<\\x10\\xef\\xa0\\xe2\\x96\\xd4x\\x169\\xc4\\x92\\x8c\\xea\\xa4\\xcc\\x85\\x1e\\xe4\\x96\\x9c\\xcc\\xb9M\\x8f\\x05;s2\\xa4\\xc9\\x92\\x00\\xd7s\\xb2k\\xae\\xe4\\x96\\x94\\xcca\\xf1\\xf3\\x8c\\xbaR\\xb2k\\xf7\\x94\\xde\\x94\\x92]\\x9c\\x926{Rr\\x89kWF.\\xe6\\xd4\\xc3&%1c\\xb3\\xb9\\x12\\xcd\\x87\\xa7g\\xf9\\x18-\\xdab>\\x8e\\xc7\\xf4\\xc2bD\\xf3\\xe5\\xecY2Fk\\xdc\\xfb\\xac\\tA\\xba\\x9e5\\x15^lJ\\xc6\\x05\\xb6)\\x17\\x17\\xd8\\x86T\\x8c\\x98\\xb8!\\x15#6v\\xa6b\\x84\\xd8\\x98\\x8a\\x11rC*fv\\xcc\\n\\xebL\\xc5\\x08\\xb2\\xf2\\xac\\xa9\"6\\x82\\x11\\xcc\\xae\\x0f\\x96\\x99\\x96I\\x96\\xf4e[\\xe9\\xb9\\x9d\\xb9\\xee;\\'\\x0e\\x07\\xcb\\x08\\xb0r\\xcf\\x1eY\\x8d\\x00]\\xcf#\\x90\\xfdJ\\x93\\x1e\\xf6\\xc0\\xeb\\xf6yO\\x1b6\\xc1(B\\xcb\\x9b\\xdax\\xac\\x8c\\xec\\xc9]m9\\xd1d\\xaa<O_L)qy\\x8by\\xc7\\x86\\xc1\\xe5\\xc6Rjz\\x8a\\x93{b\\x9e\\x13{WqbL\\xa7x\\xf6\\x14\\'6\\xda\\xf4\\n\\xbd\\xb3:\\xc1\\xe6\\x14\\xd5\\x9a\\x9e\\xea4\\xf12\\xa3\\xbe\\xe2\\xe4\\x02U\\xfa\\x9e\\xf5\\xe2\\x84\\x02\\xdbU\\x9d\\x90=\\xf9\\xee\\x16\\xafr1WBt\\x94\\'\\xb4l\\x0b\\xe5\\xc9\\xa4\\xb4\\x19\\xf6\\x0b\\x08\\xc4\\x9b\\xdc;+Qh\\xa5;\\xf7\\x0b\\x08\\xd1\\xb5_@\\xe4\\xd8T\\xa2\\x10nS\\x8dB\\xb8\\rE\\n\\x11rC\\x91*\\xa4\\xec\\xacQ\\x05\\xb0\\xb1D\\x15\\xe0\\x86\\ne|\\x12\\xdbP\\x9f2`\\xed\\xd1-\\xe2u\\xc6\\x10\\xac\\xb6\\xf1,:\\xfd\\xca@\\x12\\x81\\xfb=\\x8b\\xe3\\xec\\x9a\\xfe6\\xcah\\xb4Q(\\xb0\\x19P\\'\\xff{.D\\xa12h\\x9f\\xa0\\xc7D\\x05b\\x90 \\xb8\\xb8G(\\xd6E:\\x9f.\\xbey\\x08\\xf8\\x19\\xe8\\x11\\xfem\\xa7\\x1945\\xbb\\x11~\\x0c\\xf0\\xc0\\xfd9\\xff\\xb5{\\xf5\\xf8\\xd7\\x91\\xc1\\xbc_\\x7f\\xdd}\\xba\\xf8?X+\\xa5'\n",
      "WARNING:root:Invalid zlib bytes: error('Error -5 while decompressing data: incomplete or truncated stream'), b'x\\x9c\\x95]K\\xaf\\xe6\\xb6\\r\\xdd\\xdf_q\\x97-\\xd0~cI\\xb6l/\\xfb\\x9c\\xb6H\\x81\\x04\\xb9\\xe9>H\\xa6I\\x8a\\x9bL3I\\x16\\xf9\\xf7\\xb5LJ:tM\\x91\\x83Y\\xcc`@\\xeaA\\x91G|Y\\xdf\\x8fO\\x7f|yJ\\xcf/\\x1f\\x9e\\xde\\xfc5<\\x87\\xf08\\xfe\\xfd\\xef\\xa7u{\\xcc\\xdb\\xf3\\x1a\\xd7G|~\\xf9\\xfa\\xe97_|\\xfe\\xfc\\xdb\\x97\\xff<\\xfd\\xe5\\xe5J\\x9d\\xb7B\\xbe\\xe7\\xc7\\x9eO\\xf2y>\\xe9\\xe3\\x14\\xa67S\\xc8y=\\x08n9\\x0b[\\xc8\\xdb\\x85\\xef\\x0fA\\x9b\\xe7d\\x88\\xfb\\xfc\\x88\\xf3\\xf3\\x1a\\xe2c\\xc94Q\\x9a\\xef8\\xf6\\xc74\\x17\\x869\\xef\\x8f=\\xe2\\x0c\\xff\\xf8\"<\\x949\\xc2r\\xb2\\xec\\xa10\\xaf1\\x17\\x11\\x14\\x96\\xf0\\xbb[\\x86\\xf8\\x08\\xa7\\xac\\x96)<\\xb6\\xf9\\xba\\xfb[\\x96\\xa9\\x10\\x96}\\xac\\xf1\\xb1m\\xcf9\\xb79~\\xff\\xd5\\xfb\\x1f~\\xfe\\xee\\x87_\\xde}}\\xc7\\xb8>\\x02\\x9f\\xca!\\xae<\\xa7:\\xd1\\xa7\\xdf\\xbe\\xbb#\\xcf\\xe7\\x99,\\x8f\\xb8\\t\\xe2\\xdb}\\xaf\\x8f\\x1c\\xcf\\xb3\\x98\\xa6\\xc7$\\xe8\\x7f\\xfaA\\x1d;\\x1c\\x9b\\x9f\\\\\\x83/L\\x9f\\xcf\\xfd\\xce\\xf1\\xb1\\x92B\\xfd\\xf4\\xdf{\\xfa\\xfd$\\x8f\\xfb#\\xc9\\x8d~x\\xaf\\xc8\\x85\\xc6\\x9f\\x97r\\xcce\\xfc\\x9d\\xf4\\xe2\\x93_\\x7f\\xbag\\x98i\\xb7\\xf9\\\\\\t0\\xbc\\xfc\\xfaa\\xb4\\xa2u\\x7f,\\xd1\\xb5\\xa2H\\x0c\\x87IH\\t\\xbd}\\xbd\\x95ge\\x88\\x81T\\xc2\\xc1@[\\x88q\\xbf\\xec\\xf9\\xe5\\x83\"\\xd4S\\xaf\\xe3|*\\x1bL\\xf0\\xb7\\xef\\x14\\x19\\x05R\\xd2\\x9c.\\x1a\\xf4\\xc9\\xbb_T\\x95\\x88\\x87\\x84\\xb2G#\\xd2\\x89\\x18q\\x9b\\x1fyv\\xaa[<\\x849\\xfbU9\\x1d\\x06\\x19\\x9dC\\xa7\\x90$\\xed\\xfd\\xd0\\xdb#\\x06\"_\\x1fkFE\\xfe\\xf0\\x8d>v\\x9a>b\\xe44\\x17c1G>\\x14r=\\xb1`/\\xebNKQ\\xcb\\x13\\xa4\\xe6\\xe5~\\xf8P\\xf5\\xbd@\\x07\\xd0/\\xb7\\x10\\xc5\\xf4EYV9\\xfer;\\xfe\\xb1\\x9c\\xc4{\\xbd2de\\x82\\x0cP\\x16\\xf6*\\x9d\\xcf\\xdf\\x8d\\xec\\xef\\x00\\xb3U\\x90\\xab\\xe6\\x97\\xf6\\nP\\xe9XN\\xd8\\xaaq\\xbc}\\xfdU\\x87\\xb3\\xb8\\x9d\\xb6\\x07\\xc3\\x0f\\xcf*\\xa4\\xf3P\\xcb\\xe8\\xb6\\x16\\x14l:\\x89\\x8d\\xc1\\xd7\\xb2\\xe0B\\xbfL\\xa7\\x9d\\xf6\\xc1\\xef\\xb1\\xf2\\xb8L\\xe6\\x84g\\xdb\\'\\xf8\\xfb\\xab~-\\x14$\\x9b|\\xcb9\\r5\\x1c\\x86:\\t\\xd9\\xdc[\\xd3a|\\x0c|K\\xb9\\xe4\\x80\\xfe__\\xbe*\\x13\\x90\\xaa\\x1d\\x16\\x18\"2\\xbc|\\xab\\xa8\\x02\\x9dm\\x01\\xbe\\xbc9\\xce\\xf6\\x00\\xbe\\xb9*s\\xf4-\\x89\\xa1\\x95\\x91\\xaf\\xcf\\xa0B+\\x83\\xf7!T\\xb9\\xe9\\xb7\\xaf\\x03\\xa8$8\\xf3j[:n\\xe6\\xf3|=\\xda\\xc6xf\\x9f.Ce\\xf8\\x88\\xa3=\\xf1\\xcc\\x14bE\\x9cC\\xe8\\xa1\\xac:t@\\x18\"H<\\x10\\xe4\\xc2\\xb0\\x8e \\xaa\\xec\\xb4\\xdc\\x7fH\\xafL\\x90\\xc0{Z\\x0e\\xfd\\xcc\\x9bG\\xcf\\xf6\\x13\\xca\\n}\\xb4\\x11\\x84\\x1c\"\\x18\\xdc@\\x90\\xc3!:\\xae\\xbf\\xe5\\xf0gY\\xc34\\xb4O\\xcd#\\n\\x8e\\xc54+$\\xd0\\x81\\xf5\\x18V\\xc8\\x0e\\x91G:y\\x07\\x1c\\xf1\\xcc \\x80\\xc1\\xcfP<\\xa2\\xfcQ\\x0cq\\xf7m:\\x03*\\x98GVq9.\\x816\\xdc\\x8e\\xec\\x1e\\x97i\\xf0C\\x9c\\x0euhc\\xe7\\x95dc\\x8c\\xdd \\x90\\xf0\\xc6\\xad\\x0e\\x848\\x1eI\\x12\\x9e\\x15\\xdb\\x92\\x92T\\xf0\\xec\\x98\\xa0\\xba:\\x17a\\xaa\\xce%Y{Q\\xe8\\xc3\\x18\\xb7\\xb5\\x19\\xef6\\xf4G\\x8e\\x05\\xa5\\x0b\\xbd\\xe2\\xefD\\xf2v\\xf7\\xf54\\x18`\\xd8o\\'\\xb8\\xa0\\xc3\\x1a\\x0c\\xfdo\\xd7\\xae\\xa4V\\xae\\xdc\\x16\\x0e\\x90?\\x02\\x0c\\x8aw\\x8f\\xfe\\x08P\\x1b\\xe1\\xd5\\xe1\\x8f\\xe4B?\\x8d\\xd5\\xa7\\xbb\\x0c\\x04\\xce\\xf6\\xfas\\xc5\\x86r\\xb8\\xd6r\\x0e@\\xa0\\xcd\\x1e\\xda\\x1c\\xc5\\xf2_\\xbf\\xb4c+\\x1c\\xfe\\xde\\xb9\\xcb\\x08#\\xb6l\\xe8\\x86\\x8b\\xc7\\xed\\x99\\x05\\xbdv\\xc9\\xf1\\xddO\\xeeH\\xa1\\x8f\\xa3\\xc0\\x90\\xfdX\\x8e\\xc2`x\\xd5\\x91]\\x9b3\\xb2zv\\xdb|\\x8b\\xc3\\x19\\x99f\\xa9:\\x8a-Jph;P\\xc0\\xa1\\xee`\\xcf\\x17eSw0\\xc7\\n\\x0ey\\xb3%\\xd4b \\xb7\\x1e\\x97\\x18\\xc8\\xa1\\xc6\\xd5\\xc6\\x8bQ\\x1d\\xe4\\x87|\\x9a\\x89+\\x0e\\x00\\x89\\xbe\\xc4\\xe4\\xc5\\x08;\\xc3\\xa1\\x1c\\xc3\\xb3\\xda\\xce\\x9c\\x88`Pf\\xa0\\x90\\x99Ad^\\xeb~G\\x113%h\\x80\\xd8\\x95\\xa0\\x01\\xfa{E\\xe6c\\r\\x94#\\x03r\\xe5X\\x05\\xe2\\xb8\\x17\\xc3\\x88c-\\x06# \\xc7\\xe0\"\\x02Z\\xe6l\\xdd\\x86;\\xba.0\\xfc\\x08?\\xd8oq/\\x86\\xe2\\x1f\\xf7bX\\xc7\\xec\\xc5<\\xd6\\x00y\\x1f`\\xf8\\xe7\\xbb\\x9f\\x07\\x13T\\xc01\\'\\x90i\\x1f\\xa0\\xd7of\\x88}\\x9c\\xd2\\xa4\\xac\\x8f[\\x98\\x9c\\xf5q\\x08S\\xf8-}x\\xa7\\xdf\\xd2\\x19Fq\\xd8\\x89M^\\x8dgl\\xb2\\xad\\x8f\\x90\\x80\\x12\\x16K\\xda\\xcb_\\'r\\xdc\\xa7\\x84+}\\xbd\\x04\\x91A\\x81\\x9a\\x8c1*2D\\xcd\\xc1\\xd9\\x19\\x9b\\x8a\\x95\\xc4\\xe4\\x08g\\x18\\x9ab\\xfa8h\\xea\\xf4j \\xd9\\xb0)E\\xa4Wu\\x92\\x198\\xfcq0\\xa4\\x16\\xff\\xe4\\xcd\\xde\\xed5\\xfc\\xe9\\x13(\\xee\\x9f\\xc0\\x10[>;]T[:o\\xe4\\x18\\xc7\\xd1\\xdeq\\x11g\\x04\\x91\\xb6\\xfa?\\xddg\\xb33\\x86I\\xd6b\\xf6\\xea\\x1e\\x84\\xb3N\\x01\\xf4\\x9aw&\\xd2-\\x0eQ\\x86\\x19\\x01\\xa7\\x8f\\xaf\\xd8`\\xf3F#\\xdd\\xaf\\xc01\\xf2F\\x19r\\xec\\xed\\x923Z!\\xc7\\xda.df\\xdc\\xa2\\xa4D\\xb3C\\x92\\xb9\\xa1\\x93 W\\xd1\\xac\\xa6[.\\x82T\\x91\\x9e\\xcc\\x90\\xbd\\x8f\\xb0tDP d[Q\\xe9\\x81!)\\x10B\\x0c\\xf5h\\x91A\\x99a\\xce\\xb8\\x05`\\x98og\\xa89\\xe1\\x83x\\xdew\\xf3293\\x93\\xdb\\xa95@>pA\\x08\\xd0\\x1cC\\x0b@3\\xc7\\x96\\xbe\\x16\\x90\\xab.t\\xa8p\\x96\\x04\\xbdV\\xc8\\xab\\x80@\\xf5\\xad\\xc2`\\x03\\x02\\x87k\\xe6f/\\xe1\\x1a\\xd0\\x8f\\xd5\\x98\\xd1\\x0f\\xe8\\xf5\\xdc\\x12\\xd6\\xc2\\xfa\\xea\\xadl\\x05!\\x9a=A\\x8b\\xc0f\\xd7v\\x19\\xcf\\xd2|\\x11\\x8f\\xb6\\xdd\\xd8\\x94~E\\xd9\\xab\\x95\\xc2\\x84\\xf1\\x9a\\xb9\\xdb\\x1a~mWU\\xd3+!k\\xc7\\xa8>\\xfc\\xa7\\xf7wICW\\xce\\x93\\xc2\\x04#t->\\x91[\\x94\\xe4\\x13y\\x14\\'\\n-\\x0e\\x1d\\r\\x14\\xf8X6\\xf0u\\x91\\xe1\\xbejU\\x036\\x0eM\\x05\\x83\\x96\\x13\\x06\\xa7h^\\x97\\x9e\\xb7\\xbf=,\\xcc\\xfa\\x14\\xea=\\xdaY\\x13J\\t\\x03\\xb5+%\\\\\\xe8\\xc7\\xf5?\\xb6B\\x8a\\xd8`x\\xd5\\n\\xd9\\xc3d\\xe9w\\x86QpZA\\xc4Z}\\x0b\\x93\\x18D\\xda\\xea\\xc7\\t\\xcc\\x82!L>\\x16\\xbc\\x0c\\xabp9jG\\xc0\\x0ci\\x1c{\\xb7\\xad\\x0c\\xc5\\xba\\xd6\\x19F\\x1e \\'\\x8f\\xdd\\xe2\\xe1\\xe4\\xb1%\\x9e\\x8a\\t\\xe4\\xdb\\xc3\\xe8Z\\xec^\\x83HJ\\xf9\\x00\\x83\\x1aD\\xc6\\x16Xe\\xc10\\x0c\\x94N\\xc7\\xc5\\xdcl\\x83\\x85 \\xd6n8E\\x05p\\x1cJL\\x88Po\\xce\\xbc6\\x03\\xbf/3\\xb7\\x14\\x0e\\xeb\\x012\\x0c\\x93D\\x9c\\x0eC\\x86\\xfb2\\x14\\xba,\\xc7\\xe9\\x1a\\x92\\xa1\\xab\\x96]\\x96N\\xae\\xc9&\\xf4\\x18\\x12\\x07\\x1f\\xb4\\xfbT\\xb8\\xb1\\x96\\xd2\\xc0\\x98Zr\\x80^\\x8b\\xd9BF\\xc9\\x1f\\xf4\\xb5\\x1bDk\\xb1\\xc9\\xcdg\\xc9b\\x025f\\x13=90\\x83z\\xd3F\\x01\"}\\x06%\\xa9\\xde\\xf3\\xde\\xc7\\xe1.B\\xa4\\xc3H\\x83\\xfd\\x10\\xafH9\\xb22E*\\xdc\\x16{p\\xca\\x8dV\\xb7e\\tC\\x049\\xb6\\x1acE\\xa8\\xdd\\xb3\\xd5K\\xd1\\xdb\\x16\\xff\\xc5q\\xe9\\x13\\xa8 \\xb5a\\xa2\\x19&P\\xbcX\\x9e\\xa0^\\xe6\\xe6\\x04-1M\\xd1\\x06\\xee@+\\xdbsB\\x98\\xfd\\xf6\\xda\\xb6\\xa7\\xd5\\x8fE\\xfa\\xb8Q\\xdf\\x17\\xac.\\xb9\\xe3N\\xed\\xf1Cz\\x0b\\xe1\\xf8:dd8\\xc8\\xc7\\xb7\\xa1@\\x06\\xa0\\xf64\\xeb\\xcd\\xad\\xf9sP\\xe7\\xac^\\x88{l\\xca\\x1b\\xfb\\xc6\\xa6\\xb4\\xb1cl\\x916\\xb6\\xc6n.\\xc8\\x017Ln\\xc9<\\xb4\\xac\\xcf\"\\x0eIE@N*\\xb1\\xc2\\xf4\\r\\x185\\xf5\\n8\\x9d\\xc1\\x13\\xf8xe_\\x11\\xc4\\x94O\\xc4\\xc4\\xb1[\\'+~\\x98JY/\\x88\\xea\\xb4t\\x06\\xf5\\x82\\x90NKgP[$\\x83\\x08\\x07:\\x83\\xee\\x04\\xb6\\x94\\x0b\\x8b\\xc8\\xda3eD\\xaa!Nd\\xe4Z\\x89\\x99\\xf3-U\\x81*\\xf5}\\x05[\\x08\\x93H\\x93V\\xa7\\n\\xd0L7O\\xc9PLL\\x85L\\xc9\\xe7\\xcc\\xd5TH\\xa7\\x1f\\xe4\\xcf*\\xd4\\xb8\\x07g\\xa8\\xb1\\x06o1\\x0c;!\\x9d^=\\xd0\\x88y``PU&gD\\x85\\xce`e\\x9a\\xd9\\t\\x99\\x92\\xa92\\xa2\\x0f\\x06fP\\x8c\\xbc\\xe7G\\xa9\\xf9\\x018\\x86^\\x0b\\xc3\\x82\\xf7\\x0c*,\\xd8g q\\xc1\\xdc04\\xc2\\x98\\x8b\\xa9\\x99\\xf2\\xd2\\x08C;\\x1d\\xc7\\xc0\\xa2\\xed\\xces\\xbaI \\x88\\xe3\\xb0\\x02\\x02\\x08,\\xff\\xde\\x05\\xbf\\x02\\x889\\xc1\\xd6\\xed6qM \\xdd\\xd7\\x967\\xe9\\x1e7j\\xad\\x9e4G8\\xa5N\\xad\\xb96\\xe085\\xe2\\xfbB\\x92\\xe8\\xdcM\\xdb\\xd9\\xad7\\xf0\\xca0e\\x02\\xd4\\xaa\\x17\\x1a\\xc0#\\x03zU\\xe0\"\\r\\x02\\x0cV\\x1b\\x1ay\\x156\\x03\\xa6Ap=\\x9e\\\\*\\xd0\\xdf\\x1bSM\\x1c\\xd3\\x8d`\\x0b\\xf3\\x92JM\\xeb\\xde\\x8b+\\x03\\xe3#\\x7f\\xc2\\\\\\xfd%\\x80\\x01z-&\\x14\\xa5!{5\\x17\\xecp1`2\\x15Vd\\xe07C\\x020(\\xf8\\r\\xf5\\x1e\\xb7|\\xa8\\xdec\\x8a\\x07r&\\x8e\\xa1\\xb9\\xf5%\\x90Xj#\\xae\\xee\\x16\\x97\\x84\\x89\\x7f\\xc5g\\x86\\xd6q\\xa0\\xec\\xa1P\\x8e0q\\x9fq\\xd2\\xeaG\\x9c\\x89\\xa6\\x94Y\\xa3\\xbe/\\x1em\\xd2\\x19\\xeb\\xd4\\xb7c\\xd7`\\x91Qfi\\xfd\\x84\\xa3\\x8a\\x07\\xb94i\\xc9>\\xa1\\xb0K\\x03\\xf4\\xe3\\x96\\xb0\\nJ}1\\xa3\\x8e\\xa7\\x8aH\\xf6jDHTF\\x1f\\x1e\\xfe\\xa5\\xb4\\r\\xabQmH^\\x1c\\xce\\xe5Su\\xc7\\\\~C<\\xea\\x8f\\x01\\xfa\\x91\\x7fH\\xbe\\x8f\\xfb\\xa4\\xb8y\\xcf<\\xa9\\x9a\\x92\\xa0d\\x1f\\x90[w\\x137\\x9d\\x03\\x87\\xde\\xc8\\x89\\xd5 [\\x98-\\xafL\\x9e<\\xcc`\\x05\\x81g}\\x1b\\xe8\\xad\\xef\\'(\\xadbOp\\xad\\x08y6-\\xbc\\x1a\\x8f\\xca\\xad\\xe0\\xa6\\'\\xfe\\xb61\\xdd\\xd7|[U\\x99O\\xadQ\\x0f\\xc2\"\\xdek%\\xbd\\xaf\\x06Af6\\xa5\\xe8Sc\\xca\\xcc\\x02\\xf98k\\xcd\\x88\\xd3\\xc9\\x87N\\x04EE\\xe6Z.\\t\\x98\\x94\\x82\\x85\\x08\\x11?\\x0e\\x80\\xf1\\xd5\\x0eQ\\x11\\x15y\\x18D\\xae\\xa4\\xac\\xc8\\xe1vT\\x08\\xb1\\xf7+\\xdac`\\xbfZ{\\xcc\\xda\\xf2*R\\x9eF\\xcb\\x1c+\\x18\\xacG-\\x1e\\xe1\\xbd\\x06\\xf4\\x9a\\x13*A\\xa1\\x8bg\\x84\\xb0\\x14\\x12\\xb95\\x93\\xbf\\rp\\xa8\\xa6\\x08\\x8a\\xfc\\xda\\xc0A\\x91\\xcdP\\xef\\xe6z\\x93\\xf7\\xed\\x8e.\\xe7\\xd3_\\xb17\\x8b\\x15es\\xaf\\x1b^\\xcb\\xf1\\x8c_\\t\\x0ft\\xe8\\xe0d\\x1cR+\\x1f(B\\xf6VP+\\xd1\\x19\\xba+\\xd3f\\\\<U\\x85\\xe9\\xdb\"\\xa0W58`\\xa6\\x1a\\x18\\x86\\xc5[vA:\\xb5\\x91\\x86a\\x17\\xa4\\xd3\\x1b\\x1d \\x1cCuz\\xdf\\xd7E\\xc0\\xa0^\\x82\\x01\\xe3\"\\xd8\\xc0\\xbd\\x05\\xd68\\x8a\\x0f\\xd7\\x94\\x7f\\x8b\\\\\\xa8\\xeb6M\\xaby\\xa3\\xc9P\\xc7d\\xc0\\xf2\\xb0y\\x00\\x97\\xf2p\\x19\\xdd@\\xfc\\x80\\x05bX\\x8d\\x96\\xf1\\x93\\x05b\\xbf\\xc2\\xd5\\x9b\\xd6\\xa7p\\x1c\\xecX\\xdb\\xbd|E\\r\\xdb\\xbd\\x07\\xfcZ\\x08\\xe2\\xf4\\x84y\\xba[O\\xc9\\x96\\x8f&\\xab\\xe5*\\x9f\\x11\\nE\\x03j3+\\x8b\\xd4\\xf7E\\xa0\\xe6j\\x9d_i\\x97\\x16D\\xcb\\xd1B\\xb7\\x02\\xe8-\\xbb\"X\\x00\\x06\\xfd\\x9bF\\xec<\\xb3\\x19\\xb0\\x02\\x03\\xd4\\xae\\nL\\xdc\\x92\\xa5\\xc6\"2)\\xf4\\xf5\\xde\\xbc/\\xd8\\xa1[\\xe1_\\rE&\\x8e\\xd5\\x04\\xac\\xef\\xc1\\xf8Fr\\x99A\\x04\\x18\\xf4zDK\\xcd\\xeeb\\xbfj\\x05I\\xe4K\\x80\\xc1\\xe8cf\\ru)\\x04z\\x0b\\xf6\\x0c\\x97*.0(\\x97\\x7f]\\x12{\\x0b\\x9e%E\\x8c6\\x84Xo\\xcf\\x01r\\xa8q\\xcd\\xdd$\\xb5\\x87\\x10f\\xd49`\\xb8\\xaf\\xdal\\xb2\\x9fY0\\x0c\\xbb\\xd6\\x18\\xae\\x80a\\xd6\\xca7X\\xfc\\x8d\\xcb\\xde\\xb3\\xd8Z\\x05\\xa1\\xa6;\\x0e\\xcc\\x8a\\xf9\\x98f\\x94\\xe1\\xba\\x82D\\xa37T\\x82\\xc3\\t\\xcfzx\\x02\\xca\\x1a\\x99\\x13\\xd4\\xcb\\x9aO\\xa0\\x91\\x0f?Lb\\xa3o\\xc4\\xaelD\\'\\xb7\\x93\\x11\\xf6\\xd0l)\\x94\\x8bp\\r\\xcd\\x89W\\xf7\\xd0\\x94w\\xb5\\x86\\x96_\\x00\\xc1\\xe0J4\\x03\\xa1I\\'\\x1e\\xbe\\xe1rF&^Ys`\\xe2\\x13\\xc8\\x99\\xd4p\\x8fL=\\xfb\\xb6<DU\\xc7V\\xd8\\xea\\r\\xf1gB}|\\xc5\\x19\\xea\\x19\\x13z\\xdd\\xa43\\xa8\\xf7\\xf8\\x8a\\xbd\\x96q\\x89\\x1d\\x02<\\xa9Td\\x18\\x7f/TQ\\x15\\x19\\xee\\x13\\xaa=\\x19\\x12Sv\\x89\\x9fr!\\x9dz\\\\\\x93%\\x7f\\xabSk\\nV\\x83w\\xfa\\xf6\\xa7\\xd3[\\x91\\x0f{,\\xd6\\xf8\\x97\\xdcF\\xa7\\xd7\\x0b\\x06-\\xb5Qn\\x9bF?\\xcc\\xe40\\x1a\\x19\\x82\\xbc$6bjy3\\xf5M\\x1ft@\\xfa\\xe8\\xda\\xa7\\x83\\x1b\\xa6;\\xcb\\xf0\\xfb\\xf0\\xb3\\x80\\xe6\\xd4\\xb3\\x96\\xd9\\xb2\\x0c\\x19\\xc1\\xa3\\xd1\\xab7\\x87h!\\x83\\x05\\x8d\\xfc9\\xc6\\x04\\xa7,\\x0b&8D\\te\\x1d{d.\\xbd\\x9cU\\x1d\\x18y\\xfcM\"\\xc5:\\xa6\\xbe\\\\\\xbd\\x19[\\x1f\\xe7\\x8c\\xfa\\x1e\\xb7\\xfa4\\xdc\\xac}\\xd7W\\x8bv\\xa4\\x05\\xc80\\xfc\\xec\\xa7zp\\xc0\\xa0}\\xf6\\x93+z\\x14-8\\x0cw\\xe8o`\\xc1\\xb7\\x13+H\\xd9[2\\xcf\\x8f\\xb8M\\xfaK\\xbd\\xb7\\xd3\\xeb]\\xef\\x08\\xc4\\x8d\\\\\\xaf\\xdfc\\xa2\\xa2\\xd3;>\\x03\\x84\\xc1]\\xbeI#Wo5\\xec\\x1e\\xf3-\\xa5:\\x1c\\xc6Rj\\x00^\\x1c\\x8e2t\\xb0pI<5W\\xe8\\xab]kE\\x0f\\xe93\\xb7\\xe5\\x0c\\x9fC\\xcaR\\x03\\\\O\\xa5\\xc0\\xdaG\\xcf\\xb0\\x10\\xc4\\x98C\\x0b\\x88\\xb1\\xa4\\x82\\x10\\xe3\\x947?\\xe1\\xe4\\x1b\\x9a\\x01\\xc6\\xd4\\xaa\\xdelo\\xab\\x94\\xc4\"\\xebXZ9\\x98#\\x87i\\xeeH1\\xfc(\\xb9\\xea,0h\\xb5\\x1f\\x06/\\xca\\xb3\\n\\x06\\xed\\x8bB\\xf8\\xc61l\\xabq\\xc3\\xc8\\x8cJ\\xd86\\x0b.D\\xac\\xd4\\xe9\\x87\\xf6OX\\xd4\\x89]o&tr\\xad\\xea,\\x1c\\x99N>\\xb2!\\xf6b\\xac\\xa5\\\\\\xdaT:\\xf9\\xd8\\xc1\\xe6\\x1e7\\x90\\xfa\\xb8m\\x8a\\xd5\\x00V3\\xcc\\xde\\xf2\\r\\xd6\\xc9\\xd5\\xe4mni\\x14!\\x19\\xe5B\\xc2^\\xa8\\xf5c\\xc6\\xa7\\xa6\\x13s\\xfcK\\xc5\\x05Oj\\xdc\\xa3B\\xf1\\x8ac\\xfc\\xd4<\\x8ey\\xf6\\x8b\\x9f\\x13\\x10\\xa6\\xf8k\\xb4B\\x1e|\\xd8\\xa6f\\x83\\xe3\\xaf\\xec8i*\\x18\\xc6\\xdf\\xd4\\x90_\\x88\\x0c\\xdaW;\\x98\\x11\\t\\x192@\\xc3o\\xcey\\x07\\xf9\\x0c\\x1b\\xc7\\x8e-\\x96Sl\\x06a\\xe7\\x9d\\xdag\\xe8\\x9d\\xde~\\x1c\\xc5\\x1c\\xbc\\x99.\\xe5X\\x81^\\xb3]\\x91c\\x05Y:r\\xac\\x8e\\xad\\x8a\\x08\\'\\xe4\\xd6 \\xa9y\\x12\"\\xc7\\xea9)\\xd1\\x12\\x0f\\x0c\\x8e\\x96x\\xf7Iq\\xef\\xab\\xef\\xa4\\xb8\\xa8\\xe3>).\\xea\\x98\\'\\x05N\\x90\\x7fl\\xf2\\x82\\x1cZ\\xc0\\x91\\x1c\\xdd\\xb3\\xa0\\x05J\\xe6\\xb9w\\xc6\\xd0\\x03j0\\x83\\xf1\\xfd\\x10g$lEk\\x89\\xe1t\\xd5d5\\xbc$\\x18\\xe1\\xbb\\x7f\\xc9\\x1dE\\xc6\\x1f\\xec\\xb0\\xea\\x03\\xc3})\\x08\\xdf\\xe6*+B\\x06O\\xaa\\x17\\x19\\xb4g\\xec\\xa0L\\x1c\\xe6\\xa9\\xeeX\\xbf\\x89\\xd0{\\xe9\\xf4\\xe3\\x17#*\\xacuz\\xb5\\xd1\\x81\\xc1\\x81\\x82\\xcd\\xc2P\\xcfl\\xec\\xd8s<\\x0538>\"\\xc6\\xf5\\xb8\\xdc\\x92N\\xef\\xe9\\x9e\\xf5\\x88sF\\xf7\\xd4\\xb3]\\x89>\\xe6\\x01\\xc8\\xd7\\xe0<+\\x12\\xaf\\xc1yN\\x8cWD8\\xe1\\xd0\\x08\\x8e\\xc4\\xd8\\xf0\\xcd\\x03kHA\\xd9\\x01\\x90\\x91^\\xa3\\x12\\xdeI\\x9f\\xc1zs\\xc9\\xd4\\x07\\xd9\\xbd\\n\\xe4\\x9a\\xc7,\\xb2\\xae!\\xc5n\\x8d\\xa3\\xb6\\xf7zZ@?\\xfe\\x80\\xa7B\\x1c2h\\xef\\xc1\\xa1\\xbd\\x87l\\xc8\\x12\\xbaX\\xf9\\x19\\x00;\\xf0\\xe3.V\\xa0\\xbf7\\x96K\\xa6\\x05\\xe8U@\\xdf\\x11\\x1b`=\\xc6\\x93\\xf7\\x1c\\xb0t\\x06\\xc5\\x0f\\x96u \\xa0\\x1f\\xbf\\x01^\\xcd\\xdd\\xb1 J\\xaas\\x81\\x07\\xc4\\xaf\\xbc\\x95q\\x89C\\x1c\\x0b\\x12\\xf9T`0\\xfc\\xcez\\xc1\\xa0\\x88\\xc6\\xeeO\\xbe\\x9c\\x99\\xd3\\xdc\\x1d+\\xe2\\xd8\\x88\\xcd\\xbd\\xcbh\\xe4\\x1eRj\\xc2TQ|]\\x1a\\x88\\xed\\xd7\\xa5=\\x1b]ZY\\xe0P\\xce\\xa9\\xbd\\x89\\xbd\\xa8O9\\xd6\\xa3M\\x17\\xfa\\xd1{\\xf9\\xd5\\xfb\\x01z\\xad\\x1e\\x03\\x86\\xbeGCq\\xc0\\xce;\\xed8u\\xb4\\x9f\\xb1\\xe5\\x1e\\xc6\\xfe\\xf5\\xa5\\xba\\xd2\\x07W\\xaa+\\x18\\xd7X+\\xb94\\xaa\\xf7\\xa5\\x18\\xed\\x14\\x84\\xc6}t\\xabpC=\\xa6\\x9d^\\xedB\\\\[\\x8f\\x98\\x90\\xa3\\xb2U\\xd9\"f\\x1e\\xd1\\xa5Cl\\x8f\\xce\\x10\\x94\\xb1\\xc0\\xb1\\xdd\\t\\x7fa\\xa1\\x8fo|L\\xcc1t\\x1f_\\xef\\xa0C$p\\x8b\\x9f\\x93\\x12\\xa6\\xf8\\xdb\\x8b\\xcft\\xedwz\\xfd\\t\\xbff\\xde\\x9d\\xd8x;\\xfe\\xbc\\xa9\\xb6\\xb9\\xdb\\xde\\xd0\\x0b\\xe7W\\x1d\\x80^\\xab\\x98,\\xad\\xb9\\xf3P\\x05\\xa4\\xb7J\\xa7y\\xf3y\\xb0T:\\xed\\xd4\\x9e.\\xf2N\\xedKNvz\\xeb\\x89v\\xfeY\\x0bk\\xfcj!\\xfc#:\\x9ba!\\xff\\xf7\\xc3\\x13\\x8dA\\xff\\x8c\\x00\\xbb:=\\xebo&;\\xe1\\xfa\\x8d\\x97K\\xf9\\x87$\\xfaQ\\x8d\\xdd\\x03N\\x16\\xe4\\xcd\\xf0\\x0e\\x0e\\xef\\xafYlt\\xd1\\x8b\\x87\\xc0:\\xbd\\xeb!0S\\xfc\\x97\\x0e\\xcdNo\\x188\\x1bl\\xa7W\\r\\x9c;\\x0c(\\xb6u\\x8c\\xbf\\x9d\\xdaP4aj\\x16\\xa5>$\\x98\\xaa&\\xac\\x92~\\xfc\\x10\\x18\\xbd\\x10\\t\\xf4\\xbd\\xac\\xf0\\xd9\\xd3\\x8f\\'O~^\\xe97\\xc1\\xe8\\xff\\x9es(\\xd5\\x9c\\xe9\\xf8\\xb3\\x1eZ]\\xfe\\xfe\\xea\\xfb\\xe77\\xdf}\\xffM<v\\xf5\\xe7\\xf7\\xcf\\x9f=\\xfd\\x0f`\\x12a'\n"
     ]
    }
   ],
   "source": [
    "my_sent = extract_epitope_seq_sentences(base_path + 'Regeneron/US2010166768.pdf')"
   ]
  },
  {
   "cell_type": "code",
   "execution_count": 40,
   "metadata": {},
   "outputs": [
    {
     "data": {
      "text/plain": [
       "['In one embodiment,  the antibody or antigen-binding  is characterized as binding an epitope comprising  [0015]  [0016]  fragment  amino acid residue 238 of hPCSK9 (SEQ ID NO:755).',\n",
       " 'In a  more specific embodiment,  the antibody or antigen-binding  fragment binds an epitope comprising one or more of amino  acid residue 238, 153, 159 and 343 of hPCSK9 (SEQ ID  NO:755).',\n",
       " 'In a more specific embodiment,  the antibody or  fragment thereof is characterized as binding an epitope which  does not comprise an amino acid residue at position 192, 194,  197 and/or 237 of SEQ ID NO:755.',\n",
       " '[0017]  In one embodiment,  the antibody or antigen-binding  is characterized as binding an epitope comprising  fragment  amino acid residue 366 of hPCSK9 (SEQ ID NO:755).',\n",
       " 'In a  more specific embodiment,  the antibody or antigen-binding  fragment binds an epitope comprising one or more of amino  acid residue at position 147, 366 and 380 of SEQ ID NO:755.',\n",
       " 'In a more specific embodiment,  the antibody or antigen-  binding fragment of an antibody  is characterized as binding  an epitope which does not comprise an amino acid residue at  position 215 or 238 of SEQ ID NO:755.',\n",
       " '[0030]  In one embodiment,  the invention provides  fully  human monoclonal  antibody or antigen-binding  fragment  thereof that specifically bind human PCSK9 (hPCSK9) and  neutralize PCSK9 activity, wherein the antibody or fragment  thereof exhibits one or more of the following characteristics:  (I) capable of reducing serum LDL cholesterol at least about  40-70% and sustaining  the reduction over at least a 60 or 90  day period relative to a predose level; (ii) capable of reducing  serum triglyceride at least about 25-40% relative to predose  level; (iii) does not reduce serum HDL cholesterol or reduces  serum HDL cholesterol no more than 5% relative to predose  level; (iv) binds an epitope comprising amino acid residue  366 of hPCSK9 (SEQ ID NO:755); (v) does not exhibit an  enhanced binding affinity for PCSK9 at an acidic pH relative  to a neutral pH, as measured by surface plasmon resonance;  (vi) binds human and monkey PCSK9, but does not bind  mouse, rat or hamster PCSK9; (vii) comprises heavy and light  chain CDR3 sequences comprising SEQ ID NO:224 and 232;  and (viii) comprises CDR sequences from SEQ ID NO:218  and 226.',\n",
       " 'In various embodiments,  the anti-hPCSK9 antibody  or antigen-binding  fragment of an antibody binds an epitope  within the catalytic domain, which is about 153 to 425 of SEQ  ID NO:755); more specifically, an epitope from about 153 to  about 250 or from about 250 to about 425; more specifically,  the antibody or antibody fragment of the invention binds an  epitope within  the fragment  from about 153 to about 208,  from about 200 to about 260, from about 250 to about 300,  from about 275 to about 325, from about 300 to about 360,  from about 350 to about 400, and/or from about 375 to about  [0094]  425.',\n",
       " '[0095]  In various embodiments,  the anti-hPCSK9 antibody  or antigen-binding  fragment of an antibody binds an epitope  within the propeptide domain (residues 31 to 152 of SEQ ID  NO:755); more specifically, an epitope from about residue 31  to about residue 90 or from about residue 90 to about residue  152; more specifically,  the antibody or antibody fragment of  the invention binds an epitope within the fragment from about  residue 31 to about residue 60, from about residue 60 to about  residue 90, from about residue 85 to about residue 110, from  about residue 100 to about residue 130, from about residue  125 to about residue 150, from about residue 135 to about  residue 152, and/or from about residue 140 to about residue  152.',\n",
       " '1, 2010  within the C-terminal domain, (residues 426 to 692 of SEQ  ID NO:755); more specifically, an epitope from about residue  426 to about residue 570 or from about residue 570 to about  residue 692; more specifically, the antibody or antibody frag-  ment of the invention binds an epitope within the fragment  from about residue 450 to about residue 500, from about  residue 500 to about residue 550, from about residue 550 to  about residue 600, and/or  from about residue 600 to about  residue 692.',\n",
       " '[0097]  [0098]  binding  In some embodiments,  the antibody or antigen-  fragment binds an epitope on hPCSK9 comprising  amino acid residue 238 of hPCSK9 (SEQ ID NO:755).',\n",
       " 'In some embodiments,  the antibody or antigen-  fragment binds an epitope on hPCSK9 comprising  153, 159 or 343 resulted  [0100]  binding  amino acid residue 366 of hPCSK9 (SEQ ID NO:755).',\n",
       " 'Example 9  Epitope Mapping  [0146]  (residues 429-694 SEQ ID  In order to determine epitope-binding  specificity,  three chimeric PCSK9-mmh proteins were generated  in  which specific human PCSK9 domains were substituted with  mouse PCSK9 domains.',\n",
       " '69  333  168  288  267  178  322  360  322  326  389  339  49  12  39  481  144  340  402  166  69  286  177  164  60  show  that when  residue D238 was  [0173] The results  mutated,  the binding  affinity of 316P for hPCSK9 was  reduced &400-fold, from a K~ of I x10 M to 410x10 M;  and T„2 shortened about 30-fold, from 37 to I min, indicating  that 316P binds an epitope on hPCSK9 comprising D238 of  hPCSK9 (SEQ ID NO:755).',\n",
       " 'The antibody or antigen-binding  fragment of claim 1,  characterized as binding an epitope comprising amino acid  residue 238 or 366 of hPCSK9 (SEQ ID NO:755).',\n",
       " 'An antibody or antigen-binding  fragment of an antibody  that specifically binds hPCSK9, characterized as binding an  epitope comprising  amino acid residue 238 or 366 of  hPCSK9 (SEQ ID NO:755), wherein the binding of the anti-  body or fragment  thereof to a variant PCSK9 protein is less  than 50% of the binding between  the antibody or fragment  thereof and the PCSK9 protein of SEQ ID NO:755.']"
      ]
     },
     "execution_count": 40,
     "metadata": {},
     "output_type": "execute_result"
    }
   ],
   "source": [
    "my_sent"
   ]
  },
  {
   "cell_type": "code",
   "execution_count": 41,
   "metadata": {},
   "outputs": [
    {
     "data": {
      "text/plain": [
       "16"
      ]
     },
     "execution_count": 41,
     "metadata": {},
     "output_type": "execute_result"
    }
   ],
   "source": [
    "len(my_sent)"
   ]
  },
  {
   "cell_type": "code",
   "execution_count": 42,
   "metadata": {},
   "outputs": [
    {
     "name": "stderr",
     "output_type": "stream",
     "text": [
      "WARNING:pdfminer.layout:Too many boxes (207) to group, skipping.\n",
      "WARNING:pdfminer.layout:Too many boxes (127) to group, skipping.\n",
      "WARNING:pdfminer.layout:Too many boxes (108) to group, skipping.\n",
      "WARNING:pdfminer.layout:Too many boxes (160) to group, skipping.\n",
      "WARNING:pdfminer.layout:Too many boxes (133) to group, skipping.\n",
      "WARNING:pdfminer.layout:Too many boxes (150) to group, skipping.\n",
      "WARNING:pdfminer.layout:Too many boxes (116) to group, skipping.\n",
      "WARNING:pdfminer.layout:Too many boxes (104) to group, skipping.\n",
      "WARNING:pdfminer.layout:Too many boxes (134) to group, skipping.\n"
     ]
    }
   ],
   "source": [
    "sentences = get_sentence_list(base_path + add_path)"
   ]
  },
  {
   "cell_type": "code",
   "execution_count": 127,
   "metadata": {},
   "outputs": [],
   "source": [
    "import re\n",
    "import os\n",
    "from collections import Counter \n",
    "import logging\n",
    "\n",
    "pat_num_pattern = \"US\\s\\d\\d?,\\d\\d\\d,\\d\\d\\d\\s[A-B]\\d\"\n",
    "pat_num_pattern2 = \"US\\s\\d\\d\\d\\d/\\d*\\s[A-B]\\d\"\n",
    "pat_id_pattern = \"US\\s?\\d\\d\\d\\d\\d\\d\\d\\d\\d*[A-B][I0-9]\"\n",
    "pat_date_match = \"[JFMASOND][aepuco][nbyrlgptvc]\\.?\\s\\d\\d?,\\s\\d\\d\\d\\d\"\n",
    "pat_num_matcher = re.compile(pat_num_pattern)\n",
    "pat_num_matcher2 = re.compile(pat_num_pattern2)\n",
    "pat_id_matcher = re.compile(pat_id_pattern)\n",
    "pat_date_matcher = re.compile(pat_date_match)\n",
    "logging.getLogger('pdfminer').setLevel(logging.ERROR)\n"
   ]
  },
  {
   "cell_type": "code",
   "execution_count": 149,
   "metadata": {},
   "outputs": [
    {
     "name": "stdout",
     "output_type": "stream",
     "text": [
      "Processing 1 of 19 : /Users/parvinderjit.singh/Desktop/Harvard/CSCI E-599/data/raquel_documents/Genentech/us2012195910 claim 45.pdf\n",
      "US 2012/0195910 A1\n",
      "US20120195910A1\n",
      "Aug. 2, 2012\n",
      "\n",
      "===================================================================================\n",
      "\n",
      "Processing 2 of 19 : /Users/parvinderjit.singh/Desktop/Harvard/CSCI E-599/data/raquel_documents/Merck/us2009246192 epitopes at [0054].pdf\n",
      "US 2009/0246192 A1\n",
      "US20090246192A1\n",
      "Oct. 1, 2009\n",
      "\n",
      "===================================================================================\n",
      "\n",
      "Processing 3 of 19 : /Users/parvinderjit.singh/Desktop/Harvard/CSCI E-599/data/raquel_documents/Merck/us8188234 col14 ln40 epitope.pdf\n",
      "US 8,188,234 B2\n",
      "US008188234B2\n",
      "May 29, 2012\n",
      "\n",
      "===================================================================================\n",
      "\n",
      "Processing 4 of 19 : /Users/parvinderjit.singh/Desktop/Harvard/CSCI E-599/data/raquel_documents/Regeneron/US8501184.pdf\n",
      "US 8,501,184 B2\n",
      "US008501184B2\n",
      "Aug. 6, 2013\n",
      "\n",
      "===================================================================================\n",
      "\n",
      "Processing 5 of 19 : /Users/parvinderjit.singh/Desktop/Harvard/CSCI E-599/data/raquel_documents/Regeneron/US8357371.pdf\n",
      "US 8,357,371 B2\n",
      "US008357371B2\n",
      "Jan. 22, 2013\n",
      "\n",
      "===================================================================================\n",
      "\n",
      "Processing 6 of 19 : /Users/parvinderjit.singh/Desktop/Harvard/CSCI E-599/data/raquel_documents/Regeneron/US10023654 epitope.pdf\n",
      "US 10,023,654 B2\n",
      "US010023654B2\n",
      "Dec. 13, 2016\n",
      "\n",
      "===================================================================================\n",
      "\n",
      "Processing 7 of 19 : /Users/parvinderjit.singh/Desktop/Harvard/CSCI E-599/data/raquel_documents/Regeneron/US2010166768.pdf\n"
     ]
    },
    {
     "name": "stderr",
     "output_type": "stream",
     "text": [
      "WARNING:root:Invalid zlib bytes: error('Error -5 while decompressing data: incomplete or truncated stream'), b'x\\x9c\\x95[\\xdbn\\x1c\\xb9\\x11}\\xd7W\\xcc\\xd3\"\\x01\\x92v\\xf3\\xce\\xde7e-\\xdb\\nl\\xc9\\x96\\xc6\\x01\\xf6q\\xd0\\xab\\x1d+\\xd0\\xca\\xb1<~\\xf0\\xdf\\xa7x/\\x0eX\\xdd\\xec\\x15\\xb06\\x8c:MV\\xf1\\x9c\\xaa\\xe2E\\xdf.\\xfe\\xb5\\xbf\\x10\\xbb\\xfd\\xcb\\xc5\\xab7l\\xc7\\xd8\\x00\\x7f\\xff\\xf3\\xc2\\xd8A\\xda\\x9d\\xe1f\\xe0\\xbb\\xfd\\x1f\\x17\\x7f\\xfb|\\xbf\\xfb\\xfb\\xfe\\xbf\\x17W\\xfbskm\\x9d\\xf9\\xa4\\x87I{s)\\xbd=\\x1f\\xd9\\xf8jdZ\\x1b0h\"\\x1d\\x8ci{\\x86\\xbbd\\xc48B;\\x00\\x9f\\x94\\xb34\\x8c\\x0fJ{\\x00\\xd3\\xbc\\x85\\x98\\x86Q:\\x80\\xd4\\xd30q<\\xc2\\xbf?\\xb3\\x81\\x18\\x83)\\x0f\\x99\\x98\\x03\\x1b\\xae]\\x08\\xfc\\x18\\xffh\\x02\\xf8\\xc0|\\xac\\xd4\\xc8\\x06+\\xcf\\xbdoBFg\\xe8\\xfc0|\\xb0v\\xa7u\\x1e\\xe3\\x9f\\xf3\\xd7\\xe7\\xd3\\xe3\\xf3\\x8f\\x87?Z@X\\x8d\\xb4,\\x86\\xef\\xb4\\x14qY\\x8e\\x87\\xc3\\xe1\\x04\\xff\\x9b\\x0fm\\x94\\xf2\\x1e1.\\x07\\x18Lr\\x17l\\x0f\\x9bg@\\xc1\\xcf\\xa9\\x053\\xc34y\\x98\\x81\\x90p\\x8f3a\\xb8\\xf9\\x08\\xff\\xc1`\\xf3\\xb1\\x1dsg\\x06\\xce1\\xcf\\x064K\\x18\\xedt\\x80\\x9f\\xe6p\\xe0\\x92\\xf7\\x8dk\\xb0\\xb7\\x08vp\\xb0\\xe3|84G\\xb3\\xc3\\xe8\\xa9\\'\\xc6\\xc9\\x91\\x03y\\xe7\\x1c\\x83i\\xc2\\x80M\\x9c\\x07\\x01\\xf1X\\x98b\\\\216W\\xcc\\x0eV\\xc5\\xc0;\\x97`\\x89\\xf3\\x18.\\x0e\\x10\\xc7v$R\\xe0\\x95\\xa3\\x92\\x83\\x89\\x88\\x83\\xb8\\x9f\\\\$\\x9a>\\x99\\xc1\\xf2\\x10\\xf9\\xd1\\xd3\\x03(h\\x03=\\xc0\\xa1y\\xf6n\\x11\\x0b\\xadq\\xe4a<\\x96B?\\xbbE;\\xb5\\t\\x02\\xda\\x908\\xf4\\xd9=\\x00\\x9d\\xe6\\x13x7\\xb7\\xa7)\\x0c\\x0e}\\x89\\n\\xc1]\\x8ec\\x9e\\xad\\x85j\\x8a]\\xc7I\\xc5\\x90\\x8f\"\\x9a\\xff\\xc2\\xd9\\xf8K{:\\x8c\\x17\\x80\\x82\\x14\\xa1mB\\xb0&\\x02\\xc2:!\\x845\\x83\\xe2\\t\\xc1\\xdbc s3\\x95\\x19\\t\\xe2\\xfb\\x06\\xcf\\xc8\\xb02#\\xde\\xf6\\x01\\x10x\\x08X\\x8f<#N\\x8d!C\\x0e\\x1d\\xa5\\x0f+\\xc4)r\\xec\\xfe\\xea\\x13\\xe1t \\x17g \\xb0\\x12\\xd7\\xeb\\xd7-k \\xae\\x9f\\x10\\x13\\xbc^\\x86\\x9b[\\x82\\xb9^\\xc4L\\xea4\\x9b`\\xaeDSW\\xde\\xaa\\xcc\\x1e-\\xda\\xfb\\xab\\x9b\\xb7\\xfbw\\xbf\\xb6\\x99\\x14\\xaa\\x00\\x13\\x16#\\x183K\\xb4HC\\x94U\\xde\\xff\\xfe\\xf1\\xaa9\\x80v*\\xf0!\\xf2\\xc4F\\x90\\x8fw{\\xc2\\x8d0\\x84pU\\xa60\\xe3\\xf6\\xee\\xed\\xe5\\xcd\\xf5\\xfd\\x87\\xe6(P\\x05X\\x18F\\xfajV`\\x97/\\xa7\\xc7?\\x1f\\xe7\\xc7\\xc3S\\xdb\\xa1\\xc0\\x116\\xf1\\x81c\\xd8\\xfd\\xc3\\xb7\\x1f\\x0f\\xcf\\xf3C{\\x86\\xaa\\x8aB\\xe1\\xe2\\x9b\\xab\\xcb\\xfd\\xe7\\xbbv T\\x14Hr\\xac\\xf0\\xf1v\\xff\\xee\\xea\\x8e\\x08\\x85I\\xb1\\xab\\x18|}\\xf3\\xe6\\xf6\\xee\\xc3\\xe5\\xfe\\xfa\\xf6\\x86XU\\xed\\xf5\\xce\\xacp\\xd5\\x11!\\xef\\x7f>\\x9f\\xbe<\\x9c\\x1e\\x9bI\\xe8L1\\xd2d\\x8d\\xc9\\x91\\xd2XH[)\\x14\\x05\\x02\\x8a\\xf9|u\\xf3[;\\x16g\\xd4F0\\x82\\xdb\\xd03\\xa5\\xec\\x02i@\\t\\x16\\x97\\xe9\\xed\\xd3\\x8f\\xb6\\xb9\\xf6\\xe6@h`_1\\xff\\x0f\\xc5\\x82\\xf0u\\x06\\xfd\\x87\\xa8?\\xffL\\xc8@bNg\\xfb\\xf7\\x0f\\x8b\\xd3I\\xe4\\xec\\x9e\\x8f\\xe6\\xae\\x97Yu\\xd7\\x0eA\\xc3\\xc0^\\x85\\xa7\\x7f\\xff\\xf0B\\xd4\\x9a\\xf0yh1\\xc7\\xf0\\xf9X\\xda\\xde>\\xfd\\\\\\x02@&w\\xc5s\\x03\\xc0\\x11\\xb7\\x0b\\xe0\\xad\\xa5\\xaeWw%\\x9c\\x1c\\xc2\\xb3au9\\x84\\xc7\\xca\\x9e\\xd5\\r\\xe6\\x93N\\xce\\x06\\xf3\\x8f/_\\x97|\\x15L\\xa4\\xc5\\xed\\x0b\\x8e\\x10\\xa3\\xcf9\\x1d\\x80\\xd0/MPc\\x14\\x179G\\x13\\x82\\xe4XY\\xc5\\\\\\x11B\\x0c\\xdd\\n\\xcc\\xa56ow\\xdb\\xc9\\xde9;\\xd5\\xb3i~?23&\\x941\\xc0\\x97\\x98\\x19\\x84\\x05\\xba5\\x95=\\xc1\\x04\\x9d\\xdaj \\xa6c\\xf2\\x98\\x9b\\xc2\\xcb\\x17\\xa2\\x1b\\xac\\x95\\xbb:B\\x92\\x16(\\xd7\\xf9\\xbb\\xea\\x01pF\\'\\xe9\\x1a\\x8eg\\xf4\\xdb\\xcf\\xef\\x04\\x99Y\\x12/\\xf4\\xb5h\\x84\\xcb\\xa7f\\xef\\x97\\x01\\x10$\\xdb\\x03\\x88.@c\\xe5x\\xd6\\xb3\\x08\\xb5x\\x8b\\x0b\\x04?}\\x83\\x8c\\xf4[F\\xf8\\xf8\\xa5Y@\\xe1\\x83\\x0c\\xf5\\xc8\\x08\\xb0\\xff\\xb2\\xc8\\x0bn\\xc7\\xb4\\xce]\\xcb\\x964\\xbc\\xeas\\xb4w\\xb4\\xd6=\\xf6&5\\xe0\\xa0\\x1bY\\xc5h\\xff\\x93\\n*G\\xc4\\x93\\xd3\\x94\\x84\\xc3\\t\\xa1\\t\\x8eV\\r\\xdb\\x13B\\xd68k!{\\xaaY\\xb4\\xe5LB\\xda\\xdc\\xe8^~\\xff\\x1f\\xd1\\x19\\xb0(L\\xa802\\xb4\\x15\\xce\\xfe\\xc3\\x03\\xb1\\xdf\\xd5\\x1aUT\\x04x\\xf7H\\xc8@V\\xf1)3\\xda\\xbf4gtVS\\xd1\\x08D\\x19\\xc8\\xb9B\\xfbV\\x0f\\xfbL\\xe5\\x8aX\\x85]\\xe2\\xb5x\\x04\\xb2pT\\xcaD\\x00R\\xcaQ\\x07q\\x91\\x0b\\x80\\xd4A%M\\xe4\\x03Y:F\\x86\\xa4\\x89\\x00\\xef\\xa9t\\x14G\\x00i\\x8e\\xb2k\\x84J\\x9a\\xc8\\x07\\xb2z\\xf3\\xccT-\\xeb\\xb0\\x12\\x80\\xa8\\xb5 \\xce~j\\x808;x\\x91\\x89\\x14\\x0e\\xc0\\xa4\\xf1\\x99>l\\xa6\\x17\\x95<\\xf9Z\\x8b\\xec\\xe5\\xb2\\x92c\\x80\\x90\\xfdz\\xc9\\x94jZ\\xcdD:)\\xd3\\x91\\xb4\\xd8\\x13\\x9c\\x83\\x9dR8\\xf7r\\xfeV\\x80\\xeb\\'*YOI\\x99\\x8e\\xa4jZaD]2{<\\x10\\x0c\\x95L\\x04XQA\\x12\\xe6\\xea\\x8cb\\xb2K\\xba,\\xf6D\\xb6;\\xd7e\\xc7\\x8c\\x02E\\x9d.\\xa7*Fd9\\xe0\\xb8\\xe5\\xed\\x01T%\\xb3?H\\xb1\\xeb\\xed^\\xb6T@z\\x88\\x97\\xfb\\xde*Fd\\xfe\\r%$\\xb6\\xbd\\x08@\\xd6\\x10\\xae\\xc2A8\\x18\\xb3$\\x1aE\\x88L%F\\x98\\xda\\x9c\\xd0\\xb0J\\xc1t\\xe5\\xac\\x98kJ\\xc2h\\xf7)\\x85Zo\\x88\\xd0\\xf6\\x13\\xd9\\xd3])\\xce@Bu\\xf6O\\xa9X\\x16\\x00A\\x86\"\\xfa\\xb0-@\\x08B\\xf5I\\xc4Q\\x93\\xc5\\x9e\\xec{\\xa7\\xacIW7V}>\\xd3$\\xb2\\xa74\\xa9Y\\xda\\x83j\\x89g\\xb4\\xd2\\';M\\xca>@]+\\xcb\\x94\\x88Z\\xa9\\xd3\\xe6\\xc9\\xefC\\xf1\\x00\\xdf\\x9b\\xfdARX,\\x04\\xab1\\x8d\\xb4H\\x8a\\xec\\xa0E](\\x8b\\x03dR\\t\\xb5;v\\xb1h\\x04\\xb2v\\x97\\x9d\\xa8\\xe4&\\xabfId\\x8eBN\\xc2\\xc5\\xdc,I8E\\x1f\\x99\\x13_\\x0f\\xd9\\xc1\\xcd\\xbd\\xb6\\xb7\\x1d\\'H2l\\x18\\x17\\xba\\x8e\\xb3\\x8e\\xb7\\xd8\\x13\\xd9*\\x91!nE\\x11`\\x99\\rI\\xc3\\xc5~eo\\x9c\\xeaj\\x01\\xacm\\x8ec\\xc3\\xcb\\xd8\\xb0\\x92\\x85t%\\xe12\\x00\\xd99U\\xe7He\\x80\\xe52\\x9c\\x14\\\\\\xe6\\xb3R\\x85cQ-\\xf3\\xa1\\xabp\\xde\\x87\\xf2\\xca\\x01:E\\xa0\\x83\\xa4\\x1e\\x87e\\xd5\\xcae\\x0fH}E\\xfb\\xa8\\xe05\\xfbtx\\x90\\x04\\x9c\\xedW\\xce\\x0e|\\xa3\\xdb\\xe1\\xad\\xc2% \\x1cC{\\xc1\\x10\\x02\\x93\\xf8h\\x08\\xd9O\\x84\\xc0$>\\x1a\\xc2\\xf6\\xcd\\xef\\'z\\x86-\\xa8\\xb0f\\x8d\\x9d|*z\\x14\\xd6\\xae\\xe87\\x933\\xec@\\xcb\\xf7\\tr\\x96\\x12\\xe9\\x0f\\xdb\\xd1\\x00D\\x85\\xcc\\xf2\\n\\x1b\\xd0\\x0e\\x07\\xaa6\\x17\\r@\\xd29\\xcb\\xb1\\xf6\\x98<\\x88\\x94xcR&D\\xb3\\r\\xc9\\x11\\xcd\\x9f\\x92c\\xd5\\xe3\\xae~\\xfe\\xac\\xc5E\\xf6\\xd4\\xae\\xad\\xday\\xae.\\xd8\\xd9\\xb1n\\xc5\\x08b{.\\xf0\\xc6\\xb3c\\x80\\xa8.\\xdf\\xe0\\xa2\\xef\\x13\\xfaJ\\x84pj\\xec`\\xc3T\\xb1\\xcdk,\\x9c\\xbb\\x12\\x97\\xe6yG\"\\xce\\xec\\x89]d\\xb8.\\xe7\\x93\\xbf\\xb3\\xc3\\x00\\xeadWc9j\\xb9\\x9e\\xfcS}\\x84\\x8e\\x1b\\xd9\\x93l.\\xdb\\xec\\xb1g\\x80\\xba>\"\\xfb\\xe5#\\xbcX\\x1e{\\xec\\xe3\\x83\\x02\\xbf\\x0f\\x16J\\x97\\x00Q\\xf9\\n\\xdd\\xa1\\x0b\\xc1\\x93}\\xe7%\\xba\\xe0\\xd2U\\xa5\\x88\\xe8\\xb9D\\x17L\\'\\x1fz.\\xd1\\xc5h\\xd1\\x94zn\\xd1\\xc58\\x96)u\\xdd\\xa2\\xf3\\xc9g\\xd3\\x88\\xe8\\xbaE\\x17\"\\xef\\xae\\xban\\xd1Qd\\xbb\\xae\\xd1\\x91}\\xfb\\x1e\\xdd\\xc6N1\\x16>d\\xaf\\x04q\\x87R]\\xa4\\xa3\\x85[\\xb8H\\xd71[\\x0b\\xe3\\xf5P0\\xf0\\xc7\\x027\\xd2\\x18e\\xa9\\xc9\\x9bt5\\xe4\\x13R\\xa7\\xe8\\x82x}sI\\xb8\\x11F\\xf0\\x85\\x18\\xb1c\\xd3M:\\xc2m\\xbaJG\\xb8\\rw\\xe9\\x88\\x91\\x1b\\xee\\xd2\\x11+;\\xef\\xd2\\x11b\\xe3]:Bn\\xb8K\\xe7Fg\\xa5u\\xde\\xa5#\\xc8\\xe2]\\xfa\\x19\\xbd\\x11\\x8c\\xa0\\xf7\\x14x\\x116B\\\\\\xe7\\xc2pt\\xcf\\xa8\\xfc\\x03\\xac&*\\x04\\xcf?\\xbeB\\xa0\\xd3\\xe1p<\\x1d\\x8e3\\xf10l\\x10\\xf1\\\\\\xc6\\xdfq\"\\xdc|<\\x10\\xef\\xa0\\xe2\\x96\\xd4x\\x169\\xc4\\x92\\x8c\\xea\\xa4\\xcc\\x85\\x1e\\xe4\\x96\\x9c\\xcc\\xb9M\\x8f\\x05;s2\\xa4\\xc9\\x92\\x00\\xd7s\\xb2k\\xae\\xe4\\x96\\x94\\xcca\\xf1\\xf3\\x8c\\xbaR\\xb2k\\xf7\\x94\\xde\\x94\\x92]\\x9c\\x926{Rr\\x89kWF.\\xe6\\xd4\\xc3&%1c\\xb3\\xb9\\x12\\xcd\\x87\\xa7g\\xf9\\x18-\\xdab>\\x8e\\xc7\\xf4\\xc2bD\\xf3\\xe5\\xecY2Fk\\xdc\\xfb\\xac\\tA\\xba\\x9e5\\x15^lJ\\xc6\\x05\\xb6)\\x17\\x17\\xd8\\x86T\\x8c\\x98\\xb8!\\x15#6v\\xa6b\\x84\\xd8\\x98\\x8a\\x11rC*fv\\xcc\\n\\xebL\\xc5\\x08\\xb2\\xf2\\xac\\xa9\"6\\x82\\x11\\xcc\\xae\\x0f\\x96\\x99\\x96I\\x96\\xf4e[\\xe9\\xb9\\x9d\\xb9\\xee;\\'\\x0e\\x07\\xcb\\x08\\xb0r\\xcf\\x1eY\\x8d\\x00]\\xcf#\\x90\\xfdJ\\x93\\x1e\\xf6\\xc0\\xeb\\xf6yO\\x1b6\\xc1(B\\xcb\\x9b\\xdax\\xac\\x8c\\xec\\xc9]m9\\xd1d\\xaa<O_L)qy\\x8by\\xc7\\x86\\xc1\\xe5\\xc6Rjz\\x8a\\x93{b\\x9e\\x13{WqbL\\xa7x\\xf6\\x14\\'6\\xda\\xf4\\n\\xbd\\xb3:\\xc1\\xe6\\x14\\xd5\\x9a\\x9e\\xea4\\xf12\\xa3\\xbe\\xe2\\xe4\\x02U\\xfa\\x9e\\xf5\\xe2\\x84\\x02\\xdbU\\x9d\\x90=\\xf9\\xee\\x16\\xafr1WBt\\x94\\'\\xb4l\\x0b\\xe5\\xc9\\xa4\\xb4\\x19\\xf6\\x0b\\x08\\xc4\\x9b\\xdc;+Qh\\xa5;\\xf7\\x0b\\x08\\xd1\\xb5_@\\xe4\\xd8T\\xa2\\x10nS\\x8dB\\xb8\\rE\\n\\x11rC\\x91*\\xa4\\xec\\xacQ\\x05\\xb0\\xb1D\\x15\\xe0\\x86\\ne|\\x12\\xdbP\\x9f2`\\xed\\xd1-\\xe2u\\xc6\\x10\\xac\\xb6\\xf1,:\\xfd\\xca@\\x12\\x81\\xfb=\\x8b\\xe3\\xec\\x9a\\xfe6\\xcah\\xb4Q(\\xb0\\x19P\\'\\xff{.D\\xa12h\\x9f\\xa0\\xc7D\\x05b\\x90 \\xb8\\xb8G(\\xd6E:\\x9f.\\xbey\\x08\\xf8\\x19\\xe8\\x11\\xfem\\xa7\\x1945\\xbb\\x11~\\x0c\\xf0\\xc0\\xfd9\\xff\\xb5{\\xf5\\xf8\\xd7\\x91\\xc1\\xbc_\\x7f\\xdd}\\xba\\xf8?X+\\xa5'\n",
      "WARNING:root:Invalid zlib bytes: error('Error -5 while decompressing data: incomplete or truncated stream'), b'x\\x9c\\x95]K\\xaf\\xe6\\xb6\\r\\xdd\\xdf_q\\x97-\\xd0~cI\\xb6l/\\xfb\\x9c\\xb6H\\x81\\x04\\xb9\\xe9>H\\xa6I\\x8a\\x9bL3I\\x16\\xf9\\xf7\\xb5LJ:tM\\x91\\x83Y\\xcc`@\\xeaA\\x91G|Y\\xdf\\x8fO\\x7f|yJ\\xcf/\\x1f\\x9e\\xde\\xfc5<\\x87\\xf08\\xfe\\xfd\\xef\\xa7u{\\xcc\\xdb\\xf3\\x1a\\xd7G|~\\xf9\\xfa\\xe97_|\\xfe\\xfc\\xdb\\x97\\xff<\\xfd\\xe5\\xe5J\\x9d\\xb7B\\xbe\\xe7\\xc7\\x9eO\\xf2y>\\xe9\\xe3\\x14\\xa67S\\xc8y=\\x08n9\\x0b[\\xc8\\xdb\\x85\\xef\\x0fA\\x9b\\xe7d\\x88\\xfb\\xfc\\x88\\xf3\\xf3\\x1a\\xe2c\\xc94Q\\x9a\\xef8\\xf6\\xc74\\x17\\x869\\xef\\x8f=\\xe2\\x0c\\xff\\xf8\"<\\x949\\xc2r\\xb2\\xec\\xa10\\xaf1\\x17\\x11\\x14\\x96\\xf0\\xbb[\\x86\\xf8\\x08\\xa7\\xac\\x96)<\\xb6\\xf9\\xba\\xfb[\\x96\\xa9\\x10\\x96}\\xac\\xf1\\xb1m\\xcf9\\xb79~\\xff\\xd5\\xfb\\x1f~\\xfe\\xee\\x87_\\xde}}\\xc7\\xb8>\\x02\\x9f\\xca!\\xae<\\xa7:\\xd1\\xa7\\xdf\\xbe\\xbb#\\xcf\\xe7\\x99,\\x8f\\xb8\\t\\xe2\\xdb}\\xaf\\x8f\\x1c\\xcf\\xb3\\x98\\xa6\\xc7$\\xe8\\x7f\\xfaA\\x1d;\\x1c\\x9b\\x9f\\\\\\x83/L\\x9f\\xcf\\xfd\\xce\\xf1\\xb1\\x92B\\xfd\\xf4\\xdf{\\xfa\\xfd$\\x8f\\xfb#\\xc9\\x8d~x\\xaf\\xc8\\x85\\xc6\\x9f\\x97r\\xcce\\xfc\\x9d\\xf4\\xe2\\x93_\\x7f\\xbag\\x98i\\xb7\\xf9\\\\\\t0\\xbc\\xfc\\xfaa\\xb4\\xa2u\\x7f,\\xd1\\xb5\\xa2H\\x0c\\x87IH\\t\\xbd}\\xbd\\x95ge\\x88\\x81T\\xc2\\xc1@[\\x88q\\xbf\\xec\\xf9\\xe5\\x83\"\\xd4S\\xaf\\xe3|*\\x1bL\\xf0\\xb7\\xef\\x14\\x19\\x05R\\xd2\\x9c.\\x1a\\xf4\\xc9\\xbb_T\\x95\\x88\\x87\\x84\\xb2G#\\xd2\\x89\\x18q\\x9b\\x1fyv\\xaa[<\\x849\\xfbU9\\x1d\\x06\\x19\\x9dC\\xa7\\x90$\\xed\\xfd\\xd0\\xdb#\\x06\"_\\x1fkFE\\xfe\\xf0\\x8d>v\\x9a>b\\xe44\\x17c1G>\\x14r=\\xb1`/\\xebNKQ\\xcb\\x13\\xa4\\xe6\\xe5~\\xf8P\\xf5\\xbd@\\x07\\xd0/\\xb7\\x10\\xc5\\xf4EYV9\\xfer;\\xfe\\xb1\\x9c\\xc4{\\xbd2de\\x82\\x0cP\\x16\\xf6*\\x9d\\xcf\\xdf\\x8d\\xec\\xef\\x00\\xb3U\\x90\\xab\\xe6\\x97\\xf6\\nP\\xe9XN\\xd8\\xaaq\\xbc}\\xfdU\\x87\\xb3\\xb8\\x9d\\xb6\\x07\\xc3\\x0f\\xcf*\\xa4\\xf3P\\xcb\\xe8\\xb6\\x16\\x14l:\\x89\\x8d\\xc1\\xd7\\xb2\\xe0B\\xbfL\\xa7\\x9d\\xf6\\xc1\\xef\\xb1\\xf2\\xb8L\\xe6\\x84g\\xdb\\'\\xf8\\xfb\\xab~-\\x14$\\x9b|\\xcb9\\r5\\x1c\\x86:\\t\\xd9\\xdc[\\xd3a|\\x0c|K\\xb9\\xe4\\x80\\xfe__\\xbe*\\x13\\x90\\xaa\\x1d\\x16\\x18\"2\\xbc|\\xab\\xa8\\x02\\x9dm\\x01\\xbe\\xbc9\\xce\\xf6\\x00\\xbe\\xb9*s\\xf4-\\x89\\xa1\\x95\\x91\\xaf\\xcf\\xa0B+\\x83\\xf7!T\\xb9\\xe9\\xb7\\xaf\\x03\\xa8$8\\xf3j[:n\\xe6\\xf3|=\\xda\\xc6xf\\x9f.Ce\\xf8\\x88\\xa3=\\xf1\\xcc\\x14bE\\x9cC\\xe8\\xa1\\xac:t@\\x18\"H<\\x10\\xe4\\xc2\\xb0\\x8e \\xaa\\xec\\xb4\\xdc\\x7fH\\xafL\\x90\\xc0{Z\\x0e\\xfd\\xcc\\x9bG\\xcf\\xf6\\x13\\xca\\n}\\xb4\\x11\\x84\\x1c\"\\x18\\xdc@\\x90\\xc3!:\\xae\\xbf\\xe5\\xf0gY\\xc34\\xb4O\\xcd#\\n\\x8e\\xc54+$\\xd0\\x81\\xf5\\x18V\\xc8\\x0e\\x91G:y\\x07\\x1c\\xf1\\xcc \\x80\\xc1\\xcfP<\\xa2\\xfcQ\\x0cq\\xf7m:\\x03*\\x98GVq9.\\x816\\xdc\\x8e\\xec\\x1e\\x97i\\xf0C\\x9c\\x0euhc\\xe7\\x95dc\\x8c\\xdd \\x90\\xf0\\xc6\\xad\\x0e\\x848\\x1eI\\x12\\x9e\\x15\\xdb\\x92\\x92T\\xf0\\xec\\x98\\xa0\\xba:\\x17a\\xaa\\xce%Y{Q\\xe8\\xc3\\x18\\xb7\\xb5\\x19\\xef6\\xf4G\\x8e\\x05\\xa5\\x0b\\xbd\\xe2\\xefD\\xf2v\\xf7\\xf54\\x18`\\xd8o\\'\\xb8\\xa0\\xc3\\x1a\\x0c\\xfdo\\xd7\\xae\\xa4V\\xae\\xdc\\x16\\x0e\\x90?\\x02\\x0c\\x8aw\\x8f\\xfe\\x08P\\x1b\\xe1\\xd5\\xe1\\x8f\\xe4B?\\x8d\\xd5\\xa7\\xbb\\x0c\\x04\\xce\\xf6\\xfas\\xc5\\x86r\\xb8\\xd6r\\x0e@\\xa0\\xcd\\x1e\\xda\\x1c\\xc5\\xf2_\\xbf\\xb4c+\\x1c\\xfe\\xde\\xb9\\xcb\\x08#\\xb6l\\xe8\\x86\\x8b\\xc7\\xed\\x99\\x05\\xbdv\\xc9\\xf1\\xddO\\xeeH\\xa1\\x8f\\xa3\\xc0\\x90\\xfdX\\x8e\\xc2`x\\xd5\\x91]\\x9b3\\xb2zv\\xdb|\\x8b\\xc3\\x19\\x99f\\xa9:\\x8a-Jph;P\\xc0\\xa1\\xee`\\xcf\\x17eSw0\\xc7\\n\\x0ey\\xb3%\\xd4b \\xb7\\x1e\\x97\\x18\\xc8\\xa1\\xc6\\xd5\\xc6\\x8bQ\\x1d\\xe4\\x87|\\x9a\\x89+\\x0e\\x00\\x89\\xbe\\xc4\\xe4\\xc5\\x08;\\xc3\\xa1\\x1c\\xc3\\xb3\\xda\\xce\\x9c\\x88`Pf\\xa0\\x90\\x99Ad^\\xeb~G\\x113%h\\x80\\xd8\\x95\\xa0\\x01\\xfa{E\\xe6c\\r\\x94#\\x03r\\xe5X\\x05\\xe2\\xb8\\x17\\xc3\\x88c-\\x06# \\xc7\\xe0\"\\x02Z\\xe6l\\xdd\\x86;\\xba.0\\xfc\\x08?\\xd8oq/\\x86\\xe2\\x1f\\xf7bX\\xc7\\xec\\xc5<\\xd6\\x00y\\x1f`\\xf8\\xe7\\xbb\\x9f\\x07\\x13T\\xc01\\'\\x90i\\x1f\\xa0\\xd7of\\x88}\\x9c\\xd2\\xa4\\xac\\x8f[\\x98\\x9c\\xf5q\\x08S\\xf8-}x\\xa7\\xdf\\xd2\\x19Fq\\xd8\\x89M^\\x8dgl\\xb2\\xad\\x8f\\x90\\x80\\x12\\x16K\\xda\\xcb_\\'r\\xdc\\xa7\\x84+}\\xbd\\x04\\x91A\\x81\\x9a\\x8c1*2D\\xcd\\xc1\\xd9\\x19\\x9b\\x8a\\x95\\xc4\\xe4\\x08g\\x18\\x9ab\\xfa8h\\xea\\xf4j \\xd9\\xb0)E\\xa4Wu\\x92\\x198\\xfcq0\\xa4\\x16\\xff\\xe4\\xcd\\xde\\xed5\\xfc\\xe9\\x13(\\xee\\x9f\\xc0\\x10[>;]T[:o\\xe4\\x18\\xc7\\xd1\\xdeq\\x11g\\x04\\x91\\xb6\\xfa?\\xddg\\xb33\\x86I\\xd6b\\xf6\\xea\\x1e\\x84\\xb3N\\x01\\xf4\\x9aw&\\xd2-\\x0eQ\\x86\\x19\\x01\\xa7\\x8f\\xaf\\xd8`\\xf3F#\\xdd\\xaf\\xc01\\xf2F\\x19r\\xec\\xed\\x923Z!\\xc7\\xda.df\\xdc\\xa2\\xa4D\\xb3C\\x92\\xb9\\xa1\\x93 W\\xd1\\xac\\xa6[.\\x82T\\x91\\x9e\\xcc\\x90\\xbd\\x8f\\xb0tDP d[Q\\xe9\\x81!)\\x10B\\x0c\\xf5h\\x91A\\x99a\\xce\\xb8\\x05`\\x98og\\xa89\\xe1\\x83x\\xdew\\xf3293\\x93\\xdb\\xa95@>pA\\x08\\xd0\\x1cC\\x0b@3\\xc7\\x96\\xbe\\x16\\x90\\xab.t\\xa8p\\x96\\x04\\xbdV\\xc8\\xab\\x80@\\xf5\\xad\\xc2`\\x03\\x02\\x87k\\xe6f/\\xe1\\x1a\\xd0\\x8f\\xd5\\x98\\xd1\\x0f\\xe8\\xf5\\xdc\\x12\\xd6\\xc2\\xfa\\xea\\xadl\\x05!\\x9a=A\\x8b\\xc0f\\xd7v\\x19\\xcf\\xd2|\\x11\\x8f\\xb6\\xdd\\xd8\\x94~E\\xd9\\xab\\x95\\xc2\\x84\\xf1\\x9a\\xb9\\xdb\\x1a~mWU\\xd3+!k\\xc7\\xa8>\\xfc\\xa7\\xf7wICW\\xce\\x93\\xc2\\x04#t->\\x91[\\x94\\xe4\\x13y\\x14\\'\\n-\\x0e\\x1d\\r\\x14\\xf8X6\\xf0u\\x91\\xe1\\xbejU\\x036\\x0eM\\x05\\x83\\x96\\x13\\x06\\xa7h^\\x97\\x9e\\xb7\\xbf=,\\xcc\\xfa\\x14\\xea=\\xdaY\\x13J\\t\\x03\\xb5+%\\\\\\xe8\\xc7\\xf5?\\xb6B\\x8a\\xd8`x\\xd5\\n\\xd9\\xc3d\\xe9w\\x86QpZA\\xc4Z}\\x0b\\x93\\x18D\\xda\\xea\\xc7\\t\\xcc\\x82!L>\\x16\\xbc\\x0c\\xabp9jG\\xc0\\x0ci\\x1c{\\xb7\\xad\\x0c\\xc5\\xba\\xd6\\x19F\\x1e \\'\\x8f\\xdd\\xe2\\xe1\\xe4\\xb1%\\x9e\\x8a\\t\\xe4\\xdb\\xc3\\xe8Z\\xec^\\x83HJ\\xf9\\x00\\x83\\x1aD\\xc6\\x16Xe\\xc10\\x0c\\x94N\\xc7\\xc5\\xdcl\\x83\\x85 \\xd6n8E\\x05p\\x1cJL\\x88Po\\xce\\xbc6\\x03\\xbf/3\\xb7\\x14\\x0e\\xeb\\x012\\x0c\\x93D\\x9c\\x0eC\\x86\\xfb2\\x14\\xba,\\xc7\\xe9\\x1a\\x92\\xa1\\xab\\x96]\\x96N\\xae\\xc9&\\xf4\\x18\\x12\\x07\\x1f\\xb4\\xfbT\\xb8\\xb1\\x96\\xd2\\xc0\\x98Zr\\x80^\\x8b\\xd9BF\\xc9\\x1f\\xf4\\xb5\\x1bDk\\xb1\\xc9\\xcdg\\xc9b\\x025f\\x13=90\\x83z\\xd3F\\x01\"}\\x06%\\xa9\\xde\\xf3\\xde\\xc7\\xe1.B\\xa4\\xc3H\\x83\\xfd\\x10\\xafH9\\xb22E*\\xdc\\x16{p\\xca\\x8dV\\xb7e\\tC\\x049\\xb6\\x1acE\\xa8\\xdd\\xb3\\xd5K\\xd1\\xdb\\x16\\xff\\xc5q\\xe9\\x13\\xa8 \\xb5a\\xa2\\x19&P\\xbcX\\x9e\\xa0^\\xe6\\xe6\\x04-1M\\xd1\\x06\\xee@+\\xdbsB\\x98\\xfd\\xf6\\xda\\xb6\\xa7\\xd5\\x8fE\\xfa\\xb8Q\\xdf\\x17\\xac.\\xb9\\xe3N\\xed\\xf1Cz\\x0b\\xe1\\xf8:dd8\\xc8\\xc7\\xb7\\xa1@\\x06\\xa0\\xf64\\xeb\\xcd\\xad\\xf9sP\\xe7\\xac^\\x88{l\\xca\\x1b\\xfb\\xc6\\xa6\\xb4\\xb1cl\\x916\\xb6\\xc6n.\\xc8\\x017Ln\\xc9<\\xb4\\xac\\xcf\"\\x0eIE@N*\\xb1\\xc2\\xf4\\r\\x185\\xf5\\n8\\x9d\\xc1\\x13\\xf8xe_\\x11\\xc4\\x94O\\xc4\\xc4\\xb1[\\'+~\\x98JY/\\x88\\xea\\xb4t\\x06\\xf5\\x82\\x90NKgP[$\\x83\\x08\\x07:\\x83\\xee\\x04\\xb6\\x94\\x0b\\x8b\\xc8\\xda3eD\\xaa!Nd\\xe4Z\\x89\\x99\\xf3-U\\x81*\\xf5}\\x05[\\x08\\x93H\\x93V\\xa7\\n\\xd0L7O\\xc9PLL\\x85L\\xc9\\xe7\\xcc\\xd5TH\\xa7\\x1f\\xe4\\xcf*\\xd4\\xb8\\x07g\\xa8\\xb1\\x06o1\\x0c;!\\x9d^=\\xd0\\x88y``PU&gD\\x85\\xce`e\\x9a\\xd9\\t\\x99\\x92\\xa92\\xa2\\x0f\\x06fP\\x8c\\xbc\\xe7G\\xa9\\xf9\\x018\\x86^\\x0b\\xc3\\x82\\xf7\\x0c*,\\xd8g q\\xc1\\xdc04\\xc2\\x98\\x8b\\xa9\\x99\\xf2\\xd2\\x08C;\\x1d\\xc7\\xc0\\xa2\\xed\\xces\\xbaI \\x88\\xe3\\xb0\\x02\\x02\\x08,\\xff\\xde\\x05\\xbf\\x02\\x889\\xc1\\xd6\\xed6qM \\xdd\\xd7\\x967\\xe9\\x1e7j\\xad\\x9e4G8\\xa5N\\xad\\xb96\\xe085\\xe2\\xfbB\\x92\\xe8\\xdcM\\xdb\\xd9\\xad7\\xf0\\xca0e\\x02\\xd4\\xaa\\x17\\x1a\\xc0#\\x03zU\\xe0\"\\r\\x02\\x0cV\\x1b\\x1ay\\x156\\x03\\xa6Ap=\\x9e\\\\*\\xd0\\xdf\\x1bSM\\x1c\\xd3\\x8d`\\x0b\\xf3\\x92JM\\xeb\\xde\\x8b+\\x03\\xe3#\\x7f\\xc2\\\\\\xfd%\\x80\\x01z-&\\x14\\xa5!{5\\x17\\xecp1`2\\x15Vd\\xe07C\\x020(\\xf8\\r\\xf5\\x1e\\xb7|\\xa8\\xdec\\x8a\\x07r&\\x8e\\xa1\\xb9\\xf5%\\x90Xj#\\xae\\xee\\x16\\x97\\x84\\x89\\x7f\\xc5g\\x86\\xd6q\\xa0\\xec\\xa1P\\x8e0q\\x9fq\\xd2\\xeaG\\x9c\\x89\\xa6\\x94Y\\xa3\\xbe/\\x1em\\xd2\\x19\\xeb\\xd4\\xb7c\\xd7`\\x91Qfi\\xfd\\x84\\xa3\\x8a\\x07\\xb94i\\xc9>\\xa1\\xb0K\\x03\\xf4\\xe3\\x96\\xb0\\nJ}1\\xa3\\x8e\\xa7\\x8aH\\xf6jDHTF\\x1f\\x1e\\xfe\\xa5\\xb4\\r\\xabQmH^\\x1c\\xce\\xe5Su\\xc7\\\\~C<\\xea\\x8f\\x01\\xfa\\x91\\x7fH\\xbe\\x8f\\xfb\\xa4\\xb8y\\xcf<\\xa9\\x9a\\x92\\xa0d\\x1f\\x90[w\\x137\\x9d\\x03\\x87\\xde\\xc8\\x89\\xd5 [\\x98-\\xafL\\x9e<\\xcc`\\x05\\x81g}\\x1b\\xe8\\xad\\xef\\'(\\xadbOp\\xad\\x08y6-\\xbc\\x1a\\x8f\\xca\\xad\\xe0\\xa6\\'\\xfe\\xb61\\xdd\\xd7|[U\\x99O\\xadQ\\x0f\\xc2\"\\xdek%\\xbd\\xaf\\x06Af6\\xa5\\xe8Sc\\xca\\xcc\\x02\\xf98k\\xcd\\x88\\xd3\\xc9\\x87N\\x04EE\\xe6Z.\\t\\x98\\x94\\x82\\x85\\x08\\x11?\\x0e\\x80\\xf1\\xd5\\x0eQ\\x11\\x15y\\x18D\\xae\\xa4\\xac\\xc8\\xe1vT\\x08\\xb1\\xf7+\\xdac`\\xbfZ{\\xcc\\xda\\xf2*R\\x9eF\\xcb\\x1c+\\x18\\xacG-\\x1e\\xe1\\xbd\\x06\\xf4\\x9a\\x13*A\\xa1\\x8bg\\x84\\xb0\\x14\\x12\\xb95\\x93\\xbf\\rp\\xa8\\xa6\\x08\\x8a\\xfc\\xda\\xc0A\\x91\\xcdP\\xef\\xe6z\\x93\\xf7\\xed\\x8e.\\xe7\\xd3_\\xb17\\x8b\\x15es\\xaf\\x1b^\\xcb\\xf1\\x8c_\\t\\x0ft\\xe8\\xe0d\\x1cR+\\x1f(B\\xf6VP+\\xd1\\x19\\xba+\\xd3f\\\\<U\\x85\\xe9\\xdb\"\\xa0W58`\\xa6\\x1a\\x18\\x86\\xc5[vA:\\xb5\\x91\\x86a\\x17\\xa4\\xd3\\x1b\\x1d \\x1cCuz\\xdf\\xd7E\\xc0\\xa0^\\x82\\x01\\xe3\"\\xd8\\xc0\\xbd\\x05\\xd68\\x8a\\x0f\\xd7\\x94\\x7f\\x8b\\\\\\xa8\\xeb6M\\xaby\\xa3\\xc9P\\xc7d\\xc0\\xf2\\xb0y\\x00\\x97\\xf2p\\x19\\xdd@\\xfc\\x80\\x05bX\\x8d\\x96\\xf1\\x93\\x05b\\xbf\\xc2\\xd5\\x9b\\xd6\\xa7p\\x1c\\xecX\\xdb\\xbd|E\\r\\xdb\\xbd\\x07\\xfcZ\\x08\\xe2\\xf4\\x84y\\xba[O\\xc9\\x96\\x8f&\\xab\\xe5*\\x9f\\x11\\nE\\x03j3+\\x8b\\xd4\\xf7E\\xa0\\xe6j\\x9d_i\\x97\\x16D\\xcb\\xd1B\\xb7\\x02\\xe8-\\xbb\"X\\x00\\x06\\xfd\\x9bF\\xec<\\xb3\\x19\\xb0\\x02\\x03\\xd4\\xae\\nL\\xdc\\x92\\xa5\\xc6\"2)\\xf4\\xf5\\xde\\xbc/\\xd8\\xa1[\\xe1_\\rE&\\x8e\\xd5\\x04\\xac\\xef\\xc1\\xf8Fr\\x99A\\x04\\x18\\xf4zDK\\xcd\\xeeb\\xbfj\\x05I\\xe4K\\x80\\xc1\\xe8cf\\ru)\\x04z\\x0b\\xf6\\x0c\\x97*.0(\\x97\\x7f]\\x12{\\x0b\\x9e%E\\x8c6\\x84Xo\\xcf\\x01r\\xa8q\\xcd\\xdd$\\xb5\\x87\\x10f\\xd49`\\xb8\\xaf\\xdal\\xb2\\x9fY0\\x0c\\xbb\\xd6\\x18\\xae\\x80a\\xd6\\xca7X\\xfc\\x8d\\xcb\\xde\\xb3\\xd8Z\\x05\\xa1\\xa6;\\x0e\\xcc\\x8a\\xf9\\x98f\\x94\\xe1\\xba\\x82D\\xa37T\\x82\\xc3\\t\\xcfzx\\x02\\xca\\x1a\\x99\\x13\\xd4\\xcb\\x9aO\\xa0\\x91\\x0f?Lb\\xa3o\\xc4\\xaelD\\'\\xb7\\x93\\x11\\xf6\\xd0l)\\x94\\x8bp\\r\\xcd\\x89W\\xf7\\xd0\\x94w\\xb5\\x86\\x96_\\x00\\xc1\\xe0J4\\x03\\xa1I\\'\\x1e\\xbe\\xe1rF&^Ys`\\xe2\\x13\\xc8\\x99\\xd4p\\x8fL=\\xfb\\xb6<DU\\xc7V\\xd8\\xea\\r\\xf1gB}|\\xc5\\x19\\xea\\x19\\x13z\\xdd\\xa43\\xa8\\xf7\\xf8\\x8a\\xbd\\x96q\\x89\\x1d\\x02<\\xa9Td\\x18\\x7f/TQ\\x15\\x19\\xee\\x13\\xaa=\\x19\\x12Sv\\x89\\x9fr!\\x9dz\\\\\\x93%\\x7f\\xabSk\\nV\\x83w\\xfa\\xf6\\xa7\\xd3[\\x91\\x0f{,\\xd6\\xf8\\x97\\xdcF\\xa7\\xd7\\x0b\\x06-\\xb5Qn\\x9bF?\\xcc\\xe40\\x1a\\x19\\x82\\xbc$6bjy3\\xf5M\\x1ft@\\xfa\\xe8\\xda\\xa7\\x83\\x1b\\xa6;\\xcb\\xf0\\xfb\\xf0\\xb3\\x80\\xe6\\xd4\\xb3\\x96\\xd9\\xb2\\x0c\\x19\\xc1\\xa3\\xd1\\xab7\\x87h!\\x83\\x05\\x8d\\xfc9\\xc6\\x04\\xa7,\\x0b&8D\\te\\x1d{d.\\xbd\\x9cU\\x1d\\x18y\\xfcM\"\\xc5:\\xa6\\xbe\\\\\\xbd\\x19[\\x1f\\xe7\\x8c\\xfa\\x1e\\xb7\\xfa4\\xdc\\xac}\\xd7W\\x8bv\\xa4\\x05\\xc80\\xfc\\xec\\xa7zp\\xc0\\xa0}\\xf6\\x93+z\\x14-8\\x0cw\\xe8o`\\xc1\\xb7\\x13+H\\xd9[2\\xcf\\x8f\\xb8M\\xfaK\\xbd\\xb7\\xd3\\xeb]\\xef\\x08\\xc4\\x8d\\\\\\xaf\\xdfc\\xa2\\xa2\\xd3;>\\x03\\x84\\xc1]\\xbeI#Wo5\\xec\\x1e\\xf3-\\xa5:\\x1c\\xc6Rj\\x00^\\x1c\\x8e2t\\xb0pI<5W\\xe8\\xab]kE\\x0f\\xe93\\xb7\\xe5\\x0c\\x9fC\\xcaR\\x03\\\\O\\xa5\\xc0\\xdaG\\xcf\\xb0\\x10\\xc4\\x98C\\x0b\\x88\\xb1\\xa4\\x82\\x10\\xe3\\x947?\\xe1\\xe4\\x1b\\x9a\\x01\\xc6\\xd4\\xaa\\xdelo\\xab\\x94\\xc4\"\\xebXZ9\\x98#\\x87i\\xeeH1\\xfc(\\xb9\\xea,0h\\xb5\\x1f\\x06/\\xca\\xb3\\n\\x06\\xed\\x8bB\\xf8\\xc61l\\xabq\\xc3\\xc8\\x8cJ\\xd86\\x0b.D\\xac\\xd4\\xe9\\x87\\xf6OX\\xd4\\x89]o&tr\\xad\\xea,\\x1c\\x99N>\\xb2!\\xf6b\\xac\\xa5\\\\\\xdaT:\\xf9\\xd8\\xc1\\xe6\\x1e7\\x90\\xfa\\xb8m\\x8a\\xd5\\x00V3\\xcc\\xde\\xf2\\r\\xd6\\xc9\\xd5\\xe4mni\\x14!\\x19\\xe5B\\xc2^\\xa8\\xf5c\\xc6\\xa7\\xa6\\x13s\\xfcK\\xc5\\x05Oj\\xdc\\xa3B\\xf1\\x8ac\\xfc\\xd4<\\x8ey\\xf6\\x8b\\x9f\\x13\\x10\\xa6\\xf8k\\xb4B\\x1e|\\xd8\\xa6f\\x83\\xe3\\xaf\\xec8i*\\x18\\xc6\\xdf\\xd4\\x90_\\x88\\x0c\\xdaW;\\x98\\x11\\t\\x192@\\xc3o\\xcey\\x07\\xf9\\x0c\\x1b\\xc7\\x8e-\\x96Sl\\x06a\\xe7\\x9d\\xdag\\xe8\\x9d\\xde~\\x1c\\xc5\\x1c\\xbc\\x99.\\xe5X\\x81^\\xb3]\\x91c\\x05Y:r\\xac\\x8e\\xad\\x8a\\x08\\'\\xe4\\xd6 \\xa9y\\x12\"\\xc7\\xea9)\\xd1\\x12\\x0f\\x0c\\x8e\\x96x\\xf7Iq\\xef\\xab\\xef\\xa4\\xb8\\xa8\\xe3>).\\xea\\x98\\'\\x05N\\x90\\x7fl\\xf2\\x82\\x1cZ\\xc0\\x91\\x1c\\xdd\\xb3\\xa0\\x05J\\xe6\\xb9w\\xc6\\xd0\\x03j0\\x83\\xf1\\xfd\\x10g$lEk\\x89\\xe1t\\xd5d5\\xbc$\\x18\\xe1\\xbb\\x7f\\xc9\\x1dE\\xc6\\x1f\\xec\\xb0\\xea\\x03\\xc3})\\x08\\xdf\\xe6*+B\\x06O\\xaa\\x17\\x19\\xb4g\\xec\\xa0L\\x1c\\xe6\\xa9\\xeeX\\xbf\\x89\\xd0{\\xe9\\xf4\\xe3\\x17#*\\xacuz\\xb5\\xd1\\x81\\xc1\\x81\\x82\\xcd\\xc2P\\xcfl\\xec\\xd8s<\\x0538>\"\\xc6\\xf5\\xb8\\xdc\\x92N\\xef\\xe9\\x9e\\xf5\\x88sF\\xf7\\xd4\\xb3]\\x89>\\xe6\\x01\\xc8\\xd7\\xe0<+\\x12\\xaf\\xc1yN\\x8cWD8\\xe1\\xd0\\x08\\x8e\\xc4\\xd8\\xf0\\xcd\\x03kHA\\xd9\\x01\\x90\\x91^\\xa3\\x12\\xdeI\\x9f\\xc1zs\\xc9\\xd4\\x07\\xd9\\xbd\\n\\xe4\\x9a\\xc7,\\xb2\\xae!\\xc5n\\x8d\\xa3\\xb6\\xf7zZ@?\\xfe\\x80\\xa7B\\x1c2h\\xef\\xc1\\xa1\\xbd\\x87l\\xc8\\x12\\xbaX\\xf9\\x19\\x00;\\xf0\\xe3.V\\xa0\\xbf7\\x96K\\xa6\\x05\\xe8U@\\xdf\\x11\\x1b`=\\xc6\\x93\\xf7\\x1c\\xb0t\\x06\\xc5\\x0f\\x96u \\xa0\\x1f\\xbf\\x01^\\xcd\\xdd\\xb1 J\\xaas\\x81\\x07\\xc4\\xaf\\xbc\\x95q\\x89C\\x1c\\x0b\\x12\\xf9T`0\\xfc\\xcez\\xc1\\xa0\\x88\\xc6\\xeeO\\xbe\\x9c\\x99\\xd3\\xdc\\x1d+\\xe2\\xd8\\x88\\xcd\\xbd\\xcbh\\xe4\\x1eRj\\xc2TQ|]\\x1a\\x88\\xed\\xd7\\xa5=\\x1b]ZY\\xe0P\\xce\\xa9\\xbd\\x89\\xbd\\xa8O9\\xd6\\xa3M\\x17\\xfa\\xd1{\\xf9\\xd5\\xfb\\x01z\\xad\\x1e\\x03\\x86\\xbeGCq\\xc0\\xce;\\xed8u\\xb4\\x9f\\xb1\\xe5\\x1e\\xc6\\xfe\\xf5\\xa5\\xba\\xd2\\x07W\\xaa+\\x18\\xd7X+\\xb94\\xaa\\xf7\\xa5\\x18\\xed\\x14\\x84\\xc6}t\\xabpC=\\xa6\\x9d^\\xedB\\\\[\\x8f\\x98\\x90\\xa3\\xb2U\\xd9\"f\\x1e\\xd1\\xa5Cl\\x8f\\xce\\x10\\x94\\xb1\\xc0\\xb1\\xdd\\t\\x7fa\\xa1\\x8fo|L\\xcc1t\\x1f_\\xef\\xa0C$p\\x8b\\x9f\\x93\\x12\\xa6\\xf8\\xdb\\x8b\\xcft\\xedwz\\xfd\\t\\xbff\\xde\\x9d\\xd8x;\\xfe\\xbc\\xa9\\xb6\\xb9\\xdb\\xde\\xd0\\x0b\\xe7W\\x1d\\x80^\\xab\\x98,\\xad\\xb9\\xf3P\\x05\\xa4\\xb7J\\xa7y\\xf3y\\xb0T:\\xed\\xd4\\x9e.\\xf2N\\xedKNvz\\xeb\\x89v\\xfeY\\x0bk\\xfcj!\\xfc#:\\x9ba!\\xff\\xf7\\xc3\\x13\\x8dA\\xff\\x8c\\x00\\xbb:=\\xebo&;\\xe1\\xfa\\x8d\\x97K\\xf9\\x87$\\xfaQ\\x8d\\xdd\\x03N\\x16\\xe4\\xcd\\xf0\\x0e\\x0e\\xef\\xafYlt\\xd1\\x8b\\x87\\xc0:\\xbd\\xeb!0S\\xfc\\x97\\x0e\\xcdNo\\x188\\x1bl\\xa7W\\r\\x9c;\\x0c(\\xb6u\\x8c\\xbf\\x9d\\xdaP4aj\\x16\\xa5>$\\x98\\xaa&\\xac\\x92~\\xfc\\x10\\x18\\xbd\\x10\\t\\xf4\\xbd\\xac\\xf0\\xd9\\xd3\\x8f\\'O~^\\xe97\\xc1\\xe8\\xff\\x9es(\\xd5\\x9c\\xe9\\xf8\\xb3\\x1eZ]\\xfe\\xfe\\xea\\xfb\\xe77\\xdf}\\xffM<v\\xf5\\xe7\\xf7\\xcf\\x9f=\\xfd\\x0f`\\x12a'\n"
     ]
    },
    {
     "name": "stdout",
     "output_type": "stream",
     "text": [
      "US 2010/0166768 A1\n",
      "US20100166768A1\n",
      "Dec. 15, 2009\n",
      "\n",
      "===================================================================================\n",
      "\n",
      "Processing 8 of 19 : /Users/parvinderjit.singh/Desktop/Harvard/CSCI E-599/data/raquel_documents/Regeneron/US9724411.pdf\n",
      "US 9,724,411 B2\n",
      "US009724411B2\n",
      "Aug. 8, 2017\n",
      "\n",
      "===================================================================================\n",
      "\n",
      "Processing 9 of 19 : /Users/parvinderjit.singh/Desktop/Harvard/CSCI E-599/data/raquel_documents/Regeneron/US8062640.pdf\n",
      "US 8,062,640 B2\n",
      "US008062640B2\n",
      "Dec. 15, 2009\n",
      "\n",
      "===================================================================================\n",
      "\n",
      "Processing 10 of 19 : /Users/parvinderjit.singh/Desktop/Harvard/CSCI E-599/data/raquel_documents/Regeneron/US9550837.pdf\n",
      "US 9,550,837 B2\n",
      "US009550837B2\n",
      "Jan. 24, 2017\n",
      "\n",
      "===================================================================================\n",
      "\n",
      "Processing 11 of 19 : /Users/parvinderjit.singh/Desktop/Harvard/CSCI E-599/data/raquel_documents/Amgen/us8563698 aa123-132.pdf\n",
      "US 8,563,698 B2\n",
      "US008563698B2\n",
      "Oct. 22, 2013\n",
      "\n",
      "===================================================================================\n",
      "\n",
      "Processing 12 of 19 : /Users/parvinderjit.singh/Desktop/Harvard/CSCI E-599/data/raquel_documents/Amgen/us8829165.pdf\n",
      "US 8,829,165 B2\n",
      "US008829165B2\n",
      "Sep. 9, 2014\n",
      "\n",
      "===================================================================================\n",
      "\n",
      "Processing 13 of 19 : /Users/parvinderjit.singh/Desktop/Harvard/CSCI E-599/data/raquel_documents/Amgen/us2009326202 issued as 698 patent.pdf\n"
     ]
    },
    {
     "name": "stderr",
     "output_type": "stream",
     "text": [
      "WARNING:root:Invalid zlib bytes: error('Error -5 while decompressing data: incomplete or truncated stream'), b'x\\x9c\\x8d\\x93MO\\x021\\x10\\x86\\xef\\xfd\\x15=h\"\\x89\\x19\\xfa9m\\x8f(\\x9a\\xe0E\\t\\xbb7.\\x88\\xa0\\x18>\\r\\xfe\\x7f\\xdb\\xa9\\x18\\x96l\\xc1\\xec\\xa1\\xd9\\xdd\\xf7\\xd9w\\xe6\\x9d\\xd9\\x1d\\xbb\\xab\\x98\\xe6\\xd5\\x17\\xeb>J.%\\xa0\\xe4\\xd5\\x9c9\\x0fNq\\xa7\\x1c\\x18\\xc3\\xab7v\\xf32\\xd9\\xcf\\xd6{\\xde\\xa9>\\xd9Cu\\xca\\x08\\x9d\\x18)M$\\x10\\x02\\x12\\xd1\\xdbn\\x97\\x8b\\xe9d\\xbf\\xd8\\xac\\x0b\\x98B\\xc2\\x1c\\x82\\xf7\\r\\xaf\\xef\\xd7\\x0b\\xa4w\\x89T\\xd6\\x82lT\\xd9\\x9fM\\xa1\\x15\\xd1 \\x0c!^\\x80VTf\\xec/!Z\\xde\\x96L\\xa8+\\x15|&\\xfeL\\x94\\x10\\xa1\\x80\\x10\\xa1\\xb58\\to\\xf41\\x9b\\x95\\xb2s\\x81\\x18\\x94I\\x9c\\x98\\\\\\x96o\\xb7P\\xa0\\xb2>\\x86\\xd6\\xacj3/\\x18`\\x06|\\x00\\xdb\\x00d\\xbc=\\xd3\\x85Q\\n\\xf0\\xb8\\xa2zT\\x92[\\xd2\\x1bq2\\xc6\\x94SWh\\x85J\\x94\\x9ch&6v\\xd5${\\xb2M\\x9fG\\x96\\xc7\\x8e\\x1ce\\\\\\x1bR\\xdf\\xd7\\x97\\xd5\\xd6\\xfb\\xc3^\\xfeK\\x1e\\xe35\\xe7\\xbe\\x1e@\\xe3\\xd1\\nZt\\xe9 }\\xeb\\xe0\\x028\\x9f\\xf5\\x9e[\\x1b \\xfcf:\\xee\\xb4\\xa9=X\\xfa\\x0b\\x95\\x0eio\\xa5u\\x80\\xb9\\x9a\\xfay0\\xee,w\\x83a\\xfd\\xd4\\x1a\\xa9\\x00\\x9b\\xd7<$\"\\x81\\xd9\\xe8J\\x14\\xd6\\xc9RYZ\\xe8\\xd8\\xb5\\xb49\\xa1\\xeb\\x83v\\xc8v\\xa4G\\xee\\xf2\\xab\\xfc,fo\\xe2\\xe8D\\xbc\\\\l$\\x9d\\xd3\\x15\\xef.V\\xefqk\\xfb\\x1b>d? H\\xef'\n",
      "WARNING:root:Invalid zlib bytes: error('Error -5 while decompressing data: incomplete or truncated stream'), b'x\\x9c\\x95\\x9aIo\\x1c7\\x10\\x85\\xef\\xf3+\\xfa\\x98\\x00\\x01\\xc5}9:r\\xb6C\\x10\\x0b\\x96\\x9c\\xb3\\xa2\\xc8\\x8e\\x02\\xdb\\xb2\\x03%\\xbf?\\\\\\xaa8\\xdd\\rv\\xcfk\\xf8 X\\xf8\\x8aC\\x16\\xdf+\\x169\\xfaz\\xfa\\xfe\\xf6d\\xa6\\xdb\\x7fNW?\\xaaI)\\xe1\\xd5t\\xfb\\xfe\\x14\\xa2\\x08z\\n:\\x08k\\xa7\\xdb?O\\xdf\\xbc\\xb9\\x7fy\\xfc\\xfc2}{\\xfb\\xf7\\xe9\\x87\\xdbu\\x8c4%F)\\x9b#\\xbcH\\xbeF\\xbc\\xfa\\xf2\\xe5\\xe3\\xd3\\xc3\\xfd\\xcb\\xd3\\xf3\\xe7\\x8d0\\xedkX\\xf0\"\\xc6\\xc5g\\xfd\\xfb\\xc7\\x85\\xc8\\x18J\\xa4vN\\xa8\\xc5,_?>\\x88a\\x88\\x11\\xd2\\xd6\\x90(\\x85\\xd1u\\x9ay}%\\xc4\\xa8\\xef\\xb6>\\xa4\\xaeJ\\xa7\\xd8\"\\xfa\\x87h)\\xd3FH\\x8d0F\\xae\\x92\\xf7\\xf6\\xaf\\xc7\\xc7q\\xee\\xb4\\x08-\\xc6\\xe7\\xcc/\\x92\\xa0\\x94\\xdf\\x88\\xd0\\xa9FD\\xbd\\x9a\\xd7\\xf3\\xfb\\x8dY\\xf9\\x16\\x90\\x9cp\\x8b\\x00\\x95\\xff\\xbb\\xb3\\x0e\\xab\\xb5\\xf0\\xb6\\x06\\xb4T\\xdd\\xbd\\xdd\\xc2]\\xe5\\xad\\\\md\\xc9\\xd4\\x954\\xdak\\xb9\\xf5IuW\\\\^\\xd52\\xf2\\x95\\x1a\\xf2Vh\\xd54\\x13\\x84\\x9f|L\"4\\xb1\\xc9\\x8d]\\xcf9=\\xe3!\\xe7\\xae\\r\\x7f?\\xc2\\xbd\\xf0aF\\xfb\\xae\\xe4_\\xc7tL3:K\\xb1%\\xe9\\xb7_\\xc6\\xb4\\xb13\\xdaF\\x1e\\xfb\\xf71\\xadjFUJ%!^\\xeeOEI\\x91\\xd4\\x82\\x97\\x15\\xfe0\\x82\\x83\\x88\\x9d\\xd5\\x93\\xf3\\x8eS~7\\xa2\\xad\\xf0z6\\xb2sI\\xa4\\xb6\\xce\\xeb\\xffvs\\xd8F\\xcf\\xeb\\xb4\\xbbYY\\xd2Uo\\xdb\\xb8\\x11\\xa6Y\\xd2\\xa4\\xa2d_\\xdc\\xd3&\\x03\\xe1\\xd2\\x1f\\xc3%\\'\\x1d\\xc1]L\\x02\\x1f\\xdcE\\xc3i\\x87\\xf0\\xa2\\x9ax\\x00W\\xbcK\\x10\\x9e5p\\x08\\x97B\\x1dH\\x8c\\xb3\\xe2\\xc0J\\xbbb0\\xba+\\x06\\xc2M=ip\\\\\\x95\\xe3\\xe52\\xee\\x8c8\\xa0\\xc6F\\xa3b$\\x1a\\xd4b\\xa5Q)\\x12\\x0c*\\xb1\\xd1\\xa8\\x10\\x89\\x06u\\xd8hT\\x86D\\x83*l4(\\xc2\\x06\\x83\\x1a$\\x18\\x94`\\xa3Q\\x05\\x12\\xbd/@/l-\\xe5&\\x98\\x92\\xb9\\xf3\\xbe\\x0fO\\x89\\xdc+\\xd5Z\\x1b\\xeb!ks\\x87\\xe7Z\\xfe\\xae\\xed\\xc6\\xe1\\xa9\\xfc\" \\x9f\\xd1\\xdb\\x87gn\\x92\\x12\\xd3z\\xb2>\\xd4\\x86\\xab\\x94\\xf2\\xf1\\\\\\xe8`n\\x85?\\x9f\\xeb4\\x97w\\xc3\\x85\\xdazn\\xe7\\xb4\\xa8\\xda%9\\xc9S\\xb9\\xfeic.\\xe6<\\xba\\x8d\\x96\\xe8!\\xbc<\\x0fmH<\\xf1\\xe1y\\x18D\\xb0\\xb3\\xf3\\xb0\\xac\\xd3\\xb5\\x9c\\xdf\\xec\\xed\\x10\\r\\x9e\\x9b\\xbc\\xb0\\xdbR,h\\xb7\\x83\\xaef\\xbdw\\x84\\xaf\\xabZN\\xb69P\\xede\\xdc\\xc5-MD7e\\x9f\\xb7\\xe6\\xce\\x00\\xa3\\xdb\\xe4\\x05^\\x90m\\x92G\\xe8\\xbc\\x95\\xfa\\x08nx+!\\xfc\\xbc\\xf3\\x18\\xde\\xb7\\x1e\\xc2\\xdd\\x11V\\xe2\\xac\\xb5\\xdc\\x02C\\xb8\\xc9\\x95\\x10/W\\xa8\\xb2\\x1a}AX\\x8ezZ\\xedd)\\x0ega\\x8dK\\xc4rpTW\\x04c\\xb2j0\\xaa*\\xa2AQ5\\x1a\\xd5\\x14\\xd1\\xa0\\xa4\\x1a\\r)\\x8aPDP\\rE\\xf5\\xd4\\xe8\\x0br\\x8aB\\xfaYQ\\xcbr\\xa2\\xa6gx\\x86\\xac\\xaa\\xa5\\xdc=\\xfcV7*+\\r\\xf71\\x08n\\x92\\xe6f\\x03(\\xdc&\\xf6Ff\\x83\\x9e\\xdfzL\\xec\\x8d\\xcc\\xf8\\xd6\\x9351;+M\\xb0\\x8c\\xff<\\xae\\xc7i>q\\xcf\\xad\\xcc\\xf8\\x90_M\\xdc\\xf7^\\x068t\\x8c\\xf3L\\x0f\\xcf\\x9d\\xd5\\xd8\\xae\\xf72\\xe3\\xeed\\x86\\xe6\\xe2C\\xdd\\xc0\\xf0\\x0cY-Q\\x07\\xb1\\xd7\\xc7\\xe4B\\xa0gck%\"5&O\\x17\\xe6Q^~\\xe2\\xce<\\x96#\\xeb\\xc4\\x05j<\\xf0\\xba\\xb4*~0\\x80\\n\\xb1<r\\xbb,\\xea>p\\xbb4\\xe9\\xd0\\xed\\xd2\\xa4C\\xb7\\xcb\\x99\\x1b0\\xfc\\xd0\\xed\\xb2\\xd8\\xe1\\xc0J\\xfd\\x91\\xdb\\xe5\\xcc\\x0e\\x10\\xee\\x0e\\xdd.\\x8du\\xd8\\xed\\x92\\xf0\\xfc\\xc3\\x1c\\xc8\\x8b1\\xe2\\x00\\xdd=\\x84\\xd1\\xddC\\x10\\xae\\xbc\\x90\\x07\\xf2\\xa2\\xe4\\x91\\xfe\\xd4\\xc8C\\xedl\\xf1\\xf4\\x81\\xde\\xeal\\xea}:\\xd5c\\x10\\xf54\\xd1\\xa0\\xa7\\x99\\x06=\\xddp\\xd8\\xd3\\x8c\\x83\\x9e&\\x1c\\xf54\\xe3\\xa0\\xa7\\t\\x07=M4\\xe8i\\xa2Q\\x932\\x0e>\\x01\\x11\\x8ez\\x9ap\\xd4\\xd3\\x8cc\\x9e&\\x1a\\xf44\\xd3\\xa0\\xa7\\tG=\\xcd8\\xe8i\\xc2QO7\\x1c\\xf64\\xe3\\x90\\xa7\\x8d\\x0cE\\xe3\\xa0\\xa7\\x99\\x06]J8\\xea\\xd2\\x8ec.e\\x1cti\\xc71\\x972\\x8e\\xb9\\x94i\\xcc\\xa5L\\x83.\\xed8\\xe6R\\xc6A\\x972\\x0e\\xba\\xb4\\xe3\\x90K\\x99\\xc6\\\\\\xdai\\xcc\\xa5\\x8c\\x83.\\xed8\\xe6R\\xc6A\\x97\\x12\\x8e\\xba\\xb4\\xe3\\xbb.\\xe5\\xe7Fcj\\x8f\\x86\\xde\\x15\\x0b\\x9e\\x85u\\xe9\\xfa\\x17\\xaa\\xfa\\xfa\\xe8\\x97\\xee\\\\\\xfcU \\xe3\\xb3;\\xc6\\xc6\\xbb\\xed|2&O\\x86\\xf0\\xe1\\x97\\x81=1\\xedKC\\xb4 \\x11\\x8d5\\x19\\x9d\\x06\\xcbW\\xc3\\xe1zD8Z\\x8f\\x18\\x07\\xeb\\x11\\xe1`=\"\\x1a\\xacGLc7\\x01\\xc6\\xd1\\xf2\\xc58X\\xbe\\x08G\\xcb\\x17\\xe1h\\xf9b\\x1c+_D\\x83\\xe5\\x8bi\\xb0|\\x11\\x8e\\x96/\\xc6\\xc1\\xf2E8Z\\xbe\\x1a\\x0e\\x97/\\xc6w\\xcb\\xd7\\xea\\x9b\\x9b\\xb2R\\xb3\\xf38\\x12Eho\\xa1\\xba~\\xc7\\xa8\\xac\\xe2-\\xdd\\xa8vD\\x97G7\\xa5\\xfb\\xfe\\x8f\\xff\\xd6`>\\xb0\\xee9\\xf98\\x1ey\\x0e\\xab\\xc8\\xdb\\xf3f\\xf8\\xf2b\\xe9\\xe1\\xaa|5\\x90\\x8d\\xacL\\xff\\x82\\xf4\\xfa\\xddx\\x95\\xca0\\x9f\\xdd\\xa6\\xb4\\xe7\\xd7\\xc2\\xfe\\xbets\\xfaZC\\xfc\\x14\\xdaf\\xb4\\xdfM^\\x15\\xf3\\xcb\\xfc/\\xe4t\\x96\\x9f\\x0f\\x9f\\xa6\\xab\\xa7O\\x1f\\xca_\\xd1\\xbc~\\x9enN\\xff\\x03-\\x8c\\xb6'\n",
      "WARNING:root:Invalid zlib bytes: error('Error -5 while decompressing data: incomplete or truncated stream'), b\"x\\x9c\\x85\\x92MN\\xc30\\x10\\x85\\xf7>\\x85\\x97 \\xa1\\xa9g\\xfc\\xbfl\\x15\\x10\\x8b.(\\r\\x07\\x80\\x92B\\x11\\xfdC\\xe5,\\\\\\x17{\\x0c\\x95\\x12\\xc5\\xa0,\\xa2D\\xf3i\\xde{\\xf3\\x8eb\\xd6\\n-\\xdb\\x0f1\\xb9A\\x89\\x08\\x0ee\\xbb\\x16>\\x80'\\xe9\\xc9\\x831\\xb2}\\x16\\x17w\\x8f\\xa7nw\\x92\\x97\\xed\\x9b\\xb8n\\x87\\x8c\\xd2\\x99A4\\x89p\\x10\\x1d\\x13\\xd3\\xc3\\xe1}\\xb3z<m\\xf6\\xbb\\nF\\x8e1\\xef \\x84\\xde\\xae\\xcf\\xa7\\x7f\\xc8\\xe03I\\xd6\\x02\\xf6T6\\xdd\\nF\\x11\\r\\xca0\\x12\\x14hb\\x99\\xc9_F4^\\xd5\\x96\\xb0+\\x8a\\xa1\\x10\\xe7%\\xa4T\\xac Lh\\xad\\x06\\xe1-_\\xbbn<;\\x02\\n\\xcc\\xb8\\x94|/\\x04\\xd4\\xaaFD&\\x02\\rt\\xed\\xd7\\x15U\\xae\\x00\\xd1\\x82\\xed\\x01\\x98>\\xff\\xf0a\\x88\\xc0\\x19\\x06JT\\x0f\\xcb\\xda\\xb8\\xe5y\\xa3\\x06\\x87\\xccIM\\x94&G\\xaa\\xb6\\x89\\xafb\\x93\\xab>9\\xc5\\xb1\\xf9\\x08\\\\N\\xa2\\x00&H\\x8b\\x01\\xb0tm\\xde\\xcc\\xef+w\\xb7\\\\\\xb2\\xe4=\\x05mP\\xc1\\xaf\\xb2ft\\xde\\xfc\\xa4\\x8b\\x1ascr\\xc8\\xb6\\xac\\xf8\\xaa\\x958\\x94\\xf9\\x98\\xef\\xa7=\\xbf\\xf2|\\x1c?\\x9f\\x02\\xc7a\\x91\\xcbR4E.&\\xf7\\xf0\\xd6\\xd4\\xeew\\x8e7\\x13&{g\\x0f8\\xc3s\\xac\\x0bqd\\xccI_\\x04\\x97\\x7f\\xd2%KF\\xaa\\xf4\\xf8H\\xfc^m\\xe5d\\xb3}\\xc9\\xfdj\\xf6r!\\xbe\\x01\\xdb\\x00\\xdc\"\n"
     ]
    },
    {
     "name": "stdout",
     "output_type": "stream",
     "text": [
      "US 2009/0326202 A1\n",
      "US20090326202A1\n",
      "Dec. 31, 2009\n",
      "\n",
      "===================================================================================\n",
      "\n",
      "Processing 14 of 19 : /Users/parvinderjit.singh/Desktop/Harvard/CSCI E-599/data/raquel_documents/Amgen/us8859741.pdf\n"
     ]
    },
    {
     "ename": "KeyboardInterrupt",
     "evalue": "",
     "output_type": "error",
     "traceback": [
      "\u001b[0;31m---------------------------------------------------------------------------\u001b[0m",
      "\u001b[0;31mKeyboardInterrupt\u001b[0m                         Traceback (most recent call last)",
      "\u001b[0;32m<ipython-input-149-491b32464c60>\u001b[0m in \u001b[0;36m<module>\u001b[0;34m\u001b[0m\n\u001b[1;32m      8\u001b[0m \u001b[0;32mfor\u001b[0m \u001b[0mpatent\u001b[0m \u001b[0;32min\u001b[0m \u001b[0mpatents\u001b[0m\u001b[0;34m:\u001b[0m\u001b[0;34m\u001b[0m\u001b[0;34m\u001b[0m\u001b[0m\n\u001b[1;32m      9\u001b[0m     \u001b[0mprint\u001b[0m\u001b[0;34m(\u001b[0m\u001b[0;34m\"Processing\"\u001b[0m\u001b[0;34m,\u001b[0m \u001b[0mcurr_file\u001b[0m\u001b[0;34m,\u001b[0m \u001b[0;34m\"of\"\u001b[0m\u001b[0;34m,\u001b[0m \u001b[0mnum_files\u001b[0m\u001b[0;34m,\u001b[0m \u001b[0;34m\":\"\u001b[0m\u001b[0;34m,\u001b[0m \u001b[0mpatent\u001b[0m\u001b[0;34m)\u001b[0m\u001b[0;34m\u001b[0m\u001b[0;34m\u001b[0m\u001b[0m\n\u001b[0;32m---> 10\u001b[0;31m     \u001b[0msentences\u001b[0m \u001b[0;34m=\u001b[0m \u001b[0mget_sentence_list\u001b[0m\u001b[0;34m(\u001b[0m\u001b[0mpatent\u001b[0m\u001b[0;34m)\u001b[0m\u001b[0;34m\u001b[0m\u001b[0;34m\u001b[0m\u001b[0m\n\u001b[0m\u001b[1;32m     11\u001b[0m     \u001b[0mpatent_nums\u001b[0m \u001b[0;34m=\u001b[0m \u001b[0;34m[\u001b[0m\u001b[0;34m]\u001b[0m\u001b[0;34m\u001b[0m\u001b[0;34m\u001b[0m\u001b[0m\n\u001b[1;32m     12\u001b[0m     \u001b[0mpatent_ids\u001b[0m \u001b[0;34m=\u001b[0m \u001b[0;34m[\u001b[0m\u001b[0;34m]\u001b[0m\u001b[0;34m\u001b[0m\u001b[0;34m\u001b[0m\u001b[0m\n",
      "\u001b[0;32m<ipython-input-5-195249bf2874>\u001b[0m in \u001b[0;36mget_sentence_list\u001b[0;34m(path)\u001b[0m\n\u001b[1;32m     33\u001b[0m \u001b[0;34m\u001b[0m\u001b[0m\n\u001b[1;32m     34\u001b[0m \u001b[0;32mdef\u001b[0m \u001b[0mget_sentence_list\u001b[0m\u001b[0;34m(\u001b[0m\u001b[0mpath\u001b[0m\u001b[0;34m)\u001b[0m\u001b[0;34m:\u001b[0m\u001b[0;34m\u001b[0m\u001b[0;34m\u001b[0m\u001b[0m\n\u001b[0;32m---> 35\u001b[0;31m     \u001b[0;32mreturn\u001b[0m \u001b[0msent_tokenize\u001b[0m\u001b[0;34m(\u001b[0m\u001b[0mextract_text\u001b[0m\u001b[0;34m(\u001b[0m\u001b[0mpath\u001b[0m\u001b[0;34m)\u001b[0m\u001b[0;34m)\u001b[0m\u001b[0;34m\u001b[0m\u001b[0;34m\u001b[0m\u001b[0m\n\u001b[0m\u001b[1;32m     36\u001b[0m \u001b[0;34m\u001b[0m\u001b[0m\n\u001b[1;32m     37\u001b[0m \u001b[0;32mdef\u001b[0m \u001b[0mextract_epitope_seq_sentences\u001b[0m\u001b[0;34m(\u001b[0m\u001b[0mpath\u001b[0m\u001b[0;34m)\u001b[0m\u001b[0;34m:\u001b[0m\u001b[0;34m\u001b[0m\u001b[0;34m\u001b[0m\u001b[0m\n",
      "\u001b[0;32m<ipython-input-5-195249bf2874>\u001b[0m in \u001b[0;36mextract_text\u001b[0;34m(path)\u001b[0m\n\u001b[1;32m     17\u001b[0m \u001b[0;34m\u001b[0m\u001b[0m\n\u001b[1;32m     18\u001b[0m         \u001b[0;32mfor\u001b[0m \u001b[0mpage\u001b[0m \u001b[0;32min\u001b[0m \u001b[0mdoc\u001b[0m\u001b[0;34m.\u001b[0m\u001b[0mget_pages\u001b[0m\u001b[0;34m(\u001b[0m\u001b[0;34m)\u001b[0m\u001b[0;34m:\u001b[0m\u001b[0;34m\u001b[0m\u001b[0;34m\u001b[0m\u001b[0m\n\u001b[0;32m---> 19\u001b[0;31m             \u001b[0minterpreter\u001b[0m\u001b[0;34m.\u001b[0m\u001b[0mprocess_page\u001b[0m\u001b[0;34m(\u001b[0m\u001b[0mpage\u001b[0m\u001b[0;34m)\u001b[0m\u001b[0;34m\u001b[0m\u001b[0;34m\u001b[0m\u001b[0m\n\u001b[0m\u001b[1;32m     20\u001b[0m             \u001b[0mlayout\u001b[0m \u001b[0;34m=\u001b[0m \u001b[0mdevice\u001b[0m\u001b[0;34m.\u001b[0m\u001b[0mget_result\u001b[0m\u001b[0;34m(\u001b[0m\u001b[0;34m)\u001b[0m\u001b[0;34m\u001b[0m\u001b[0;34m\u001b[0m\u001b[0m\n\u001b[1;32m     21\u001b[0m             \u001b[0;32mfor\u001b[0m \u001b[0mlt_obj\u001b[0m \u001b[0;32min\u001b[0m \u001b[0mlayout\u001b[0m\u001b[0;34m:\u001b[0m\u001b[0;34m\u001b[0m\u001b[0;34m\u001b[0m\u001b[0m\n",
      "\u001b[0;32m~/opt/anaconda3/lib/python3.7/site-packages/pdfminer/pdfinterp.py\u001b[0m in \u001b[0;36mprocess_page\u001b[0;34m(self, page)\u001b[0m\n\u001b[1;32m    640\u001b[0m             \u001b[0mctm\u001b[0m \u001b[0;34m=\u001b[0m \u001b[0;34m(\u001b[0m\u001b[0;36m1\u001b[0m\u001b[0;34m,\u001b[0m\u001b[0;36m0\u001b[0m\u001b[0;34m,\u001b[0m\u001b[0;36m0\u001b[0m\u001b[0;34m,\u001b[0m\u001b[0;36m1\u001b[0m\u001b[0;34m,\u001b[0m \u001b[0;34m-\u001b[0m\u001b[0mx0\u001b[0m\u001b[0;34m,\u001b[0m\u001b[0;34m-\u001b[0m\u001b[0my0\u001b[0m\u001b[0;34m)\u001b[0m\u001b[0;34m\u001b[0m\u001b[0;34m\u001b[0m\u001b[0m\n\u001b[1;32m    641\u001b[0m         \u001b[0mself\u001b[0m\u001b[0;34m.\u001b[0m\u001b[0mdevice\u001b[0m\u001b[0;34m.\u001b[0m\u001b[0mbegin_page\u001b[0m\u001b[0;34m(\u001b[0m\u001b[0mpage\u001b[0m\u001b[0;34m,\u001b[0m \u001b[0mctm\u001b[0m\u001b[0;34m)\u001b[0m\u001b[0;34m\u001b[0m\u001b[0;34m\u001b[0m\u001b[0m\n\u001b[0;32m--> 642\u001b[0;31m         \u001b[0mself\u001b[0m\u001b[0;34m.\u001b[0m\u001b[0mrender_contents\u001b[0m\u001b[0;34m(\u001b[0m\u001b[0mpage\u001b[0m\u001b[0;34m.\u001b[0m\u001b[0mresources\u001b[0m\u001b[0;34m,\u001b[0m \u001b[0mpage\u001b[0m\u001b[0;34m.\u001b[0m\u001b[0mcontents\u001b[0m\u001b[0;34m,\u001b[0m \u001b[0mctm\u001b[0m\u001b[0;34m=\u001b[0m\u001b[0mctm\u001b[0m\u001b[0;34m)\u001b[0m\u001b[0;34m\u001b[0m\u001b[0;34m\u001b[0m\u001b[0m\n\u001b[0m\u001b[1;32m    643\u001b[0m         \u001b[0mself\u001b[0m\u001b[0;34m.\u001b[0m\u001b[0mdevice\u001b[0m\u001b[0;34m.\u001b[0m\u001b[0mend_page\u001b[0m\u001b[0;34m(\u001b[0m\u001b[0mpage\u001b[0m\u001b[0;34m)\u001b[0m\u001b[0;34m\u001b[0m\u001b[0;34m\u001b[0m\u001b[0m\n\u001b[1;32m    644\u001b[0m \u001b[0;34m\u001b[0m\u001b[0m\n",
      "\u001b[0;32m~/opt/anaconda3/lib/python3.7/site-packages/pdfminer/pdfinterp.py\u001b[0m in \u001b[0;36mrender_contents\u001b[0;34m(self, resources, streams, ctm)\u001b[0m\n\u001b[1;32m    650\u001b[0m         \u001b[0mself\u001b[0m\u001b[0;34m.\u001b[0m\u001b[0minit_resources\u001b[0m\u001b[0;34m(\u001b[0m\u001b[0mresources\u001b[0m\u001b[0;34m)\u001b[0m\u001b[0;34m\u001b[0m\u001b[0;34m\u001b[0m\u001b[0m\n\u001b[1;32m    651\u001b[0m         \u001b[0mself\u001b[0m\u001b[0;34m.\u001b[0m\u001b[0minit_state\u001b[0m\u001b[0;34m(\u001b[0m\u001b[0mctm\u001b[0m\u001b[0;34m)\u001b[0m\u001b[0;34m\u001b[0m\u001b[0;34m\u001b[0m\u001b[0m\n\u001b[0;32m--> 652\u001b[0;31m         \u001b[0mself\u001b[0m\u001b[0;34m.\u001b[0m\u001b[0mexecute\u001b[0m\u001b[0;34m(\u001b[0m\u001b[0mlist_value\u001b[0m\u001b[0;34m(\u001b[0m\u001b[0mstreams\u001b[0m\u001b[0;34m)\u001b[0m\u001b[0;34m)\u001b[0m\u001b[0;34m\u001b[0m\u001b[0;34m\u001b[0m\u001b[0m\n\u001b[0m\u001b[1;32m    653\u001b[0m \u001b[0;34m\u001b[0m\u001b[0m\n\u001b[1;32m    654\u001b[0m     \u001b[0;32mdef\u001b[0m \u001b[0mexecute\u001b[0m\u001b[0;34m(\u001b[0m\u001b[0mself\u001b[0m\u001b[0;34m,\u001b[0m \u001b[0mstreams\u001b[0m\u001b[0;34m)\u001b[0m\u001b[0;34m:\u001b[0m\u001b[0;34m\u001b[0m\u001b[0;34m\u001b[0m\u001b[0m\n",
      "\u001b[0;32m~/opt/anaconda3/lib/python3.7/site-packages/pdfminer/pdfinterp.py\u001b[0m in \u001b[0;36mexecute\u001b[0;34m(self, streams)\u001b[0m\n\u001b[1;32m    660\u001b[0m         \u001b[0;32mwhile\u001b[0m \u001b[0;36m1\u001b[0m\u001b[0;34m:\u001b[0m\u001b[0;34m\u001b[0m\u001b[0;34m\u001b[0m\u001b[0m\n\u001b[1;32m    661\u001b[0m             \u001b[0;32mtry\u001b[0m\u001b[0;34m:\u001b[0m\u001b[0;34m\u001b[0m\u001b[0;34m\u001b[0m\u001b[0m\n\u001b[0;32m--> 662\u001b[0;31m                 \u001b[0;34m(\u001b[0m\u001b[0m_\u001b[0m\u001b[0;34m,\u001b[0m\u001b[0mobj\u001b[0m\u001b[0;34m)\u001b[0m \u001b[0;34m=\u001b[0m \u001b[0mparser\u001b[0m\u001b[0;34m.\u001b[0m\u001b[0mnextobject\u001b[0m\u001b[0;34m(\u001b[0m\u001b[0;34m)\u001b[0m\u001b[0;34m\u001b[0m\u001b[0;34m\u001b[0m\u001b[0m\n\u001b[0m\u001b[1;32m    663\u001b[0m             \u001b[0;32mexcept\u001b[0m \u001b[0mPSEOF\u001b[0m\u001b[0;34m:\u001b[0m\u001b[0;34m\u001b[0m\u001b[0;34m\u001b[0m\u001b[0m\n\u001b[1;32m    664\u001b[0m                 \u001b[0;32mbreak\u001b[0m\u001b[0;34m\u001b[0m\u001b[0;34m\u001b[0m\u001b[0m\n",
      "\u001b[0;32m~/opt/anaconda3/lib/python3.7/site-packages/pdfminer/psparser.py\u001b[0m in \u001b[0;36mnextobject\u001b[0;34m(self)\u001b[0m\n\u001b[1;32m    239\u001b[0m         \"\"\"\n\u001b[1;32m    240\u001b[0m         \u001b[0;32mwhile\u001b[0m \u001b[0;32mnot\u001b[0m \u001b[0mself\u001b[0m\u001b[0;34m.\u001b[0m\u001b[0mresults\u001b[0m\u001b[0;34m:\u001b[0m\u001b[0;34m\u001b[0m\u001b[0;34m\u001b[0m\u001b[0m\n\u001b[0;32m--> 241\u001b[0;31m             \u001b[0;34m(\u001b[0m\u001b[0mpos\u001b[0m\u001b[0;34m,\u001b[0m \u001b[0mtoken\u001b[0m\u001b[0;34m)\u001b[0m \u001b[0;34m=\u001b[0m \u001b[0mself\u001b[0m\u001b[0;34m.\u001b[0m\u001b[0mnexttoken\u001b[0m\u001b[0;34m(\u001b[0m\u001b[0;34m)\u001b[0m\u001b[0;34m\u001b[0m\u001b[0;34m\u001b[0m\u001b[0m\n\u001b[0m\u001b[1;32m    242\u001b[0m             \u001b[0;31m#print (pos,token), (self.curtype, self.curstack)\u001b[0m\u001b[0;34m\u001b[0m\u001b[0;34m\u001b[0m\u001b[0;34m\u001b[0m\u001b[0m\n\u001b[1;32m    243\u001b[0m             \u001b[0;32mif\u001b[0m \u001b[0misinstance\u001b[0m\u001b[0;34m(\u001b[0m\u001b[0mtoken\u001b[0m\u001b[0;34m,\u001b[0m \u001b[0;34m(\u001b[0m\u001b[0mint\u001b[0m\u001b[0;34m,\u001b[0m \u001b[0mfloat\u001b[0m\u001b[0;34m,\u001b[0m \u001b[0mbool\u001b[0m\u001b[0;34m,\u001b[0m \u001b[0mstr\u001b[0m\u001b[0;34m,\u001b[0m \u001b[0mbytes\u001b[0m\u001b[0;34m,\u001b[0m \u001b[0mPSLiteral\u001b[0m\u001b[0;34m)\u001b[0m\u001b[0;34m)\u001b[0m\u001b[0;34m:\u001b[0m\u001b[0;34m\u001b[0m\u001b[0;34m\u001b[0m\u001b[0m\n",
      "\u001b[0;32m~/opt/anaconda3/lib/python3.7/site-packages/pdfminer/psparser.py\u001b[0m in \u001b[0;36mnexttoken\u001b[0;34m(self)\u001b[0m\n\u001b[1;32m    176\u001b[0m \u001b[0;34m\u001b[0m\u001b[0m\n\u001b[1;32m    177\u001b[0m     \u001b[0;32mdef\u001b[0m \u001b[0mnexttoken\u001b[0m\u001b[0;34m(\u001b[0m\u001b[0mself\u001b[0m\u001b[0;34m)\u001b[0m\u001b[0;34m:\u001b[0m\u001b[0;34m\u001b[0m\u001b[0;34m\u001b[0m\u001b[0m\n\u001b[0;32m--> 178\u001b[0;31m         \u001b[0mtoken\u001b[0m \u001b[0;34m=\u001b[0m \u001b[0mself\u001b[0m\u001b[0;34m.\u001b[0m\u001b[0mlex\u001b[0m\u001b[0;34m.\u001b[0m\u001b[0mtoken\u001b[0m\u001b[0;34m(\u001b[0m\u001b[0;34m)\u001b[0m\u001b[0;34m\u001b[0m\u001b[0;34m\u001b[0m\u001b[0m\n\u001b[0m\u001b[1;32m    179\u001b[0m         \u001b[0;32mif\u001b[0m \u001b[0mtoken\u001b[0m \u001b[0;32mis\u001b[0m \u001b[0;32mNone\u001b[0m\u001b[0;34m:\u001b[0m\u001b[0;34m\u001b[0m\u001b[0;34m\u001b[0m\u001b[0m\n\u001b[1;32m    180\u001b[0m             \u001b[0;32mraise\u001b[0m \u001b[0mPSEOF\u001b[0m\u001b[0;34m(\u001b[0m\u001b[0;34m)\u001b[0m\u001b[0;34m\u001b[0m\u001b[0;34m\u001b[0m\u001b[0m\n",
      "\u001b[0;32m~/opt/anaconda3/lib/python3.7/site-packages/ply/lex.py\u001b[0m in \u001b[0;36mtoken\u001b[0;34m(self)\u001b[0m\n\u001b[1;32m    348\u001b[0m                 \u001b[0mself\u001b[0m\u001b[0;34m.\u001b[0m\u001b[0mlexpos\u001b[0m \u001b[0;34m=\u001b[0m \u001b[0mlexpos\u001b[0m\u001b[0;34m\u001b[0m\u001b[0;34m\u001b[0m\u001b[0m\n\u001b[1;32m    349\u001b[0m \u001b[0;34m\u001b[0m\u001b[0m\n\u001b[0;32m--> 350\u001b[0;31m                 \u001b[0mnewtok\u001b[0m \u001b[0;34m=\u001b[0m \u001b[0mfunc\u001b[0m\u001b[0;34m(\u001b[0m\u001b[0mtok\u001b[0m\u001b[0;34m)\u001b[0m\u001b[0;34m\u001b[0m\u001b[0;34m\u001b[0m\u001b[0m\n\u001b[0m\u001b[1;32m    351\u001b[0m \u001b[0;34m\u001b[0m\u001b[0m\n\u001b[1;32m    352\u001b[0m                 \u001b[0;31m# Every function must return a token, if nothing, we just move to next token\u001b[0m\u001b[0;34m\u001b[0m\u001b[0;34m\u001b[0m\u001b[0;34m\u001b[0m\u001b[0m\n",
      "\u001b[0;32m~/opt/anaconda3/lib/python3.7/site-packages/pdfminer/pslexer.py\u001b[0m in \u001b[0;36mt_LITERAL\u001b[0;34m(t)\u001b[0m\n\u001b[1;32m     47\u001b[0m     \u001b[0mnewvalue\u001b[0m \u001b[0;34m=\u001b[0m \u001b[0mt\u001b[0m\u001b[0;34m.\u001b[0m\u001b[0mvalue\u001b[0m\u001b[0;34m[\u001b[0m\u001b[0;36m1\u001b[0m\u001b[0;34m:\u001b[0m\u001b[0;34m]\u001b[0m\u001b[0;34m\u001b[0m\u001b[0;34m\u001b[0m\u001b[0m\n\u001b[1;32m     48\u001b[0m     \u001b[0;31m# If there's '#' chars in the literal, we much de-hex it\u001b[0m\u001b[0;34m\u001b[0m\u001b[0;34m\u001b[0m\u001b[0;34m\u001b[0m\u001b[0m\n\u001b[0;32m---> 49\u001b[0;31m     \u001b[0;32mdef\u001b[0m \u001b[0mre_sub\u001b[0m\u001b[0;34m(\u001b[0m\u001b[0mm\u001b[0m\u001b[0;34m)\u001b[0m\u001b[0;34m:\u001b[0m\u001b[0;34m\u001b[0m\u001b[0;34m\u001b[0m\u001b[0m\n\u001b[0m\u001b[1;32m     50\u001b[0m         \u001b[0;31m# convert any hex str to int (without the # char) and the convert that\u001b[0m\u001b[0;34m\u001b[0m\u001b[0;34m\u001b[0m\u001b[0;34m\u001b[0m\u001b[0m\n\u001b[1;32m     51\u001b[0m         \u001b[0;32mreturn\u001b[0m \u001b[0mbytes\u001b[0m\u001b[0;34m.\u001b[0m\u001b[0mfromhex\u001b[0m\u001b[0;34m(\u001b[0m\u001b[0mm\u001b[0m\u001b[0;34m.\u001b[0m\u001b[0mgroup\u001b[0m\u001b[0;34m(\u001b[0m\u001b[0;36m0\u001b[0m\u001b[0;34m)\u001b[0m\u001b[0;34m[\u001b[0m\u001b[0;36m1\u001b[0m\u001b[0;34m:\u001b[0m\u001b[0;34m]\u001b[0m\u001b[0;34m)\u001b[0m\u001b[0;34m.\u001b[0m\u001b[0mdecode\u001b[0m\u001b[0;34m(\u001b[0m\u001b[0;34m'latin-1'\u001b[0m\u001b[0;34m)\u001b[0m\u001b[0;34m\u001b[0m\u001b[0;34m\u001b[0m\u001b[0m\n",
      "\u001b[0;31mKeyboardInterrupt\u001b[0m: "
     ]
    }
   ],
   "source": [
    "patents = []\n",
    "for root, directories, files in os.walk(base_path, topdown=False):\n",
    "    for name in files:\n",
    "        if '.pdf' in name:\n",
    "            patents.append(os.path.join(root, name))\n",
    "num_files = len(patents)\n",
    "curr_file = 1\n",
    "for patent in patents:\n",
    "    print(\"Processing\", curr_file, \"of\", num_files, \":\", patent)\n",
    "    sentences = get_sentence_list(patent)\n",
    "    patent_nums = []\n",
    "    patent_ids = []\n",
    "    sentences[0] = sentences[0].replace(\")\", \"1\")\n",
    "    date_matched = False\n",
    "    concat_sent = ''\n",
    "    pat_date = None\n",
    "    for s in sentences[0:20]:\n",
    "        concat_sent += s\n",
    "    pat_date_match = pat_date_matcher.search(concat_sent)\n",
    "    if pat_date_match:\n",
    "        pat_date = pat_date_match.group(0)\n",
    "    for sent in sentences:\n",
    "        pat_num_matches = pat_num_matcher.findall(sent)\n",
    "        pat_num_matches += pat_num_matcher2.findall(sent)\n",
    "        pat_id_matches = pat_id_matcher.findall(sent)\n",
    "        \n",
    "#        if not date_matched:\n",
    "#            pat_date_match = pat_date_matcher.search(sent)\n",
    "#            if pat_date_match: \n",
    "#                pat_date = pat_date_match.group(0)\n",
    "#                date_matched = True\n",
    "        \n",
    "        if pat_num_matches: \n",
    "            for match in pat_num_matches:\n",
    "                patent_nums.append(match)\n",
    "        if pat_id_matches:\n",
    "            for match in pat_id_matches:\n",
    "                match = match.replace(\" \", \"\")\n",
    "                if match[-1] == \"I\": match = match[:-1] + '1'\n",
    "                patent_ids.append(match)\n",
    "                \n",
    "    if len(patent_nums) > 0:\n",
    "        pat_num_count = Counter(patent_nums)\n",
    "        print(pat_num_count.most_common(1)[0][0])\n",
    "    if len(patent_ids) > 0:\n",
    "        pat_id_count = Counter(patent_ids)\n",
    "        print(pat_id_count.most_common(1)[0][0])\n",
    "    print(pat_date)\n",
    "        \n",
    "    print(\"\\n===================================================================================\\n\")\n",
    "    curr_file += 1"
   ]
  },
  {
   "cell_type": "code",
   "execution_count": 147,
   "metadata": {},
   "outputs": [
    {
     "name": "stdout",
     "output_type": "stream",
     "text": [
      "loop\n",
      "Aug. 2, 2012\n"
     ]
    }
   ],
   "source": [
    "path = \"/Users/parvinderjit.singh/Desktop/Harvard/CSCI E-599/data/raquel_documents/Genentech/us2012195910 claim 45.pdf\"\n",
    "sentences = get_sentence_list(path)\n",
    "for sent in sentences:\n",
    "    match = pat_date_matcher.search(sent)\n",
    "    if match: \n",
    "        print(\"loop\")\n",
    "        print(match.group(0))\n",
    "        break"
   ]
  },
  {
   "cell_type": "code",
   "execution_count": 148,
   "metadata": {
    "scrolled": true
   },
   "outputs": [
    {
     "name": "stdout",
     "output_type": "stream",
     "text": [
      "Aug. 2, 2012\n"
     ]
    }
   ],
   "source": [
    "concat_sent = ''\n",
    "for s in sentences[0:20]:\n",
    "    concat_sent += s \n",
    "print(pat_date_matcher.search(concat_sent).group(0))"
   ]
  },
  {
   "cell_type": "code",
   "execution_count": 160,
   "metadata": {},
   "outputs": [
    {
     "data": {
      "text/plain": [
       "'llIIlIlllIlIlIllIlIllIllIllIIlllIIllIlIlllIIlIIllllIllIlIIlllIllIllIIllIllIIIIIIIIIIIIIIII  US 20090326202AI  (191 United States  (121 Patent Application Publication  Jackson et al.'"
      ]
     },
     "execution_count": 160,
     "metadata": {},
     "output_type": "execute_result"
    }
   ],
   "source": [
    "sentences[0]"
   ]
  },
  {
   "cell_type": "code",
   "execution_count": 141,
   "metadata": {},
   "outputs": [
    {
     "name": "stdout",
     "output_type": "stream",
     "text": [
      "IIIIIIIIIIIIIIIIIIIIIIIIIIIIIIIIIIIIIIIIIIIIIIIIIIIIIIIIIIIIIIIIIIIIIIIIIII US010023654B2 (12) United States Patent Sleeman et al.(10) Patent No.: US 1030233654 B2 (45) Date of Patent: *Jnl.17, 2018 (54) ANTI-PCSK9 ANTRIODIES (71) Appltcant: REOENERON PIIARMACEUTI()AI.S, IN(:., Tarrytown, NY (US) (72) Invmttors: Mark W. Sieeman7 Vfctona (AU)i Joel U. Martin.Putnam Valley.NY (US), Tammy T. Iluang.Cross River, NY (US); Douglas MacDonaid.New York, NY (US) (73) Assignee Regcneron Pharmaceuticals, Inc., Tarrytown, NY (US) (56) References Cited U.S. PATENT DOCUMENTS 5,260,440 4 5.27.\",995 A I I 1993 HHSI 1211993 Roti (Continued) (52) U.S. CI.('P('.\n"
     ]
    }
   ],
   "source": [
    "concat_sent = ''\n",
    "for s in sentences[0:10]:\n",
    "    concat_sent += s \n",
    "print(concat_sent)"
   ]
  },
  {
   "cell_type": "code",
   "execution_count": null,
   "metadata": {},
   "outputs": [],
   "source": []
  }
 ],
 "metadata": {
  "kernelspec": {
   "display_name": "Python 3",
   "language": "python",
   "name": "python3"
  },
  "language_info": {
   "codemirror_mode": {
    "name": "ipython",
    "version": 3
   },
   "file_extension": ".py",
   "mimetype": "text/x-python",
   "name": "python",
   "nbconvert_exporter": "python",
   "pygments_lexer": "ipython3",
   "version": "3.7.6"
  }
 },
 "nbformat": 4,
 "nbformat_minor": 4
}
