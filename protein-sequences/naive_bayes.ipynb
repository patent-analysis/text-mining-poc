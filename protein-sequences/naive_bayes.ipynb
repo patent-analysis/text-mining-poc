{
 "metadata": {
  "language_info": {
   "codemirror_mode": {
    "name": "ipython",
    "version": 3
   },
   "file_extension": ".py",
   "mimetype": "text/x-python",
   "name": "python",
   "nbconvert_exporter": "python",
   "pygments_lexer": "ipython3",
   "version": "3.7.6-final"
  },
  "orig_nbformat": 2,
  "kernelspec": {
   "name": "python376jvsc74a57bd0b4a2418f4bf487d677e6f22b231aca3580ed85f5d0219af2f08092920dc2c577",
   "display_name": "Python 3.7.6 64-bit ('base': conda)"
  }
 },
 "nbformat": 4,
 "nbformat_minor": 2,
 "cells": [
  {
   "cell_type": "code",
   "execution_count": 97,
   "metadata": {},
   "outputs": [],
   "source": [
    "import json\n",
    "import re\n",
    "from nltk.tokenize import sent_tokenize, word_tokenize\n",
    "import spacy\n",
    "import pandas as pd"
   ]
  },
  {
   "cell_type": "code",
   "execution_count": 98,
   "metadata": {},
   "outputs": [],
   "source": [
    "data = None\n",
    "raw_sentences = {}\n",
    "sentences = {}\n",
    "nlp = spacy.load(\"en_core_web_trf\")"
   ]
  },
  {
   "cell_type": "code",
   "execution_count": null,
   "metadata": {},
   "outputs": [],
   "source": [
    "with open(\"/Users/parvinderjit.singh/Desktop/Harvard/CSCI E-599/Patent_Visualization_Project/text-mining-poc/protein-sequences/test_data.json\", \"r\") as read_file:\n",
    "    data = json.load(read_file)"
   ]
  },
  {
   "cell_type": "code",
   "execution_count": null,
   "metadata": {},
   "outputs": [],
   "source": [
    "for patent in data:\n",
    "    raw_sentences[patent[\"patentid\"]] = []\n",
    "    raw_sentences[patent[\"patentid\"]] += sent_tokenize(patent['abstract'])\n",
    "    raw_sentences[patent[\"patentid\"]] += sent_tokenize(patent['claims'])\n",
    "    raw_sentences[patent[\"patentid\"]] += sent_tokenize(patent['description'])"
   ]
  },
  {
   "cell_type": "code",
   "execution_count": null,
   "metadata": {},
   "outputs": [],
   "source": [
    "for k in raw_sentences.keys():\n",
    "    sentences[k] = []\n",
    "    for s in raw_sentences[k]:\n",
    "        if re.search('SEQ ID', s, re.IGNORECASE):\n",
    "            sentences[k].append(s)"
   ]
  },
  {
   "cell_type": "code",
   "execution_count": null,
   "metadata": {},
   "outputs": [],
   "source": [
    "total_sentences = 0\n",
    "for k in sentences.keys():\n",
    "    total_sentences += len(sentences[k])\n",
    "print(total_sentences)"
   ]
  },
  {
   "cell_type": "code",
   "execution_count": null,
   "metadata": {},
   "outputs": [],
   "source": [
    "columns = ['patent', 'sentence', 'has_epitope']\n",
    "index = [num for num in range(total_sentences)]\n",
    "df = pd.DataFrame(index=index, columns=columns)"
   ]
  },
  {
   "cell_type": "code",
   "execution_count": null,
   "metadata": {},
   "outputs": [],
   "source": [
    "df.head()"
   ]
  },
  {
   "cell_type": "code",
   "execution_count": null,
   "metadata": {},
   "outputs": [],
   "source": [
    "curr_index = 0\n",
    "for k in sentences.keys():\n",
    "    for sent in sentences[k]:\n",
    "        df['patent'][curr_index] = k\n",
    "        df['sentence'][curr_index] = sent\n",
    "        df['has_epitope'][curr_index] = int(input(sent))\n",
    "        curr_index += 1"
   ]
  },
  {
   "cell_type": "code",
   "execution_count": null,
   "metadata": {},
   "outputs": [],
   "source": [
    "df.head()"
   ]
  },
  {
   "cell_type": "code",
   "execution_count": null,
   "metadata": {},
   "outputs": [],
   "source": [
    "df.tail()"
   ]
  },
  {
   "cell_type": "code",
   "execution_count": null,
   "metadata": {},
   "outputs": [],
   "source": [
    "df.to_csv('test_data.csv', sep=\"|\")"
   ]
  },
  {
   "cell_type": "code",
   "execution_count": 1,
   "metadata": {},
   "outputs": [],
   "source": [
    "import pandas as df\n"
   ]
  },
  {
   "cell_type": "code",
   "execution_count": 2,
   "metadata": {},
   "outputs": [],
   "source": [
    "ptData = df.read_csv('test_data.csv', sep=\"|\")"
   ]
  },
  {
   "cell_type": "code",
   "execution_count": 3,
   "metadata": {},
   "outputs": [
    {
     "output_type": "execute_result",
     "data": {
      "text/plain": [
       "\"An isolated monoclonal antibody, wherein, when bound to PCSK9, said monoclonal antibody binds to at least one residue within the sequence set forth by residues 123-132 of SEQ ID NO: 1, and wherein said monoclonal antibody reduces binding between PCSK9 and an EGFa domain of LDLR protein antagonizes PCSK9's inhibition of cellular LDL uptake.\""
      ]
     },
     "metadata": {},
     "execution_count": 3
    }
   ],
   "source": [
    "    ptData[ptData.has_epitope == 1].sentence[0]"
   ]
  },
  {
   "cell_type": "code",
   "execution_count": 4,
   "metadata": {},
   "outputs": [],
   "source": [
    "from spacy.lang.en.stop_words import STOP_WORDS\n",
    "import spacy\n",
    "nlp = spacy.load(\"en_core_web_trf\")\n",
    "\n",
    "import nltk\n",
    "from nltk.stem import WordNetLemmatizer\n",
    "wordnet_lemmatizer = WordNetLemmatizer()\n",
    "\n",
    "import re"
   ]
  },
  {
   "cell_type": "code",
   "execution_count": 5,
   "metadata": {},
   "outputs": [
    {
     "output_type": "stream",
     "name": "stdout",
     "text": [
      "Processing item 10\n",
      "Processing item 20\n",
      "Processing item 30\n",
      "Processing item 40\n",
      "Processing item 50\n",
      "Processing item 60\n",
      "Processing item 70\n",
      "Processing item 80\n",
      "Processing item 90\n",
      "Processing item 100\n",
      "Processing item 110\n",
      "Processing item 120\n",
      "Processing item 130\n",
      "Processing item 140\n",
      "Processing item 150\n",
      "Processing item 160\n",
      "Processing item 170\n",
      "Processing item 180\n",
      "Processing item 190\n",
      "Processing item 200\n",
      "Processing item 210\n",
      "Processing item 220\n",
      "Processing item 230\n",
      "Processing item 240\n",
      "Processing item 250\n",
      "Processing item 260\n",
      "Processing item 270\n",
      "Processing item 280\n",
      "Processing item 290\n",
      "Processing item 300\n",
      "Processing item 310\n",
      "Processing item 320\n",
      "Token indices sequence length is longer than the specified maximum sequence length for this model (784 > 512). Running this sequence through the model will result in indexing errors\n",
      "Processing item 330\n",
      "Processing item 340\n"
     ]
    }
   ],
   "source": [
    "\n",
    "epitope_counts = {}\n",
    "total_counts = {}\n",
    "num = 0\n",
    "punc = '''!()[]{};:'\"\\, <>./?@#$%^&*_~'''\n",
    "cleaned_sentences = []\n",
    "for _, row in ptData.iterrows():\n",
    "    num += 1\n",
    "    if num % 10 == 0:\n",
    "        print(\"Processing item\", num)\n",
    "    doc = nlp(row.sentence)\n",
    "    token_list = [token.text for token in doc]\n",
    "    filtered_sentence =[] \n",
    "\n",
    "    for word in token_list:\n",
    "        if word in punc: continue\n",
    "        lexeme = nlp.vocab[word]\n",
    "        if lexeme.is_stop == False:\n",
    "            filtered_sentence.append(word)   \n",
    "\n",
    "    lemma_word = []\n",
    "    for w in filtered_sentence:\n",
    "        if re.match('^[a-zA-z]?[0-9]*$', w):\n",
    "            continue\n",
    "        word1 = wordnet_lemmatizer.lemmatize(w, pos = \"n\")\n",
    "        word2 = wordnet_lemmatizer.lemmatize(word1, pos = \"v\")\n",
    "        word3 = wordnet_lemmatizer.lemmatize(word2, pos = (\"a\"))\n",
    "        lemma_word.append(word3)\n",
    "    cleaned_sentences.append(' '.join(lemma_word))\n",
    "    \n",
    "        #if row.has_epitope:\n",
    "        #    if word3 in epitope_counts:\n",
    "        #        epitope_counts[word3] += 1\n",
    "        #    else:\n",
    "        #        epitope_counts[word3] = 1\n",
    "        #if word3 in total_counts:\n",
    "        #    total_counts[word3] += 1\n",
    "        #else:\n",
    "        #    total_counts[word3] = 1\n",
    "\n"
   ]
  },
  {
   "cell_type": "code",
   "execution_count": 6,
   "metadata": {
    "tags": []
   },
   "outputs": [
    {
     "output_type": "execute_result",
     "data": {
      "text/plain": [
       "'isolate monoclonal antibody bind PCSK9 say monoclonal antibody bind residue sequence set forth residue - SEQ ID say monoclonal antibody reduce bind PCSK9 EGFa domain LDLR protein antagonize PCSK9 inhibition cellular LDL uptake'"
      ]
     },
     "metadata": {},
     "execution_count": 6
    }
   ],
   "source": [
    "\n",
    "cleaned_sentences[0]"
   ]
  },
  {
   "cell_type": "code",
   "execution_count": 7,
   "metadata": {},
   "outputs": [
    {
     "output_type": "execute_result",
     "data": {
      "text/plain": [
       "\"An isolated monoclonal antibody, wherein, when bound to PCSK9, said monoclonal antibody binds to at least one residue within the sequence set forth by residues 123-132 of SEQ ID NO: 1, and wherein said monoclonal antibody reduces binding between PCSK9 and an EGFa domain of LDLR protein antagonizes PCSK9's inhibition of cellular LDL uptake.\""
      ]
     },
     "metadata": {},
     "execution_count": 7
    }
   ],
   "source": [
    "ptData.sentence[0]"
   ]
  },
  {
   "cell_type": "code",
   "execution_count": 8,
   "metadata": {},
   "outputs": [
    {
     "output_type": "stream",
     "name": "stdout",
     "text": [
      "cleaned_sentences:  341\nptData.sentence:  341\n"
     ]
    }
   ],
   "source": [
    "print(\"cleaned_sentences: \", len(cleaned_sentences))\n",
    "print(\"ptData.sentence: \", len(ptData.sentence))"
   ]
  },
  {
   "cell_type": "code",
   "execution_count": 9,
   "metadata": {},
   "outputs": [
    {
     "output_type": "stream",
     "name": "stdout",
     "text": [
      "not ptData.has_epitope:  309\nptData.has_epitope:  32\n"
     ]
    }
   ],
   "source": [
    "print(\"not ptData.has_epitope: \", len(ptData[ptData.has_epitope == 0]))\n",
    "print(\"ptData.has_epitope: \", len(ptData[ptData.has_epitope == 1]))"
   ]
  },
  {
   "cell_type": "code",
   "execution_count": 10,
   "metadata": {},
   "outputs": [],
   "source": [
    "from sklearn.model_selection import train_test_split\n",
    "X_train, X_test, y_train, y_test = train_test_split(cleaned_sentences, ptData.has_epitope, test_size=0.33, random_state=42)"
   ]
  },
  {
   "cell_type": "code",
   "execution_count": 11,
   "metadata": {},
   "outputs": [
    {
     "output_type": "stream",
     "name": "stdout",
     "text": [
      "Requirement already satisfied: imbalanced-learn in /Users/parvinderjit.singh/opt/anaconda3/lib/python3.7/site-packages (0.8.0)\n",
      "Requirement already satisfied: scikit-learn>=0.24 in /Users/parvinderjit.singh/opt/anaconda3/lib/python3.7/site-packages (from imbalanced-learn) (0.24.1)\n",
      "Requirement already satisfied: scipy>=0.19.1 in /Users/parvinderjit.singh/opt/anaconda3/lib/python3.7/site-packages (from imbalanced-learn) (1.4.1)\n",
      "Requirement already satisfied: joblib>=0.11 in /Users/parvinderjit.singh/opt/anaconda3/lib/python3.7/site-packages (from imbalanced-learn) (0.14.1)\n",
      "Requirement already satisfied: numpy>=1.13.3 in /Users/parvinderjit.singh/opt/anaconda3/lib/python3.7/site-packages (from imbalanced-learn) (1.18.1)\n",
      "Requirement already satisfied: threadpoolctl>=2.0.0 in /Users/parvinderjit.singh/opt/anaconda3/lib/python3.7/site-packages (from scikit-learn>=0.24->imbalanced-learn) (2.1.0)\n"
     ]
    }
   ],
   "source": [
    "import seaborn as sns\n",
    "import matplotlib.pyplot as plt\n",
    "from sklearn.datasets import fetch_20newsgroups\n",
    "from sklearn.feature_extraction.text import TfidfVectorizer\n",
    "from sklearn.naive_bayes import GaussianNB\n",
    "from sklearn.ensemble import RandomForestClassifier\n",
    "from sklearn.pipeline import make_pipeline\n",
    "from sklearn.metrics import confusion_matrix, accuracy_score\n",
    "from sklearn.model_selection import cross_val_score\n",
    "from sklearn.model_selection import RepeatedStratifiedKFold\n",
    "from numpy import mean\n",
    "from imblearn.ensemble import EasyEnsembleClassifier"
   ]
  },
  {
   "cell_type": "code",
   "execution_count": 13,
   "metadata": {},
   "outputs": [],
   "source": [
    "# Build the model\n",
    "model = make_pipeline(TfidfVectorizer(), EasyEnsembleClassifier(n_estimators=1000))\n",
    "\n",
    "# Train the model using the training data\n",
    "model.fit(X_train, y_train)\n",
    "\n",
    "# define evaluation procedure\n",
    "#cv = RepeatedStratifiedKFold(n_splits=10, n_repeats=3, random_state=1)\n",
    "# evaluate model\n",
    "#scores = cross_val_score(model, cleaned_sentences, ptData.has_epitope, scoring='roc_auc', cv=cv, n_jobs=-1)\n",
    "# summarize performance\n",
    "#print('Mean ROC AUC: %.3f' % mean(scores))\n",
    "\n",
    "# Predict the categories of the test data\n",
    "predicted_categories = model.predict(X_test)"
   ]
  },
  {
   "cell_type": "code",
   "execution_count": 14,
   "metadata": {},
   "outputs": [
    {
     "output_type": "display_data",
     "data": {
      "text/plain": "<Figure size 432x288 with 2 Axes>",
      "image/svg+xml": "<?xml version=\"1.0\" encoding=\"utf-8\" standalone=\"no\"?>\n<!DOCTYPE svg PUBLIC \"-//W3C//DTD SVG 1.1//EN\"\n  \"http://www.w3.org/Graphics/SVG/1.1/DTD/svg11.dtd\">\n<!-- Created with matplotlib (https://matplotlib.org/) -->\n<svg height=\"262.19625pt\" version=\"1.1\" viewBox=\"0 0 309.53325 262.19625\" width=\"309.53325pt\" xmlns=\"http://www.w3.org/2000/svg\" xmlns:xlink=\"http://www.w3.org/1999/xlink\">\n <defs>\n  <style type=\"text/css\">\n*{stroke-linecap:butt;stroke-linejoin:round;}\n  </style>\n </defs>\n <g id=\"figure_1\">\n  <g id=\"patch_1\">\n   <path d=\"M 0 262.19625 \nL 309.53325 262.19625 \nL 309.53325 0 \nL 0 0 \nz\n\" style=\"fill:none;\"/>\n  </g>\n  <g id=\"axes_1\">\n   <g id=\"patch_2\">\n    <path d=\"M 37.55625 224.64 \nL 254.99625 224.64 \nL 254.99625 7.2 \nL 37.55625 7.2 \nz\n\" style=\"fill:#ffffff;\"/>\n   </g>\n   <g id=\"QuadMesh_1\">\n    <path clip-path=\"url(#pa2f4a1e71e)\" d=\"M 37.55625 7.2 \nL 146.27625 7.2 \nL 146.27625 115.92 \nL 37.55625 115.92 \nL 37.55625 7.2 \n\" style=\"fill:#faebdd;\"/>\n    <path clip-path=\"url(#pa2f4a1e71e)\" d=\"M 146.27625 7.2 \nL 254.99625 7.2 \nL 254.99625 115.92 \nL 146.27625 115.92 \nL 146.27625 7.2 \n\" style=\"fill:#03051a;\"/>\n    <path clip-path=\"url(#pa2f4a1e71e)\" d=\"M 37.55625 115.92 \nL 146.27625 115.92 \nL 146.27625 224.64 \nL 37.55625 224.64 \nL 37.55625 115.92 \n\" style=\"fill:#1d112c;\"/>\n    <path clip-path=\"url(#pa2f4a1e71e)\" d=\"M 146.27625 115.92 \nL 254.99625 115.92 \nL 254.99625 224.64 \nL 146.27625 224.64 \nL 146.27625 115.92 \n\" style=\"fill:#30173a;\"/>\n   </g>\n   <g id=\"matplotlib.axis_1\">\n    <g id=\"xtick_1\">\n     <g id=\"line2d_1\">\n      <defs>\n       <path d=\"M 0 0 \nL 0 3.5 \n\" id=\"m6cf047ccd9\" style=\"stroke:#000000;stroke-width:0.8;\"/>\n      </defs>\n      <g>\n       <use style=\"stroke:#000000;stroke-width:0.8;\" x=\"91.91625\" xlink:href=\"#m6cf047ccd9\" y=\"224.64\"/>\n      </g>\n     </g>\n     <g id=\"text_1\">\n      <!-- 0 -->\n      <defs>\n       <path d=\"M 31.78125 66.40625 \nQ 24.171875 66.40625 20.328125 58.90625 \nQ 16.5 51.421875 16.5 36.375 \nQ 16.5 21.390625 20.328125 13.890625 \nQ 24.171875 6.390625 31.78125 6.390625 \nQ 39.453125 6.390625 43.28125 13.890625 \nQ 47.125 21.390625 47.125 36.375 \nQ 47.125 51.421875 43.28125 58.90625 \nQ 39.453125 66.40625 31.78125 66.40625 \nz\nM 31.78125 74.21875 \nQ 44.046875 74.21875 50.515625 64.515625 \nQ 56.984375 54.828125 56.984375 36.375 \nQ 56.984375 17.96875 50.515625 8.265625 \nQ 44.046875 -1.421875 31.78125 -1.421875 \nQ 19.53125 -1.421875 13.0625 8.265625 \nQ 6.59375 17.96875 6.59375 36.375 \nQ 6.59375 54.828125 13.0625 64.515625 \nQ 19.53125 74.21875 31.78125 74.21875 \nz\n\" id=\"DejaVuSans-48\"/>\n      </defs>\n      <g transform=\"translate(88.735 239.238437)scale(0.1 -0.1)\">\n       <use xlink:href=\"#DejaVuSans-48\"/>\n      </g>\n     </g>\n    </g>\n    <g id=\"xtick_2\">\n     <g id=\"line2d_2\">\n      <g>\n       <use style=\"stroke:#000000;stroke-width:0.8;\" x=\"200.63625\" xlink:href=\"#m6cf047ccd9\" y=\"224.64\"/>\n      </g>\n     </g>\n     <g id=\"text_2\">\n      <!-- 1 -->\n      <defs>\n       <path d=\"M 12.40625 8.296875 \nL 28.515625 8.296875 \nL 28.515625 63.921875 \nL 10.984375 60.40625 \nL 10.984375 69.390625 \nL 28.421875 72.90625 \nL 38.28125 72.90625 \nL 38.28125 8.296875 \nL 54.390625 8.296875 \nL 54.390625 0 \nL 12.40625 0 \nz\n\" id=\"DejaVuSans-49\"/>\n      </defs>\n      <g transform=\"translate(197.455 239.238437)scale(0.1 -0.1)\">\n       <use xlink:href=\"#DejaVuSans-49\"/>\n      </g>\n     </g>\n    </g>\n    <g id=\"text_3\">\n     <!-- true labels -->\n     <defs>\n      <path d=\"M 18.3125 70.21875 \nL 18.3125 54.6875 \nL 36.8125 54.6875 \nL 36.8125 47.703125 \nL 18.3125 47.703125 \nL 18.3125 18.015625 \nQ 18.3125 11.328125 20.140625 9.421875 \nQ 21.96875 7.515625 27.59375 7.515625 \nL 36.8125 7.515625 \nL 36.8125 0 \nL 27.59375 0 \nQ 17.1875 0 13.234375 3.875 \nQ 9.28125 7.765625 9.28125 18.015625 \nL 9.28125 47.703125 \nL 2.6875 47.703125 \nL 2.6875 54.6875 \nL 9.28125 54.6875 \nL 9.28125 70.21875 \nz\n\" id=\"DejaVuSans-116\"/>\n      <path d=\"M 41.109375 46.296875 \nQ 39.59375 47.171875 37.8125 47.578125 \nQ 36.03125 48 33.890625 48 \nQ 26.265625 48 22.1875 43.046875 \nQ 18.109375 38.09375 18.109375 28.8125 \nL 18.109375 0 \nL 9.078125 0 \nL 9.078125 54.6875 \nL 18.109375 54.6875 \nL 18.109375 46.1875 \nQ 20.953125 51.171875 25.484375 53.578125 \nQ 30.03125 56 36.53125 56 \nQ 37.453125 56 38.578125 55.875 \nQ 39.703125 55.765625 41.0625 55.515625 \nz\n\" id=\"DejaVuSans-114\"/>\n      <path d=\"M 8.5 21.578125 \nL 8.5 54.6875 \nL 17.484375 54.6875 \nL 17.484375 21.921875 \nQ 17.484375 14.15625 20.5 10.265625 \nQ 23.53125 6.390625 29.59375 6.390625 \nQ 36.859375 6.390625 41.078125 11.03125 \nQ 45.3125 15.671875 45.3125 23.6875 \nL 45.3125 54.6875 \nL 54.296875 54.6875 \nL 54.296875 0 \nL 45.3125 0 \nL 45.3125 8.40625 \nQ 42.046875 3.421875 37.71875 1 \nQ 33.40625 -1.421875 27.6875 -1.421875 \nQ 18.265625 -1.421875 13.375 4.4375 \nQ 8.5 10.296875 8.5 21.578125 \nz\nM 31.109375 56 \nz\n\" id=\"DejaVuSans-117\"/>\n      <path d=\"M 56.203125 29.59375 \nL 56.203125 25.203125 \nL 14.890625 25.203125 \nQ 15.484375 15.921875 20.484375 11.0625 \nQ 25.484375 6.203125 34.421875 6.203125 \nQ 39.59375 6.203125 44.453125 7.46875 \nQ 49.3125 8.734375 54.109375 11.28125 \nL 54.109375 2.78125 \nQ 49.265625 0.734375 44.1875 -0.34375 \nQ 39.109375 -1.421875 33.890625 -1.421875 \nQ 20.796875 -1.421875 13.15625 6.1875 \nQ 5.515625 13.8125 5.515625 26.8125 \nQ 5.515625 40.234375 12.765625 48.109375 \nQ 20.015625 56 32.328125 56 \nQ 43.359375 56 49.78125 48.890625 \nQ 56.203125 41.796875 56.203125 29.59375 \nz\nM 47.21875 32.234375 \nQ 47.125 39.59375 43.09375 43.984375 \nQ 39.0625 48.390625 32.421875 48.390625 \nQ 24.90625 48.390625 20.390625 44.140625 \nQ 15.875 39.890625 15.1875 32.171875 \nz\n\" id=\"DejaVuSans-101\"/>\n      <path id=\"DejaVuSans-32\"/>\n      <path d=\"M 9.421875 75.984375 \nL 18.40625 75.984375 \nL 18.40625 0 \nL 9.421875 0 \nz\n\" id=\"DejaVuSans-108\"/>\n      <path d=\"M 34.28125 27.484375 \nQ 23.390625 27.484375 19.1875 25 \nQ 14.984375 22.515625 14.984375 16.5 \nQ 14.984375 11.71875 18.140625 8.90625 \nQ 21.296875 6.109375 26.703125 6.109375 \nQ 34.1875 6.109375 38.703125 11.40625 \nQ 43.21875 16.703125 43.21875 25.484375 \nL 43.21875 27.484375 \nz\nM 52.203125 31.203125 \nL 52.203125 0 \nL 43.21875 0 \nL 43.21875 8.296875 \nQ 40.140625 3.328125 35.546875 0.953125 \nQ 30.953125 -1.421875 24.3125 -1.421875 \nQ 15.921875 -1.421875 10.953125 3.296875 \nQ 6 8.015625 6 15.921875 \nQ 6 25.140625 12.171875 29.828125 \nQ 18.359375 34.515625 30.609375 34.515625 \nL 43.21875 34.515625 \nL 43.21875 35.40625 \nQ 43.21875 41.609375 39.140625 45 \nQ 35.0625 48.390625 27.6875 48.390625 \nQ 23 48.390625 18.546875 47.265625 \nQ 14.109375 46.140625 10.015625 43.890625 \nL 10.015625 52.203125 \nQ 14.9375 54.109375 19.578125 55.046875 \nQ 24.21875 56 28.609375 56 \nQ 40.484375 56 46.34375 49.84375 \nQ 52.203125 43.703125 52.203125 31.203125 \nz\n\" id=\"DejaVuSans-97\"/>\n      <path d=\"M 48.6875 27.296875 \nQ 48.6875 37.203125 44.609375 42.84375 \nQ 40.53125 48.484375 33.40625 48.484375 \nQ 26.265625 48.484375 22.1875 42.84375 \nQ 18.109375 37.203125 18.109375 27.296875 \nQ 18.109375 17.390625 22.1875 11.75 \nQ 26.265625 6.109375 33.40625 6.109375 \nQ 40.53125 6.109375 44.609375 11.75 \nQ 48.6875 17.390625 48.6875 27.296875 \nz\nM 18.109375 46.390625 \nQ 20.953125 51.265625 25.265625 53.625 \nQ 29.59375 56 35.59375 56 \nQ 45.5625 56 51.78125 48.09375 \nQ 58.015625 40.1875 58.015625 27.296875 \nQ 58.015625 14.40625 51.78125 6.484375 \nQ 45.5625 -1.421875 35.59375 -1.421875 \nQ 29.59375 -1.421875 25.265625 0.953125 \nQ 20.953125 3.328125 18.109375 8.203125 \nL 18.109375 0 \nL 9.078125 0 \nL 9.078125 75.984375 \nL 18.109375 75.984375 \nz\n\" id=\"DejaVuSans-98\"/>\n      <path d=\"M 44.28125 53.078125 \nL 44.28125 44.578125 \nQ 40.484375 46.53125 36.375 47.5 \nQ 32.28125 48.484375 27.875 48.484375 \nQ 21.1875 48.484375 17.84375 46.4375 \nQ 14.5 44.390625 14.5 40.28125 \nQ 14.5 37.15625 16.890625 35.375 \nQ 19.28125 33.59375 26.515625 31.984375 \nL 29.59375 31.296875 \nQ 39.15625 29.25 43.1875 25.515625 \nQ 47.21875 21.78125 47.21875 15.09375 \nQ 47.21875 7.46875 41.1875 3.015625 \nQ 35.15625 -1.421875 24.609375 -1.421875 \nQ 20.21875 -1.421875 15.453125 -0.5625 \nQ 10.6875 0.296875 5.421875 2 \nL 5.421875 11.28125 \nQ 10.40625 8.6875 15.234375 7.390625 \nQ 20.0625 6.109375 24.8125 6.109375 \nQ 31.15625 6.109375 34.5625 8.28125 \nQ 37.984375 10.453125 37.984375 14.40625 \nQ 37.984375 18.0625 35.515625 20.015625 \nQ 33.0625 21.96875 24.703125 23.78125 \nL 21.578125 24.515625 \nQ 13.234375 26.265625 9.515625 29.90625 \nQ 5.8125 33.546875 5.8125 39.890625 \nQ 5.8125 47.609375 11.28125 51.796875 \nQ 16.75 56 26.8125 56 \nQ 31.78125 56 36.171875 55.265625 \nQ 40.578125 54.546875 44.28125 53.078125 \nz\n\" id=\"DejaVuSans-115\"/>\n     </defs>\n     <g transform=\"translate(119.728594 252.916562)scale(0.1 -0.1)\">\n      <use xlink:href=\"#DejaVuSans-116\"/>\n      <use x=\"39.208984\" xlink:href=\"#DejaVuSans-114\"/>\n      <use x=\"80.322266\" xlink:href=\"#DejaVuSans-117\"/>\n      <use x=\"143.701172\" xlink:href=\"#DejaVuSans-101\"/>\n      <use x=\"205.224609\" xlink:href=\"#DejaVuSans-32\"/>\n      <use x=\"237.011719\" xlink:href=\"#DejaVuSans-108\"/>\n      <use x=\"264.794922\" xlink:href=\"#DejaVuSans-97\"/>\n      <use x=\"326.074219\" xlink:href=\"#DejaVuSans-98\"/>\n      <use x=\"389.550781\" xlink:href=\"#DejaVuSans-101\"/>\n      <use x=\"451.074219\" xlink:href=\"#DejaVuSans-108\"/>\n      <use x=\"478.857422\" xlink:href=\"#DejaVuSans-115\"/>\n     </g>\n    </g>\n   </g>\n   <g id=\"matplotlib.axis_2\">\n    <g id=\"ytick_1\">\n     <g id=\"line2d_3\">\n      <defs>\n       <path d=\"M 0 0 \nL -3.5 0 \n\" id=\"m3e4b09bd8a\" style=\"stroke:#000000;stroke-width:0.8;\"/>\n      </defs>\n      <g>\n       <use style=\"stroke:#000000;stroke-width:0.8;\" x=\"37.55625\" xlink:href=\"#m3e4b09bd8a\" y=\"61.56\"/>\n      </g>\n     </g>\n     <g id=\"text_4\">\n      <!-- 0 -->\n      <g transform=\"translate(28.476563 64.123281)rotate(-90)scale(0.1 -0.1)\">\n       <use xlink:href=\"#DejaVuSans-48\"/>\n      </g>\n     </g>\n    </g>\n    <g id=\"ytick_2\">\n     <g id=\"line2d_4\">\n      <g>\n       <use style=\"stroke:#000000;stroke-width:0.8;\" x=\"37.55625\" xlink:href=\"#m3e4b09bd8a\" y=\"170.28\"/>\n      </g>\n     </g>\n     <g id=\"text_5\">\n      <!-- 1 -->\n      <g transform=\"translate(28.476563 172.843281)rotate(-90)scale(0.1 -0.1)\">\n       <use xlink:href=\"#DejaVuSans-49\"/>\n      </g>\n     </g>\n    </g>\n    <g id=\"text_6\">\n     <!-- predicted label -->\n     <defs>\n      <path d=\"M 18.109375 8.203125 \nL 18.109375 -20.796875 \nL 9.078125 -20.796875 \nL 9.078125 54.6875 \nL 18.109375 54.6875 \nL 18.109375 46.390625 \nQ 20.953125 51.265625 25.265625 53.625 \nQ 29.59375 56 35.59375 56 \nQ 45.5625 56 51.78125 48.09375 \nQ 58.015625 40.1875 58.015625 27.296875 \nQ 58.015625 14.40625 51.78125 6.484375 \nQ 45.5625 -1.421875 35.59375 -1.421875 \nQ 29.59375 -1.421875 25.265625 0.953125 \nQ 20.953125 3.328125 18.109375 8.203125 \nz\nM 48.6875 27.296875 \nQ 48.6875 37.203125 44.609375 42.84375 \nQ 40.53125 48.484375 33.40625 48.484375 \nQ 26.265625 48.484375 22.1875 42.84375 \nQ 18.109375 37.203125 18.109375 27.296875 \nQ 18.109375 17.390625 22.1875 11.75 \nQ 26.265625 6.109375 33.40625 6.109375 \nQ 40.53125 6.109375 44.609375 11.75 \nQ 48.6875 17.390625 48.6875 27.296875 \nz\n\" id=\"DejaVuSans-112\"/>\n      <path d=\"M 45.40625 46.390625 \nL 45.40625 75.984375 \nL 54.390625 75.984375 \nL 54.390625 0 \nL 45.40625 0 \nL 45.40625 8.203125 \nQ 42.578125 3.328125 38.25 0.953125 \nQ 33.9375 -1.421875 27.875 -1.421875 \nQ 17.96875 -1.421875 11.734375 6.484375 \nQ 5.515625 14.40625 5.515625 27.296875 \nQ 5.515625 40.1875 11.734375 48.09375 \nQ 17.96875 56 27.875 56 \nQ 33.9375 56 38.25 53.625 \nQ 42.578125 51.265625 45.40625 46.390625 \nz\nM 14.796875 27.296875 \nQ 14.796875 17.390625 18.875 11.75 \nQ 22.953125 6.109375 30.078125 6.109375 \nQ 37.203125 6.109375 41.296875 11.75 \nQ 45.40625 17.390625 45.40625 27.296875 \nQ 45.40625 37.203125 41.296875 42.84375 \nQ 37.203125 48.484375 30.078125 48.484375 \nQ 22.953125 48.484375 18.875 42.84375 \nQ 14.796875 37.203125 14.796875 27.296875 \nz\n\" id=\"DejaVuSans-100\"/>\n      <path d=\"M 9.421875 54.6875 \nL 18.40625 54.6875 \nL 18.40625 0 \nL 9.421875 0 \nz\nM 9.421875 75.984375 \nL 18.40625 75.984375 \nL 18.40625 64.59375 \nL 9.421875 64.59375 \nz\n\" id=\"DejaVuSans-105\"/>\n      <path d=\"M 48.78125 52.59375 \nL 48.78125 44.1875 \nQ 44.96875 46.296875 41.140625 47.34375 \nQ 37.3125 48.390625 33.40625 48.390625 \nQ 24.65625 48.390625 19.8125 42.84375 \nQ 14.984375 37.3125 14.984375 27.296875 \nQ 14.984375 17.28125 19.8125 11.734375 \nQ 24.65625 6.203125 33.40625 6.203125 \nQ 37.3125 6.203125 41.140625 7.25 \nQ 44.96875 8.296875 48.78125 10.40625 \nL 48.78125 2.09375 \nQ 45.015625 0.34375 40.984375 -0.53125 \nQ 36.96875 -1.421875 32.421875 -1.421875 \nQ 20.0625 -1.421875 12.78125 6.34375 \nQ 5.515625 14.109375 5.515625 27.296875 \nQ 5.515625 40.671875 12.859375 48.328125 \nQ 20.21875 56 33.015625 56 \nQ 37.15625 56 41.109375 55.140625 \nQ 45.0625 54.296875 48.78125 52.59375 \nz\n\" id=\"DejaVuSans-99\"/>\n     </defs>\n     <g transform=\"translate(14.798438 153.430156)rotate(-90)scale(0.1 -0.1)\">\n      <use xlink:href=\"#DejaVuSans-112\"/>\n      <use x=\"63.476562\" xlink:href=\"#DejaVuSans-114\"/>\n      <use x=\"104.558594\" xlink:href=\"#DejaVuSans-101\"/>\n      <use x=\"166.082031\" xlink:href=\"#DejaVuSans-100\"/>\n      <use x=\"229.558594\" xlink:href=\"#DejaVuSans-105\"/>\n      <use x=\"257.341797\" xlink:href=\"#DejaVuSans-99\"/>\n      <use x=\"312.322266\" xlink:href=\"#DejaVuSans-116\"/>\n      <use x=\"351.53125\" xlink:href=\"#DejaVuSans-101\"/>\n      <use x=\"413.054688\" xlink:href=\"#DejaVuSans-100\"/>\n      <use x=\"476.53125\" xlink:href=\"#DejaVuSans-32\"/>\n      <use x=\"508.318359\" xlink:href=\"#DejaVuSans-108\"/>\n      <use x=\"536.101562\" xlink:href=\"#DejaVuSans-97\"/>\n      <use x=\"597.380859\" xlink:href=\"#DejaVuSans-98\"/>\n      <use x=\"660.857422\" xlink:href=\"#DejaVuSans-101\"/>\n      <use x=\"722.380859\" xlink:href=\"#DejaVuSans-108\"/>\n     </g>\n    </g>\n   </g>\n   <g id=\"text_7\">\n    <!-- 94 -->\n    <defs>\n     <path d=\"M 10.984375 1.515625 \nL 10.984375 10.5 \nQ 14.703125 8.734375 18.5 7.8125 \nQ 22.3125 6.890625 25.984375 6.890625 \nQ 35.75 6.890625 40.890625 13.453125 \nQ 46.046875 20.015625 46.78125 33.40625 \nQ 43.953125 29.203125 39.59375 26.953125 \nQ 35.25 24.703125 29.984375 24.703125 \nQ 19.046875 24.703125 12.671875 31.3125 \nQ 6.296875 37.9375 6.296875 49.421875 \nQ 6.296875 60.640625 12.9375 67.421875 \nQ 19.578125 74.21875 30.609375 74.21875 \nQ 43.265625 74.21875 49.921875 64.515625 \nQ 56.59375 54.828125 56.59375 36.375 \nQ 56.59375 19.140625 48.40625 8.859375 \nQ 40.234375 -1.421875 26.421875 -1.421875 \nQ 22.703125 -1.421875 18.890625 -0.6875 \nQ 15.09375 0.046875 10.984375 1.515625 \nz\nM 30.609375 32.421875 \nQ 37.25 32.421875 41.125 36.953125 \nQ 45.015625 41.5 45.015625 49.421875 \nQ 45.015625 57.28125 41.125 61.84375 \nQ 37.25 66.40625 30.609375 66.40625 \nQ 23.96875 66.40625 20.09375 61.84375 \nQ 16.21875 57.28125 16.21875 49.421875 \nQ 16.21875 41.5 20.09375 36.953125 \nQ 23.96875 32.421875 30.609375 32.421875 \nz\n\" id=\"DejaVuSans-57\"/>\n     <path d=\"M 37.796875 64.3125 \nL 12.890625 25.390625 \nL 37.796875 25.390625 \nz\nM 35.203125 72.90625 \nL 47.609375 72.90625 \nL 47.609375 25.390625 \nL 58.015625 25.390625 \nL 58.015625 17.1875 \nL 47.609375 17.1875 \nL 47.609375 0 \nL 37.796875 0 \nL 37.796875 17.1875 \nL 4.890625 17.1875 \nL 4.890625 26.703125 \nz\n\" id=\"DejaVuSans-52\"/>\n    </defs>\n    <g style=\"fill:#262626;\" transform=\"translate(85.55375 64.319375)scale(0.1 -0.1)\">\n     <use xlink:href=\"#DejaVuSans-57\"/>\n     <use x=\"63.623047\" xlink:href=\"#DejaVuSans-52\"/>\n    </g>\n   </g>\n   <g id=\"text_8\">\n    <!-- 0 -->\n    <g style=\"fill:#ffffff;\" transform=\"translate(197.455 64.319375)scale(0.1 -0.1)\">\n     <use xlink:href=\"#DejaVuSans-48\"/>\n    </g>\n   </g>\n   <g id=\"text_9\">\n    <!-- 7 -->\n    <defs>\n     <path d=\"M 8.203125 72.90625 \nL 55.078125 72.90625 \nL 55.078125 68.703125 \nL 28.609375 0 \nL 18.3125 0 \nL 43.21875 64.59375 \nL 8.203125 64.59375 \nz\n\" id=\"DejaVuSans-55\"/>\n    </defs>\n    <g style=\"fill:#ffffff;\" transform=\"translate(88.735 173.039375)scale(0.1 -0.1)\">\n     <use xlink:href=\"#DejaVuSans-55\"/>\n    </g>\n   </g>\n   <g id=\"text_10\">\n    <!-- 12 -->\n    <defs>\n     <path d=\"M 19.1875 8.296875 \nL 53.609375 8.296875 \nL 53.609375 0 \nL 7.328125 0 \nL 7.328125 8.296875 \nQ 12.9375 14.109375 22.625 23.890625 \nQ 32.328125 33.6875 34.8125 36.53125 \nQ 39.546875 41.84375 41.421875 45.53125 \nQ 43.3125 49.21875 43.3125 52.78125 \nQ 43.3125 58.59375 39.234375 62.25 \nQ 35.15625 65.921875 28.609375 65.921875 \nQ 23.96875 65.921875 18.8125 64.3125 \nQ 13.671875 62.703125 7.8125 59.421875 \nL 7.8125 69.390625 \nQ 13.765625 71.78125 18.9375 73 \nQ 24.125 74.21875 28.421875 74.21875 \nQ 39.75 74.21875 46.484375 68.546875 \nQ 53.21875 62.890625 53.21875 53.421875 \nQ 53.21875 48.921875 51.53125 44.890625 \nQ 49.859375 40.875 45.40625 35.40625 \nQ 44.1875 33.984375 37.640625 27.21875 \nQ 31.109375 20.453125 19.1875 8.296875 \nz\n\" id=\"DejaVuSans-50\"/>\n    </defs>\n    <g style=\"fill:#ffffff;\" transform=\"translate(194.27375 173.039375)scale(0.1 -0.1)\">\n     <use xlink:href=\"#DejaVuSans-49\"/>\n     <use x=\"63.623047\" xlink:href=\"#DejaVuSans-50\"/>\n    </g>\n   </g>\n  </g>\n  <g id=\"axes_2\">\n   <g id=\"patch_3\">\n    <path clip-path=\"url(#pb42758745c)\" d=\"M 271.73625 224.64 \nL 271.73625 223.790625 \nL 271.73625 8.049375 \nL 271.73625 7.2 \nL 282.60825 7.2 \nL 282.60825 8.049375 \nL 282.60825 223.790625 \nL 282.60825 224.64 \nz\n\" style=\"fill:#ffffff;stroke:#ffffff;stroke-linejoin:miter;stroke-width:0.01;\"/>\n   </g>\n   <image height=\"217\" id=\"image6517f3049f\" transform=\"scale(1 -1)translate(0 -217)\" width=\"11\" x=\"272\" xlink:href=\"data:image/png;base64,\niVBORw0KGgoAAAANSUhEUgAAAAsAAADZCAYAAAD2WsoCAAAABHNCSVQICAgIfAhkiAAAAVJJREFUaIHV2kEOAjEMQ9GmDZfg/veEK/QtLKWsLcv5dToMovrz/a3LT1fVrXb1rn0vRmcQ14o5i/gIjVyMLTRyAw7JjM4woNHIVXSGs5V/ynHLgGtE+W3Aa6l2YwgNK/+1NNoNipHcFIiRGxBPcEj5Y62LOefQ9ZCFFTHRODHnIQPu69cDp0Hi2HaTeAgNiZGjcSQGHreIn6Rxr7YBc/dG/yAzck7RKHK+N159Ys6YWcRwKhbjFMWIFYmcRXygduaMma+1yRgbLruuIehgCTFGjoahu9aiMw6YikHOK9aN3RLDaDzoDDd0FzyBLMYSZ4sRHDAlpl97LAa81iQPhcTy+7N8Weva4pzLbOjE+eSO+0F0RoNijKBRtN3GOSa2u47Kf/+kH5PZYgyhMaNINGAuc8y5Sra7X6QRu76kG8Z5RjfW+UyIQf+ySN51QuPFAWFT/gJ8LSOCIrIBAAAAAElFTkSuQmCC\" y=\"-7\"/>\n   <g id=\"matplotlib.axis_3\"/>\n   <g id=\"matplotlib.axis_4\">\n    <g id=\"ytick_3\">\n     <g id=\"line2d_5\">\n      <defs>\n       <path d=\"M 0 0 \nL 3.5 0 \n\" id=\"m1d1ec2b1bf\" style=\"stroke:#000000;stroke-width:0.8;\"/>\n      </defs>\n      <g>\n       <use style=\"stroke:#000000;stroke-width:0.8;\" x=\"282.60825\" xlink:href=\"#m1d1ec2b1bf\" y=\"224.64\"/>\n      </g>\n     </g>\n     <g id=\"text_11\">\n      <!-- 0 -->\n      <g transform=\"translate(289.60825 228.439219)scale(0.1 -0.1)\">\n       <use xlink:href=\"#DejaVuSans-48\"/>\n      </g>\n     </g>\n    </g>\n    <g id=\"ytick_4\">\n     <g id=\"line2d_6\">\n      <g>\n       <use style=\"stroke:#000000;stroke-width:0.8;\" x=\"282.60825\" xlink:href=\"#m1d1ec2b1bf\" y=\"178.37617\"/>\n      </g>\n     </g>\n     <g id=\"text_12\">\n      <!-- 20 -->\n      <g transform=\"translate(289.60825 182.175389)scale(0.1 -0.1)\">\n       <use xlink:href=\"#DejaVuSans-50\"/>\n       <use x=\"63.623047\" xlink:href=\"#DejaVuSans-48\"/>\n      </g>\n     </g>\n    </g>\n    <g id=\"ytick_5\">\n     <g id=\"line2d_7\">\n      <g>\n       <use style=\"stroke:#000000;stroke-width:0.8;\" x=\"282.60825\" xlink:href=\"#m1d1ec2b1bf\" y=\"132.11234\"/>\n      </g>\n     </g>\n     <g id=\"text_13\">\n      <!-- 40 -->\n      <g transform=\"translate(289.60825 135.911559)scale(0.1 -0.1)\">\n       <use xlink:href=\"#DejaVuSans-52\"/>\n       <use x=\"63.623047\" xlink:href=\"#DejaVuSans-48\"/>\n      </g>\n     </g>\n    </g>\n    <g id=\"ytick_6\">\n     <g id=\"line2d_8\">\n      <g>\n       <use style=\"stroke:#000000;stroke-width:0.8;\" x=\"282.60825\" xlink:href=\"#m1d1ec2b1bf\" y=\"85.848511\"/>\n      </g>\n     </g>\n     <g id=\"text_14\">\n      <!-- 60 -->\n      <defs>\n       <path d=\"M 33.015625 40.375 \nQ 26.375 40.375 22.484375 35.828125 \nQ 18.609375 31.296875 18.609375 23.390625 \nQ 18.609375 15.53125 22.484375 10.953125 \nQ 26.375 6.390625 33.015625 6.390625 \nQ 39.65625 6.390625 43.53125 10.953125 \nQ 47.40625 15.53125 47.40625 23.390625 \nQ 47.40625 31.296875 43.53125 35.828125 \nQ 39.65625 40.375 33.015625 40.375 \nz\nM 52.59375 71.296875 \nL 52.59375 62.3125 \nQ 48.875 64.0625 45.09375 64.984375 \nQ 41.3125 65.921875 37.59375 65.921875 \nQ 27.828125 65.921875 22.671875 59.328125 \nQ 17.53125 52.734375 16.796875 39.40625 \nQ 19.671875 43.65625 24.015625 45.921875 \nQ 28.375 48.1875 33.59375 48.1875 \nQ 44.578125 48.1875 50.953125 41.515625 \nQ 57.328125 34.859375 57.328125 23.390625 \nQ 57.328125 12.15625 50.6875 5.359375 \nQ 44.046875 -1.421875 33.015625 -1.421875 \nQ 20.359375 -1.421875 13.671875 8.265625 \nQ 6.984375 17.96875 6.984375 36.375 \nQ 6.984375 53.65625 15.1875 63.9375 \nQ 23.390625 74.21875 37.203125 74.21875 \nQ 40.921875 74.21875 44.703125 73.484375 \nQ 48.484375 72.75 52.59375 71.296875 \nz\n\" id=\"DejaVuSans-54\"/>\n      </defs>\n      <g transform=\"translate(289.60825 89.647729)scale(0.1 -0.1)\">\n       <use xlink:href=\"#DejaVuSans-54\"/>\n       <use x=\"63.623047\" xlink:href=\"#DejaVuSans-48\"/>\n      </g>\n     </g>\n    </g>\n    <g id=\"ytick_7\">\n     <g id=\"line2d_9\">\n      <g>\n       <use style=\"stroke:#000000;stroke-width:0.8;\" x=\"282.60825\" xlink:href=\"#m1d1ec2b1bf\" y=\"39.584681\"/>\n      </g>\n     </g>\n     <g id=\"text_15\">\n      <!-- 80 -->\n      <defs>\n       <path d=\"M 31.78125 34.625 \nQ 24.75 34.625 20.71875 30.859375 \nQ 16.703125 27.09375 16.703125 20.515625 \nQ 16.703125 13.921875 20.71875 10.15625 \nQ 24.75 6.390625 31.78125 6.390625 \nQ 38.8125 6.390625 42.859375 10.171875 \nQ 46.921875 13.96875 46.921875 20.515625 \nQ 46.921875 27.09375 42.890625 30.859375 \nQ 38.875 34.625 31.78125 34.625 \nz\nM 21.921875 38.8125 \nQ 15.578125 40.375 12.03125 44.71875 \nQ 8.5 49.078125 8.5 55.328125 \nQ 8.5 64.0625 14.71875 69.140625 \nQ 20.953125 74.21875 31.78125 74.21875 \nQ 42.671875 74.21875 48.875 69.140625 \nQ 55.078125 64.0625 55.078125 55.328125 \nQ 55.078125 49.078125 51.53125 44.71875 \nQ 48 40.375 41.703125 38.8125 \nQ 48.828125 37.15625 52.796875 32.3125 \nQ 56.78125 27.484375 56.78125 20.515625 \nQ 56.78125 9.90625 50.3125 4.234375 \nQ 43.84375 -1.421875 31.78125 -1.421875 \nQ 19.734375 -1.421875 13.25 4.234375 \nQ 6.78125 9.90625 6.78125 20.515625 \nQ 6.78125 27.484375 10.78125 32.3125 \nQ 14.796875 37.15625 21.921875 38.8125 \nz\nM 18.3125 54.390625 \nQ 18.3125 48.734375 21.84375 45.5625 \nQ 25.390625 42.390625 31.78125 42.390625 \nQ 38.140625 42.390625 41.71875 45.5625 \nQ 45.3125 48.734375 45.3125 54.390625 \nQ 45.3125 60.0625 41.71875 63.234375 \nQ 38.140625 66.40625 31.78125 66.40625 \nQ 25.390625 66.40625 21.84375 63.234375 \nQ 18.3125 60.0625 18.3125 54.390625 \nz\n\" id=\"DejaVuSans-56\"/>\n      </defs>\n      <g transform=\"translate(289.60825 43.3839)scale(0.1 -0.1)\">\n       <use xlink:href=\"#DejaVuSans-56\"/>\n       <use x=\"63.623047\" xlink:href=\"#DejaVuSans-48\"/>\n      </g>\n     </g>\n    </g>\n   </g>\n   <g id=\"patch_4\">\n    <path d=\"M 271.73625 224.64 \nL 271.73625 223.790625 \nL 271.73625 8.049375 \nL 271.73625 7.2 \nL 282.60825 7.2 \nL 282.60825 8.049375 \nL 282.60825 223.790625 \nL 282.60825 224.64 \nz\n\" style=\"fill:none;\"/>\n   </g>\n  </g>\n </g>\n <defs>\n  <clipPath id=\"pa2f4a1e71e\">\n   <rect height=\"217.44\" width=\"217.44\" x=\"37.55625\" y=\"7.2\"/>\n  </clipPath>\n  <clipPath id=\"pb42758745c\">\n   <rect height=\"217.44\" width=\"10.872\" x=\"271.73625\" y=\"7.2\"/>\n  </clipPath>\n </defs>\n</svg>\n",
      "image/png": "[encoded data removed]"
     },
     "metadata": {
      "needs_background": "light"
     }
    },
    {
     "output_type": "stream",
     "name": "stdout",
     "text": [
      "The accuracy is 0.9380530973451328\n"
     ]
    }
   ],
   "source": [
    "mat = confusion_matrix(y_test, predicted_categories)\n",
    "sns.heatmap(mat.T, square = True, annot=True, fmt = \"d\")\n",
    "plt.xlabel(\"true labels\")\n",
    "plt.ylabel(\"predicted label\")\n",
    "plt.show()\n",
    "print(\"The accuracy is {}\".format(accuracy_score(y_test, predicted_categories)))"
   ]
  },
  {
   "cell_type": "code",
   "execution_count": 15,
   "metadata": {},
   "outputs": [
    {
     "output_type": "display_data",
     "data": {
      "text/plain": "<Figure size 432x288 with 2 Axes>",
      "image/svg+xml": "<?xml version=\"1.0\" encoding=\"utf-8\" standalone=\"no\"?>\n<!DOCTYPE svg PUBLIC \"-//W3C//DTD SVG 1.1//EN\"\n  \"http://www.w3.org/Graphics/SVG/1.1/DTD/svg11.dtd\">\n<!-- Created with matplotlib (https://matplotlib.org/) -->\n<svg height=\"262.19625pt\" version=\"1.1\" viewBox=\"0 0 315.89575 262.19625\" width=\"315.89575pt\" xmlns=\"http://www.w3.org/2000/svg\" xmlns:xlink=\"http://www.w3.org/1999/xlink\">\n <defs>\n  <style type=\"text/css\">\n*{stroke-linecap:butt;stroke-linejoin:round;}\n  </style>\n </defs>\n <g id=\"figure_1\">\n  <g id=\"patch_1\">\n   <path d=\"M 0 262.19625 \nL 315.89575 262.19625 \nL 315.89575 0 \nL 0 0 \nz\n\" style=\"fill:none;\"/>\n  </g>\n  <g id=\"axes_1\">\n   <g id=\"patch_2\">\n    <path d=\"M 37.55625 224.64 \nL 254.99625 224.64 \nL 254.99625 7.2 \nL 37.55625 7.2 \nz\n\" style=\"fill:#ffffff;\"/>\n   </g>\n   <g id=\"QuadMesh_1\">\n    <path clip-path=\"url(#pce6b6aaf45)\" d=\"M 37.55625 7.2 \nL 146.27625 7.2 \nL 146.27625 115.92 \nL 37.55625 115.92 \nL 37.55625 7.2 \n\" style=\"fill:#faebdd;\"/>\n    <path clip-path=\"url(#pce6b6aaf45)\" d=\"M 146.27625 7.2 \nL 254.99625 7.2 \nL 254.99625 115.92 \nL 146.27625 115.92 \nL 146.27625 7.2 \n\" style=\"fill:#03051a;\"/>\n    <path clip-path=\"url(#pce6b6aaf45)\" d=\"M 37.55625 115.92 \nL 146.27625 115.92 \nL 146.27625 224.64 \nL 37.55625 224.64 \nL 37.55625 115.92 \n\" style=\"fill:#1d112c;\"/>\n    <path clip-path=\"url(#pce6b6aaf45)\" d=\"M 146.27625 115.92 \nL 254.99625 115.92 \nL 254.99625 224.64 \nL 146.27625 224.64 \nL 146.27625 115.92 \n\" style=\"fill:#2a1636;\"/>\n   </g>\n   <g id=\"matplotlib.axis_1\">\n    <g id=\"xtick_1\">\n     <g id=\"line2d_1\">\n      <defs>\n       <path d=\"M 0 0 \nL 0 3.5 \n\" id=\"m50bbb85039\" style=\"stroke:#000000;stroke-width:0.8;\"/>\n      </defs>\n      <g>\n       <use style=\"stroke:#000000;stroke-width:0.8;\" x=\"91.91625\" xlink:href=\"#m50bbb85039\" y=\"224.64\"/>\n      </g>\n     </g>\n     <g id=\"text_1\">\n      <!-- 0 -->\n      <defs>\n       <path d=\"M 31.78125 66.40625 \nQ 24.171875 66.40625 20.328125 58.90625 \nQ 16.5 51.421875 16.5 36.375 \nQ 16.5 21.390625 20.328125 13.890625 \nQ 24.171875 6.390625 31.78125 6.390625 \nQ 39.453125 6.390625 43.28125 13.890625 \nQ 47.125 21.390625 47.125 36.375 \nQ 47.125 51.421875 43.28125 58.90625 \nQ 39.453125 66.40625 31.78125 66.40625 \nz\nM 31.78125 74.21875 \nQ 44.046875 74.21875 50.515625 64.515625 \nQ 56.984375 54.828125 56.984375 36.375 \nQ 56.984375 17.96875 50.515625 8.265625 \nQ 44.046875 -1.421875 31.78125 -1.421875 \nQ 19.53125 -1.421875 13.0625 8.265625 \nQ 6.59375 17.96875 6.59375 36.375 \nQ 6.59375 54.828125 13.0625 64.515625 \nQ 19.53125 74.21875 31.78125 74.21875 \nz\n\" id=\"DejaVuSans-48\"/>\n      </defs>\n      <g transform=\"translate(88.735 239.238437)scale(0.1 -0.1)\">\n       <use xlink:href=\"#DejaVuSans-48\"/>\n      </g>\n     </g>\n    </g>\n    <g id=\"xtick_2\">\n     <g id=\"line2d_2\">\n      <g>\n       <use style=\"stroke:#000000;stroke-width:0.8;\" x=\"200.63625\" xlink:href=\"#m50bbb85039\" y=\"224.64\"/>\n      </g>\n     </g>\n     <g id=\"text_2\">\n      <!-- 1 -->\n      <defs>\n       <path d=\"M 12.40625 8.296875 \nL 28.515625 8.296875 \nL 28.515625 63.921875 \nL 10.984375 60.40625 \nL 10.984375 69.390625 \nL 28.421875 72.90625 \nL 38.28125 72.90625 \nL 38.28125 8.296875 \nL 54.390625 8.296875 \nL 54.390625 0 \nL 12.40625 0 \nz\n\" id=\"DejaVuSans-49\"/>\n      </defs>\n      <g transform=\"translate(197.455 239.238437)scale(0.1 -0.1)\">\n       <use xlink:href=\"#DejaVuSans-49\"/>\n      </g>\n     </g>\n    </g>\n    <g id=\"text_3\">\n     <!-- true labels -->\n     <defs>\n      <path d=\"M 18.3125 70.21875 \nL 18.3125 54.6875 \nL 36.8125 54.6875 \nL 36.8125 47.703125 \nL 18.3125 47.703125 \nL 18.3125 18.015625 \nQ 18.3125 11.328125 20.140625 9.421875 \nQ 21.96875 7.515625 27.59375 7.515625 \nL 36.8125 7.515625 \nL 36.8125 0 \nL 27.59375 0 \nQ 17.1875 0 13.234375 3.875 \nQ 9.28125 7.765625 9.28125 18.015625 \nL 9.28125 47.703125 \nL 2.6875 47.703125 \nL 2.6875 54.6875 \nL 9.28125 54.6875 \nL 9.28125 70.21875 \nz\n\" id=\"DejaVuSans-116\"/>\n      <path d=\"M 41.109375 46.296875 \nQ 39.59375 47.171875 37.8125 47.578125 \nQ 36.03125 48 33.890625 48 \nQ 26.265625 48 22.1875 43.046875 \nQ 18.109375 38.09375 18.109375 28.8125 \nL 18.109375 0 \nL 9.078125 0 \nL 9.078125 54.6875 \nL 18.109375 54.6875 \nL 18.109375 46.1875 \nQ 20.953125 51.171875 25.484375 53.578125 \nQ 30.03125 56 36.53125 56 \nQ 37.453125 56 38.578125 55.875 \nQ 39.703125 55.765625 41.0625 55.515625 \nz\n\" id=\"DejaVuSans-114\"/>\n      <path d=\"M 8.5 21.578125 \nL 8.5 54.6875 \nL 17.484375 54.6875 \nL 17.484375 21.921875 \nQ 17.484375 14.15625 20.5 10.265625 \nQ 23.53125 6.390625 29.59375 6.390625 \nQ 36.859375 6.390625 41.078125 11.03125 \nQ 45.3125 15.671875 45.3125 23.6875 \nL 45.3125 54.6875 \nL 54.296875 54.6875 \nL 54.296875 0 \nL 45.3125 0 \nL 45.3125 8.40625 \nQ 42.046875 3.421875 37.71875 1 \nQ 33.40625 -1.421875 27.6875 -1.421875 \nQ 18.265625 -1.421875 13.375 4.4375 \nQ 8.5 10.296875 8.5 21.578125 \nz\nM 31.109375 56 \nz\n\" id=\"DejaVuSans-117\"/>\n      <path d=\"M 56.203125 29.59375 \nL 56.203125 25.203125 \nL 14.890625 25.203125 \nQ 15.484375 15.921875 20.484375 11.0625 \nQ 25.484375 6.203125 34.421875 6.203125 \nQ 39.59375 6.203125 44.453125 7.46875 \nQ 49.3125 8.734375 54.109375 11.28125 \nL 54.109375 2.78125 \nQ 49.265625 0.734375 44.1875 -0.34375 \nQ 39.109375 -1.421875 33.890625 -1.421875 \nQ 20.796875 -1.421875 13.15625 6.1875 \nQ 5.515625 13.8125 5.515625 26.8125 \nQ 5.515625 40.234375 12.765625 48.109375 \nQ 20.015625 56 32.328125 56 \nQ 43.359375 56 49.78125 48.890625 \nQ 56.203125 41.796875 56.203125 29.59375 \nz\nM 47.21875 32.234375 \nQ 47.125 39.59375 43.09375 43.984375 \nQ 39.0625 48.390625 32.421875 48.390625 \nQ 24.90625 48.390625 20.390625 44.140625 \nQ 15.875 39.890625 15.1875 32.171875 \nz\n\" id=\"DejaVuSans-101\"/>\n      <path id=\"DejaVuSans-32\"/>\n      <path d=\"M 9.421875 75.984375 \nL 18.40625 75.984375 \nL 18.40625 0 \nL 9.421875 0 \nz\n\" id=\"DejaVuSans-108\"/>\n      <path d=\"M 34.28125 27.484375 \nQ 23.390625 27.484375 19.1875 25 \nQ 14.984375 22.515625 14.984375 16.5 \nQ 14.984375 11.71875 18.140625 8.90625 \nQ 21.296875 6.109375 26.703125 6.109375 \nQ 34.1875 6.109375 38.703125 11.40625 \nQ 43.21875 16.703125 43.21875 25.484375 \nL 43.21875 27.484375 \nz\nM 52.203125 31.203125 \nL 52.203125 0 \nL 43.21875 0 \nL 43.21875 8.296875 \nQ 40.140625 3.328125 35.546875 0.953125 \nQ 30.953125 -1.421875 24.3125 -1.421875 \nQ 15.921875 -1.421875 10.953125 3.296875 \nQ 6 8.015625 6 15.921875 \nQ 6 25.140625 12.171875 29.828125 \nQ 18.359375 34.515625 30.609375 34.515625 \nL 43.21875 34.515625 \nL 43.21875 35.40625 \nQ 43.21875 41.609375 39.140625 45 \nQ 35.0625 48.390625 27.6875 48.390625 \nQ 23 48.390625 18.546875 47.265625 \nQ 14.109375 46.140625 10.015625 43.890625 \nL 10.015625 52.203125 \nQ 14.9375 54.109375 19.578125 55.046875 \nQ 24.21875 56 28.609375 56 \nQ 40.484375 56 46.34375 49.84375 \nQ 52.203125 43.703125 52.203125 31.203125 \nz\n\" id=\"DejaVuSans-97\"/>\n      <path d=\"M 48.6875 27.296875 \nQ 48.6875 37.203125 44.609375 42.84375 \nQ 40.53125 48.484375 33.40625 48.484375 \nQ 26.265625 48.484375 22.1875 42.84375 \nQ 18.109375 37.203125 18.109375 27.296875 \nQ 18.109375 17.390625 22.1875 11.75 \nQ 26.265625 6.109375 33.40625 6.109375 \nQ 40.53125 6.109375 44.609375 11.75 \nQ 48.6875 17.390625 48.6875 27.296875 \nz\nM 18.109375 46.390625 \nQ 20.953125 51.265625 25.265625 53.625 \nQ 29.59375 56 35.59375 56 \nQ 45.5625 56 51.78125 48.09375 \nQ 58.015625 40.1875 58.015625 27.296875 \nQ 58.015625 14.40625 51.78125 6.484375 \nQ 45.5625 -1.421875 35.59375 -1.421875 \nQ 29.59375 -1.421875 25.265625 0.953125 \nQ 20.953125 3.328125 18.109375 8.203125 \nL 18.109375 0 \nL 9.078125 0 \nL 9.078125 75.984375 \nL 18.109375 75.984375 \nz\n\" id=\"DejaVuSans-98\"/>\n      <path d=\"M 44.28125 53.078125 \nL 44.28125 44.578125 \nQ 40.484375 46.53125 36.375 47.5 \nQ 32.28125 48.484375 27.875 48.484375 \nQ 21.1875 48.484375 17.84375 46.4375 \nQ 14.5 44.390625 14.5 40.28125 \nQ 14.5 37.15625 16.890625 35.375 \nQ 19.28125 33.59375 26.515625 31.984375 \nL 29.59375 31.296875 \nQ 39.15625 29.25 43.1875 25.515625 \nQ 47.21875 21.78125 47.21875 15.09375 \nQ 47.21875 7.46875 41.1875 3.015625 \nQ 35.15625 -1.421875 24.609375 -1.421875 \nQ 20.21875 -1.421875 15.453125 -0.5625 \nQ 10.6875 0.296875 5.421875 2 \nL 5.421875 11.28125 \nQ 10.40625 8.6875 15.234375 7.390625 \nQ 20.0625 6.109375 24.8125 6.109375 \nQ 31.15625 6.109375 34.5625 8.28125 \nQ 37.984375 10.453125 37.984375 14.40625 \nQ 37.984375 18.0625 35.515625 20.015625 \nQ 33.0625 21.96875 24.703125 23.78125 \nL 21.578125 24.515625 \nQ 13.234375 26.265625 9.515625 29.90625 \nQ 5.8125 33.546875 5.8125 39.890625 \nQ 5.8125 47.609375 11.28125 51.796875 \nQ 16.75 56 26.8125 56 \nQ 31.78125 56 36.171875 55.265625 \nQ 40.578125 54.546875 44.28125 53.078125 \nz\n\" id=\"DejaVuSans-115\"/>\n     </defs>\n     <g transform=\"translate(119.728594 252.916562)scale(0.1 -0.1)\">\n      <use xlink:href=\"#DejaVuSans-116\"/>\n      <use x=\"39.208984\" xlink:href=\"#DejaVuSans-114\"/>\n      <use x=\"80.322266\" xlink:href=\"#DejaVuSans-117\"/>\n      <use x=\"143.701172\" xlink:href=\"#DejaVuSans-101\"/>\n      <use x=\"205.224609\" xlink:href=\"#DejaVuSans-32\"/>\n      <use x=\"237.011719\" xlink:href=\"#DejaVuSans-108\"/>\n      <use x=\"264.794922\" xlink:href=\"#DejaVuSans-97\"/>\n      <use x=\"326.074219\" xlink:href=\"#DejaVuSans-98\"/>\n      <use x=\"389.550781\" xlink:href=\"#DejaVuSans-101\"/>\n      <use x=\"451.074219\" xlink:href=\"#DejaVuSans-108\"/>\n      <use x=\"478.857422\" xlink:href=\"#DejaVuSans-115\"/>\n     </g>\n    </g>\n   </g>\n   <g id=\"matplotlib.axis_2\">\n    <g id=\"ytick_1\">\n     <g id=\"line2d_3\">\n      <defs>\n       <path d=\"M 0 0 \nL -3.5 0 \n\" id=\"md2cca191dc\" style=\"stroke:#000000;stroke-width:0.8;\"/>\n      </defs>\n      <g>\n       <use style=\"stroke:#000000;stroke-width:0.8;\" x=\"37.55625\" xlink:href=\"#md2cca191dc\" y=\"61.56\"/>\n      </g>\n     </g>\n     <g id=\"text_4\">\n      <!-- 0 -->\n      <g transform=\"translate(28.476563 64.123281)rotate(-90)scale(0.1 -0.1)\">\n       <use xlink:href=\"#DejaVuSans-48\"/>\n      </g>\n     </g>\n    </g>\n    <g id=\"ytick_2\">\n     <g id=\"line2d_4\">\n      <g>\n       <use style=\"stroke:#000000;stroke-width:0.8;\" x=\"37.55625\" xlink:href=\"#md2cca191dc\" y=\"170.28\"/>\n      </g>\n     </g>\n     <g id=\"text_5\">\n      <!-- 1 -->\n      <g transform=\"translate(28.476563 172.843281)rotate(-90)scale(0.1 -0.1)\">\n       <use xlink:href=\"#DejaVuSans-49\"/>\n      </g>\n     </g>\n    </g>\n    <g id=\"text_6\">\n     <!-- predicted label -->\n     <defs>\n      <path d=\"M 18.109375 8.203125 \nL 18.109375 -20.796875 \nL 9.078125 -20.796875 \nL 9.078125 54.6875 \nL 18.109375 54.6875 \nL 18.109375 46.390625 \nQ 20.953125 51.265625 25.265625 53.625 \nQ 29.59375 56 35.59375 56 \nQ 45.5625 56 51.78125 48.09375 \nQ 58.015625 40.1875 58.015625 27.296875 \nQ 58.015625 14.40625 51.78125 6.484375 \nQ 45.5625 -1.421875 35.59375 -1.421875 \nQ 29.59375 -1.421875 25.265625 0.953125 \nQ 20.953125 3.328125 18.109375 8.203125 \nz\nM 48.6875 27.296875 \nQ 48.6875 37.203125 44.609375 42.84375 \nQ 40.53125 48.484375 33.40625 48.484375 \nQ 26.265625 48.484375 22.1875 42.84375 \nQ 18.109375 37.203125 18.109375 27.296875 \nQ 18.109375 17.390625 22.1875 11.75 \nQ 26.265625 6.109375 33.40625 6.109375 \nQ 40.53125 6.109375 44.609375 11.75 \nQ 48.6875 17.390625 48.6875 27.296875 \nz\n\" id=\"DejaVuSans-112\"/>\n      <path d=\"M 45.40625 46.390625 \nL 45.40625 75.984375 \nL 54.390625 75.984375 \nL 54.390625 0 \nL 45.40625 0 \nL 45.40625 8.203125 \nQ 42.578125 3.328125 38.25 0.953125 \nQ 33.9375 -1.421875 27.875 -1.421875 \nQ 17.96875 -1.421875 11.734375 6.484375 \nQ 5.515625 14.40625 5.515625 27.296875 \nQ 5.515625 40.1875 11.734375 48.09375 \nQ 17.96875 56 27.875 56 \nQ 33.9375 56 38.25 53.625 \nQ 42.578125 51.265625 45.40625 46.390625 \nz\nM 14.796875 27.296875 \nQ 14.796875 17.390625 18.875 11.75 \nQ 22.953125 6.109375 30.078125 6.109375 \nQ 37.203125 6.109375 41.296875 11.75 \nQ 45.40625 17.390625 45.40625 27.296875 \nQ 45.40625 37.203125 41.296875 42.84375 \nQ 37.203125 48.484375 30.078125 48.484375 \nQ 22.953125 48.484375 18.875 42.84375 \nQ 14.796875 37.203125 14.796875 27.296875 \nz\n\" id=\"DejaVuSans-100\"/>\n      <path d=\"M 9.421875 54.6875 \nL 18.40625 54.6875 \nL 18.40625 0 \nL 9.421875 0 \nz\nM 9.421875 75.984375 \nL 18.40625 75.984375 \nL 18.40625 64.59375 \nL 9.421875 64.59375 \nz\n\" id=\"DejaVuSans-105\"/>\n      <path d=\"M 48.78125 52.59375 \nL 48.78125 44.1875 \nQ 44.96875 46.296875 41.140625 47.34375 \nQ 37.3125 48.390625 33.40625 48.390625 \nQ 24.65625 48.390625 19.8125 42.84375 \nQ 14.984375 37.3125 14.984375 27.296875 \nQ 14.984375 17.28125 19.8125 11.734375 \nQ 24.65625 6.203125 33.40625 6.203125 \nQ 37.3125 6.203125 41.140625 7.25 \nQ 44.96875 8.296875 48.78125 10.40625 \nL 48.78125 2.09375 \nQ 45.015625 0.34375 40.984375 -0.53125 \nQ 36.96875 -1.421875 32.421875 -1.421875 \nQ 20.0625 -1.421875 12.78125 6.34375 \nQ 5.515625 14.109375 5.515625 27.296875 \nQ 5.515625 40.671875 12.859375 48.328125 \nQ 20.21875 56 33.015625 56 \nQ 37.15625 56 41.109375 55.140625 \nQ 45.0625 54.296875 48.78125 52.59375 \nz\n\" id=\"DejaVuSans-99\"/>\n     </defs>\n     <g transform=\"translate(14.798438 153.430156)rotate(-90)scale(0.1 -0.1)\">\n      <use xlink:href=\"#DejaVuSans-112\"/>\n      <use x=\"63.476562\" xlink:href=\"#DejaVuSans-114\"/>\n      <use x=\"104.558594\" xlink:href=\"#DejaVuSans-101\"/>\n      <use x=\"166.082031\" xlink:href=\"#DejaVuSans-100\"/>\n      <use x=\"229.558594\" xlink:href=\"#DejaVuSans-105\"/>\n      <use x=\"257.341797\" xlink:href=\"#DejaVuSans-99\"/>\n      <use x=\"312.322266\" xlink:href=\"#DejaVuSans-116\"/>\n      <use x=\"351.53125\" xlink:href=\"#DejaVuSans-101\"/>\n      <use x=\"413.054688\" xlink:href=\"#DejaVuSans-100\"/>\n      <use x=\"476.53125\" xlink:href=\"#DejaVuSans-32\"/>\n      <use x=\"508.318359\" xlink:href=\"#DejaVuSans-108\"/>\n      <use x=\"536.101562\" xlink:href=\"#DejaVuSans-97\"/>\n      <use x=\"597.380859\" xlink:href=\"#DejaVuSans-98\"/>\n      <use x=\"660.857422\" xlink:href=\"#DejaVuSans-101\"/>\n      <use x=\"722.380859\" xlink:href=\"#DejaVuSans-108\"/>\n     </g>\n    </g>\n   </g>\n   <g id=\"text_7\">\n    <!-- 287 -->\n    <defs>\n     <path d=\"M 19.1875 8.296875 \nL 53.609375 8.296875 \nL 53.609375 0 \nL 7.328125 0 \nL 7.328125 8.296875 \nQ 12.9375 14.109375 22.625 23.890625 \nQ 32.328125 33.6875 34.8125 36.53125 \nQ 39.546875 41.84375 41.421875 45.53125 \nQ 43.3125 49.21875 43.3125 52.78125 \nQ 43.3125 58.59375 39.234375 62.25 \nQ 35.15625 65.921875 28.609375 65.921875 \nQ 23.96875 65.921875 18.8125 64.3125 \nQ 13.671875 62.703125 7.8125 59.421875 \nL 7.8125 69.390625 \nQ 13.765625 71.78125 18.9375 73 \nQ 24.125 74.21875 28.421875 74.21875 \nQ 39.75 74.21875 46.484375 68.546875 \nQ 53.21875 62.890625 53.21875 53.421875 \nQ 53.21875 48.921875 51.53125 44.890625 \nQ 49.859375 40.875 45.40625 35.40625 \nQ 44.1875 33.984375 37.640625 27.21875 \nQ 31.109375 20.453125 19.1875 8.296875 \nz\n\" id=\"DejaVuSans-50\"/>\n     <path d=\"M 31.78125 34.625 \nQ 24.75 34.625 20.71875 30.859375 \nQ 16.703125 27.09375 16.703125 20.515625 \nQ 16.703125 13.921875 20.71875 10.15625 \nQ 24.75 6.390625 31.78125 6.390625 \nQ 38.8125 6.390625 42.859375 10.171875 \nQ 46.921875 13.96875 46.921875 20.515625 \nQ 46.921875 27.09375 42.890625 30.859375 \nQ 38.875 34.625 31.78125 34.625 \nz\nM 21.921875 38.8125 \nQ 15.578125 40.375 12.03125 44.71875 \nQ 8.5 49.078125 8.5 55.328125 \nQ 8.5 64.0625 14.71875 69.140625 \nQ 20.953125 74.21875 31.78125 74.21875 \nQ 42.671875 74.21875 48.875 69.140625 \nQ 55.078125 64.0625 55.078125 55.328125 \nQ 55.078125 49.078125 51.53125 44.71875 \nQ 48 40.375 41.703125 38.8125 \nQ 48.828125 37.15625 52.796875 32.3125 \nQ 56.78125 27.484375 56.78125 20.515625 \nQ 56.78125 9.90625 50.3125 4.234375 \nQ 43.84375 -1.421875 31.78125 -1.421875 \nQ 19.734375 -1.421875 13.25 4.234375 \nQ 6.78125 9.90625 6.78125 20.515625 \nQ 6.78125 27.484375 10.78125 32.3125 \nQ 14.796875 37.15625 21.921875 38.8125 \nz\nM 18.3125 54.390625 \nQ 18.3125 48.734375 21.84375 45.5625 \nQ 25.390625 42.390625 31.78125 42.390625 \nQ 38.140625 42.390625 41.71875 45.5625 \nQ 45.3125 48.734375 45.3125 54.390625 \nQ 45.3125 60.0625 41.71875 63.234375 \nQ 38.140625 66.40625 31.78125 66.40625 \nQ 25.390625 66.40625 21.84375 63.234375 \nQ 18.3125 60.0625 18.3125 54.390625 \nz\n\" id=\"DejaVuSans-56\"/>\n     <path d=\"M 8.203125 72.90625 \nL 55.078125 72.90625 \nL 55.078125 68.703125 \nL 28.609375 0 \nL 18.3125 0 \nL 43.21875 64.59375 \nL 8.203125 64.59375 \nz\n\" id=\"DejaVuSans-55\"/>\n    </defs>\n    <g style=\"fill:#262626;\" transform=\"translate(82.3725 64.319375)scale(0.1 -0.1)\">\n     <use xlink:href=\"#DejaVuSans-50\"/>\n     <use x=\"63.623047\" xlink:href=\"#DejaVuSans-56\"/>\n     <use x=\"127.246094\" xlink:href=\"#DejaVuSans-55\"/>\n    </g>\n   </g>\n   <g id=\"text_8\">\n    <!-- 0 -->\n    <g style=\"fill:#ffffff;\" transform=\"translate(197.455 64.319375)scale(0.1 -0.1)\">\n     <use xlink:href=\"#DejaVuSans-48\"/>\n    </g>\n   </g>\n   <g id=\"text_9\">\n    <!-- 22 -->\n    <g style=\"fill:#ffffff;\" transform=\"translate(85.55375 173.039375)scale(0.1 -0.1)\">\n     <use xlink:href=\"#DejaVuSans-50\"/>\n     <use x=\"63.623047\" xlink:href=\"#DejaVuSans-50\"/>\n    </g>\n   </g>\n   <g id=\"text_10\">\n    <!-- 32 -->\n    <defs>\n     <path d=\"M 40.578125 39.3125 \nQ 47.65625 37.796875 51.625 33 \nQ 55.609375 28.21875 55.609375 21.1875 \nQ 55.609375 10.40625 48.1875 4.484375 \nQ 40.765625 -1.421875 27.09375 -1.421875 \nQ 22.515625 -1.421875 17.65625 -0.515625 \nQ 12.796875 0.390625 7.625 2.203125 \nL 7.625 11.71875 \nQ 11.71875 9.328125 16.59375 8.109375 \nQ 21.484375 6.890625 26.8125 6.890625 \nQ 36.078125 6.890625 40.9375 10.546875 \nQ 45.796875 14.203125 45.796875 21.1875 \nQ 45.796875 27.640625 41.28125 31.265625 \nQ 36.765625 34.90625 28.71875 34.90625 \nL 20.21875 34.90625 \nL 20.21875 43.015625 \nL 29.109375 43.015625 \nQ 36.375 43.015625 40.234375 45.921875 \nQ 44.09375 48.828125 44.09375 54.296875 \nQ 44.09375 59.90625 40.109375 62.90625 \nQ 36.140625 65.921875 28.71875 65.921875 \nQ 24.65625 65.921875 20.015625 65.03125 \nQ 15.375 64.15625 9.8125 62.3125 \nL 9.8125 71.09375 \nQ 15.4375 72.65625 20.34375 73.4375 \nQ 25.25 74.21875 29.59375 74.21875 \nQ 40.828125 74.21875 47.359375 69.109375 \nQ 53.90625 64.015625 53.90625 55.328125 \nQ 53.90625 49.265625 50.4375 45.09375 \nQ 46.96875 40.921875 40.578125 39.3125 \nz\n\" id=\"DejaVuSans-51\"/>\n    </defs>\n    <g style=\"fill:#ffffff;\" transform=\"translate(194.27375 173.039375)scale(0.1 -0.1)\">\n     <use xlink:href=\"#DejaVuSans-51\"/>\n     <use x=\"63.623047\" xlink:href=\"#DejaVuSans-50\"/>\n    </g>\n   </g>\n  </g>\n  <g id=\"axes_2\">\n   <g id=\"patch_3\">\n    <path clip-path=\"url(#p56da5c69ec)\" d=\"M 271.73625 224.64 \nL 271.73625 223.790625 \nL 271.73625 8.049375 \nL 271.73625 7.2 \nL 282.60825 7.2 \nL 282.60825 8.049375 \nL 282.60825 223.790625 \nL 282.60825 224.64 \nz\n\" style=\"fill:#ffffff;stroke:#ffffff;stroke-linejoin:miter;stroke-width:0.01;\"/>\n   </g>\n   <image height=\"217\" id=\"image6d23a62b07\" transform=\"scale(1 -1)translate(0 -217)\" width=\"11\" x=\"272\" xlink:href=\"data:image/png;base64,\niVBORw0KGgoAAAANSUhEUgAAAAsAAADZCAYAAAD2WsoCAAAABHNCSVQICAgIfAhkiAAAAVJJREFUaIHV2kEOAjEMQ9GmDZfg/veEK/QtLKWsLcv5dToMovrz/a3LT1fVrXb1rn0vRmcQ14o5i/gIjVyMLTRyAw7JjM4woNHIVXSGs5V/ynHLgGtE+W3Aa6l2YwgNK/+1NNoNipHcFIiRGxBPcEj5Y62LOefQ9ZCFFTHRODHnIQPu69cDp0Hi2HaTeAgNiZGjcSQGHreIn6Rxr7YBc/dG/yAzck7RKHK+N159Ys6YWcRwKhbjFMWIFYmcRXygduaMma+1yRgbLruuIehgCTFGjoahu9aiMw6YikHOK9aN3RLDaDzoDDd0FzyBLMYSZ4sRHDAlpl97LAa81iQPhcTy+7N8Weva4pzLbOjE+eSO+0F0RoNijKBRtN3GOSa2u47Kf/+kH5PZYgyhMaNINGAuc8y5Sra7X6QRu76kG8Z5RjfW+UyIQf+ySN51QuPFAWFT/gJ8LSOCIrIBAAAAAElFTkSuQmCC\" y=\"-7\"/>\n   <g id=\"matplotlib.axis_3\"/>\n   <g id=\"matplotlib.axis_4\">\n    <g id=\"ytick_3\">\n     <g id=\"line2d_5\">\n      <defs>\n       <path d=\"M 0 0 \nL 3.5 0 \n\" id=\"m4e793ef09d\" style=\"stroke:#000000;stroke-width:0.8;\"/>\n      </defs>\n      <g>\n       <use style=\"stroke:#000000;stroke-width:0.8;\" x=\"282.60825\" xlink:href=\"#m4e793ef09d\" y=\"224.64\"/>\n      </g>\n     </g>\n     <g id=\"text_11\">\n      <!-- 0 -->\n      <g transform=\"translate(289.60825 228.439219)scale(0.1 -0.1)\">\n       <use xlink:href=\"#DejaVuSans-48\"/>\n      </g>\n     </g>\n    </g>\n    <g id=\"ytick_4\">\n     <g id=\"line2d_6\">\n      <g>\n       <use style=\"stroke:#000000;stroke-width:0.8;\" x=\"282.60825\" xlink:href=\"#m4e793ef09d\" y=\"186.758467\"/>\n      </g>\n     </g>\n     <g id=\"text_12\">\n      <!-- 50 -->\n      <defs>\n       <path d=\"M 10.796875 72.90625 \nL 49.515625 72.90625 \nL 49.515625 64.59375 \nL 19.828125 64.59375 \nL 19.828125 46.734375 \nQ 21.96875 47.46875 24.109375 47.828125 \nQ 26.265625 48.1875 28.421875 48.1875 \nQ 40.625 48.1875 47.75 41.5 \nQ 54.890625 34.8125 54.890625 23.390625 \nQ 54.890625 11.625 47.5625 5.09375 \nQ 40.234375 -1.421875 26.90625 -1.421875 \nQ 22.3125 -1.421875 17.546875 -0.640625 \nQ 12.796875 0.140625 7.71875 1.703125 \nL 7.71875 11.625 \nQ 12.109375 9.234375 16.796875 8.0625 \nQ 21.484375 6.890625 26.703125 6.890625 \nQ 35.15625 6.890625 40.078125 11.328125 \nQ 45.015625 15.765625 45.015625 23.390625 \nQ 45.015625 31 40.078125 35.4375 \nQ 35.15625 39.890625 26.703125 39.890625 \nQ 22.75 39.890625 18.8125 39.015625 \nQ 14.890625 38.140625 10.796875 36.28125 \nz\n\" id=\"DejaVuSans-53\"/>\n      </defs>\n      <g transform=\"translate(289.60825 190.557686)scale(0.1 -0.1)\">\n       <use xlink:href=\"#DejaVuSans-53\"/>\n       <use x=\"63.623047\" xlink:href=\"#DejaVuSans-48\"/>\n      </g>\n     </g>\n    </g>\n    <g id=\"ytick_5\">\n     <g id=\"line2d_7\">\n      <g>\n       <use style=\"stroke:#000000;stroke-width:0.8;\" x=\"282.60825\" xlink:href=\"#m4e793ef09d\" y=\"148.876934\"/>\n      </g>\n     </g>\n     <g id=\"text_13\">\n      <!-- 100 -->\n      <g transform=\"translate(289.60825 152.676153)scale(0.1 -0.1)\">\n       <use xlink:href=\"#DejaVuSans-49\"/>\n       <use x=\"63.623047\" xlink:href=\"#DejaVuSans-48\"/>\n       <use x=\"127.246094\" xlink:href=\"#DejaVuSans-48\"/>\n      </g>\n     </g>\n    </g>\n    <g id=\"ytick_6\">\n     <g id=\"line2d_8\">\n      <g>\n       <use style=\"stroke:#000000;stroke-width:0.8;\" x=\"282.60825\" xlink:href=\"#m4e793ef09d\" y=\"110.995401\"/>\n      </g>\n     </g>\n     <g id=\"text_14\">\n      <!-- 150 -->\n      <g transform=\"translate(289.60825 114.794619)scale(0.1 -0.1)\">\n       <use xlink:href=\"#DejaVuSans-49\"/>\n       <use x=\"63.623047\" xlink:href=\"#DejaVuSans-53\"/>\n       <use x=\"127.246094\" xlink:href=\"#DejaVuSans-48\"/>\n      </g>\n     </g>\n    </g>\n    <g id=\"ytick_7\">\n     <g id=\"line2d_9\">\n      <g>\n       <use style=\"stroke:#000000;stroke-width:0.8;\" x=\"282.60825\" xlink:href=\"#m4e793ef09d\" y=\"73.113868\"/>\n      </g>\n     </g>\n     <g id=\"text_15\">\n      <!-- 200 -->\n      <g transform=\"translate(289.60825 76.913086)scale(0.1 -0.1)\">\n       <use xlink:href=\"#DejaVuSans-50\"/>\n       <use x=\"63.623047\" xlink:href=\"#DejaVuSans-48\"/>\n       <use x=\"127.246094\" xlink:href=\"#DejaVuSans-48\"/>\n      </g>\n     </g>\n    </g>\n    <g id=\"ytick_8\">\n     <g id=\"line2d_10\">\n      <g>\n       <use style=\"stroke:#000000;stroke-width:0.8;\" x=\"282.60825\" xlink:href=\"#m4e793ef09d\" y=\"35.232334\"/>\n      </g>\n     </g>\n     <g id=\"text_16\">\n      <!-- 250 -->\n      <g transform=\"translate(289.60825 39.031553)scale(0.1 -0.1)\">\n       <use xlink:href=\"#DejaVuSans-50\"/>\n       <use x=\"63.623047\" xlink:href=\"#DejaVuSans-53\"/>\n       <use x=\"127.246094\" xlink:href=\"#DejaVuSans-48\"/>\n      </g>\n     </g>\n    </g>\n   </g>\n   <g id=\"patch_4\">\n    <path d=\"M 271.73625 224.64 \nL 271.73625 223.790625 \nL 271.73625 8.049375 \nL 271.73625 7.2 \nL 282.60825 7.2 \nL 282.60825 8.049375 \nL 282.60825 223.790625 \nL 282.60825 224.64 \nz\n\" style=\"fill:none;\"/>\n   </g>\n  </g>\n </g>\n <defs>\n  <clipPath id=\"pce6b6aaf45\">\n   <rect height=\"217.44\" width=\"217.44\" x=\"37.55625\" y=\"7.2\"/>\n  </clipPath>\n  <clipPath id=\"p56da5c69ec\">\n   <rect height=\"217.44\" width=\"10.872\" x=\"271.73625\" y=\"7.2\"/>\n  </clipPath>\n </defs>\n</svg>\n",
      "image/png": "[encoded data removed]"
     },
     "metadata": {
      "needs_background": "light"
     }
    },
    {
     "output_type": "stream",
     "name": "stdout",
     "text": [
      "The accuracy is 0.9354838709677419\n"
     ]
    }
   ],
   "source": [
    "predicted_categories = model.predict(cleaned_sentences)\n",
    "mat = confusion_matrix(ptData.has_epitope, predicted_categories)\n",
    "sns.heatmap(mat.T, square = True, annot=True, fmt = \"d\")\n",
    "plt.xlabel(\"true labels\")\n",
    "plt.ylabel(\"predicted label\")\n",
    "plt.show()\n",
    "print(\"The accuracy is {}\".format(accuracy_score(ptData.has_epitope, predicted_categories)))"
   ]
  },
  {
   "cell_type": "code",
   "execution_count": 31,
   "metadata": {
    "tags": []
   },
   "outputs": [
    {
     "output_type": "stream",
     "name": "stdout",
     "text": [
      "An isolated monoclonal antibody, wherein, when bound to PCSK9, said monoclonal antibody binds to at least one residue within the sequence set forth by residues 123-132 of SEQ ID NO: 1, and wherein said monoclonal antibody reduces binding between PCSK9 and an EGFa domain of LDLR protein antagonizes PCSK9's inhibition of cellular LDL uptake. \n\n\nIn some embodiments, the antibody binds to an epitope within residues 31-447 of SEQ ID NO: 3. \n\n\nIn some aspects, the invention comprises a neutralizing antigen binding protein that binds to PCSK9, wherein the antigen binding protein binds to PCSK9 at a location within residues 31-447 of SEQ ID NO: 3. \n\n\nThe antibody binds to PCSK9 at a location within residues 31-447 of SEQ ID NO: 3. \n\n\nIn some aspects, the invention comprises an isolated neutralizing antibody, wherein when the antibody is bound to PCSK9, the antibody is positioned 8 angstroms or less from at least one of the following residues of PCSK9: T468, R469, M470, A471, T472, R496, R499, E501, A502, Q503, R510, H512, F515, P540, P541, A542, E543, H565, W566, E567, V568, E569, R592, E593, S465, G466, P467, A473, I474, R476, G497, E498, M500, G504, K506, L507, V508, A511, N513, A514, G516, V536, T538, A539, A544, T548, D570, L571, H591, A594, S595, and H597 of SEQ ID NO: 3. \n\n\nIn some embodiments, the antibody is positioned 5 angstroms or less from at least one of the following residues of PCSK9: T468, R469, M470, A471, T472, R496, R499, E501, A502, Q503, R510, H512, F515, P540, P541, A542, E543, H565, W566, E567, V568, E569, R592, and E593 of SEQ ID NO: 3. \n\n\nIn some aspects, the invention comprises an isolated antigen binding protein that binds to a PCSK9 protein of SEQ ID NO: 3, wherein the epitope of the antigen binding protein includes at least one of the following amino acids of SEQ ID NO: 1: 207, 208, 181, 185, 439, 513, 538, 539, 132, 351, 390, 413, 582, 162, 164, 167, 123, 129, 311, 313, 337, 519, 521, and 554. \n\n\nIn some embodiments, the antigen binding protein specifically and/or selectively binds to human PCSK9 protein having and/or consisting of residues 153-692 of SEQ ID NO: 3. \n\n\nIn some embodiments the ABP specifically and/or selectively binds to human PCSK9 having and/or consisting of residues 31-152 of SEQ ID NO: 3. \n\n\nAs can be seen from the results summarized in Example 39, in some embodiments an antigen binding protein binds to a domain containing at least one of amino acids: 207, 208, 185, 181, 439, 513, 538, 539, 132, 351, 390, 413, 582, 162, 164, 167, 123, 129, 311, 313, 337, 519, 521, and 554 of SEQ ID NO: 1 or SEQ ID NO: 303. \n\n\nIn some embodiments, the antigen binding protein binds to a region containing at least one of amino acids 207, 208, 185, 181, 439, 513, 538, 539, 132, 351, 390, 413, 582, 162, 164, 167, 123, 129, 311, 313, 337, 519, 521, and 554 of SEQ ID NO: 1 or SEQ ID NO: 303. \n\n\nIn some embodiments, the antigen binding protein binds to a region containing at least one of amino acids 162, 164, 167, 207 and/or 208 of SEQ ID NO: 1 or SEQ ID NO: 303. \n\n\nIn some embodiments, the antigen binding protein binds to a region containing at least one of amino acid 185 of SEQ ID NO: 1 or SEQ ID NO: 303. \n\n\nIn some embodiments, the antigen binding protein binds to a region containing at least one of amino acids 439, 513, 538, and/or 539 of SEQ ID NO: 1 or SEQ ID NO: 303. \n\n\nIn some embodiments, the antigen binding protein binds to a region containing at least one of amino acids 123, 129, 311, 313, 337, 132, 351, 390, and/or 413 of SEQ ID NO: 1 or SEQ ID NO: 303. \n\n\nIn some embodiments, the antigen binding protein binds to a region containing at least one of amino acid 582, 519, 521, and/or 554 of SEQ ID NO: 1 or SEQ ID NO: 303. \n\n\nIn some embodiments, ABP 21B12 binds to an epitope including residues 162-167 (e.g., residues D162-E167 of SEQ ID NO: 1). \n\n\nIn some embodiments, ABP 12H11 binds to an epitope that includes residues 123-132 (e.g., S123-T132 of SEQ ID NO: 1). \n\n\nIn some embodiments, ABP 12H11 binds to an epitope that includes residues 311-313 (e.g., A311-D313 of SEQ ID NO: 1). \n\n\nIn some embodiments, an antigen binding molecule will bind to or within 30 angstroms of one or more of the following residues (numbering in reference to SEQ ID NO: 3): S153, I154, P155, R194, D238, A239, I369, S372, D374, C375, T377, C378, F379, V380, S381, W156, N157, L158, E159, H193, E195, H229, R237, G240, K243, D367, I368, G370, A371, S373, S376, Q382, W72, F150, A151, Q152, T214, R215, F216, H217, A220, S221, K222, S225, H226, C255, Q256, G257, K258, N317, F318, T347, L348, G349, T350, L351, E366, D367, D374, V380, S381, Q382, S383, G384, K69, D70, P71, S148, V149, D186, T187, E211, D212, G213, R218, Q219, C223, D224, G227, H229, L253, N254, G259, P288, A290, G291, G316, R319, Y325, V346, G352, T353, G365, I368, I369, S372, S373, C378, F379, T385, S386, Q387, S153, S188, I189, Q190, S191, D192, R194, E197, G198, R199, V200, D224, R237, D238, K243, S373, D374, S376, T377, F379, I154, T187, H193, E195, I196, M201, V202, C223, T228, S235, G236, A239, G244, M247, I369, S372, C375, or C378. \n\n\nIn some embodiments, the antigen binding molecule binds within 30 angstroms of one or more of the following residues (numbering in reference to SEQ ID NO: 3): S153, I154, P155, R194, D238, A239, I369, S372, D374, C375, T377, C378, F379, V380, S381, W156, N157, L158, E159, H193, E195, H229, R237, G240, K243, D367, I368, G370, A371, S373, S376, or Q382. \n\n\nIn some embodiments, the antigen binding molecule binds within 30 angstroms of one or more of the following residues (numbering in reference to SEQ ID NO: 3): W72, F150, A151, Q152, T214, R215, F216, H217, A220, S221, K222, S225, H226, C255, Q256, G257, K258, N317, F318, T347, L348, G349, T350, L351, E366, D367, D374, V380, S381, Q382, S383, G384, K69, D70, P71, S148, V149, D186, T187, E211, D212, G213, R218, Q219, C223, D224, G227, H229, L253, N254, G259, P288, A290, G291, G316, R319, Y325, V346, G352, T353, G365, I368, I369, S372, S373, C378, F379, T385, S386, or Q387. \n\n\nIn some embodiments, the antigen binding molecule binds within 30 angstroms of one or more of the following residues (numbering in reference to SEQ ID NO: 3): S153, S188, I189, Q190, S191, D192, R194, E197, G198, R199, V200, D224, R237, D238, K243, S373, D374, S376, T377, F379, I154, T187, H193, E195, I196, M201, V202, C223, T228, S235, G236, A239, G244, M247, I369, S372, C375, or C378. \n\n\nIn some embodiments, the ABP binds to or interacts with at least one of the following PCSK9 (SEQ ID NO: 3) residues: T468, R469, M470, A471, T472, R496, R499, E501, A502, Q503, R510, H512, F515, P540, P541, A542, E543, H565, W566, E567, V568, E569, R592, and E593. \n\n\nIn some embodiments, the ABP binds to or interacts with at least one of the following PCSK9 (SEQ ID NO: 3) residues: S465, G466, P467, A473, I474, R476, G497, E498, M500, G504, K506, L507, V508, A511, N513, A514, G516, V536, T538, A539, A544, T548, D570, L571, H591, A594, S595, and H597. \n\n\nIn certain embodiments, an antibody or an antibody fragment that binds to PCSK9 or a fragment thereof is provided, wherein the antibody binds to an epitope within a fragment of PCSK9 comprising amino acids 376 to 379 of human PCSK9 amino acid sequence of SEQ ID NO:24. \n\n\nIn certain embodiments, an antibody is provided that binds to an epitope within a fragment of PCSK9 comprising amino acids 376 to 379 of human PCSK9 amino acid sequence of SEQ ID NO:24. \n\n\nAn isolated PCSK9-specific antagonist antibody or antigen-binding portion thereof that binds to the same or an overlapping epitope as a Fab which comprises a light chain comprising SEQ ID NO: 1 and an Fd chain comprising amino acids 1-233 of SEQ ID NO: 9; wherein said antagonist: (a) inhibits the binding of the Fab to PCSK9 by at least 50%; and (b) antagonizes (i) PCSK9 binding to the LDL receptor and/or (ii) PCSK9 internalization into cells. \n\n\nSpecific embodiments of the present invention provide an antibody molecule as defined in accordance with the present invention which comprises, as part of its immunoglobulin structure, SEQ ID NO: 24 and, in particular embodiments, residues 107-326 of SEQ ID NO: 24 as part of the immunoglobulin structure. \n\n\nOne specific embodiment of the present invention is isolated nucleic acid which encodes for antibody molecules comprising as part of their immunoglobulin structure SEQ ID NO: 24 and, in particular embodiments, residues 107-326 of SEQ ID NO: 24. \n\n\nIn another embodiment, the invention provides an antibody to human PCSK9, wherein the antibody recognizes an epitope on human PCSK9 comprising amino acid residues 153-155, 194, 195, 197, 237-239, 367, 369, 374-379 and 381 of the PCSK9 amino acid sequence of SEQ ID NO: 53. \n\n\nThe epitope for L1L3 binding to PCSK9 involves residues 153-155, 194, 197, 237-239, 367, 369, 374-379 and 381 of the PCSK9 amino acid sequence (SEQ ID NO:53). \n\n\n"
     ]
    }
   ],
   "source": [
    "for _, row in ptData[ptData.has_epitope == predicted_categories].iterrows():\n",
    "    #print(row[2])\n",
    "    if row.has_epitope == 1:\n",
    "        print(row.sentence, '\\n\\n')"
   ]
  },
  {
   "cell_type": "code",
   "execution_count": 84,
   "metadata": {},
   "outputs": [],
   "source": [
    "ep_regex = re.compile('\\s[A-Z]?\\d+[),.\\s-]+[A-Z]?\\d*')\n",
    "s1 = \"An isolated monoclonal antibody, wherein, when bound to PCSK9, said monoclonal antibody binds to at least one residue within the sequence set forth by residues 123-132 of SEQ ID NO: 1, and wherein said monoclonal antibody reduces binding between PCSK9 and an EGFa domain of LDLR protein antagonizes PCSK9's inhibition of cellular LDL uptake.\" \n",
    "s2 = \"In some embodiments, the antibody binds to an epitope within residues 31-447 of SEQ ID NO: 3.\"\n",
    "s3 = \"In some aspects, the invention comprises an isolated neutralizing antibody, wherein when the antibody is bound to PCSK9, the antibody is positioned 8 angstroms or less from at least one of the following residues of PCSK9: T468, R469, M470, A471, T472, R496, R499, E501, A502, Q503, R510, H512, F515, P540, P541, A542, E543, H565, W566, E567, V568, E569, R592, E593, S465, G466, P467, A473, I474, R476, G497, E498, M500, G504, K506, L507, V508, A511, N513, A514, G516, V536, T538, A539, A544, T548, D570, L571, H591, A594, S595, and H597 of SEQ ID NO: 3.\"\n"
   ]
  },
  {
   "cell_type": "code",
   "execution_count": 85,
   "metadata": {},
   "outputs": [
    {
     "output_type": "stream",
     "name": "stdout",
     "text": [
      "['1']\n['123-132']\n"
     ]
    }
   ],
   "source": [
    "s1_matches = re.finditer(ep_regex, s1)\n",
    "seq_id = []\n",
    "epitopes = []\n",
    "for match in s1_matches:\n",
    "    if 'SEQ ID' in s1[match.span()[0] - 15:match.span()[1]]:\n",
    "        seq_id.append(match.group().strip().strip(',').strip('.'))\n",
    "    else:\n",
    "        epitopes.append(match.group().strip())\n",
    "print(seq_id)\n",
    "print(epitopes)"
   ]
  },
  {
   "cell_type": "code",
   "execution_count": 86,
   "metadata": {},
   "outputs": [
    {
     "output_type": "stream",
     "name": "stdout",
     "text": [
      "['3']\n['31-447']\n"
     ]
    }
   ],
   "source": [
    "s2_matches = re.finditer(ep_regex, s2)\n",
    "seq_id2 = []\n",
    "epitopes2 = []\n",
    "for match in s2_matches:\n",
    "    if 'SEQ ID' in s2[match.span()[0] - 15:match.span()[1]]:\n",
    "        seq_id2.append(match.group().strip().strip(',').strip('.'))\n",
    "    else:\n",
    "        epitopes2.append(match.group().strip())\n",
    "print(seq_id2)\n",
    "print(epitopes2)"
   ]
  },
  {
   "cell_type": "code",
   "execution_count": 87,
   "metadata": {},
   "outputs": [
    {
     "output_type": "stream",
     "name": "stdout",
     "text": [
      "['3']\n['8', 'T468, R469', 'M470, A471', 'T472, R496', 'R499, E501', 'A502, Q503', 'R510, H512', 'F515, P540', 'P541, A542', 'E543, H565', 'W566, E567', 'V568, E569', 'R592, E593', 'S465, G466', 'P467, A473', 'I474, R476', 'G497, E498', 'M500, G504', 'K506, L507', 'V508, A511', 'N513, A514', 'G516, V536', 'T538, A539', 'A544, T548', 'D570, L571', 'H591, A594', 'S595,', 'H597']\n"
     ]
    }
   ],
   "source": [
    "s3_matches = re.finditer(ep_regex, s3)\n",
    "seq_id3 = []\n",
    "epitopes3 = []\n",
    "for match in s3_matches:\n",
    "    if 'SEQ ID' in s3[match.span()[0] - 15:match.span()[1]]:\n",
    "        seq_id3.append(match.group().strip().strip(',').strip('.'))\n",
    "    else:\n",
    "        epitopes3.append(match.group().strip())\n",
    "print(seq_id3)\n",
    "print(epitopes3)"
   ]
  },
  {
   "cell_type": "code",
   "execution_count": null,
   "metadata": {},
   "outputs": [],
   "source": []
  },
  {
   "cell_type": "code",
   "execution_count": 89,
   "metadata": {
    "tags": [
     "outputPrepend"
    ]
   },
   "outputs": [
    {
     "output_type": "stream",
     "name": "stdout",
     "text": [
      "t one residue within the sequence set forth by residues 123-132 of SEQ ID NO: 1, and wherein said monoclonal antibody reduces binding between PCSK9 and an EGFa domain of LDLR protein antagonizes PCSK9's inhibition of cellular LDL uptake.\n['1']\n['123-132']\nIn some embodiments, the antibody binds to an epitope within residues 31-447 of SEQ ID NO: 3.\n['3']\n['31-447']\nIn some embodiments, the antibody binds to PCSK9 having an amino acid sequence that is at least 90% identical to SEQ ID NO: 3.\n['3']\n[]\nIn some aspects, the invention comprises a neutralizing antigen binding protein that binds to PCSK9, wherein the antigen binding protein binds to PCSK9 at a location within residues 31-447 of SEQ ID NO: 3.\n['3']\n['31-447']\nThe antibody binds to PCSK9 at a location within residues 31-447 of SEQ ID NO: 3.\n['3']\n['31-447']\nIn some aspects, the invention comprises an isolated neutralizing antibody, wherein when the antibody is bound to PCSK9, the antibody is positioned 8 angstroms or less from at least one of the following residues of PCSK9: T468, R469, M470, A471, T472, R496, R499, E501, A502, Q503, R510, H512, F515, P540, P541, A542, E543, H565, W566, E567, V568, E569, R592, E593, S465, G466, P467, A473, I474, R476, G497, E498, M500, G504, K506, L507, V508, A511, N513, A514, G516, V536, T538, A539, A544, T548, D570, L571, H591, A594, S595, and H597 of SEQ ID NO: 3.\n['3']\n['8', 'T468, R469', 'M470, A471', 'T472, R496', 'R499, E501', 'A502, Q503', 'R510, H512', 'F515, P540', 'P541, A542', 'E543, H565', 'W566, E567', 'V568, E569', 'R592, E593', 'S465, G466', 'P467, A473', 'I474, R476', 'G497, E498', 'M500, G504', 'K506, L507', 'V508, A511', 'N513, A514', 'G516, V536', 'T538, A539', 'A544, T548', 'D570, L571', 'H591, A594', 'S595,', 'H597']\nIn some embodiments, the antibody is positioned 5 angstroms or less from at least one of the following residues of PCSK9: T468, R469, M470, A471, T472, R496, R499, E501, A502, Q503, R510, H512, F515, P540, P541, A542, E543, H565, W566, E567, V568, E569, R592, and E593 of SEQ ID NO: 3.\n['3']\n['5', 'T468, R469', 'M470, A471', 'T472, R496', 'R499, E501', 'A502, Q503', 'R510, H512', 'F515, P540', 'P541, A542', 'E543, H565', 'W566, E567', 'V568, E569', 'R592,', 'E593']\nIn some aspects, the invention comprises an isolated antigen binding protein that binds to a PCSK9 protein of SEQ ID NO: 1 where the binding between said isolated antigen binding protein and a variant PCSK9 protein is less than 50% of the binding between the isolated antigen binding protein and the PCSK9 protein of SEQ ID NO: 1 and/or SEQ ID NO: 303.\n['1', '1', '303']\n[]\nIn some embodiments, the variant PCSK9 protein comprises at least one mutation of a residue at a position selected from the group consisting or comprising 207, 208, 185, 181, 439, 513, 538, 539, 132, 351, 390, 413, 582, 162, 164, 167, 123, 129, 311, 313, 337, 519, 521, and 554, as shown in SEQ ID NO: 1.\n['1']\n['207, 208', '185, 181', '439, 513', '538, 539', '132, 351', '390, 413', '582, 162', '164, 167', '123, 129', '311, 313', '337, 519', '521,', '554,']\nIn some aspects, the invention comprises an antigen binding protein that binds to a PCSK-9 protein of SEQ ID NO: 303 in a first manner and binds to a variant of PCSK9 in a second manner.\n['303']\n[]\nIn some aspects, the invention comprises an isolated antigen binding protein that binds to a PCSK9 protein of SEQ ID NO: 3, wherein the epitope of the antigen binding protein includes at least one of the following amino acids of SEQ ID NO: 1: 207, 208, 181, 185, 439, 513, 538, 539, 132, 351, 390, 413, 582, 162, 164, 167, 123, 129, 311, 313, 337, 519, 521, and 554.\n['3', '207, 208']\n['181, 185', '439, 513', '538, 539', '132, 351', '390, 413', '582, 162', '164, 167', '123, 129', '311, 313', '337, 519', '521,', '554.']\nIn some aspects, the invention comprises an isolated neutralizing antigen binding protein that binds to a PCSK9 protein comprising the amino acid sequence of SEQ ID NO: 1, wherein the neutralizing antigen binding protein decreases the LDLR lowering effect of PCSK9 on LDLR.\n['1']\n[]\nIn some embodiments, the antigen binding protein specifically and/or selectively binds to human PCSK9 protein having and/or consisting of residues 153-692 of SEQ ID NO: 3.\n['3']\n['153-692']\nIn some embodiments the ABP specifically and/or selectively binds to human PCSK9 having and/or consisting of residues 31-152 of SEQ ID NO: 3.\n['3']\n['31-152']\nIn some embodiments, a significant reduction in binding is evidenced when binding of an antigen binding protein to a variant PCSK9 protein is less than 50% (for example, less than 40%, 35%, 30%, 25%, 20%, 15% or 10%) of the binding observed between the antigen binding protein and a wild-type PCSK9 protein (for example, the protein of SEQ ID NO: 1 and/or SEQ ID NO: (303).\n['1']\n[]\nIn some embodiments, antigen binding proteins are provided that exhibit significantly lower binding for a variant PCSK9 protein in which a residue in a wild-type PCSK9 protein (e.g., SEQ ID NO: 1 or SEQ ID NO: 303 is substituted with arginine or glutamic acid.\n['1', '303']\n[]\nIn the shorthand notation used here, the format is: Wild type residue: Position in polypeptide: Mutant residue, with the numbering of the residues as indicated in SEQ ID NO: lor SEQ ID NO: 303.\n['303']\n[]\nIn some embodiments, binding of an antigen binding protein is significantly reduced or increased for a mutant PCSK9 protein having one or more (e.g., 1, 2, 3, 4, 5, or more) mutations at the following positions: 207, 208, 185, 181, 439, 513, 538, 539, 132, 351, 390, 413, 582, 162, 164, 167, 123, 129, 311, 313, 337, 519, 521, and 554, as shown in SEQ ID NO: 1 as compared to a wild-type PCSK9 protein (e.g., SEQ ID NO: 1 or SEQ ID NO: 303.\n['1', '1', '303']\n['1, 2', '3, 4', '5,', '207, 208', '185, 181', '439, 513', '538, 539', '132, 351', '390, 413', '582, 162', '164, 167', '123, 129', '311, 313', '337, 519', '521,', '554,']\nIn some embodiments, binding of an antigen binding protein is reduced or increased for a mutant PCSK9 protein having one or more (e.g., 1, 2, 3, 4, 5, or more) mutations at the following positions: 207, 208, 185, 181, 439, 513, 538, 539, 132, 351, 390, 413, 582, 162, 164, 167, 123, 129, 311, 313, 337, 519, 521, and 554, as shown in SEQ ID NO: 1 as compared to a wild-type PCSK9 protein (e.g., SEQ ID NO: 1 or SEQ ID NO: 303.\n['1', '1', '303']\n['1, 2', '3, 4', '5,', '207, 208', '185, 181', '439, 513', '538, 539', '132, 351', '390, 413', '582, 162', '164, 167', '123, 129', '311, 313', '337, 519', '521,', '554,']\nIn some embodiments, binding of an antigen binding protein is substantially reduced or increased for a mutant PCSK9 protein having one or more (e.g., 1, 2, 3, 4, 5, or more) mutations at the following positions: 207, 208, 185, 181, 439, 513, 538, 539, 132, 351, 390, 413, 582, 162, 164, 167, 123, 129, 311, 313, 337, 519, 521, and 554, within SEQ ID NO: 1 as compared to a wild-type PCSK9 protein (e.g., SEQ ID NO: 1 or SEQ ID NO: 303.\n['1', '1', '303']\n['1, 2', '3, 4', '5,', '207, 208', '185, 181', '439, 513', '538, 539', '132, 351', '390, 413', '582, 162', '164, 167', '123, 129', '311, 313', '337, 519', '521,', '554,']\nThese residues can thus provide an indication of the domains or regions of SEQ ID NO: 1 (or SEQ ID NO: 303 or SEQ ID NO: 3) that contain the binding region(s) to which antigen binding proteins bind.\n['1', '303', '3']\n[]\nAs can be seen from the results summarized in Example 39, in some embodiments an antigen binding protein binds to a domain containing at least one of amino acids: 207, 208, 185, 181, 439, 513, 538, 539, 132, 351, 390, 413, 582, 162, 164, 167, 123, 129, 311, 313, 337, 519, 521, and 554 of SEQ ID NO: 1 or SEQ ID NO: 303.\n['1', '303']\n['39,', '207, 208', '185, 181', '439, 513', '538, 539', '132, 351', '390, 413', '582, 162', '164, 167', '123, 129', '311, 313', '337, 519', '521,', '554']\nIn some embodiments, the antigen binding protein binds to a region containing at least one of amino acids 207, 208, 185, 181, 439, 513, 538, 539, 132, 351, 390, 413, 582, 162, 164, 167, 123, 129, 311, 313, 337, 519, 521, and 554 of SEQ ID NO: 1 or SEQ ID NO: 303.\n['1', '303']\n['207, 208', '185, 181', '439, 513', '538, 539', '132, 351', '390, 413', '582, 162', '164, 167', '123, 129', '311, 313', '337, 519', '521,', '554']\nIn some embodiments, the antigen binding protein binds to a region containing at least one of amino acids 162, 164, 167, 207 and/or 208 of SEQ ID NO: 1 or SEQ ID NO: 303.\n['1', '303']\n['162, 164', '167, 207', '208']\nIn some embodiments, the antigen binding protein binds to a region containing at least one of amino acid 185 of SEQ ID NO: 1 or SEQ ID NO: 303.\n['1', '303']\n['185']\nIn some embodiments, the antigen binding protein binds to a region containing at least one of amino acids 439, 513, 538, and/or 539 of SEQ ID NO: 1 or SEQ ID NO: 303.\n['1', '303']\n['439, 513', '538,', '539']\nIn some embodiments, the antigen binding protein binds to a region containing at least one of amino acids 123, 129, 311, 313, 337, 132, 351, 390, and/or 413 of SEQ ID NO: 1 or SEQ ID NO: 303.\n['1', '303']\n['123, 129', '311, 313', '337, 132', '351, 390', '413']\nIn some embodiments, the antigen binding protein binds to a region containing at least one of amino acid 582, 519, 521, and/or 554 of SEQ ID NO: 1 or SEQ ID NO: 303.\n['1', '303']\n['582, 519', '521,', '554']\nIn some embodiments, the antigen binding proteins binds to the foregoing regions within a fragment or the full length sequence of SEQ ID NO: 1 or SEQ ID NO: 303.\n['1', '303']\n[]\nIn some embodiments, ABP 21B12 binds to an epitope including residues 162-167 (e.g., residues D162-E167 of SEQ ID NO: 1).\n['1']\n['162-167', 'D162-E167']\nIn some embodiments, ABP 12H11 binds to an epitope that includes residues 123-132 (e.g., S123-T132 of SEQ ID NO: 1).\n['1']\n['123-132', 'S123-T132']\nIn some embodiments, ABP 12H11 binds to an epitope that includes residues 311-313 (e.g., A311-D313 of SEQ ID NO: 1).\n['1']\n['311-313', 'A311-D313']\nIn some embodiments, an antigen binding molecule will bind to or within 30 angstroms of one or more of the following residues (numbering in reference to SEQ ID NO: 3): S153, I154, P155, R194, D238, A239, I369, S372, D374, C375, T377, C378, F379, V380, S381, W156, N157, L158, E159, H193, E195, H229, R237, G240, K243, D367, I368, G370, A371, S373, S376, Q382, W72, F150, A151, Q152, T214, R215, F216, H217, A220, S221, K222, S225, H226, C255, Q256, G257, K258, N317, F318, T347, L348, G349, T350, L351, E366, D367, D374, V380, S381, Q382, S383, G384, K69, D70, P71, S148, V149, D186, T187, E211, D212, G213, R218, Q219, C223, D224, G227, H229, L253, N254, G259, P288, A290, G291, G316, R319, Y325, V346, G352, T353, G365, I368, I369, S372, S373, C378, F379, T385, S386, Q387, S153, S188, I189, Q190, S191, D192, R194, E197, G198, R199, V200, D224, R237, D238, K243, S373, D374, S376, T377, F379, I154, T187, H193, E195, I196, M201, V202, C223, T228, S235, G236, A239, G244, M247, I369, S372, C375, or C378.\n['3', 'S153, I154']\n['30', 'P155, R194', 'D238, A239', 'I369, S372', 'D374, C375', 'T377, C378', 'F379, V380', 'S381, W156', 'N157, L158', 'E159, H193', 'E195, H229', 'R237, G240', 'K243, D367', 'I368, G370', 'A371, S373', 'S376, Q382', 'W72, F150', 'A151, Q152', 'T214, R215', 'F216, H217', 'A220, S221', 'K222, S225', 'H226, C255', 'Q256, G257', 'K258, N317', 'F318, T347', 'L348, G349', 'T350, L351', 'E366, D367', 'D374, V380', 'S381, Q382', 'S383, G384', 'K69, D70', 'P71, S148', 'V149, D186', 'T187, E211', 'D212, G213', 'R218, Q219', 'C223, D224', 'G227, H229', 'L253, N254', 'G259, P288', 'A290, G291', 'G316, R319', 'Y325, V346', 'G352, T353', 'G365, I368', 'I369, S372', 'S373, C378', 'F379, T385', 'S386, Q387', 'S153, S188', 'I189, Q190', 'S191, D192', 'R194, E197', 'G198, R199', 'V200, D224', 'R237, D238', 'K243, S373', 'D374, S376', 'T377, F379', 'I154, T187', 'H193, E195', 'I196, M201', 'V202, C223', 'T228, S235', 'G236, A239', 'G244, M247', 'I369, S372', 'C375,', 'C378.']\nIn some embodiments, the antigen binding molecule binds within 30 angstroms of one or more of the following residues (numbering in reference to SEQ ID NO: 3): S153, I154, P155, R194, D238, A239, I369, S372, D374, C375, T377, C378, F379, V380, S381, W156, N157, L158, E159, H193, E195, H229, R237, G240, K243, D367, I368, G370, A371, S373, S376, or Q382.\n['3', 'S153, I154']\n['30', 'P155, R194', 'D238, A239', 'I369, S372', 'D374, C375', 'T377, C378', 'F379, V380', 'S381, W156', 'N157, L158', 'E159, H193', 'E195, H229', 'R237, G240', 'K243, D367', 'I368, G370', 'A371, S373', 'S376,', 'Q382.']\nIn some embodiments, the antigen binding molecule binds within 30 angstroms of one or more of the following residues (numbering in reference to SEQ ID NO: 3): W72, F150, A151, Q152, T214, R215, F216, H217, A220, S221, K222, S225, H226, C255, Q256, G257, K258, N317, F318, T347, L348, G349, T350, L351, E366, D367, D374, V380, S381, Q382, S383, G384, K69, D70, P71, S148, V149, D186, T187, E211, D212, G213, R218, Q219, C223, D224, G227, H229, L253, N254, G259, P288, A290, G291, G316, R319, Y325, V346, G352, T353, G365, I368, I369, S372, S373, C378, F379, T385, S386, or Q387.\n['3', 'W72, F150']\n['30', 'A151, Q152', 'T214, R215', 'F216, H217', 'A220, S221', 'K222, S225', 'H226, C255', 'Q256, G257', 'K258, N317', 'F318, T347', 'L348, G349', 'T350, L351', 'E366, D367', 'D374, V380', 'S381, Q382', 'S383, G384', 'K69, D70', 'P71, S148', 'V149, D186', 'T187, E211', 'D212, G213', 'R218, Q219', 'C223, D224', 'G227, H229', 'L253, N254', 'G259, P288', 'A290, G291', 'G316, R319', 'Y325, V346', 'G352, T353', 'G365, I368', 'I369, S372', 'S373, C378', 'F379, T385', 'S386,', 'Q387.']\nIn some embodiments, the antigen binding molecule binds within 30 angstroms of one or more of the following residues (numbering in reference to SEQ ID NO: 3): S153, S188, I189, Q190, S191, D192, R194, E197, G198, R199, V200, D224, R237, D238, K243, S373, D374, S376, T377, F379, I154, T187, H193, E195, I196, M201, V202, C223, T228, S235, G236, A239, G244, M247, I369, S372, C375, or C378.\n['3', 'S153, S188']\n['30', 'I189, Q190', 'S191, D192', 'R194, E197', 'G198, R199', 'V200, D224', 'R237, D238', 'K243, S373', 'D374, S376', 'T377, F379', 'I154, T187', 'H193, E195', 'I196, M201', 'V202, C223', 'T228, S235', 'G236, A239', 'G244, M247', 'I369, S372', 'C375,', 'C378.']\nIn some embodiments, the ABP binds to or interacts with at least one of the following PCSK9 (SEQ ID NO: 3) residues: T468, R469, M470, A471, T472, R496, R499, E501, A502, Q503, R510, H512, F515, P540, P541, A542, E543, H565, W566, E567, V568, E569, R592, and E593.\n['3']\n['T468, R469', 'M470, A471', 'T472, R496', 'R499, E501', 'A502, Q503', 'R510, H512', 'F515, P540', 'P541, A542', 'E543, H565', 'W566, E567', 'V568, E569', 'R592,', 'E593.']\nIn some embodiments, the ABP binds to or interacts with at least one of the following PCSK9 (SEQ ID NO: 3) residues: S465, G466, P467, A473, I474, R476, G497, E498, M500, G504, K506, L507, V508, A511, N513, A514, G516, V536, T538, A539, A544, T548, D570, L571, H591, A594, S595, and H597.\n['3']\n['S465, G466', 'P467, A473', 'I474, R476', 'G497, E498', 'M500, G504', 'K506, L507', 'V508, A511', 'N513, A514', 'G516, V536', 'T538, A539', 'A544, T548', 'D570, L571', 'H591, A594', 'S595,', 'H597.']\nThe residues in the structural epitope of the various antibodies determined by EC50 shift are shown in Table 39.3 (point mutations are with reference to SEQ ID NO: 1 and 303)    TABLE-US-00020 TABLE 39.3 FDR.Adjusted.\n['1']\n['39.3', '303)    T', '39.3']\nAs noted above, the above binding data and epitope characterization references a PCSK9 sequence (SEQ ID NO: 1) that does not include the first 30 amino acids of PCSK9.\n['1']\n['30']\nIn certain embodiments, an antibody or an antibody fragment that binds to PCSK9 or a fragment thereof is provided, wherein the antibody binds to an epitope within a fragment of PCSK9 comprising amino acids 376 to 379 of human PCSK9 amino acid sequence of SEQ ID NO:24.\n[]\n['376', '379']\nIn certain embodiments, an antibody is provided that binds to an epitope within a fragment of PCSK9 comprising amino acids 376 to 379 of human PCSK9 amino acid sequence of SEQ ID NO:24.\n[]\n['376', '379']\nAn isolated PCSK9-specific antagonist antibody or antigen-binding portion thereof that binds to the same or an overlapping epitope as a Fab which comprises a light chain comprising SEQ ID NO: 1 and an Fd chain comprising amino acids 1-233 of SEQ ID NO: 9; wherein said antagonist: (a) inhibits the binding of the Fab to PCSK9 by at least 50%; and (b) antagonizes (i) PCSK9 binding to the LDL receptor and/or (ii) PCSK9 internalization into cells.\n['1']\n['1-233']\n6 illustrates a sequence comparison of the constant domains of IgG1 (SEQ ID NO: 21; Fc domain of which is represented by residues 110-130 of SEQ ID NO: 21), IgG2 (SEQ ID NO: 22, Fc domain of which is represented by residues 107-326 of SEQ ID NO: 22), IgG4 (SEQ ID NO: 23; Fc domain of which is represented by residues 107-327 of SEQ ID NO: 23) and IgG2m4 (SEQ ID NO: 24; Fc domain of which is represented by residues 107-326 of SEQ ID NO: 24) isotypes.\n['21), I', '22, F', '22), I', '23', '24']\n['110-130', '107-326', '107-327', '107-326']\nThe narrow epitope comprising these amino acid residues is represented by SEQ ID NO: 37 and falls within the area of SEQ ID NO: 39 of human PCSK9 and SEQ ID NO: 41 of murine PCSK9.\n['37', '39', '41']\n[]\nMonoclonal antibodies that specifically bind to the conformational epitope represented by SEQ ID NO: 37 and SEQ ID NO:42 or an overlapping epitope antagonize or neutralize (i) PCSK9 binding to the LDL receptor; (ii) PCSK9 internalization into cells, or (iii) both.\n['37']\n[]\nAdditional embodiments provide PCSK9-specific antagonists including but not limited to monoclonal antibodies that recognize/bind to SEQ ID NO: 37, SEQ ID NO: 39 or SEQ ID NO: 41, wherein the PCSK9-specific antagonists bind to human and/or murine PCSK9 with a K.sub.D of 1.2.times.10.sup.-6 M or less, and wherein the PCSK9-specific antagonist competes with 1D05 for binding to PCSK9.\n['37, S', '39', '41']\n['1.2']\nIn specific embodiments, the PCSK9-specific antagonists bind to/recognize both SEQ ID NOs: 37 and SEQ ID NO: 42.\n['37', '42']\n[]\nIn any of the above assays for identifying antibodies binding the same or overlapping epitope region as 1D05, binding of the known binder (i.e., 1D05 antibody molecule known to bind residues Arg194, Glu197 and Arg199 of SEQ ID NO: 37) as compared to the binding of the candidate binder should be distinguishable.\n['37']\n[]\nany antibody molecule selective for PCSK9 which comprises a VL comprising SEQ ID NO: 27 and a VH comprising SEQ ID NO: 11) as shown by a decrease in binding of such 1D05 antibody molecule then it is likely that the peptide and 1D05 bind to the same, or a closely related, epitope.\n['27', '11']\n[]\nSpecific embodiments of the present invention provide an antibody molecule as defined in accordance with the present invention which comprises, as part of its immunoglobulin structure, SEQ ID NO: 24 and, in particular embodiments, residues 107-326 of SEQ ID NO: 24 as part of the immunoglobulin structure.\n['24', '24']\n['107-326']\nOne specific embodiment of the present invention is isolated nucleic acid which encodes for antibody molecules comprising as part of their immunoglobulin structure SEQ ID NO: 24 and, in particular embodiments, residues 107-326 of SEQ ID NO: 24.\n['24', '24']\n['107-326']\nIn another embodiment, the invention provides an antibody to human PCSK9, wherein the antibody recognizes an epitope on human PCSK9 comprising amino acid residues 153-155, 194, 195, 197, 237-239, 367, 369, 374-379 and 381 of the PCSK9 amino acid sequence of SEQ ID NO: 53.\n['53']\n['153-155', '194, 195', '197, 237', '367, 369', '374-379', '381']\nThe epitope for L1L3 binding to PCSK9 involves residues 153-155, 194, 197, 237-239, 367, 369, 374-379 and 381 of the PCSK9 amino acid sequence (SEQ ID NO:53).\n[]\n['153-155', '194, 197', '237-239', '367, 369', '374-379', '381']\n"
     ]
    }
   ],
   "source": [
    "for _, row in ptData[predicted_categories == 1].iterrows():\n",
    "    s3_matches = re.finditer(ep_regex, row.sentence)\n",
    "    seq_id3 = []\n",
    "    epitopes3 = []\n",
    "    for match in s3_matches:\n",
    "        if 'SEQ ID' in row.sentence[match.span()[0] - 15:match.span()[1]]:\n",
    "            seq_id3.append(match.group().strip().strip(',').strip('.').strip(')'))\n",
    "        else:\n",
    "            epitopes3.append(match.group().strip())\n",
    "    print(row.sentence)\n",
    "    print(seq_id3)\n",
    "    print(epitopes3)"
   ]
  },
  {
   "cell_type": "code",
   "execution_count": 90,
   "metadata": {},
   "outputs": [
    {
     "output_type": "execute_result",
     "data": {
      "text/plain": [
       "array([    8563698, 20120195910,     8188234,     8080243])"
      ]
     },
     "metadata": {},
     "execution_count": 90
    }
   ],
   "source": [
    "ptData.patent.unique()"
   ]
  },
  {
   "cell_type": "code",
   "execution_count": null,
   "metadata": {},
   "outputs": [],
   "source": []
  },
  {
   "cell_type": "code",
   "execution_count": null,
   "metadata": {},
   "outputs": [],
   "source": []
  },
  {
   "cell_type": "code",
   "execution_count": null,
   "metadata": {},
   "outputs": [],
   "source": []
  },
  {
   "cell_type": "code",
   "execution_count": null,
   "metadata": {},
   "outputs": [],
   "source": []
  },
  {
   "cell_type": "code",
   "execution_count": null,
   "metadata": {},
   "outputs": [],
   "source": []
  },
  {
   "cell_type": "code",
   "execution_count": 91,
   "metadata": {},
   "outputs": [],
   "source": [
    "import requests\n",
    "response = requests.get('https://uspto-documents-storage.s3.amazonaws.com/docs/US8829165B2.xml')"
   ]
  },
  {
   "cell_type": "code",
   "execution_count": 92,
   "metadata": {},
   "outputs": [],
   "source": [
    "import xml.etree.ElementTree as et\n",
    "\n",
    "class Patent:\n",
    "    def __init__(self, patent_id):\n",
    "        self.patentNumber = patent_id\n",
    "        self.__process_xml()\n",
    "      \n",
    "        \n",
    "    def __process_xml(self):\n",
    "        tree = et.parse(self.patentNumber + '.xml')\n",
    "        root = tree.getroot()\n",
    "        self.patentName = root.find('.//invention-title').text\n",
    "        self.patentDate = root.find('.//publication-reference').find('.//date').text\n",
    "        self.inventors = [el.find('.//first-name').text + ' ' + \n",
    "                            el.find('.//last-name').text\n",
    "                            for el in root.findall('.//inventor')]\n",
    "        self.abstract = ' '.join([' '.join(el.itertext()) \n",
    "                            for el in root.findall('.//abstract')])\n",
    "        self.description = ' '.join([' '.join(el.itertext()) \n",
    "                            for el in root.findall('.//description')])\n",
    "        self.claims = [' '.join(el.itertext()) \n",
    "                            for el in root.findall('.//claim')]\n",
    "        self.patentAssignees = [el.find('.//orgname').text \n",
    "                            for el in root.findall('.//assignee')]\n",
    "        self.applicants = [el.find('.//orgname').text \n",
    "                                for el in root.findall('.//us-applicant')]\n",
    "        self.examiners = root.find('.//primary-examiner').find('.//first-name').text + ' ' + root.find('.//primary-examiner').find('.//last-name').text\n",
    "        self.claimsCount = len(self.claims)\n",
    "        self.appNumber = root.find('.//application-reference').find('.//doc-number').text\n",
    "        self.appDate = root.find('.//application-reference').find('.//date').text"
   ]
  },
  {
   "cell_type": "code",
   "execution_count": 94,
   "metadata": {},
   "outputs": [],
   "source": [
    "with open('test.xml', 'wb') as f:\n",
    "    f.write(response.content)\n",
    "patent = Patent('test')"
   ]
  },
  {
   "cell_type": "code",
   "execution_count": null,
   "metadata": {},
   "outputs": [],
   "source": []
  },
  {
   "cell_type": "code",
   "execution_count": 96,
   "metadata": {},
   "outputs": [
    {
     "output_type": "execute_result",
     "data": {
      "text/plain": [
       "'Antigen binding proteins to proprotein convertase subtilisin kexin type 9 (PCSK9)'"
      ]
     },
     "metadata": {},
     "execution_count": 96
    }
   ],
   "source": [
    "patent.patentName"
   ]
  },
  {
   "cell_type": "code",
   "execution_count": 100,
   "metadata": {},
   "outputs": [],
   "source": [
    "raw_sentences = []\n",
    "raw_sentences += sent_tokenize(patent.abstract)\n",
    "raw_sentences += patent.claims\n",
    "raw_sentences += sent_tokenize(patent.description)"
   ]
  },
  {
   "cell_type": "code",
   "execution_count": 103,
   "metadata": {},
   "outputs": [
    {
     "output_type": "stream",
     "name": "stdout",
     "text": [
      "['1. An isolated monoclonal antibody, wherein, when bound to PCSK9, the monoclonal antibody binds to at least one of the following residues: S153, I154, P155, R194, D238, A239, I369, S372, D374, C375, T377, C378, F379, V380, or S381 of SEQ ID NO:3, and wherein the monoclonal antibody blocks binding of PCSK9 to LDLR.', '17. A pharmaceutical composition comprising an isolated monoclonal antibody, wherein, when bound to PCSK9, the isolated monoclonal antibody binds to at least one of the following residues: S153, I154, P155, R194, D238, A239, I369, S372, D374, C375, T377, C378, F379, V380, or S381 of SEQ ID NO:3, and wherein the monoclonal antibody blocks binding of PCSK9 to LDLR.', '19. The isolated monoclonal antibody of  claim 1  wherein the isolated monoclonal antibody binds to at least two of the following residues S153, I154, P155, R194, D238, A239, I369, S372, D374, C375, T377, C378, F379, V380, or S381 of PCSK9 listed in SEQ ID NO:3.', '20. The isolated monoclonal antibody of  claim 1  wherein the isolated monoclonal antibody binds to at least four of the following residues S153, I154, P155, R194, D238, A239, I369, S372, D374, C375, T377, C378, F379, V380, or S381 of PCSK9 listed in SEQ ID NO:3.', '23. The isolated monoclonal antibody of  claim 1  wherein the isolated monoclonal antibody binds to at least two of the following residues S153, I154, P155, R194, D238, A239, I369, S372, D374, C375, T377, C378, F379, V380, or S381 of PCSK9 listed in SEQ ID NO:3 and blocks the binding of PCSK9 to LDLR by at least 80%.']\n"
     ]
    }
   ],
   "source": [
    "sentences = []\n",
    "for s in raw_sentences:\n",
    "    if re.search('SEQ ID', s, re.IGNORECASE):\n",
    "        sentences.append(s)\n",
    "print(sentences[:5])"
   ]
  },
  {
   "cell_type": "code",
   "execution_count": 104,
   "metadata": {},
   "outputs": [],
   "source": [
    "cleaned_sentences = []\n",
    "for sentence in sentences:\n",
    "    doc = nlp(sentence)\n",
    "    token_list = [token.text for token in doc]\n",
    "    filtered_sentence =[] \n",
    "\n",
    "    for word in token_list:\n",
    "        if word in punc: continue\n",
    "        lexeme = nlp.vocab[word]\n",
    "        if lexeme.is_stop == False:\n",
    "            filtered_sentence.append(word)   \n",
    "\n",
    "    lemma_word = []\n",
    "    for w in filtered_sentence:\n",
    "        if re.match('^[a-zA-z]?[0-9]*$', w):\n",
    "            continue\n",
    "        word1 = wordnet_lemmatizer.lemmatize(w, pos = \"n\")\n",
    "        word2 = wordnet_lemmatizer.lemmatize(word1, pos = \"v\")\n",
    "        word3 = wordnet_lemmatizer.lemmatize(word2, pos = (\"a\"))\n",
    "        lemma_word.append(word3)\n",
    "    cleaned_sentences.append(' '.join(lemma_word))"
   ]
  },
  {
   "cell_type": "code",
   "execution_count": 105,
   "metadata": {},
   "outputs": [
    {
     "output_type": "execute_result",
     "data": {
      "text/plain": [
       "46"
      ]
     },
     "metadata": {},
     "execution_count": 105
    }
   ],
   "source": [
    "predicted_categories = model.predict(cleaned_sentences)\n",
    "sum(predicted_categories)"
   ]
  },
  {
   "cell_type": "code",
   "execution_count": 110,
   "metadata": {},
   "outputs": [
    {
     "output_type": "stream",
     "name": "stdout",
     "text": [
      "131\n"
     ]
    }
   ],
   "source": [
    "print(len(sentences))"
   ]
  },
  {
   "cell_type": "code",
   "execution_count": 111,
   "metadata": {
    "tags": [
     "outputPrepend"
    ]
   },
   "outputs": [
    {
     "output_type": "stream",
     "name": "stdout",
     "text": [
      "lected from the group consisting of D, and E, X 6  is selected from the group consisting of V, I, M, L, F, and A, B) a light chain complementary determining region (CDRL) selected from at least one of the group consisting of: (i) a CDRL3 selected from the CDRL3 within the sequences selected from the group consisting of SEQ ID NOs: 14, 15, 16, 17, 18, 19, 20, 21, 22, 23, and 24, (ii) a CDRL3 that differs in amino acid sequence from the CDRL3 of (i) by an amino acid addition, deletion or substitution of not more than two amino acids; and (iii) a CDRL3 amino acid sequence selected from the group consisting of X 1 X 2 X 3 X 4 X 5 X 6 X 7 X 8 X 9  (SEQ ID NO: 417), wherein X 1  is selected from the group consisting of S, N, T, A, C, and Q, X 2  is selected from the group consisting of S, T, A, and C, X 3  is selected from the group consisting of Y, W, F, T, and S, X 4  is selected from the group consisting of T, and S, X 5  is selected from the group consisting of S, T, A, and C, X 6  is selected from the group consisting of S, T, A, and C, X 7  is selected from the group consisting of N, S, Q, T, A, and C, X 8  is selected from the group consisting of M, V, L, F, I, and A, X 9  is selected from the group consisting of V, I, M, L, F, and A.\nAs utilized in accordance with the present disclosure, the following terms, unless otherwise indicated, shall be understood to have the following meanings: The term “proprotein convertase subtilisin kexin type 9” or “PCSK9” refers to a polypeptide as set forth in SEQ ID NO: 1 and/or 3 or fragments thereof, as well as related polypeptides, which include, but are not limited to, allelic variants, splice variants, derivative variants, substitution variants, deletion variants, and/or insertion variants including the addition of an N-terminal methionine, fusion polypeptides, and interspecies homologs.\n2A-3D ,  3 CCC- 3 JJJ, and  15 A- 15 D. In some embodiments, the sequences for CDRs for the light chain of antibody 3B6 are as follows: CDR1 TLSSGYSSYEVD (SEQ ID NO: 279); CDR2 VDTGGIVGSKGE (SEQ ID NO: 280); CDR3 GADHGSGTNFVVV (SEQ ID NO: 281), and the FRs are as follows: FR1 QPVLTQPLFASASLGASVTLTC (SEQ ID NO: 282); FR2 WYQQRPGKGPRFVMR (SEQ ID NO: 283); FR3 GIPDRFSVLGSGLNRYLTIKNIQEEDESDYHC (SEQ ID NO: 284); and FR4 FGGGTKLTVL (SEQ ID NO: 285).\nAn exemplary human PCSK9 amino acid sequence is presented as SEQ ID NOs: 1 and 3. in  FIG.\nAn exemplary human PCSK9 coding sequence is presented as SEQ ID NO: 2 ( FIG.\n1A  (SEQ ID NO: 1).\nOne example of an IgG2 heavy chain constant domain of an anti-PCSK9 antibody of the present invention has the amino acid sequence as shown in SEQ ID NO: 154, FIG.\nOne example of an IgG4 heavy chain constant domain of an anti-PCSK9 antibody of the present invention has the amino acid sequence as shown in SEQ ID NO: 155, FIG.\nOne example of a kappa light chain constant domain of an anti-PCSK9 antibody has the amino acid sequence as shown in SEQ ID NO: 157, FIG.\nOne example of a lambda light chain constant domain of an anti-PCSK9 antibody has the amino acid sequence as shown in SEQ ID NO: 156, FIG.\nTABLE 2 Exemplary Heavy and Light Chain Variable Regions Light/Heavy Antibody SEQ ID NO 30A4  5/74 3C4  7/85 23B5  9/71 25G4 10/72 31H4 12/67 27B2 13/87 25A7 15/58 27H5 16/52 26H5 17/51 31D1 18/53 20D10 19/48 27E7 20/54 30B9 21/55 19H9 22/56 26E10 23/49 21B12 23/49 17C2 24/57 23G1 26/50 13H1 28/91 9C9 30/64 9H6 31/62 31A4 32/89 1A12 33/65 16F12 35/79 22E2 36/80 27A6 37/76 28B12 38/77 28D6 39/78 31G11 40/83 13B5 42/69 31B12 44/81 3B6 46/60 Again, each of the exemplary variable heavy chains listed in Table 2 can be combined with any of the exemplary variable light chains shown in Table 2 to form an antibody.\nIn certain embodiments, an antigen binding protein comprises a heavy chain comprising a variable region comprising an amino acid sequence at least 90% identical to an amino acid sequence selected from at least one of the sequences of SEQ ID NO: 74, 85, 71, 72, 67, 87, 58, 52, 51, 53, 48, 54, 55, 56, 49, 57, 50, 91, 64, 62, 89, 65, 79, 80, 76, 77, 78, 83, 69, 81, and 60.\nIn certain embodiments, an antigen binding protein comprises a heavy chain comprising a variable region comprising an amino acid sequence at least 95% identical to an amino acid sequence selected from at least one of the sequences of SEQ ID NO: 74, 85, 71, 72, 67, 87, 58, 52, 51, 53, 48, 54, 55, 56, 49, 57, 50, 91, 64, 62, 89, 65, 79, 80, 76, 77, 78, 83, 69, 81, and 60.\nIn certain embodiments, an antigen binding protein comprises a heavy chain comprising a variable region comprising an amino acid sequence at least 99% identical to an amino acid sequence selected from at least one of the sequences of SEQ ID NO: 74, 85, 71, 72, 67, 87, 58, 52, 51, 53, 48, 54, 55, 56, 49, 57, 50, 91, 64, 62, 89, 65, 79, 80, 76, 77, 78, 83, 69, 81, and 60.\nIn some embodiments, the antigen binding protein comprises a sequence that is at least 90%, 90-95%, and/or 95-99% identical to one or more CDRs from the CDRs in at least one of sequences of SEQ ID NO: 74, 85, 71, 72, 67, 87, 58, 52, 51, 53, 48, 54, 55, 56, 49, 57, 50, 91, 64, 62, 89, 65, 79, 80, 76, 77, 78, 83, 69, 81, and 60.\nIn some embodiments, the antigen binding protein comprises a sequence that is at least 90%, 90-95%, and/or 95-99% identical to one or more FRs from the FRs in at least one of sequences of SEQ ID NO: 74, 85, 71, 72, 67, 87, 58, 52, 51, 53, 48, 54, 55, 56, 49, 57, 50, 91, 64, 62, 89, 65, 79, 80, 76, 77, 78, 83, 69, 81, and 60.\nIn certain embodiments, an antigen binding protein comprises a light chain comprising a variable region comprising an amino acid sequence at least 90% identical to an amino acid sequence selected from at least one of the sequences of SEQ ID NO: 5, 7, 9, 10, 12, 13, 15, 16, 17, 18, 19, 20, 21, 22, 23, 24, 26, 28, 30, 31, 32, 33, 35, 36, 37, 38, 39, 40, 42, 44, and 46.\nIn certain embodiments, an antigen binding protein comprises a light chain comprising a variable region comprising an amino acid sequence at least 95% identical to an amino acid sequence selected from at least one of the sequences of SEQ ID NO: 5, 7, 9, 10, 12, 13, 15, 16, 17, 18, 19, 20, 21, 22, 23, 24, 26, 28, 30, 31, 32, 33, 35, 36, 37, 38, 39, 40, 42, 44, and 46.\nIn certain embodiments, an antigen binding protein comprises a light chain comprising a variable region comprising an amino acid sequence at least 99% identical to an amino acid sequence selected from at least one of the sequences of SEQ ID NO: 5, 7, 9, 10, 12, 13, 15, 16, 17, 18, 19, 20, 21, 22, 23, 24, 26, 28, 30, 31, 32, 33, 35, 36, 37, 38, 39, 40, 42, 44, and 46.\nIn some embodiments, the antigen binding protein comprises a sequence that is at least 90%, 90-95%, and/or 95-99% identical to one or more CDRs from the CDRs in at least one of sequences of SEQ ID NO: 5, 7, 9, 10, 12, 13, 15, 16, 17, 18, 19, 20, 21, 22, 23, 24, 26, 28, 30, 31, 32, 33, 35, 36, 37, 38, 39, 40, 42, 44, and 46.\nIn some embodiments, the antigen binding protein comprises a sequence that is at least 90%, 90-95%, and/or 95-99% identical to one or more FRs from the FRs in at least one of sequences of SEQ ID NO: 5, 7, 9, 10, 12, 13, 15, 16, 17, 18, 19, 20, 21, 22, 23, 24, 26, 28, 30, 31, 32, 33, 35, 36, 37, 38, 39, 40, 42, 44, and 46.\nFor example, an ABP variant can have at least 80, 80-85, 85-90, 90-95, 95-97, 97-99 or greater identity to at least one nucleic acid sequence described in SEQ ID NOs: 152, 153, 92, 93, 94, 95, 96, 97, 98, 99, 100, 101, 102, 103, 104, 105, 106, 107, 108, 109, 110, 111, 112, 113, 114, 115, 116, 117, 118, 119, 120, 121, 122, 123, 124, 125, 126, 127, 128, 129, 130, 131, 132, 133, 134, 135, 136, 137, 138, 139, 140, 141, 142, 143, 144, 145, 146, 147, 148, 149, 150, 151 or at least one to six (and various combinations thereof) of the CDR(s) encoded by the nucleic acid sequences in SEQ ID NOs: 152, 153, 92, 93, 94, 95, 96, 97, 98, 99, 100, 101, 102, 103, 104, 105, 106, 107, 108, 109, 110, 111, 112, 113, 114, 115, 116, 117, 118, 119, 120, 121, 122, 123, 124, 125, 126, 127, 128, 129, 130, 131, 132, 133, 134, 135, 136, 137, 138, 139, 140, 141, 142, 143, 144, 145, 146, 147, 148, 149, 150, and 151.\nIn some embodiments, the antibody (or nucleic acid sequence encoding it) is a variant if the nucleic acid sequence that encodes the particular ABP (or the nucleic acid sequence itself) can selectively hybridize to any of the nucleic acid sequences that encode the proteins in Table 2 (such as, but not limited to SEQ ID NO: 152, 153, 92, 93, 94, 95, 96, 97, 98, 99, 100, 101, 102, 103, 104, 105, 106, 107, 108, 109, 110, 111, 112, 113, 114, 115, 116, 117, 118, 119, 120, 121, 122, 123, 124, 125, 126, 127, 128, 129, 130, 131, 132, 133, 134, 135, 136, 137, 138, 139, 140, 141, 142, 143, 144, 145, 146, 147, 148, 149, 150, and 151) under stringent conditions.\nBinding of each mutant PCSK9 antigen with various PCSK9 ABPs was measured and compared to the ability of the selected ABPs to bind wild-type PCSK9 (SEQ ID NO: 303).\nIn some embodiments, a significant reduction in binding means that the binding affinity, EC50, and/or capacity between an antigen binding protein and a mutant PCSK9 antigen is reduced by greater than 10%, greater than 20%, greater than 40%, greater than 50%, greater than 55%, greater than 60%, greater than 65%, greater than 70%, greater than 75%, greater than 80%, greater than 85%, greater than 90% or greater than 95% relative to binding between the antigen binding protein and a wild type PCSK9 (e.g., shown in SEQ ID NO: 1 and/or SEQ ID NO: (303).\nIn some embodiments, binding of an antigen binding protein is significantly reduced or increased for a variant PCSK9 protein having any one or more (e.g., 1, 2, 3, 4, 5, 6, 7, 8, 9, 10, or 244) of the following mutations: R207E, D208R, R185E, R439E, E513R, V538R, E539R, T132R, S351R, A390R, A413R, E582R, D162R, R164E, E167R, S123R, E129R, A311R, D313R, D337R, R519E, H521R, and Q554R as compared to a wild-type PCSK9 protein (e.g., SEQ ID NO: 1 or SEQ ID NO: 303.\nof the following mutations: R207E, D208R, R185E, R439E, E513R, V538R, E539R, T132R, S351R, A390R, A413R, E582R, D162R, R164E, E167R, S123R, E129R, A311R, D313R, D337R, R519E, H521R, and Q554R within SEQ ID NO: 1 or SEQ ID NO: 303, as compared to a wild-type PCSK9 protein (e.g., SEQ ID NO: 1 or SEQ ID NO: 303).\nof the following mutations: R207E, D208R, R185E, R439E, E513R, V538R, E539R, T132R, S351R, A390R, A413R, and E582R within SEQ ID NO: 1 or SEQ ID NO: 303, as compared to a wild-type PCSK9 protein (e.g., SEQ ID NO: 1 or SEQ ID NO: 303).\nof the following mutations: D162R, R164E, E167R, S123R, E129R, A311R, D313R, D337R, R519E, H521R, and Q554R within SEQ ID NO: 1, as compared to a wild-type PCSK9 protein (e.g., SEQ ID NO: 1 or SEQ ID NO: 303).\nAlthough the variant forms just listed are referenced with respect to the wild-type sequence shown in SEQ ID NO: 1 or SEQ ID NO: 303, it will be appreciated that in an allelic variant of PCSK9 the amino acid at the indicated position could differ.\nThe reference to “SEQ ID NO: 1 or SEQ ID NO: 303” denotes that one or both of these sequences can be employed or relevant.\nAs noted above, the above description references specific amino acid positions with reference to SEQ ID NO: 1.\nHowever, throughout the specification generally, reference is made to a Pro/Cat domain that commences at position 31, which is provided in SEQ ID NO: 3.\nAs noted below, SEQ ID NO: 1 and SEQ ID NO: 303 lack the signal sequence of PCSK9.\nIn particular, any amino acid position in SEQ ID NO: 1, will correspond to an amino acid position 30 amino acids further into the protein in SEQ ID NO: 3.\nFor example, position 207 of SEQ ID NO: 1, corresponds to position 237 of SEQ ID NO: 3 (the full length sequence, and the numbering system used in the present specification generally).\nTable 39.6 outlines how the above noted positions, which reference SEQ ID NO: 1 (and/or SEQ ID NO: 303) correspond to SEQ ID NO: 3 (which includes the signal sequence).\nThus, any of the above noted embodiments that are described in regard to SEQ ID NO: 1 (and/or SEQ ID NO: 303), are described in reference to SEQ ID NO: 3, by the noted corresponding positions.\nThe cDNA sequences for the lambda light chain variable regions of 31H4, 21B12, and 16F12 were determined and are disclosed as SEQ ID NOs: 153, 95, and 105 respectively.\nThe cDNA sequences for the heavy chain variable regions of 31H4, 21B12, and 16F12 were determined and are disclosed as SEQ ID NOs: 152, 94, and 104 respectively.\nThe lambda light chain constant region (SEQ ID NO: 156), and the IgG2 and IgG4 heavy chain constant regions (SEQ ID NOs: 154 and 155) are shown in FIG.\nThe predicted polypeptide sequences for the lambda light chain variable regions of 31H4, 21B12, and 16F12 were predicted and are disclosed as SEQ ID NOs: 12, 23, and 35 respectively, the lambda light chain constant region (SEQ ID NO: 156), the heavy chain variable regions of 31H4, 21B12, and 16F12 were predicted and are disclosed as (SEQ.\nThe IgG2 and IgG4 heavy chain constant regions (SEQ ID NOs: 154 and 155).\n2A-3D  and each is represented by a unique SEQ ID NO.\nThe ProCat (31-449 of SEQ ID NO: 3) or V domain (450-692 of SEQ ID NO: 3) of the PCSK9 protein was combined with either antibody 31H4 or 21B12.\nExample 28 The LDLR EGFa Domain Binds to the Catalytic Domain of PCSK9 The present example presents the solved crystal structure of PCSK9 ProCat (31-454 of SEQ ID NO: 3) bound to the LDLR EGFa domain (293-334) at 2.9 Å resolution (the conditions for which are described in the below Examples).\nExample 29 31H4 Interacts with Amino Acid Residues from Both the Pro- and Catalytic Domains of PCSK9 The present example presents the crystal structure of full length PCSK9 (N533A mutant of SEQ ID NO: 3) bound to the Fab fragment of 31H4, determined to 2.3 Å resolution (the conditions for which are described in the below Examples).\nExample 30 21B12 Binds to the Catalytic Domain of PCSK9, has a Distinct Binding Site from 31H4 and can Bind to PCSK9 Simultaneously with 31H4 The present example presents the crystal structure of PCSK9 ProCat (31-449 of SEQ ID NO: 3) bound to the Fab fragments of 31H4 and 21B12, determined at 2.8 Å resolution (the conditions for which are described in the below Examples).\nExample 32 Structural Interaction of LDLR and PCSK9 A model of full length PCSK9 bound to a full length representation of the LDLR was made using the PCSK9 ProCat (31-454 of SEQ ID NO: 3)/EGFa complex structure.\nFurthermore, the PCSK9 449TEV protein included the sequence “ENLYFQ” (SEQ ID NO: 403) inserted between positions H449 and G450 of SEQ ID NO: 3.\nAfter cleavage with rTEV, the PCSK9 ProCat protein generated from this construct was GAMG-PCSK9 (31-449)-ENLYFQ and the V domain generated from this construct was PCSK9 (450-692) of SEQ ID NO: 3.\nExpression and Purification of Protein Samples PCSK9 449TEV (a PCSK9 construct with a TEV protease cleavage site inserted between residue 449 and 450, numbering according to SEQ ID NO: 3) was expressed in baculovirus infected Hi-5 insect cells with an N-terminal honeybee melittin signal peptide followed by a His 6  tag.\nAs noted herein, the numbering references the amino acid positions of SEQ ID NO: 3 (adjusted as noted herein).\n22  highlights (via underlining shading, or bold) the differences between the constant regions of the 21B12, 31H4, and 31A4 Fabs (raised in  E. coli ) when compared to SEQ ID NOs: 156, and 155.\nFor 21B12 31H4, and 31A4, the light chain constant sequence is similar to human lambda (SEQ ID NO: 156).\nFor both 21B12 and 31H4, the heavy chain constant is similar to human IgG4 (SEQ ID NO: 155).\n22  are shown in Table 36.1: TABLE 36.1 Crystal SEQ ID NO: 155 S C K R G E G S Q K I  T N D K R P  S In regard to 31A4, while it also has the same distinctions noted above, there are three additional differences.\nIn addition, there is one additional substitution in the 31A4 heavy chain constant region when compared to SEQ ID NO: 155, which is the adjustment of a L (in SEQ ID NO: 155) to a H. Finally, 31A4 does have a glutamine as the initial amino acid of the Fab, rather than the adjustment to glutamic acid noted above for 21B12 and 31H4.\nAs will be appreciated by one of skill in the art, his-tags are not a required part of the ABP and should not be considered as part of the ABP's sequence, unless explicitly called out by reference to a specific SEQ ID NO that includes a histidine tag and a statement that the ABP sequence “includes the Histidine tag.” Example 37 Epitope Mapping Binning An alternative set of binning experiments was conducted in addition to the set in Example 10.\nFor the purposes of the epitope sequences and the epitope based inventions involving changes in binding, the sequences are provided in reference to SEQ ID NO: 1 and/or SEQ ID NO: 303.\nOne of skill in the art will appreciate that the present results apply to other PCSK9 variants disclosed herein as well (e.g., SEQ ID NO: 1 and 3, as well as the other allelic variants).\nTABLE 39.4 antibody Mutants BmaxPerWT RawMaxPerWT 21B12 A311R 141.6388 139.7010 31H4 A311R 145.2189 147.8244 31A4 A311R 103.4377 96.2214 12H11 A311R 14.9600 3C4 A311R 129.0460 131.2060 21B12 D162R 7.0520 31H4 D162R 108.8308 112.4904 31A4 D162R 98.8873 95.9268 12H11 D162R 94.6280 97.4928 3C4 D162R 101.4281 100.1586 21B12 D313R 45.8356 45.0011 31H4 D313R 45.6242 44.9706 31A4 D313R 47.9728 44.7741 12H11 D313R 16.1811 18.4262 3C4 D313R 58.5269 57.6032 21B12 D337R 61.9070 62.2852 31H4 D337R 63.1604 64.1029 31A4 D337R 62.9124 59.4852 12H11 D337R 10.8443 3C4 D337R 73.0326 73.9961 21B12 E129R 139.9772 138.9671 31H4 E129R 141.6792 139.1764 31A4 E129R 77.3005 74.8946 12H11 E129R 28.6398 29.3751 3C4 E129R 85.7701 85.7802 21B12 E167R 15.1082 31H4 E167R 127.4479 128.2698 31A4 E167R 115.3403 112.6951 12H11 E167R 111.0979 109.6813 3C4 E167R 109.3223 108.7864 21B12 H521R 133.8480 133.9791 31H4 H521R 130.2068 128.4879 31A4 H521R 124.5091 129.3218 12H11 H521R 130.7979 134.4355 3C4 H521R 22.1077 21B12 Q554R 125.9594 125.2103 31H4 Q554R 122.2045 128.7304 31A4 Q554R 113.6769 121.3369 12H11 Q554R 116.1789 118.4170 3C4 Q554R 31.8416 21B12 R164E 17.3807 19.8505 31H4 R164E 97.8218 99.6673 31A4 R164E 98.2595 96.3352 12H11 R164E 88.0067 89.8807 3C4 R164E 105.0589 105.7286 21B12 R519E 139.4598 141.2949 31H4 R519E 135.5609 140.0000 31A4 R519E 134.2303 137.1110 12H11 R519E 135.4755 137.0824 3C4 R519E 44.0091 21B12 S123R 87.6431 88.1356 31H4 S123R 85.5312 84.7668 31A4 S123R 68.4371 66.6131 12H11 S123R 20.8560 20.6910 3C4 S123R 73.6475 71.5959 (Point mutations are with reference to SEQ ID NO: 1 and FIG.\nThus, the numbering system of this protein fragment, and the SEQ ID NO:s that refer to this fragment, are shifted by 30 amino acids compared to the data and experiments that used a full length PCSK9 numbering system (such as that used in the crystal study data described above).\nFor example, position 207 of SEQ ID NO: 1 (or SEQ ID NO: 303), correlates to position 237 of SEQ ID NO: 3 (the full length sequence, and the numbering system used throughout the rest of the specification).\nTable 39.6 outlines how the above noted positions, which reference SEQ ID NO: 1 (and/or SEQ ID NO: 303) correlate with SEQ ID NO: 3 (which includes the signal sequence).\nTABLE 39.6 AMINO ACID POSITION  AMINO ACID POSITION  IN SEQ ID NO: 1 IN SEQ ID NO: 3 (EPITOPE DATA) (EPITOPE DATA) 207 237 208 238 185 215 181 211 439 469 513 543 538 568 539 569 132 162 351 381 390 420 413 443 582 612 162 192 164 194 167 197 123 153 129 159 311 341 313 343 337 367 519 549 521 551 554 584 Thus, those embodiments described herein with reference to SEQ ID NO: 1 can also be described, by their above noted corresponding position with reference to SEQ ID NO: 3.\nAfter washing, plates were incubated for two hours with either full length PCSK9 (aa 31-692 SEQ ID NO: 3, procat PCSK9 (aa 31-449 SEQ ID NO: 3) or v-domain PCSK9 (aa 450-692 of SEQ ID NO: 3) diluted in general assay diluent (Immunochemistry Technologies, LLC).\n"
     ]
    }
   ],
   "source": [
    "for i in range(len(sentences)):\n",
    "    if predicted_categories[i] == 0:\n",
    "        print(sentences[i])"
   ]
  },
  {
   "cell_type": "code",
   "execution_count": 109,
   "metadata": {},
   "outputs": [
    {
     "output_type": "stream",
     "name": "stdout",
     "text": [
      "1. An isolated monoclonal antibody, wherein, when bound to PCSK9, the monoclonal antibody binds to at least one of the following residues: S153, I154, P155, R194, D238, A239, I369, S372, D374, C375, T377, C378, F379, V380, or S381 of SEQ ID NO:3, and wherein the monoclonal antibody blocks binding of PCSK9 to LDLR.\n[]\n['S153, I154', 'P155, R194', 'D238, A239', 'I369, S372', 'D374, C375', 'T377, C378', 'F379, V380', 'S381']\n17. A pharmaceutical composition comprising an isolated monoclonal antibody, wherein, when bound to PCSK9, the isolated monoclonal antibody binds to at least one of the following residues: S153, I154, P155, R194, D238, A239, I369, S372, D374, C375, T377, C378, F379, V380, or S381 of SEQ ID NO:3, and wherein the monoclonal antibody blocks binding of PCSK9 to LDLR.\n[]\n['S153, I154', 'P155, R194', 'D238, A239', 'I369, S372', 'D374, C375', 'T377, C378', 'F379, V380', 'S381']\n19. The isolated monoclonal antibody of  claim 1  wherein the isolated monoclonal antibody binds to at least two of the following residues S153, I154, P155, R194, D238, A239, I369, S372, D374, C375, T377, C378, F379, V380, or S381 of PCSK9 listed in SEQ ID NO:3.\n[]\n['1', 'S153, I154', 'P155, R194', 'D238, A239', 'I369, S372', 'D374, C375', 'T377, C378', 'F379, V380', 'S381']\n20. The isolated monoclonal antibody of  claim 1  wherein the isolated monoclonal antibody binds to at least four of the following residues S153, I154, P155, R194, D238, A239, I369, S372, D374, C375, T377, C378, F379, V380, or S381 of PCSK9 listed in SEQ ID NO:3.\n[]\n['1', 'S153, I154', 'P155, R194', 'D238, A239', 'I369, S372', 'D374, C375', 'T377, C378', 'F379, V380', 'S381']\n23. The isolated monoclonal antibody of  claim 1  wherein the isolated monoclonal antibody binds to at least two of the following residues S153, I154, P155, R194, D238, A239, I369, S372, D374, C375, T377, C378, F379, V380, or S381 of PCSK9 listed in SEQ ID NO:3 and blocks the binding of PCSK9 to LDLR by at least 80%.\n[]\n['1', 'S153, I154', 'P155, R194', 'D238, A239', 'I369, S372', 'D374, C375', 'T377, C378', 'F379, V380', 'S381']\n26. The isolated monoclonal antibody of  claim 1  wherein the isolated monoclonal antibody binds to at least four of the following residues S153, I154, P155, R194, D238, A239, I369, S372, D374, C375, T377, C378, F379, V380, or S381 of PCSK9 listed in SEQ ID NO:3 and blocks the binding of PCSK9 to LDLR by at least 80%.\n[]\n['1', 'S153, I154', 'P155, R194', 'D238, A239', 'I369, S372', 'D374, C375', 'T377, C378', 'F379, V380', 'S381']\n29. A pharmaceutical composition comprising an isolated monoclonal antibody, wherein the isolated monoclonal antibody binds to at least two of the following residues S153, I154, P155, R194, D238, A239, I369, S372, D374, C375, T377, C378, F379, V380, or S381 of PCSK9 listed in SEQ ID NO:3 and blocks the binding of PCSK9 to LDLR by at least 80%.\n[]\n['S153, I154', 'P155, R194', 'D238, A239', 'I369, S372', 'D374, C375', 'T377, C378', 'F379, V380', 'S381']\nIn some embodiments, the antibody binds to an epitope within residues 31-447 of SEQ ID NO: 3.\n['3']\n['31-447']\nIn some embodiments, the antibody binds to PCSK9 having an amino acid sequence that is at least 90% identical to SEQ ID NO: 3.\n['3']\n[]\nIn some aspects, the invention comprises a neutralizing antigen binding protein that binds to PCSK9, wherein the antigen binding protein binds to PCSK9 at a location within residues 31-447 of SEQ ID NO: 3.\n['3']\n['31-447']\nThe antibody binds to PCSK9 at a location within residues 31-447 of SEQ ID NO: 3.\n['3']\n['31-447']\nIn some aspects, the invention comprises an isolated neutralizing antibody, wherein when the antibody is bound to PCSK9, the antibody is positioned 8 angstroms or less from at least one of the following residues of PCSK9: T468, R469, M470, A471, T472, R496, R499, E501, A502, Q503, R510, H512, F515, P540, P541, A542, E543, H565, W566, E567, V568, E569, R592, E593, S465, G466, P467, A473, I474, R476, G497, E498, M500, G504, K506, L507, V508, A511, N513, A514, G516, V536, T538, A539, A544, T548, D570, L571, H591, A594, S595, and H597 of SEQ ID NO: 3.\n['3']\n['8', 'T468, R469', 'M470, A471', 'T472, R496', 'R499, E501', 'A502, Q503', 'R510, H512', 'F515, P540', 'P541, A542', 'E543, H565', 'W566, E567', 'V568, E569', 'R592, E593', 'S465, G466', 'P467, A473', 'I474, R476', 'G497, E498', 'M500, G504', 'K506, L507', 'V508, A511', 'N513, A514', 'G516, V536', 'T538, A539', 'A544, T548', 'D570, L571', 'H591, A594', 'S595,', 'H597']\nIn some embodiments, the antibody is positioned 5 angstroms or less from at least one of the following residues of PCSK9: T468, R469, M470, A471, T472, R496, R499, E501, A502, Q503, R510, H512, F515, P540, P541, A542, E543, H565, W566, E567, V568, E569, R592, and E593 of SEQ ID NO: 3.\n['3']\n['5', 'T468, R469', 'M470, A471', 'T472, R496', 'R499, E501', 'A502, Q503', 'R510, H512', 'F515, P540', 'P541, A542', 'E543, H565', 'W566, E567', 'V568, E569', 'R592,', 'E593']\nIn some aspects, the invention comprises an isolated antigen binding protein that binds to a PCSK9 protein of SEQ ID NO: 1 where the binding between said isolated antigen binding protein and a variant PCSK9 protein is less than 50% of the binding between the isolated antigen binding protein and the PCSK9 protein of SEQ ID NO: 1 and/or SEQ ID NO: 303.\n['1', '1', '303']\n[]\nIn some embodiments, the variant PCSK9 protein comprises at least one mutation of a residue at a position selected from the group consisting or comprising 207, 208, 185, 181, 439, 513, 538, 539, 132, 351, 390, 413, 582, 162, 164, 167, 123, 129, 311, 313, 337, 519, 521, and 554, as shown in SEQ ID NO: 1.\n['1']\n['207, 208', '185, 181', '439, 513', '538, 539', '132, 351', '390, 413', '582, 162', '164, 167', '123, 129', '311, 313', '337, 519', '521,', '554,']\nIn some aspects, the invention comprises an antigen binding protein that binds to a PCSK-9 protein of SEQ ID NO: 303 in a first manner and binds to a variant of PCSK9 in a second manner.\n['303']\n[]\nIn some aspects, the invention comprises an isolated antigen binding protein that binds to a PCSK9 protein of SEQ ID NO: 3, wherein the epitope of the antigen binding protein includes at least one of the following amino acids of SEQ ID NO: 1: 207, 208, 181, 185, 439, 513, 538, 539, 132, 351, 390, 413, 582, 162, 164, 167, 123, 129, 311, 313, 337, 519, 521, and 554.\n['3', '207, 208']\n['181, 185', '439, 513', '538, 539', '132, 351', '390, 413', '582, 162', '164, 167', '123, 129', '311, 313', '337, 519', '521,', '554.']\nIn some aspects, the invention comprises an isolated neutralizing antigen binding protein that binds to a PCSK9 protein comprising the amino acid sequence of SEQ ID NO: 1, wherein the neutralizing antigen binding protein decreases the LDLR lowering effect of PCSK9 on LDLR.\n['1']\n[]\nIn some embodiments, the antigen binding protein specifically and/or selectively binds to human PCSK9 protein having and/or consisting of residues 153-692 of SEQ ID NO: 3.\n['3']\n['153-692']\nIn some embodiments the ABP specifically and/or selectively binds to human PCSK9 having and/or consisting of residues 31-152 of SEQ ID NO: 3.\n['3']\n['31-152']\nIn some embodiments, a significant reduction in binding is evidenced when binding of an antigen binding protein to a variant PCSK9 protein is less than 50% (for example, less than 40%, 35%, 30%, 25%, 20%, 15% or 10%) of the binding observed between the antigen binding protein and a wild-type PCSK9 protein (for example, the protein of SEQ ID NO: 1 and/or SEQ ID NO: (303).\n['1']\n[]\nIn some embodiments, antigen binding proteins are provided that exhibit significantly lower binding for a variant PCSK9 protein in which a residue in a wild-type PCSK9 protein (e.g., SEQ ID NO: 1 or SEQ ID NO: 303 is substituted with arginine or glutamic acid.\n['1', '303']\n[]\nIn the shorthand notation used here, the format is: Wild type residue: Position in polypeptide: Mutant residue, with the numbering of the residues as indicated in SEQ ID NO: for SEQ ID NO: 303.\n['303']\n[]\nIn some embodiments, binding of an antigen binding protein is significantly reduced or increased for a mutant PCSK9 protein having one or more (e.g., 1, 2, 3, 4, 5, or more) mutations at the following positions: 207, 208, 185, 181, 439, 513, 538, 539, 132, 351, 390, 413, 582, 162, 164, 167, 123, 129, 311, 313, 337, 519, 521, and 554, as shown in SEQ ID NO: 1 as compared to a wild-type PCSK9 protein (e.g., SEQ ID NO: 1 or SEQ ID NO: 303.\n['1', '1', '303']\n['1, 2', '3, 4', '5,', '207, 208', '185, 181', '439, 513', '538, 539', '132, 351', '390, 413', '582, 162', '164, 167', '123, 129', '311, 313', '337, 519', '521,', '554,']\nIn some embodiments, binding of an antigen binding protein is reduced or increased for a mutant PCSK9 protein having one or more (e.g., 1, 2, 3, 4, 5, or more) mutations at the following positions: 207, 208, 185, 181, 439, 513, 538, 539, 132, 351, 390, 413, 582, 162, 164, 167, 123, 129, 311, 313, 337, 519, 521, and 554, as shown in SEQ ID NO: 1 as compared to a wild-type PCSK9 protein (e.g., SEQ ID NO: 1 or SEQ ID NO: 303.\n['1', '1', '303']\n['1, 2', '3, 4', '5,', '207, 208', '185, 181', '439, 513', '538, 539', '132, 351', '390, 413', '582, 162', '164, 167', '123, 129', '311, 313', '337, 519', '521,', '554,']\nIn some embodiments, binding of an antigen binding protein is substantially reduced or increased for a mutant PCSK9 protein having one or more (e.g., 1, 2, 3, 4, 5, or more) mutations at the following positions: 207, 208, 185, 181, 439, 513, 538, 539, 132, 351, 390, 413, 582, 162, 164, 167, 123, 129, 311, 313, 337, 519, 521, and 554, within SEQ ID NO: 1 as compared to a wild-type PCSK9 protein (e.g., SEQ ID NO: 1 or SEQ ID NO: 303.\n['1', '1', '303']\n['1, 2', '3, 4', '5,', '207, 208', '185, 181', '439, 513', '538, 539', '132, 351', '390, 413', '582, 162', '164, 167', '123, 129', '311, 313', '337, 519', '521,', '554,']\nThese residues can thus provide an indication of the domains or regions of SEQ ID NO: 1 (or SEQ ID NO: 303 or SEQ ID NO: 3) that contain the binding region(s) to which antigen binding proteins bind.\n['1', '303', '3']\n[]\nAs can be seen from the results summarized in Example 39, in some embodiments an antigen binding protein binds to a domain containing at least one of amino acids: 207, 208, 185, 181, 439, 513, 538, 539, 132, 351, 390, 413, 582, 162, 164, 167, 123, 129, 311, 313, 337, 519, 521, and 554 of SEQ ID NO: 1 or SEQ ID NO: 303.\n['1', '303']\n['39,', '207, 208', '185, 181', '439, 513', '538, 539', '132, 351', '390, 413', '582, 162', '164, 167', '123, 129', '311, 313', '337, 519', '521,', '554']\nIn some embodiments, the antigen binding protein binds to a region containing at least one of amino acids 207, 208, 185, 181, 439, 513, 538, 539, 132, 351, 390, 413, 582, 162, 164, 167, 123, 129, 311, 313, 337, 519, 521, and 554 of SEQ ID NO: 1 or SEQ ID NO: 303.\n['1', '303']\n['207, 208', '185, 181', '439, 513', '538, 539', '132, 351', '390, 413', '582, 162', '164, 167', '123, 129', '311, 313', '337, 519', '521,', '554']\nIn some embodiments, the antigen binding protein binds to a region containing at least one of amino acids 162, 164, 167, 207 and/or 208 of SEQ ID NO: 1 or SEQ ID NO: 303.\n['1', '303']\n['162, 164', '167, 207', '208']\nIn some embodiments, the antigen binding protein binds to a region containing at least one of amino acid 185 of SEQ ID NO: 1 or SEQ ID NO: 303.\n['1', '303']\n['185']\nIn some embodiments, the antigen binding protein binds to a region containing at least one of amino acids 439, 513, 538, and/or 539 of SEQ ID NO: 1 or SEQ ID NO: 303.\n['1', '303']\n['439, 513', '538,', '539']\nIn some embodiments, the antigen binding protein binds to a region containing at least one of amino acids 123, 129, 311, 313, 337, 132, 351, 390, and/or 413 of SEQ ID NO: 1 or SEQ ID NO: 303.\n['1', '303']\n['123, 129', '311, 313', '337, 132', '351, 390', '413']\nIn some embodiments, the antigen binding protein binds to a region containing at least one of amino acid 582, 519, 521, and/or 554 of SEQ ID NO: 1 or SEQ ID NO: 303.\n['1', '303']\n['582, 519', '521,', '554']\nIn some embodiments, the antigen binding proteins binds to the foregoing regions within a fragment or the full length sequence of SEQ ID NO: 1 or SEQ ID NO: 303.\n['1', '303']\n[]\nIn some embodiments, ABP 21B12 binds to an epitope including residues 162-167 (e.g., residues D162-E167 of SEQ ID NO: 1).\n['1']\n['162-167', 'D162-E167']\nIn some embodiments, ABP 12H11 binds to an epitope that includes residues 123-132 (e.g., S123-T132 of SEQ ID NO: 1).\n['1']\n['123-132', 'S123-T132']\nIn some embodiments, ABP 12H11 binds to an epitope that includes residues 311-313 (e.g., A311-D313 of SEQ ID NO: 1).\n['1']\n['311-313', 'A311-D313']\nIn some embodiments, an antigen binding molecule will bind to or within 30 angstroms of one or more of the following residues (numbering in reference to SEQ ID NO: 3): S153, I154, P155, R194, D238, A239, I369, S372, D374, C375, T377, C378, F379, V380, S381, W156, N157, L158, E159, H193, E195, H229, R237, G240, K243, D367, I368, G370, A371, S373, S376, Q382, W72, F150, A151, Q152, T214, R215, F216, H217, A220, S221, K222, S225, H226, C255, Q256, G257, K258, N317, F318, T347, L348, G349, T350, L351, E366, D367, D374, V380, S381, Q382, S383, G384, K69, D70, P71, S148, V149, D186, T187, E211, D212, G213, R218, Q219, C223, D224, G227, H229, L253, N254, G259, P288, A290, G291, G316, R319, Y325, V346, G352, T353, G365, I368, I369, S372, S373, C378, F379, T385, S386, Q387, S153, S188, I189, Q190, S191, D192, R194, E197, G198, R199, V200, D224, R237, D238, K243, S373, D374, S376, T377, F379, I154, T187, H193, E195, I196, M201, V202, C223, T228, S235, G236, A239, G244, M247, I369, S372, C375, or C378.\n['3', 'S153, I154']\n['30', 'P155, R194', 'D238, A239', 'I369, S372', 'D374, C375', 'T377, C378', 'F379, V380', 'S381, W156', 'N157, L158', 'E159, H193', 'E195, H229', 'R237, G240', 'K243, D367', 'I368, G370', 'A371, S373', 'S376, Q382', 'W72, F150', 'A151, Q152', 'T214, R215', 'F216, H217', 'A220, S221', 'K222, S225', 'H226, C255', 'Q256, G257', 'K258, N317', 'F318, T347', 'L348, G349', 'T350, L351', 'E366, D367', 'D374, V380', 'S381, Q382', 'S383, G384', 'K69, D70', 'P71, S148', 'V149, D186', 'T187, E211', 'D212, G213', 'R218, Q219', 'C223, D224', 'G227, H229', 'L253, N254', 'G259, P288', 'A290, G291', 'G316, R319', 'Y325, V346', 'G352, T353', 'G365, I368', 'I369, S372', 'S373, C378', 'F379, T385', 'S386, Q387', 'S153, S188', 'I189, Q190', 'S191, D192', 'R194, E197', 'G198, R199', 'V200, D224', 'R237, D238', 'K243, S373', 'D374, S376', 'T377, F379', 'I154, T187', 'H193, E195', 'I196, M201', 'V202, C223', 'T228, S235', 'G236, A239', 'G244, M247', 'I369, S372', 'C375,', 'C378.']\nIn some embodiments, the antigen binding molecule binds within 30 angstroms of one or more of the following residues (numbering in reference to SEQ ID NO: 3): S153, I154, P155, R194, D238, A239, I369, S372, D374, C375, T377, C378, F379, V380, S381, W156, N157, L158, E159, H193, E195, H229, R237, G240, K243, D367, I368, G370, A371, S373, S376, or Q382.\n['3', 'S153, I154']\n['30', 'P155, R194', 'D238, A239', 'I369, S372', 'D374, C375', 'T377, C378', 'F379, V380', 'S381, W156', 'N157, L158', 'E159, H193', 'E195, H229', 'R237, G240', 'K243, D367', 'I368, G370', 'A371, S373', 'S376,', 'Q382.']\nIn some embodiments, the antigen binding molecule binds within 30 angstroms of one or more of the following residues (numbering in reference to SEQ ID NO: 3): W72, F150, A151, Q152, T214, R215, F216, H217, A220, S221, K222, S225, H226, C255, Q256, G257, K258, N317, F318, T347, L348, G349, T350, L351, E366, D367, D374, V380, S381, Q382, S383, G384, K69, D70, P71, S148, V149, D186, T187, E211, D212, G213, R218, Q219, C223, D224, G227, H229, L253, N254, G259, P288, A290, G291, G316, R319, Y325, V346, G352, T353, G365, I368, I369, S372, S373, C378, F379, T385, S386, or Q387.\n['3', 'W72, F150']\n['30', 'A151, Q152', 'T214, R215', 'F216, H217', 'A220, S221', 'K222, S225', 'H226, C255', 'Q256, G257', 'K258, N317', 'F318, T347', 'L348, G349', 'T350, L351', 'E366, D367', 'D374, V380', 'S381, Q382', 'S383, G384', 'K69, D70', 'P71, S148', 'V149, D186', 'T187, E211', 'D212, G213', 'R218, Q219', 'C223, D224', 'G227, H229', 'L253, N254', 'G259, P288', 'A290, G291', 'G316, R319', 'Y325, V346', 'G352, T353', 'G365, I368', 'I369, S372', 'S373, C378', 'F379, T385', 'S386,', 'Q387.']\nIn some embodiments, the antigen binding molecule binds within 30 angstroms of one or more of the following residues (numbering in reference to SEQ ID NO: 3): S153, S188, I189, Q190, S191, D192, R194, E197, G198, R199, V200, D224, R237, D238, K243, S373, D374, S376, T377, F379, I154, T187, H193, E195, I196, M201, V202, C223, T228, S235, G236, A239, G244, M247, I369, S372, C375, or C378.\n['3', 'S153, S188']\n['30', 'I189, Q190', 'S191, D192', 'R194, E197', 'G198, R199', 'V200, D224', 'R237, D238', 'K243, S373', 'D374, S376', 'T377, F379', 'I154, T187', 'H193, E195', 'I196, M201', 'V202, C223', 'T228, S235', 'G236, A239', 'G244, M247', 'I369, S372', 'C375,', 'C378.']\nIn some embodiments, the ABP binds to or interacts with at least one of the following PCSK9 (SEQ ID NO: 3) residues: T468, R469, M470, A471, T472, R496, R499, E501, A502, Q503, R510, H512, F515, P540, P541, A542, E543, H565, W566, E567, V568, E569, R592, and E593.\n['3']\n['T468, R469', 'M470, A471', 'T472, R496', 'R499, E501', 'A502, Q503', 'R510, H512', 'F515, P540', 'P541, A542', 'E543, H565', 'W566, E567', 'V568, E569', 'R592,', 'E593.']\nIn some embodiments, the ABP binds to or interacts with at least one of the following PCSK9 (SEQ ID NO: 3) residues: 5465, G466, P467, A473, I474, R476, G497, E498, M500, G504, K506, L507, V508, A511, N513, A514, G516, V536, T538, A539, A544, T548, D570, L571, H591, A594, S595, and H597.\n['3']\n['5465, G466', 'P467, A473', 'I474, R476', 'G497, E498', 'M500, G504', 'K506, L507', 'V508, A511', 'N513, A514', 'G516, V536', 'T538, A539', 'A544, T548', 'D570, L571', 'H591, A594', 'S595,', 'H597.']\nThe residues in the structural epitope of the various antibodies determined by EC50 shift are shown in Table 39.3 (point mutations are with reference to SEQ ID NO: 1 and 303) TABLE 39.3 FDR.\n['1']\n['39.3', '303) T', '39.3']\nAs noted above, the above binding data and epitope characterization references a PCSK9 sequence (SEQ ID NO: 1) that does not include the first 30 amino acids of PCSK9.\n['1']\n['30']\n"
     ]
    }
   ],
   "source": [
    "for i in range(len(sentences)):\n",
    "    if predicted_categories[i] == 1:\n",
    "        s3_matches = re.finditer(ep_regex, sentences[i])\n",
    "        seq_id3 = []\n",
    "        epitopes3 = []\n",
    "        for match in s3_matches:\n",
    "            if 'SEQ ID' in sentences[i][match.span()[0] - 15:match.span()[1]]:\n",
    "                seq_id3.append(match.group().strip().strip(',').strip('.').strip(')'))\n",
    "            else:\n",
    "                epitopes3.append(match.group().strip())\n",
    "        print(sentences[i])\n",
    "        print(seq_id3)\n",
    "        print(epitopes3)"
   ]
  },
  {
   "cell_type": "code",
   "execution_count": null,
   "metadata": {},
   "outputs": [],
   "source": []
  }
 ]
}