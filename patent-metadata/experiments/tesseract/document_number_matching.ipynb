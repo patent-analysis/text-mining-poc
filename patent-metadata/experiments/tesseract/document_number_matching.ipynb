{
 "cells": [
  {
   "cell_type": "markdown",
   "id": "mounted-journalism",
   "metadata": {},
   "source": [
    "# Patent Number and Publication Number Mining"
   ]
  },
  {
   "cell_type": "markdown",
   "id": "equipped-consciousness",
   "metadata": {},
   "source": [
    "---"
   ]
  },
  {
   "cell_type": "markdown",
   "id": "russian-smith",
   "metadata": {},
   "source": [
    "This experiment compares different text-mining approaches and libraries and their accuracy in extracting patent numbers and patent publication numbers from PDF documents.\n",
    "\n",
    "**Text-Mining approaches:**\n",
    "1. Parse the text from the pdf file using a pdf parsing library\n",
    "2. Convert the first page of the pdf to an image and run it through an OCR engine to extract the text\n",
    "\n",
    "*In both approaches, the extracted text is searched using a simple regex expression to match the number.*\n",
    "\n",
    "**Libraries used in this experiment:**\n",
    "1. PyPDF2  \"pdf processing and text parsing\"\n",
    "2. textract (pdftotext, pdfminer, tesseract) \"text parsing and OCR\"\n",
    "3. fitz \"pdf to image conversion\""
   ]
  },
  {
   "cell_type": "markdown",
   "id": "vocal-message",
   "metadata": {},
   "source": [
    "The final schema of the document is higlighted below. We are only concerned with `docId` in this experiment"
   ]
  },
  {
   "cell_type": "markdown",
   "id": "assumed-cleanup",
   "metadata": {},
   "source": [
    "\n",
    "```json\n",
    "{\n",
    "    \"id\": \"\"                                                   // db doc id\n",
    "    \"jobId\": \"\"                                                // the upload jobId\n",
    "    \"docId\": \"US008080243B2\",                                  // 10\n",
    "    \"docType\": \"patent|patent_app\",                            // 12 \n",
    "    \"appNums\": [\"12/474,176\"],                                 // 21\n",
    "    \"appDates\": [\"\"],                                          // 22\n",
    "    \"preGrantDate\": \"\",                                        // 44 \n",
    "    \"claimsDate\": \"\",                                          // 46\n",
    "    \"grantDate\": \"\",                                           // 45\n",
    "    \"title\": \"\",                                               // 54\n",
    "    \"relatedDocs\": [{\"number\":\"\", \"date\":\"\"}]                  // 60-68\n",
    "    \"applicants\": [\"\"],                                        // 71\n",
    "    \"inventors\": [\"\"],                                         // 72\n",
    "    \"assignees\": [\"\"],                                         // 73\n",
    "    \"patentAttorney\": \"\",                                      // 74\n",
    "    \"sequences\": [{\"seqNoId\": \"\", \"seqRef\": \"\"}],              // mined\n",
    "    \"proteinId\": \"PCSK9\",                                      // added by user\n",
    "    \"epitopes\": [{\"seqNoId\": 53, \"numbers\": [1,3,5,7]}],       // mined\n",
    "    \"legalOpinion\":[{\"txt\": \"\", \"date\":\"\", \"userId\":\"\"}],      // added by lawyers\n",
    "    \"legalStatus\": [{\"status\":\"\", \"date\":\"\"}]                  //[allowed,reissued,invalidated,challenged]\n",
    "    \"created\": \"\"                                              // db created time\n",
    "}\n",
    "\n",
    "```"
   ]
  },
  {
   "cell_type": "markdown",
   "id": "sacred-moisture",
   "metadata": {},
   "source": [
    "### Import the Dependencies "
   ]
  },
  {
   "cell_type": "code",
   "execution_count": 1,
   "id": "appropriate-breed",
   "metadata": {},
   "outputs": [],
   "source": [
    "import textract, PyPDF2, fitz, re, os"
   ]
  },
  {
   "cell_type": "markdown",
   "id": "generous-ethnic",
   "metadata": {},
   "source": [
    "### Define the main processing function"
   ]
  },
  {
   "cell_type": "code",
   "execution_count": 2,
   "id": "broad-colonial",
   "metadata": {},
   "outputs": [],
   "source": [
    "def process_file(file_name, file_dir, pwd):\n",
    "    file_path = os.path.join(file_dir, file_name)\n",
    "    tmp_file = os.path.join(pwd,'tmp', file_name)\n",
    "    tmp_img = os.path.join(pwd, 'tmp' ,file_name.replace('.pdf', '.png'))\n",
    "    with open(file_path, mode='rb') as f:\n",
    "        reader = PyPDF2.PdfFileReader(f)\n",
    "        page = reader.getPage(0)\n",
    "        \n",
    "        # Write the first page to the tmp dir (to save time)\n",
    "        page_writer = PyPDF2.PdfFileWriter()\n",
    "        page_writer.addPage(page)\n",
    "        writer_stream = open(tmp_file, \"wb\")\n",
    "        page_writer.write(writer_stream)\n",
    "        writer_stream.close()\n",
    "        \n",
    "        text = page.extractText()\n",
    "\n",
    "        if text != \"\" and not text.startswith('\\n\\n\\n'): \n",
    "            \"\"\"\n",
    "                if no text, process using ocr only\n",
    "            \"\"\"\n",
    "            mined_info = mine_doc_text(text)\n",
    "            print('PyPdF2:        ', mined_info)\n",
    "            doc = textract.process(tmp_file, method='pdfminer')\n",
    "            text = doc.decode('utf8')\n",
    "            mined_info = mine_doc_text(text)\n",
    "            print('pdfminer:      ', mined_info)\n",
    "            doc = textract.process(tmp_file)\n",
    "            text = doc.decode('utf8')\n",
    "            mined_info = mine_doc_text(text)\n",
    "            print('pdftotext:     ', mined_info)\n",
    "            \n",
    "        else:\n",
    "            print('....OCR PROCESSING ONLY....')\n",
    " \n",
    "        # take a screenshot of the first page and OCR it\n",
    "        doc = fitz.open(file_path)\n",
    "        page = doc.loadPage(0)  # number of page\n",
    "        pix = page.getPixmap(matrix=fitz.Matrix(5, 5))\n",
    "        pix.writePNG(tmp_img)\n",
    "        doc = textract.process(tmp_img, method='tesseract')\n",
    "        text = doc.decode('utf8')\n",
    "        img_mined_info = mine_doc_text(text)\n",
    "        print('tesseract img: ', img_mined_info) \n",
    "        # let's also test ocering the first pdf page in the doc\n",
    "        doc = textract.process(tmp_file, method='tesseract')\n",
    "        text = doc.decode('utf8')\n",
    "        mined_info = mine_doc_text(text)\n",
    "        print('tesseract pdf: ', mined_info)\n",
    "        print('doc_id: ', process_doc_id(img_mined_info))"
   ]
  },
  {
   "cell_type": "markdown",
   "id": "coastal-breathing",
   "metadata": {},
   "source": [
    "### Define a helper function to extract the patent # or pub # from the extracted text"
   ]
  },
  {
   "cell_type": "code",
   "execution_count": 3,
   "id": "improved-spending",
   "metadata": {},
   "outputs": [],
   "source": [
    "debug = False\n",
    "DOC_NUMBER_REGEX = '((US|us)\\s?([,|\\/|\\s|\\d|&])+\\s?([a-zA-Z]\\d))'\n",
    "def mine_doc_text(txt):\n",
    "    if debug == True:\n",
    "        print('DEBUG: mined text: ', txt[:300])\n",
    "    res = re.search(DOC_NUMBER_REGEX, txt)\n",
    "    if res != None:\n",
    "        return res.group()\n",
    "    return 'NO MATCH FOUND. Dumping the first 200 chars... \\n' + txt[:200].replace('\\n','')"
   ]
  },
  {
   "cell_type": "markdown",
   "id": "mineral-aging",
   "metadata": {},
   "source": [
    "### Define a helper function to clean the extracted patent numbers"
   ]
  },
  {
   "cell_type": "code",
   "execution_count": 4,
   "id": "subsequent-niger",
   "metadata": {},
   "outputs": [],
   "source": [
    "def process_doc_id(txt):\n",
    "    txt = re.sub('[us|US|,|&|\\s|/]', '',txt).strip('0')\n",
    "    txt = re.sub('\\w\\d$', '', txt)\n",
    "    return txt"
   ]
  },
  {
   "cell_type": "markdown",
   "id": "frozen-delta",
   "metadata": {},
   "source": [
    "### Define a helper function to remane the patent files removing spaces and special chars"
   ]
  },
  {
   "cell_type": "code",
   "execution_count": 5,
   "id": "elect-priest",
   "metadata": {},
   "outputs": [],
   "source": [
    "def clean_file_name(file):\n",
    "    \"\"\"\n",
    "    utility function to rename the patent files locally\n",
    "    \"\"\"\n",
    "    clean_name = file.replace(' ', '_').replace('[','').replace(']','').lower()\n",
    "    if clean_name != file:\n",
    "        os.rename(os.path.join(root, file), os.path.join(root, clean_name))    \n",
    "        print('renamed ', file)\n",
    "    return clean_name"
   ]
  },
  {
   "cell_type": "markdown",
   "id": "supreme-treatment",
   "metadata": {},
   "source": [
    "### Run the processing function for all the patents in the patents/* directory"
   ]
  },
  {
   "cell_type": "code",
   "execution_count": 6,
   "id": "motivated-alberta",
   "metadata": {
    "scrolled": false
   },
   "outputs": [
    {
     "name": "stdout",
     "output_type": "stream",
     "text": [
      "************************************************\n",
      "root_dir:  ../../patents/Genentech\n",
      "file_name:  us2012195910_claim_45.pdf\n",
      "PyPdF2:         US2012/0195910A1\n"
     ]
    },
    {
     "name": "stderr",
     "output_type": "stream",
     "text": [
      "PdfReadWarning: Xref table not zero-indexed. ID numbers for objects will be corrected. [pdf.py:1736]\n"
     ]
    },
    {
     "name": "stdout",
     "output_type": "stream",
     "text": [
      "pdfminer:       US 2012/0195910 A1\n",
      "pdftotext:      US 2012/0195910 A1\n",
      "tesseract img:  US 20120195910A1\n",
      "tesseract pdf:  US 20\n",
      "\n",
      " \n",
      "\n",
      "120195910A1\n",
      "doc_id:  20120195910\n",
      "************************************************\n",
      "root_dir:  ../../patents/TFPI antibodies (tissue factor pathway inhibitor)/Baxter\n",
      "file_name:  us9046536_claim_8.pdf\n",
      "PyPdF2:         US009046536B2\n",
      "pdfminer:       US009046536B2\n",
      "pdftotext:      US009046536B2\n",
      "tesseract img:  US009046536B2\n",
      "tesseract pdf:  US009046536B2\n",
      "doc_id:  9046536\n",
      "************************************************\n",
      "root_dir:  ../../patents/TFPI antibodies (tissue factor pathway inhibitor)/Novo Nordisk\n",
      "file_name:  us2011268745_claim_25.pdf\n",
      "PyPdF2:         US2011/0268745A1\n",
      "pdfminer:       US 2011/0268745 A1\n",
      "pdftotext:      US 2011/0268745 A1\n",
      "tesseract img:  US 20110268745A1\n",
      "tesseract pdf:  NO MATCH FOUND. Dumping the first 200 chars... \n",
      " US 5. 2011026874541as) United Statesa2) Patent Application Publication co) Pub. No.: US 2011/0268745 AlHilden et al. (43) Pub. Date: Nov. 3, 2011(54) ANTIBODIES AGAINST TISSUE FACTOR (30) F\n",
      "doc_id:  20110268745\n",
      "************************************************\n",
      "root_dir:  ../../patents/TFPI antibodies (tissue factor pathway inhibitor)/Novo Nordisk\n",
      "file_name:  us9574011_claim_1_epitope.pdf\n",
      "PyPdF2:         US009574011B2\n",
      "pdfminer:       US009574011B2\n",
      "pdftotext:      US009574011B2\n",
      "tesseract img:  US009574011B2\n",
      "tesseract pdf:  US009574011B2\n",
      "doc_id:  9574011\n",
      "************************************************\n",
      "root_dir:  ../../patents/TFPI antibodies (tissue factor pathway inhibitor)/Bayer\n",
      "file_name:  us2012269817_claim_32_and_example_13.pdf\n",
      "PyPdF2:         US20120269817A1\n",
      "pdfminer:       US 20120269817A1\n",
      "pdftotext:      US 20120269817A1\n",
      "tesseract img:  US 2012/0269817 A1\n",
      "tesseract pdf:  US 2012/0269817 A1\n",
      "doc_id:  20120269817\n",
      "************************************************\n",
      "root_dir:  ../../patents/TFPI antibodies (tissue factor pathway inhibitor)/Pfizer\n",
      "file_name:  us10550200_epitopes_of_various_antibodies.pdf\n",
      "PyPdF2:         US010550200B2\n",
      "pdfminer:       US010550200B2\n",
      "pdftotext:      US010550200B2\n",
      "tesseract img:  US010550200B2\n",
      "tesseract pdf:  US 10,550,200 B2\n",
      "doc_id:  10550200\n",
      "************************************************\n",
      "root_dir:  ../../patents/Merck\n",
      "file_name:  us2009246192_epitopes_at_0054.pdf\n",
      "PyPdF2:         US 20090246192A1\n",
      "pdfminer:       US 20090246192A1\n",
      "pdftotext:      US 20090246192A1\n",
      "tesseract img:  US 20090246192A1\n",
      "tesseract pdf:  US 2009/0246192 A1\n",
      "doc_id:  20090246192\n",
      "************************************************\n",
      "root_dir:  ../../patents/Merck\n",
      "file_name:  us8188234_col14_ln40_epitope.pdf\n",
      "PyPdF2:         NO MATCH FOUND. Dumping the first 200 chars... \n",
      "IIIIIIIIIIIIIIIIIIIIIIIIIIIIIIIIIIIIIIIIIIIIIIIIIIIIIIIIIIIIIIIIIIIIIIIIIIIUS008)88234B2(»)UnitedStatesPatentCondraetal.(IO)PatentNO.:US8)18S)234$2(45)DateofPatent:May29,2012(54)IDOSPCSK9ANTAGONISTS(7\n",
      "pdfminer:       NO MATCH FOUND. Dumping the first 200 chars... \n",
      "IIIIIIIIIIIIIIIIIIIIIIIIIIIIIIIIIIIIIIIIIIIIIIIIIIIIIIIIIIIIIIIIIIIIIIIIIIIUS008)88234B2(») United States PatentCondra et al.(IO) Patent NO.:(45) Date of Patent:US 8)18S)234 $2May 29, 2012\n",
      "pdftotext:      NO MATCH FOUND. Dumping the first 200 chars... \n",
      "IIIIIIIIIIIIIIIIIIIIIIIIIIIIIIIIIIIIIIIIIIIIIIIIIIIIIIIIIIIIIIIIIIIIIIIIIIIUS008)88234B2United States Patent(IO)Condra et al.(45)(54)I DOS PCSK9 ANTAGONISTS(75)Inventors:,lon H. Cond\n",
      "tesseract img:  US008188234B2\n",
      "tesseract pdf:  US008188234B2\n",
      "doc_id:  8188234\n",
      "************************************************\n",
      "root_dir:  ../../patents/Regeneron\n",
      "file_name:  us8501184.pdf\n",
      "PyPdF2:         US008501184B2\n",
      "pdfminer:       US008501184B2\n",
      "pdftotext:      US008501184B2\n",
      "tesseract img:  US008501184B2\n",
      "tesseract pdf:  US008501184B2\n",
      "doc_id:  8501184\n",
      "************************************************\n",
      "root_dir:  ../../patents/Regeneron\n",
      "file_name:  us8357371.pdf\n",
      "PyPdF2:         US008357371B2\n",
      "pdfminer:       US008357371B2\n",
      "pdftotext:      US008357371B2\n",
      "tesseract img:  US008357371B2\n",
      "tesseract pdf:  US008357371B2\n",
      "doc_id:  8357371\n",
      "************************************************\n",
      "root_dir:  ../../patents/Regeneron\n",
      "file_name:  us2010166768.pdf\n",
      "PyPdF2:         US 20100166768A1\n"
     ]
    },
    {
     "name": "stderr",
     "output_type": "stream",
     "text": [
      "PdfReadWarning: Xref table not zero-indexed. ID numbers for objects will be corrected. [pdf.py:1736]\n"
     ]
    },
    {
     "name": "stdout",
     "output_type": "stream",
     "text": [
      "pdfminer:       US 20100166768A1\n",
      "pdftotext:      US 20100166768A1\n",
      "tesseract img:  US 20100166768A1\n",
      "tesseract pdf:  US 20100166768A1\n",
      "doc_id:  20100166768\n",
      "************************************************\n",
      "root_dir:  ../../patents/Regeneron\n",
      "file_name:  us9724411.pdf\n",
      "PyPdF2:         US009724411B2\n",
      "pdfminer:       US009724411B2\n",
      "pdftotext:      US009724411B2\n",
      "tesseract img:  US009724411B2\n",
      "tesseract pdf:  US009724411B2\n",
      "doc_id:  9724411\n",
      "************************************************\n",
      "root_dir:  ../../patents/Regeneron\n",
      "file_name:  us8062640.pdf\n"
     ]
    },
    {
     "name": "stderr",
     "output_type": "stream",
     "text": [
      "PdfReadWarning: Xref table not zero-indexed. ID numbers for objects will be corrected. [pdf.py:1736]\n"
     ]
    },
    {
     "name": "stdout",
     "output_type": "stream",
     "text": [
      "PyPdF2:         US008062640B2\n",
      "pdfminer:       US008062640B2\n",
      "pdftotext:      US008062640B2\n",
      "tesseract img:  US008062640B2\n",
      "tesseract pdf:  US 8,062,640 B2\n",
      "doc_id:  8062640\n",
      "************************************************\n",
      "root_dir:  ../../patents/Regeneron\n",
      "file_name:  us10023654_epitope.pdf\n"
     ]
    },
    {
     "name": "stderr",
     "output_type": "stream",
     "text": [
      "PdfReadWarning: Xref table not zero-indexed. ID numbers for objects will be corrected. [pdf.py:1736]\n"
     ]
    },
    {
     "name": "stdout",
     "output_type": "stream",
     "text": [
      "PyPdF2:         US010023654B2\n",
      "pdfminer:       US010023654B2\n",
      "pdftotext:      US010023654B2\n",
      "tesseract img:  US010023654B2\n",
      "tesseract pdf:  US 10,023,654 B2\n",
      "doc_id:  10023654\n",
      "************************************************\n",
      "root_dir:  ../../patents/Regeneron\n",
      "file_name:  us9550837.pdf\n",
      "PyPdF2:         US009550837B2\n",
      "pdfminer:       US009550837B2\n",
      "pdftotext:      US009550837B2\n",
      "tesseract img:  US009550837B2\n",
      "tesseract pdf:  US009550837B2\n",
      "doc_id:  9550837\n",
      "************************************************\n",
      "root_dir:  ../../patents/Amgen\n",
      "file_name:  us8563698_aa123-132.pdf\n",
      "PyPdF2:         US008563698B2\n",
      "pdfminer:       US008563698B2\n",
      "pdftotext:      US008563698B2\n",
      "tesseract img:  US008563698B2\n",
      "tesseract pdf:  US008563698B2\n",
      "doc_id:  8563698\n",
      "************************************************\n",
      "root_dir:  ../../patents/Amgen\n",
      "file_name:  us2009326202_issued_as_698_patent.pdf\n",
      "PyPdF2:         NO MATCH FOUND. Dumping the first 200 chars... \n",
      "llIIlIlllIlIlIllIlIllIllIllIIlllIIllIlIlllIIlIIllllIllIlIIlllIllIllIIllIllIIIIIIIIIIIIIIII US 20090326202AI (19) United States (12) Patent Application Publication (10) Pub. No. : IJS 2009/0326202 A1 J\n"
     ]
    },
    {
     "name": "stderr",
     "output_type": "stream",
     "text": [
      "PdfReadWarning: Xref table not zero-indexed. ID numbers for objects will be corrected. [pdf.py:1736]\n"
     ]
    },
    {
     "name": "stdout",
     "output_type": "stream",
     "text": [
      "pdfminer:       NO MATCH FOUND. Dumping the first 200 chars... \n",
      "llIIlIlllIlIlIllIlIllIllIllIIlllIIllIlIlllIIlIIllllIllIlIIlllIllIllIIllIllIIIIIIIIIIIIIIII US 20090326202AI (19) United  States (12) Patent  Application  Publication Jackson  et al. (10) Pub.\n",
      "pdftotext:      NO MATCH FOUND. Dumping the first 200 chars... \n",
      "llIIlIlllIlIlIllIlIllIllIllIIlllIIllIlIlllIIlIIllllIllIlIIlllIllIllIIllIllIIIIIIIIIIIIIIIIUS 20090326202AIUnited StatesPublication(12) Patent Application(19)(10)Jackson et al.(54)(43)AN\n",
      "tesseract img:  US 20090326202A1\n",
      "tesseract pdf:  US 2009/0326202 A1\n",
      "doc_id:  20090326202\n",
      "************************************************\n",
      "root_dir:  ../../patents/Amgen\n",
      "file_name:  us8829165.pdf\n",
      "PyPdF2:         US008829165B2\n",
      "pdfminer:       US008829165B2\n",
      "pdftotext:      US008829165B2\n",
      "tesseract img:  US008829165B2\n",
      "tesseract pdf:  US008829165B2\n",
      "doc_id:  8829165\n",
      "************************************************\n",
      "root_dir:  ../../patents/Amgen\n",
      "file_name:  us8859741.pdf\n",
      "PyPdF2:         US008859741B2\n",
      "pdfminer:       US008859741B2\n",
      "pdftotext:      US008859741B2\n",
      "tesseract img:  US008859741B2\n",
      "tesseract pdf:  US 8,859,741 B2\n",
      "doc_id:  8859741\n",
      "************************************************\n",
      "root_dir:  ../../patents/Amgen_Marked_AR\n",
      "file_name:  us8563698_aa123-132.pdf\n",
      "PyPdF2:         US008563698B2\n",
      "pdfminer:       US008563698B2\n",
      "pdftotext:      US008563698B2\n",
      "tesseract img:  US008563698B2\n",
      "tesseract pdf:  US008563698B2\n",
      "doc_id:  8563698\n",
      "************************************************\n",
      "root_dir:  ../../patents/Amgen_Marked_AR\n",
      "file_name:  us2009326202_issued_as_698_patent.pdf\n",
      "PyPdF2:         NO MATCH FOUND. Dumping the first 200 chars... \n",
      "llIIlIlllIlIlIllIlIllIllIllIIlllIIllIlIlllIIlIIllllIllIlIIlllIllIllIIllIllIIIIIIIIIIIIIIII US 20090326202AI (19) United States (12) Patent Application Publication (10) Pub. No. : IJS 2009/0326202 A1 J\n"
     ]
    },
    {
     "name": "stderr",
     "output_type": "stream",
     "text": [
      "PdfReadWarning: Xref table not zero-indexed. ID numbers for objects will be corrected. [pdf.py:1736]\n"
     ]
    },
    {
     "name": "stdout",
     "output_type": "stream",
     "text": [
      "pdfminer:       NO MATCH FOUND. Dumping the first 200 chars... \n",
      "llIIlIlllIlIlIllIlIllIllIllIIlllIIllIlIlllIIlIIllllIllIlIIlllIllIllIIllIllIIIIIIIIIIIIIIII US 20090326202AI (19) United  States (12) Patent  Application  Publication Jackson  et al. (10) Pub.\n",
      "pdftotext:      NO MATCH FOUND. Dumping the first 200 chars... \n",
      "llIIlIlllIlIlIllIlIllIllIllIIlllIIllIlIlllIIlIIllllIllIlIIlllIllIllIIllIllIIIIIIIIIIIIIIIIUS 20090326202AIUnited StatesPublication(12) Patent Application(19)(10)Jackson et al.(54)(43)AN\n",
      "tesseract img:  US 20090326202A1\n",
      "tesseract pdf:  US 2009/0326202 A1\n",
      "doc_id:  20090326202\n",
      "************************************************\n",
      "root_dir:  ../../patents/Amgen_Marked_AR\n",
      "file_name:  us8829165.pdf\n",
      "....OCR PROCESSING ONLY....\n",
      "tesseract img:  US008829165B2\n",
      "tesseract pdf:  US008829165B2\n",
      "doc_id:  8829165\n",
      "************************************************\n",
      "root_dir:  ../../patents/Amgen_Marked_AR\n",
      "file_name:  us8859741.pdf\n",
      "PyPdF2:         US008859741B2\n",
      "pdfminer:       US008859741B2\n",
      "pdftotext:      US008859741B2\n",
      "tesseract img:  US008859741B2\n",
      "tesseract pdf:  US 8,859,741 B2\n",
      "doc_id:  8859741\n",
      "************************************************\n",
      "root_dir:  ../../patents/Pfizer\n",
      "file_name:  us8080243_ex4.pdf\n",
      "PyPdF2:         US008080243B2\n"
     ]
    },
    {
     "name": "stderr",
     "output_type": "stream",
     "text": [
      "PdfReadWarning: Xref table not zero-indexed. ID numbers for objects will be corrected. [pdf.py:1736]\n"
     ]
    },
    {
     "name": "stdout",
     "output_type": "stream",
     "text": [
      "pdfminer:       US008080243B2\n",
      "pdftotext:      US008080243B2\n",
      "tesseract img:  US008080243B2\n",
      "tesseract pdf:  US008080243B2\n",
      "doc_id:  8080243\n",
      "************************************************\n",
      "root_dir:  ../../patents/Pfizer\n",
      "file_name:  us9175093.pdf\n",
      "PyPdF2:         US009175093B2\n",
      "pdfminer:       US009175093B2\n",
      "pdftotext:      US009175093B2\n",
      "tesseract img:  US009175093B2\n",
      "tesseract pdf:  US009\n",
      "\n",
      "175093B2\n",
      "doc_id:  9175093\n",
      "************************************************\n",
      "root_dir:  ../../patents/Pfizer\n",
      "file_name:  us8426363.pdf\n",
      "....OCR PROCESSING ONLY....\n",
      "tesseract img:  US008426363B2\n",
      "tesseract pdf:  US008426363B2\n",
      "doc_id:  8426363\n",
      "************************************************\n",
      "root_dir:  ../../patents/Pfizer\n",
      "file_name:  us8399646.pdf\n",
      "PyPdF2:         US008399646B2\n",
      "pdfminer:       US008399646B2\n",
      "pdftotext:      US008399646B2\n",
      "tesseract img:  US008399646B2\n",
      "tesseract pdf:  US008399646B2\n",
      "doc_id:  8399646\n",
      "************************************************\n",
      "root_dir:  ../../patents/Pfizer\n",
      "file_name:  us2010068199.pdf\n",
      "PyPdF2:         US 20100068199A1\n"
     ]
    },
    {
     "name": "stderr",
     "output_type": "stream",
     "text": [
      "PdfReadWarning: Xref table not zero-indexed. ID numbers for objects will be corrected. [pdf.py:1736]\n"
     ]
    },
    {
     "name": "stdout",
     "output_type": "stream",
     "text": [
      "pdfminer:       US 20100068199A1\n",
      "pdftotext:      US 20100068199A1\n",
      "tesseract img:  US 20100068199A1\n",
      "tesseract pdf:  US 20100068199A1\n",
      "doc_id:  20100068199\n"
     ]
    }
   ],
   "source": [
    "for root, dirs, files in os.walk('../../patents'):\n",
    "     for file in files:\n",
    "            if file.startswith('.ds'): # ignore .ds_store files\n",
    "                continue\n",
    "            print('************************************************')\n",
    "            file_name = clean_file_name(file)\n",
    "            print('root_dir: ', root)\n",
    "            print('file_name: ', file_name)\n",
    "            process_file(file_name, root, os.getcwd())"
   ]
  },
  {
   "cell_type": "markdown",
   "id": "owned-simulation",
   "metadata": {},
   "source": [
    "# Observation\n",
    "*Extracting the Document Numbers from a pdf screencapture is more accurate and less prone to encoding issues than parsing the pdf files directly*"
   ]
  },
  {
   "cell_type": "markdown",
   "id": "obvious-vermont",
   "metadata": {},
   "source": [
    "### Toogle any warnings in the last command output\n",
    "The snippet below is used to toggle the warnings emitted from the PYPDF2 library. This is done to have a cleaner output in jupyter notebook. The script is a modified version of the code published here https://stackoverflow.com/a/59863323/4106075"
   ]
  },
  {
   "cell_type": "code",
   "execution_count": 7,
   "id": "legislative-allergy",
   "metadata": {},
   "outputs": [
    {
     "data": {
      "application/javascript": [
       "(function(on){\n",
       "    const e=$( \"<button style='font-size:18px; color:white;'>Setup failed</button>\" );\n",
       "    const ns=\"js_jupyter_suppress_warnings\";\n",
       "    var cssrules=$(\"#\"+ns);\n",
       "    if(!cssrules.length) \n",
       "        cssrules = $(\"<style id='\"+ns+\"' type='text/css'>div.output_stderr { } </style>\").appendTo(\"head\");\n",
       "    \n",
       "    e.click(function() {\n",
       "        var s='Hide';  \n",
       "        cssrules.empty()\n",
       "        if(on) {\n",
       "            s='Show hiding';\n",
       "            cssrules.append(\"div.output_stderr, div[data-mime-type*='.stderr'] { display:none; }\");\n",
       "            console.log(e)\n",
       "            e.css('background-color', 'red');\n",
       "        }else{\n",
       "            e.css('background-color', 'blue');\n",
       "        }\n",
       "        e.text(s+' warnings');\n",
       "        on=!on;\n",
       "    }).click();\n",
       "    $(element).append(e);\n",
       "})(true);\n"
      ],
      "text/plain": [
       "<IPython.core.display.Javascript object>"
      ]
     },
     "metadata": {},
     "output_type": "display_data"
    }
   ],
   "source": [
    "%%javascript\n",
    "(function(on){\n",
    "    const e=$( \"<button style='font-size:18px; color:white;'>Setup failed</button>\" );\n",
    "    const ns=\"js_jupyter_suppress_warnings\";\n",
    "    var cssrules=$(\"#\"+ns);\n",
    "    if(!cssrules.length) \n",
    "        cssrules = $(\"<style id='\"+ns+\"' type='text/css'>div.output_stderr { } </style>\").appendTo(\"head\");\n",
    "    \n",
    "    e.click(function() {\n",
    "        var s='Hide';  \n",
    "        cssrules.empty()\n",
    "        if(on) {\n",
    "            s='Show hiding';\n",
    "            cssrules.append(\"div.output_stderr, div[data-mime-type*='.stderr'] { display:none; }\");\n",
    "            console.log(e)\n",
    "            e.css('background-color', 'red');\n",
    "        }else{\n",
    "            e.css('background-color', 'blue');\n",
    "        }\n",
    "        e.text(s+' warnings');\n",
    "        on=!on;\n",
    "    }).click();\n",
    "    $(element).append(e);\n",
    "})(true);"
   ]
  },
  {
   "cell_type": "markdown",
   "id": "elder-death",
   "metadata": {},
   "source": [
    "### Patent Doc Refrences"
   ]
  },
  {
   "cell_type": "markdown",
   "id": "minor-glory",
   "metadata": {},
   "source": [
    "- how to read a patent: https://guides.library.queensu.ca/c.php?g=501420&p=3436527\n",
    "- WIPO st-9 doc: https://www.wipo.int/export/sites/www/standards/en/pdf/03-09-01.pdf"
   ]
  },
  {
   "cell_type": "raw",
   "id": "suited-modem",
   "metadata": {},
   "source": [
    "PATENTS / SPC – LIST OF INID CODES\n",
    "(10) Identification of the patent, SPC or patent document\n",
    "(11) Number of the patent, SPC or patent document\n",
    "(15) Patent correction information\n",
    "(21) Number(s) assigned to the application(s) e.g., “Numéro d’enregistrement national”, “Aktenzeichen”\n",
    "(22) Date(s) of filing the application(s)\n",
    "(23) Other date(s), including date of filing complete specification following provisional specification and\n",
    "date of Exhibition\n",
    "(31) Number(s) assigned to priority application(s)\n",
    "(32) Date(s) of filing of priority application(s)\n",
    "(33) WIPO Standard ST.3 code identifying the national industrial property office allotting the priority\n",
    "application number or the organization allotting the regional priority application number\n",
    "(43) Date of making available to the public by printing or similar process of an unexamined patent document, on which no grant has taken place on or before the said date\n",
    "(45) Date of making available to the public by printing or similar process of a patent document on which\n",
    "grant has taken place on or before the said date\n",
    "(46) Date of making available to the public the claim(s) only of a patent document\n",
    "(51) International Patent Classification\n",
    "(54) Title of the invention\n",
    "(57) Abstract or claim\n",
    "(60) Data on the application filed with the former Federal Patent Office\n",
    "(62) Number and, if possible, filing date of the earlier application from which the present patent\n",
    "document has been divided up\n",
    "(68) For an SPC, number of the basic patent and/or, where appropriate, the publication number of the patent document\n",
    "(71) Name(s) of applicant(s)\n",
    "(72) Name(s) of inventor(s) if known to be such\n",
    "(73) Name(s) of grantee(s), holder(s), assignee(s) or owner(s)\n",
    "(74) Name(s) of attorney(s) or agent(s)\n",
    "(86) Filing data of the PCT international application, i.e., international filing date, international\n",
    "application number\n",
    "(87) Publication data of the PCT international application, i.e., international publication date,\n",
    "international publication number\n",
    "(92) For an SPC, number and date of the first national authorization to place the product on the market\n",
    "as a medicinal productor plant protection product\n",
    "(93) For an SPC, number, date and, where applicable, country of origin, of the first authorization to place the product on the market as a medicinal product or plant protection product within a regional\n",
    "economic community\n",
    "(94) Calculated date of expiry of the SPC or the duration of the SPC\n",
    "(95) Name of the product protected by the basic patent and in respect of which the SPC or the extension of the SPC has been applied for or granted\n",
    "(96) Filing data of the regional application, i.e., application filing date, application number, and,\n",
    "optionally, the language in which the published application was originally filed\n",
    "(97) Publication data of the regional application (or of the regional patent, if already granted), i.e.,\n",
    "publication date, publication number, and, optionally, the language in which the application (or,\n",
    "where applicable, the patent) is published"
   ]
  }
 ],
 "metadata": {
  "kernelspec": {
   "display_name": "Python 3",
   "language": "python",
   "name": "python3"
  },
  "language_info": {
   "codemirror_mode": {
    "name": "ipython",
    "version": 3
   },
   "file_extension": ".py",
   "mimetype": "text/x-python",
   "name": "python",
   "nbconvert_exporter": "python",
   "pygments_lexer": "ipython3",
   "version": "3.9.1"
  }
 },
 "nbformat": 4,
 "nbformat_minor": 5
}
