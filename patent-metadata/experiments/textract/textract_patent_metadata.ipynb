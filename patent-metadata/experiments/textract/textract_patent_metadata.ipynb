{
 "cells": [
  {
   "cell_type": "markdown",
   "id": "heavy-giving",
   "metadata": {},
   "source": [
    "## Goal\n",
    "\n",
    "#### Extract the patent metada from all the patent files provided by our customer "
   ]
  },
  {
   "cell_type": "markdown",
   "id": "vital-acquisition",
   "metadata": {},
   "source": [
    "The value to be parsed in this section are fields 10-74 only. The remaining fields will be mined by other scripts"
   ]
  },
  {
   "attachments": {},
   "cell_type": "markdown",
   "id": "weighted-calgary",
   "metadata": {},
   "source": [
    "```json\n",
    "{\n",
    "    \"docId\": \"US008080243B2\",                                  // 10\n",
    "    \"docType\": \"patent|patent_app\",                            // 12 \n",
    "    \"appNums\": [\"12/474,176\"],                                 // 21\n",
    "    \"appDates\": [\"\"],                                          // 22\n",
    "    \"preGrantDate\": \"\",                                        // 44 \n",
    "    \"claimsDate\": \"\",                                          // 46\n",
    "    \"grantDate\": \"\",                                           // 45\n",
    "    \"title\": \"\",                                               // 54\n",
    "    \"relatedDocs\": [{\"number\":\"\", \"date\":\"\"}]                  // 60-68\n",
    "    \"applicants\": [\"\"],                                        // 71\n",
    "    \"inventors\": [\"\"],                                         // 72\n",
    "    \"assignees\": [\"\"],                                         // 73\n",
    "    \"patentAttorney\": \"\",                                      // 74\n",
    "    \"sequences\": [{\"seqNoId\": \"\", \"seqRef\": \"\"}],              //mined\n",
    "    \"proteinIds\": \"PCSK9\",                                     //entered by user\n",
    "    \"epitopes\": [{\"seqNoId\": 53, \"numbers\": [1,3,5,7]}],       //mined\n",
    "    \"legalOpinion\":[{\"txt\": \"\", \"date\":\"\", \"userId\":\"\"}],      //added by lawyers\n",
    "    \"legalStatus\": [{\"status\":\"\", \"date\":\"\"}]  // valid values are \"allowed,re-issued,invalidated,under_challenge!\n",
    "    \"_created\": \"\",                                            // db created time\n",
    "    \"_id\": \"\"                                                  // db doc id\n",
    "    \"jobId\": \"\"                                                // the upload jobId\n",
    "}\n",
    "\n",
    "```"
   ]
  },
  {
   "cell_type": "code",
   "execution_count": null,
   "id": "robust-drill",
   "metadata": {},
   "outputs": [],
   "source": []
  },
  {
   "cell_type": "markdown",
   "id": "protecting-transformation",
   "metadata": {},
   "source": [
    "ref: how to read a patent https://guides.library.queensu.ca/c.php?g=501420&p=3436527\n",
    "wipo st-9 https://www.wipo.int/export/sites/www/standards/en/pdf/03-09-01.pdf"
   ]
  },
  {
   "cell_type": "raw",
   "id": "agreed-invitation",
   "metadata": {},
   "source": [
    "PATENTS / SPC – LIST OF INID CODES\n",
    "(10) Identification of the patent, SPC or patent document\n",
    "(11) Number of the patent, SPC or patent document\n",
    "(15) Patent correction information\n",
    "(21) Number(s) assigned to the application(s) e.g., “Numéro d’enregistrement national”, “Aktenzeichen”\n",
    "(22) Date(s) of filing the application(s)\n",
    "(23) Other date(s), including date of filing complete specification following provisional specification and\n",
    "date of Exhibition\n",
    "(31) Number(s) assigned to priority application(s)\n",
    "(32) Date(s) of filing of priority application(s)\n",
    "(33) WIPO Standard ST.3 code identifying the national industrial property office allotting the priority\n",
    "application number or the organization allotting the regional priority application number\n",
    "(43) Date of making available to the public by printing or similar process of an unexamined patent document, on which no grant has taken place on or before the said date\n",
    "(45) Date of making available to the public by printing or similar process of a patent document on which\n",
    "grant has taken place on or before the said date\n",
    "(46) Date of making available to the public the claim(s) only of a patent document\n",
    "(51) International Patent Classification\n",
    "(54) Title of the invention\n",
    "(57) Abstract or claim\n",
    "(60) Data on the application filed with the former Federal Patent Office\n",
    "(62) Number and, if possible, filing date of the earlier application from which the present patent\n",
    "document has been divided up\n",
    "(68) For an SPC, number of the basic patent and/or, where appropriate, the publication number of the patent document\n",
    "(71) Name(s) of applicant(s)\n",
    "(72) Name(s) of inventor(s) if known to be such\n",
    "(73) Name(s) of grantee(s), holder(s), assignee(s) or owner(s)\n",
    "(74) Name(s) of attorney(s) or agent(s)\n",
    "(86) Filing data of the PCT international application, i.e., international filing date, international\n",
    "application number\n",
    "(87) Publication data of the PCT international application, i.e., international publication date,\n",
    "international publication number\n",
    "(92) For an SPC, number and date of the first national authorization to place the product on the market\n",
    "as a medicinal productor plant protection product\n",
    "(93) For an SPC, number, date and, where applicable, country of origin, of the first authorization to place the product on the market as a medicinal product or plant protection product within a regional\n",
    "economic community\n",
    "(94) Calculated date of expiry of the SPC or the duration of the SPC\n",
    "(95) Name of the product protected by the basic patent and in respect of which the SPC or the extension of the SPC has been applied for or granted\n",
    "(96) Filing data of the regional application, i.e., application filing date, application number, and,\n",
    "optionally, the language in which the published application was originally filed\n",
    "(97) Publication data of the regional application (or of the regional patent, if already granted), i.e.,\n",
    "publication date, publication number, and, optionally, the language in which the application (or,\n",
    "where applicable, the patent) is published"
   ]
  }
 ],
 "metadata": {
  "kernelspec": {
   "display_name": "Python 3",
   "language": "python",
   "name": "python3"
  },
  "language_info": {
   "codemirror_mode": {
    "name": "ipython",
    "version": 3
   },
   "file_extension": ".py",
   "mimetype": "text/x-python",
   "name": "python",
   "nbconvert_exporter": "python",
   "pygments_lexer": "ipython3",
   "version": "3.9.1"
  }
 },
 "nbformat": 4,
 "nbformat_minor": 5
}
